{
 "cells": [
  {
   "cell_type": "markdown",
   "id": "9467962e",
   "metadata": {},
   "source": [
    "# SEATTLE WEATHER PROJECT"
   ]
  },
  {
   "cell_type": "markdown",
   "id": "8e5873eb",
   "metadata": {},
   "source": [
    "# INTRODUCTION\n",
    "\n",
    "We need to understand the climate, particularly the amount of rainfall in a given place, as excessive rainfall can lead to problems, while a lack of rainfall can also cause issues. Which is why the project mainly focuses on identifying the amount of rainfall in Seattle and a city I am completely unaware of but much more curious about, which is Tampa. This project aims to compare the rainfall in Seattle, Washington, and Tampa, Florida, based on two main attributes from the dataframe, date and precipitation, for the time period 2018 to 2022. This is what we will be mainly focusing on in this project, to identify which city has more rainfalls and which city receives the most rainfall and the precipitation levels in both the cities.\n",
    "\n",
    "The specific questions that were being analysed here are:\n",
    "\n",
    "1. Which city, Seattle or Tampa, receives the most rainfall during the 2018–2022 period?\n",
    "2. How do seasonal and monthly precipitation patterns differ between Seattle and Tampa?\n",
    "3. How frequently do rainy days occur in each city, and what can that tell us about the climate differences?"
   ]
  },
  {
   "cell_type": "markdown",
   "id": "d4ecd7fd",
   "metadata": {},
   "source": [
    "## DATASET DESCRIPTION\n",
    "\n",
    "#### Data Sources\n",
    "\n",
    "Seattle: Seattle Rain Dataset (CSV, https://github.com/brian-fischer/DATA-5100/blob/main/weather/seattle_rain.csv )\n",
    "1. Data downloaded from the DATA 5100 public GitHub repository. \n",
    "2. The size of the dataset is 129.7+ KB, which is in CSV format, The primary columns are: Date (datetime), Precipitation (inches), Station.\n",
    "\n",
    "Tampa: Tampa Weather Data (CSV, https://www.ncei.noaa.gov/cdo-web/orders?email=smurala@seattleu.edu&id=4131968)\n",
    "1. Data obtained from NOAA’s National Centers for Environmental Information (NCEI).\n",
    "2. The size of the dataset is 3.6+ MB, which is in CSV format, The primary columns are: Date (datetime), Precipitation (inches), Station."
   ]
  },
  {
   "cell_type": "markdown",
   "id": "dbcdbb17",
   "metadata": {},
   "source": [
    "# DATA COLLECTION\n",
    "\n",
    "-> The very first thing when working on a project is import the libraries that were required to explore and work on the dataset, Here I imported the necessary libraries:\n",
    "1. Here the 'pandas' and 'numpys' will be used to handle the data and perform the numerical operations.\n",
    "2. The matplotlib and seaborn are used to plot the data for better visualization of rainfall trends across both cities.\n",
    "3. Whitegrid style is set for better understanding and clean visulaizations with better readability of plots."
   ]
  },
  {
   "cell_type": "code",
   "execution_count": 1,
   "id": "068d9caa",
   "metadata": {},
   "outputs": [],
   "source": [
    "import pandas as pd\n",
    "import numpy as np\n",
    "import matplotlib.pyplot as plt\n",
    "import seaborn as sns\n",
    "sns.set_style(\"whitegrid\")"
   ]
  },
  {
   "cell_type": "markdown",
   "id": "006a7278",
   "metadata": {},
   "source": [
    "The libraries were sucessfully imported, which ensures that i have the required tools to perform data cleaning, analyzing, manipulation and visualization."
   ]
  },
  {
   "cell_type": "markdown",
   "id": "2c51bdce",
   "metadata": {},
   "source": [
    "-> In this step, we load our two main datasets, the Seattle and Tampa weather csv files using Pandas. This allows us to perform direct comparison and manipulation using dataframe objects. Each dataset contains daily precipitation values, which are crucial for analysing the weather project."
   ]
  },
  {
   "cell_type": "code",
   "execution_count": 2,
   "id": "c9e1027b",
   "metadata": {},
   "outputs": [],
   "source": [
    "df_seattle=pd.read_csv(\"C:/Users/SRAVYASRI/Downloads/DATA 5100_Foundations of data science/Weather/data/seattle_rain.csv\")"
   ]
  },
  {
   "cell_type": "code",
   "execution_count": 3,
   "id": "0b5bedb7",
   "metadata": {},
   "outputs": [],
   "source": [
    "df_tampa=pd.read_csv(\"C:/Users/SRAVYASRI/Downloads/DATA 5100_Foundations of data science/Weather/data/Tampa.csv\")"
   ]
  },
  {
   "cell_type": "markdown",
   "id": "fedf286a",
   "metadata": {},
   "source": [
    "Here both the datasets were sucessfully loaded as two separate datasets seattle and tampa."
   ]
  },
  {
   "cell_type": "markdown",
   "id": "6e832c2f",
   "metadata": {},
   "source": [
    "## DATA UNDERSTANDING\n",
    "\n",
    "-> Here we are exploring the dataset with head, This function gives the number of columns to get a overview about what were present in the dataset. Displaying the first 5 rows of the datasets helps us understand the dataset structure, including available columns and sample values. "
   ]
  },
  {
   "cell_type": "code",
   "execution_count": 4,
   "id": "241c72a2",
   "metadata": {},
   "outputs": [
    {
     "data": {
      "text/html": [
       "<div>\n",
       "<style scoped>\n",
       "    .dataframe tbody tr th:only-of-type {\n",
       "        vertical-align: middle;\n",
       "    }\n",
       "\n",
       "    .dataframe tbody tr th {\n",
       "        vertical-align: top;\n",
       "    }\n",
       "\n",
       "    .dataframe thead th {\n",
       "        text-align: right;\n",
       "    }\n",
       "</style>\n",
       "<table border=\"1\" class=\"dataframe\">\n",
       "  <thead>\n",
       "    <tr style=\"text-align: right;\">\n",
       "      <th></th>\n",
       "      <th>STATION</th>\n",
       "      <th>NAME</th>\n",
       "      <th>DATE</th>\n",
       "      <th>DAPR</th>\n",
       "      <th>MDPR</th>\n",
       "      <th>PRCP</th>\n",
       "      <th>SNOW</th>\n",
       "      <th>SNWD</th>\n",
       "      <th>WESD</th>\n",
       "      <th>WESF</th>\n",
       "    </tr>\n",
       "  </thead>\n",
       "  <tbody>\n",
       "    <tr>\n",
       "      <th>0</th>\n",
       "      <td>US1WAKG0225</td>\n",
       "      <td>SEATTLE 2.1 ESE, WA US</td>\n",
       "      <td>1/1/18</td>\n",
       "      <td>NaN</td>\n",
       "      <td>NaN</td>\n",
       "      <td>0.00</td>\n",
       "      <td>NaN</td>\n",
       "      <td>NaN</td>\n",
       "      <td>NaN</td>\n",
       "      <td>NaN</td>\n",
       "    </tr>\n",
       "    <tr>\n",
       "      <th>1</th>\n",
       "      <td>US1WAKG0225</td>\n",
       "      <td>SEATTLE 2.1 ESE, WA US</td>\n",
       "      <td>1/2/18</td>\n",
       "      <td>NaN</td>\n",
       "      <td>NaN</td>\n",
       "      <td>0.00</td>\n",
       "      <td>NaN</td>\n",
       "      <td>NaN</td>\n",
       "      <td>NaN</td>\n",
       "      <td>NaN</td>\n",
       "    </tr>\n",
       "    <tr>\n",
       "      <th>2</th>\n",
       "      <td>US1WAKG0225</td>\n",
       "      <td>SEATTLE 2.1 ESE, WA US</td>\n",
       "      <td>1/3/18</td>\n",
       "      <td>NaN</td>\n",
       "      <td>NaN</td>\n",
       "      <td>0.00</td>\n",
       "      <td>NaN</td>\n",
       "      <td>NaN</td>\n",
       "      <td>NaN</td>\n",
       "      <td>NaN</td>\n",
       "    </tr>\n",
       "    <tr>\n",
       "      <th>3</th>\n",
       "      <td>US1WAKG0225</td>\n",
       "      <td>SEATTLE 2.1 ESE, WA US</td>\n",
       "      <td>1/4/18</td>\n",
       "      <td>NaN</td>\n",
       "      <td>NaN</td>\n",
       "      <td>0.00</td>\n",
       "      <td>NaN</td>\n",
       "      <td>NaN</td>\n",
       "      <td>NaN</td>\n",
       "      <td>NaN</td>\n",
       "    </tr>\n",
       "    <tr>\n",
       "      <th>4</th>\n",
       "      <td>US1WAKG0225</td>\n",
       "      <td>SEATTLE 2.1 ESE, WA US</td>\n",
       "      <td>1/5/18</td>\n",
       "      <td>NaN</td>\n",
       "      <td>NaN</td>\n",
       "      <td>0.25</td>\n",
       "      <td>NaN</td>\n",
       "      <td>NaN</td>\n",
       "      <td>NaN</td>\n",
       "      <td>NaN</td>\n",
       "    </tr>\n",
       "  </tbody>\n",
       "</table>\n",
       "</div>"
      ],
      "text/plain": [
       "       STATION                    NAME    DATE  DAPR  MDPR  PRCP  SNOW  SNWD  \\\n",
       "0  US1WAKG0225  SEATTLE 2.1 ESE, WA US  1/1/18   NaN   NaN  0.00   NaN   NaN   \n",
       "1  US1WAKG0225  SEATTLE 2.1 ESE, WA US  1/2/18   NaN   NaN  0.00   NaN   NaN   \n",
       "2  US1WAKG0225  SEATTLE 2.1 ESE, WA US  1/3/18   NaN   NaN  0.00   NaN   NaN   \n",
       "3  US1WAKG0225  SEATTLE 2.1 ESE, WA US  1/4/18   NaN   NaN  0.00   NaN   NaN   \n",
       "4  US1WAKG0225  SEATTLE 2.1 ESE, WA US  1/5/18   NaN   NaN  0.25   NaN   NaN   \n",
       "\n",
       "   WESD  WESF  \n",
       "0   NaN   NaN  \n",
       "1   NaN   NaN  \n",
       "2   NaN   NaN  \n",
       "3   NaN   NaN  \n",
       "4   NaN   NaN  "
      ]
     },
     "execution_count": 4,
     "metadata": {},
     "output_type": "execute_result"
    }
   ],
   "source": [
    "df_seattle.head()"
   ]
  },
  {
   "cell_type": "markdown",
   "id": "4dbe31b2",
   "metadata": {},
   "source": [
    "Here we can see what was present in the dataset, when we just give head() function, it defaults to displaying the first 5 observations. This step is essential for verifying that the data loaded correctly and for further cleaning or transformations."
   ]
  },
  {
   "cell_type": "markdown",
   "id": "7e4697ab",
   "metadata": {},
   "source": [
    "-> Here the value inside head(10) indicates that head gives us the 10 observations of the dataset."
   ]
  },
  {
   "cell_type": "code",
   "execution_count": 5,
   "id": "8ac906c2",
   "metadata": {},
   "outputs": [
    {
     "data": {
      "text/html": [
       "<div>\n",
       "<style scoped>\n",
       "    .dataframe tbody tr th:only-of-type {\n",
       "        vertical-align: middle;\n",
       "    }\n",
       "\n",
       "    .dataframe tbody tr th {\n",
       "        vertical-align: top;\n",
       "    }\n",
       "\n",
       "    .dataframe thead th {\n",
       "        text-align: right;\n",
       "    }\n",
       "</style>\n",
       "<table border=\"1\" class=\"dataframe\">\n",
       "  <thead>\n",
       "    <tr style=\"text-align: right;\">\n",
       "      <th></th>\n",
       "      <th>STATION</th>\n",
       "      <th>NAME</th>\n",
       "      <th>DATE</th>\n",
       "      <th>DAPR</th>\n",
       "      <th>MDPR</th>\n",
       "      <th>PRCP</th>\n",
       "      <th>SNOW</th>\n",
       "      <th>SNWD</th>\n",
       "    </tr>\n",
       "  </thead>\n",
       "  <tbody>\n",
       "    <tr>\n",
       "      <th>0</th>\n",
       "      <td>US1FLHB0027</td>\n",
       "      <td>LUTZ 1.3 SSE, FL US</td>\n",
       "      <td>2018-01-01</td>\n",
       "      <td>NaN</td>\n",
       "      <td>NaN</td>\n",
       "      <td>0.00</td>\n",
       "      <td>0.0</td>\n",
       "      <td>NaN</td>\n",
       "    </tr>\n",
       "    <tr>\n",
       "      <th>1</th>\n",
       "      <td>US1FLHB0027</td>\n",
       "      <td>LUTZ 1.3 SSE, FL US</td>\n",
       "      <td>2018-01-02</td>\n",
       "      <td>NaN</td>\n",
       "      <td>NaN</td>\n",
       "      <td>0.02</td>\n",
       "      <td>NaN</td>\n",
       "      <td>NaN</td>\n",
       "    </tr>\n",
       "    <tr>\n",
       "      <th>2</th>\n",
       "      <td>US1FLHB0027</td>\n",
       "      <td>LUTZ 1.3 SSE, FL US</td>\n",
       "      <td>2018-01-03</td>\n",
       "      <td>NaN</td>\n",
       "      <td>NaN</td>\n",
       "      <td>0.40</td>\n",
       "      <td>NaN</td>\n",
       "      <td>NaN</td>\n",
       "    </tr>\n",
       "    <tr>\n",
       "      <th>3</th>\n",
       "      <td>US1FLHB0027</td>\n",
       "      <td>LUTZ 1.3 SSE, FL US</td>\n",
       "      <td>2018-01-04</td>\n",
       "      <td>NaN</td>\n",
       "      <td>NaN</td>\n",
       "      <td>0.33</td>\n",
       "      <td>NaN</td>\n",
       "      <td>NaN</td>\n",
       "    </tr>\n",
       "    <tr>\n",
       "      <th>4</th>\n",
       "      <td>US1FLHB0027</td>\n",
       "      <td>LUTZ 1.3 SSE, FL US</td>\n",
       "      <td>2018-01-05</td>\n",
       "      <td>NaN</td>\n",
       "      <td>NaN</td>\n",
       "      <td>0.00</td>\n",
       "      <td>0.0</td>\n",
       "      <td>NaN</td>\n",
       "    </tr>\n",
       "    <tr>\n",
       "      <th>5</th>\n",
       "      <td>US1FLHB0027</td>\n",
       "      <td>LUTZ 1.3 SSE, FL US</td>\n",
       "      <td>2018-01-06</td>\n",
       "      <td>NaN</td>\n",
       "      <td>NaN</td>\n",
       "      <td>0.00</td>\n",
       "      <td>0.0</td>\n",
       "      <td>NaN</td>\n",
       "    </tr>\n",
       "    <tr>\n",
       "      <th>6</th>\n",
       "      <td>US1FLHB0027</td>\n",
       "      <td>LUTZ 1.3 SSE, FL US</td>\n",
       "      <td>2018-01-07</td>\n",
       "      <td>NaN</td>\n",
       "      <td>NaN</td>\n",
       "      <td>0.00</td>\n",
       "      <td>0.0</td>\n",
       "      <td>NaN</td>\n",
       "    </tr>\n",
       "    <tr>\n",
       "      <th>7</th>\n",
       "      <td>US1FLHB0027</td>\n",
       "      <td>LUTZ 1.3 SSE, FL US</td>\n",
       "      <td>2018-01-08</td>\n",
       "      <td>NaN</td>\n",
       "      <td>NaN</td>\n",
       "      <td>0.00</td>\n",
       "      <td>0.0</td>\n",
       "      <td>NaN</td>\n",
       "    </tr>\n",
       "    <tr>\n",
       "      <th>8</th>\n",
       "      <td>US1FLHB0027</td>\n",
       "      <td>LUTZ 1.3 SSE, FL US</td>\n",
       "      <td>2018-01-12</td>\n",
       "      <td>4.0</td>\n",
       "      <td>0.56</td>\n",
       "      <td>NaN</td>\n",
       "      <td>NaN</td>\n",
       "      <td>NaN</td>\n",
       "    </tr>\n",
       "    <tr>\n",
       "      <th>9</th>\n",
       "      <td>US1FLHB0027</td>\n",
       "      <td>LUTZ 1.3 SSE, FL US</td>\n",
       "      <td>2018-01-13</td>\n",
       "      <td>NaN</td>\n",
       "      <td>NaN</td>\n",
       "      <td>0.05</td>\n",
       "      <td>NaN</td>\n",
       "      <td>NaN</td>\n",
       "    </tr>\n",
       "  </tbody>\n",
       "</table>\n",
       "</div>"
      ],
      "text/plain": [
       "       STATION                 NAME        DATE  DAPR  MDPR  PRCP  SNOW  SNWD\n",
       "0  US1FLHB0027  LUTZ 1.3 SSE, FL US  2018-01-01   NaN   NaN  0.00   0.0   NaN\n",
       "1  US1FLHB0027  LUTZ 1.3 SSE, FL US  2018-01-02   NaN   NaN  0.02   NaN   NaN\n",
       "2  US1FLHB0027  LUTZ 1.3 SSE, FL US  2018-01-03   NaN   NaN  0.40   NaN   NaN\n",
       "3  US1FLHB0027  LUTZ 1.3 SSE, FL US  2018-01-04   NaN   NaN  0.33   NaN   NaN\n",
       "4  US1FLHB0027  LUTZ 1.3 SSE, FL US  2018-01-05   NaN   NaN  0.00   0.0   NaN\n",
       "5  US1FLHB0027  LUTZ 1.3 SSE, FL US  2018-01-06   NaN   NaN  0.00   0.0   NaN\n",
       "6  US1FLHB0027  LUTZ 1.3 SSE, FL US  2018-01-07   NaN   NaN  0.00   0.0   NaN\n",
       "7  US1FLHB0027  LUTZ 1.3 SSE, FL US  2018-01-08   NaN   NaN  0.00   0.0   NaN\n",
       "8  US1FLHB0027  LUTZ 1.3 SSE, FL US  2018-01-12   4.0  0.56   NaN   NaN   NaN\n",
       "9  US1FLHB0027  LUTZ 1.3 SSE, FL US  2018-01-13   NaN   NaN  0.05   NaN   NaN"
      ]
     },
     "execution_count": 5,
     "metadata": {},
     "output_type": "execute_result"
    }
   ],
   "source": [
    "df_tampa.head(10)"
   ]
  },
  {
   "cell_type": "markdown",
   "id": "0c2940f4",
   "metadata": {},
   "source": [
    "-> Checking the type of the loaded data confirms that the data is stored in Pandas DataFrames, which support powerful data manipulation functions needed for analysis."
   ]
  },
  {
   "cell_type": "code",
   "execution_count": 6,
   "id": "0fbb8522",
   "metadata": {},
   "outputs": [
    {
     "data": {
      "text/plain": [
       "pandas.core.frame.DataFrame"
      ]
     },
     "execution_count": 6,
     "metadata": {},
     "output_type": "execute_result"
    }
   ],
   "source": [
    "type(df_seattle)"
   ]
  },
  {
   "cell_type": "code",
   "execution_count": 7,
   "id": "308d96ac",
   "metadata": {},
   "outputs": [
    {
     "data": {
      "text/plain": [
       "pandas.core.frame.DataFrame"
      ]
     },
     "execution_count": 7,
     "metadata": {},
     "output_type": "execute_result"
    }
   ],
   "source": [
    "type(df_tampa)"
   ]
  },
  {
   "cell_type": "markdown",
   "id": "0ab52c12",
   "metadata": {},
   "source": [
    "type() function is used when we want to investigate the type of dataset we have, Here it is the dataframes."
   ]
  },
  {
   "cell_type": "markdown",
   "id": "815b99b5",
   "metadata": {},
   "source": [
    "-> In this step, we inspect the columns present in each dataset using the columns attribute. This attribute returns the names of all columns in a DataFrame as list, which helps us understand the structure and available features in the dataset."
   ]
  },
  {
   "cell_type": "code",
   "execution_count": 8,
   "id": "7e78e5ed",
   "metadata": {},
   "outputs": [
    {
     "data": {
      "text/plain": [
       "Index(['STATION', 'NAME', 'DATE', 'DAPR', 'MDPR', 'PRCP', 'SNOW', 'SNWD',\n",
       "       'WESD', 'WESF'],\n",
       "      dtype='object')"
      ]
     },
     "execution_count": 8,
     "metadata": {},
     "output_type": "execute_result"
    }
   ],
   "source": [
    "df_seattle.columns"
   ]
  },
  {
   "cell_type": "code",
   "execution_count": 9,
   "id": "ad7bd7f2",
   "metadata": {
    "scrolled": true
   },
   "outputs": [
    {
     "data": {
      "text/plain": [
       "Index(['STATION', 'NAME', 'DATE', 'DAPR', 'MDPR', 'PRCP', 'SNOW', 'SNWD'], dtype='object')"
      ]
     },
     "execution_count": 9,
     "metadata": {},
     "output_type": "execute_result"
    }
   ],
   "source": [
    "df_tampa.columns"
   ]
  },
  {
   "cell_type": "markdown",
   "id": "0851b91f",
   "metadata": {},
   "source": [
    "By comparing the columns of the Seattle and Tampa datasets, we can identify differences that might require handling properly during analysis. For example the Seattle dataset contains more columns than the Tampa dataset, which may affect what analyses can be directly compared or merged."
   ]
  },
  {
   "cell_type": "markdown",
   "id": "628f9bcd",
   "metadata": {},
   "source": [
    "-> Here the info() function gives the information such as column names, datatypes, memory usage and the information about NAN(Not a number) values."
   ]
  },
  {
   "cell_type": "code",
   "execution_count": 10,
   "id": "51fb4658",
   "metadata": {
    "scrolled": true
   },
   "outputs": [
    {
     "name": "stdout",
     "output_type": "stream",
     "text": [
      "<class 'pandas.core.frame.DataFrame'>\n",
      "RangeIndex: 1658 entries, 0 to 1657\n",
      "Data columns (total 10 columns):\n",
      " #   Column   Non-Null Count  Dtype  \n",
      "---  ------   --------------  -----  \n",
      " 0   STATION  1658 non-null   object \n",
      " 1   NAME     1658 non-null   object \n",
      " 2   DATE     1658 non-null   object \n",
      " 3   DAPR     23 non-null     float64\n",
      " 4   MDPR     23 non-null     float64\n",
      " 5   PRCP     1636 non-null   float64\n",
      " 6   SNOW     353 non-null    float64\n",
      " 7   SNWD     66 non-null     float64\n",
      " 8   WESD     15 non-null     float64\n",
      " 9   WESF     28 non-null     float64\n",
      "dtypes: float64(7), object(3)\n",
      "memory usage: 129.7+ KB\n"
     ]
    }
   ],
   "source": [
    "df_seattle.info()"
   ]
  },
  {
   "cell_type": "code",
   "execution_count": 11,
   "id": "6be83724",
   "metadata": {},
   "outputs": [
    {
     "name": "stdout",
     "output_type": "stream",
     "text": [
      "<class 'pandas.core.frame.DataFrame'>\n",
      "RangeIndex: 59082 entries, 0 to 59081\n",
      "Data columns (total 8 columns):\n",
      " #   Column   Non-Null Count  Dtype  \n",
      "---  ------   --------------  -----  \n",
      " 0   STATION  59082 non-null  object \n",
      " 1   NAME     59082 non-null  object \n",
      " 2   DATE     59082 non-null  object \n",
      " 3   DAPR     573 non-null    float64\n",
      " 4   MDPR     569 non-null    float64\n",
      " 5   PRCP     58488 non-null  float64\n",
      " 6   SNOW     32336 non-null  float64\n",
      " 7   SNWD     4554 non-null   float64\n",
      "dtypes: float64(5), object(3)\n",
      "memory usage: 3.6+ MB\n"
     ]
    }
   ],
   "source": [
    "df_tampa.info()"
   ]
  },
  {
   "cell_type": "markdown",
   "id": "4758224d",
   "metadata": {},
   "source": [
    "Here after comparing the number of entries were more in tampa > seattle (the amount of data is less in the seattle dataset, and huge data means more memory usage. This is really important and essential for handling missing values correctly."
   ]
  },
  {
   "cell_type": "markdown",
   "id": "eaa80b80",
   "metadata": {},
   "source": [
    "-> In this step we are inspecting each column individually we use the dataframe['columnname'] which is the [\"STATION\"] to get the data from an individual column."
   ]
  },
  {
   "cell_type": "code",
   "execution_count": 12,
   "id": "3ebe566d",
   "metadata": {},
   "outputs": [
    {
     "data": {
      "text/plain": [
       "0       US1WAKG0225\n",
       "1       US1WAKG0225\n",
       "2       US1WAKG0225\n",
       "3       US1WAKG0225\n",
       "4       US1WAKG0225\n",
       "           ...     \n",
       "1653    US1WAKG0225\n",
       "1654    US1WAKG0225\n",
       "1655    US1WAKG0225\n",
       "1656    US1WAKG0225\n",
       "1657    US1WAKG0225\n",
       "Name: STATION, Length: 1658, dtype: object"
      ]
     },
     "execution_count": 12,
     "metadata": {},
     "output_type": "execute_result"
    }
   ],
   "source": [
    "df_seattle[\"STATION\"]"
   ]
  },
  {
   "cell_type": "code",
   "execution_count": 13,
   "id": "fef19ed0",
   "metadata": {},
   "outputs": [
    {
     "data": {
      "text/plain": [
       "0        US1FLHB0027\n",
       "1        US1FLHB0027\n",
       "2        US1FLHB0027\n",
       "3        US1FLHB0027\n",
       "4        US1FLHB0027\n",
       "            ...     \n",
       "59077    US1FLPN0060\n",
       "59078    US1FLPN0060\n",
       "59079    US1FLPN0060\n",
       "59080    US1FLPN0060\n",
       "59081    US1FLPN0060\n",
       "Name: STATION, Length: 59082, dtype: object"
      ]
     },
     "execution_count": 13,
     "metadata": {},
     "output_type": "execute_result"
    }
   ],
   "source": [
    "df_tampa[\"STATION\"]"
   ]
  },
  {
   "cell_type": "markdown",
   "id": "51c1ac22",
   "metadata": {},
   "source": [
    "We can see the length of the data and the entries present in the column STATION from both seattle and tampa dataset. Checking this column will help us in making important decisions on which stations to include or exclude while performing the analysis."
   ]
  },
  {
   "cell_type": "markdown",
   "id": "280a3f4a",
   "metadata": {},
   "source": [
    "-> The Unique() function gives the names of the unique stations. It is used to check the unquie entries in our dataset."
   ]
  },
  {
   "cell_type": "code",
   "execution_count": 14,
   "id": "53610c35",
   "metadata": {},
   "outputs": [
    {
     "data": {
      "text/plain": [
       "array(['US1WAKG0225'], dtype=object)"
      ]
     },
     "execution_count": 14,
     "metadata": {},
     "output_type": "execute_result"
    }
   ],
   "source": [
    "df_seattle[\"STATION\"].unique()"
   ]
  },
  {
   "cell_type": "code",
   "execution_count": 15,
   "id": "dc016ad1",
   "metadata": {},
   "outputs": [
    {
     "data": {
      "text/plain": [
       "array(['US1FLHB0027', 'US1FLHB0029', 'US1FLPN0091', 'US1FLPN0090',\n",
       "       'US1FLHB0141', 'US1FLHB0140', 'US1FLHB0143', 'USW00012873',\n",
       "       'USC00088824', 'US1FLHB0026', 'US1FLHB0147', 'US1FLPN0057',\n",
       "       'US1FLPS0075', 'US1FLPN0016', 'US1FLPN0093', 'US1FLPN0092',\n",
       "       'US1FLPN0094', 'US1FLPN0096', 'US1FLPN0055', 'US1FLHB0116',\n",
       "       'US1FLHB0115', 'US1FLHB0152', 'USW00012842', 'US1FLHB0112',\n",
       "       'US1FLHB0156', 'US1FLHB0037', 'US1FLHB0036', 'US1FLPN0123',\n",
       "       'US1FLPN0089', 'US1FLPN0122', 'US1FLPN0047', 'US1FLPS0065',\n",
       "       'US1FLPN0049', 'US1FLPN0082', 'US1FLPN0083', 'US1FLPN0086',\n",
       "       'US1FLPN0121', 'US1FLHB0005', 'US1FLPN0108', 'US1FLHB0120',\n",
       "       'US1FLHB0167', 'US1FLHB0048', 'US1FLHB0168', 'US1FLPN0079',\n",
       "       'US1FLPN0112', 'US1FLPN0034', 'US1FLPN0111', 'US1FLPN0036',\n",
       "       'US1FLPN0116', 'US1FLPN0115', 'US1FLHB0040', 'US1FLPN0071',\n",
       "       'US1FLPN0072', 'US1FLPN0033', 'US1FLHB0138', 'US1FLHB0055',\n",
       "       'US1FLHB0010', 'US1FLHB0090', 'US1FLPN0105', 'US1FLHB0093',\n",
       "       'US1FLPN0104', 'US1FLHB0051', 'US1FLPN0060'], dtype=object)"
      ]
     },
     "execution_count": 15,
     "metadata": {},
     "output_type": "execute_result"
    }
   ],
   "source": [
    "df_tampa[\"STATION\"].unique()"
   ]
  },
  {
   "cell_type": "markdown",
   "id": "0c88feb6",
   "metadata": {},
   "source": [
    "So in the output we can see from the STATION column of both the datasets, 1 unique station in seattle dataset whereas 63 unique stations in tampa dataset. This shows that Tampa is more varied data source may influence how we approach cleaning and analysis steps. "
   ]
  },
  {
   "cell_type": "markdown",
   "id": "eaafd094",
   "metadata": {},
   "source": [
    "-> I used the Shape attribute to check the total count of Rows X columns of the dataframe"
   ]
  },
  {
   "cell_type": "code",
   "execution_count": 16,
   "id": "c416256f",
   "metadata": {},
   "outputs": [
    {
     "name": "stdout",
     "output_type": "stream",
     "text": [
      "(1658, 10)\n"
     ]
    }
   ],
   "source": [
    "print(df_seattle.shape)"
   ]
  },
  {
   "cell_type": "code",
   "execution_count": 17,
   "id": "95bcaf12",
   "metadata": {},
   "outputs": [
    {
     "data": {
      "text/plain": [
       "(59082, 8)"
      ]
     },
     "execution_count": 17,
     "metadata": {},
     "output_type": "execute_result"
    }
   ],
   "source": [
    "df_tampa.shape"
   ]
  },
  {
   "cell_type": "markdown",
   "id": "b60c2329",
   "metadata": {},
   "source": [
    "Which is 1658 rows, and 10 columns in seattle dataframe, and 59082 rows and 8 columns in the tampa dataframe."
   ]
  },
  {
   "cell_type": "markdown",
   "id": "047d9c0b",
   "metadata": {},
   "source": [
    "-> In the next step i am checking the DATE column in both seattle and tampa datasets because the format of it may vary in different datasets which could lead to incorrect merging, filtering during anlaysis."
   ]
  },
  {
   "cell_type": "code",
   "execution_count": 18,
   "id": "77fb855c",
   "metadata": {},
   "outputs": [
    {
     "data": {
      "text/plain": [
       "0         1/1/18\n",
       "1         1/2/18\n",
       "2         1/3/18\n",
       "3         1/4/18\n",
       "4         1/5/18\n",
       "          ...   \n",
       "1653    12/27/22\n",
       "1654    12/28/22\n",
       "1655    12/29/22\n",
       "1656    12/30/22\n",
       "1657    12/31/22\n",
       "Name: DATE, Length: 1658, dtype: object"
      ]
     },
     "execution_count": 18,
     "metadata": {},
     "output_type": "execute_result"
    }
   ],
   "source": [
    "df_seattle['DATE']"
   ]
  },
  {
   "cell_type": "code",
   "execution_count": 19,
   "id": "bec480f3",
   "metadata": {},
   "outputs": [
    {
     "data": {
      "text/plain": [
       "0        2018-01-01\n",
       "1        2018-01-02\n",
       "2        2018-01-03\n",
       "3        2018-01-04\n",
       "4        2018-01-05\n",
       "            ...    \n",
       "59077    2022-12-27\n",
       "59078    2022-12-28\n",
       "59079    2022-12-29\n",
       "59080    2022-12-30\n",
       "59081    2022-12-31\n",
       "Name: DATE, Length: 59082, dtype: object"
      ]
     },
     "execution_count": 19,
     "metadata": {},
     "output_type": "execute_result"
    }
   ],
   "source": [
    "df_tampa['DATE']"
   ]
  },
  {
   "cell_type": "markdown",
   "id": "c70fce04",
   "metadata": {},
   "source": [
    "As we can see the data formats are very different in the both datasets. we see that the Seattle dataset uses a \"MM/DD/YY\" format (1/1/18), while the Tampa dataset uses \"YYYY-MM-DD\" format (2018-01-01). Its really important to ensure both the datasets follow the same format before performing any sort of analysis."
   ]
  },
  {
   "cell_type": "markdown",
   "id": "94a596a8",
   "metadata": {},
   "source": [
    "-> Here the max() function is used to check the last date of the table from the DATE column as written.  And the tail() fucntion returns the last 5 rows of the dataset by default when we dont pass any values inside it."
   ]
  },
  {
   "cell_type": "code",
   "execution_count": 20,
   "id": "e3508a58",
   "metadata": {},
   "outputs": [
    {
     "data": {
      "text/plain": [
       "'9/9/22'"
      ]
     },
     "execution_count": 20,
     "metadata": {},
     "output_type": "execute_result"
    }
   ],
   "source": [
    "df_seattle['DATE'].max()"
   ]
  },
  {
   "cell_type": "code",
   "execution_count": 21,
   "id": "5e580c67",
   "metadata": {},
   "outputs": [
    {
     "data": {
      "text/plain": [
       "1653    12/27/22\n",
       "1654    12/28/22\n",
       "1655    12/29/22\n",
       "1656    12/30/22\n",
       "1657    12/31/22\n",
       "Name: DATE, dtype: object"
      ]
     },
     "execution_count": 21,
     "metadata": {},
     "output_type": "execute_result"
    }
   ],
   "source": [
    "df_seattle['DATE'].tail()"
   ]
  },
  {
   "cell_type": "code",
   "execution_count": 22,
   "id": "6af9e5f9",
   "metadata": {},
   "outputs": [
    {
     "data": {
      "text/plain": [
       "'2022-12-31'"
      ]
     },
     "execution_count": 22,
     "metadata": {},
     "output_type": "execute_result"
    }
   ],
   "source": [
    "df_tampa['DATE'].max()"
   ]
  },
  {
   "cell_type": "code",
   "execution_count": 23,
   "id": "62f92dd4",
   "metadata": {},
   "outputs": [
    {
     "data": {
      "text/plain": [
       "59077    2022-12-27\n",
       "59078    2022-12-28\n",
       "59079    2022-12-29\n",
       "59080    2022-12-30\n",
       "59081    2022-12-31\n",
       "Name: DATE, dtype: object"
      ]
     },
     "execution_count": 23,
     "metadata": {},
     "output_type": "execute_result"
    }
   ],
   "source": [
    "df_tampa['DATE'].tail()"
   ]
  },
  {
   "cell_type": "markdown",
   "id": "d7d599e0",
   "metadata": {},
   "source": [
    "Here we can see that the date is incorrect when we checked the last 5 rows of seattle dataset, as '12/31/22' is considered the last date in Seattle regardless of the actual data which is showing us the '9/9/22' as the max date. For reasons like this, it is really important to ensure that both datasets follow the same date format."
   ]
  },
  {
   "cell_type": "markdown",
   "id": "73328d30",
   "metadata": {},
   "source": [
    "-> Here I am checking the data type of the DATE column using the dtype attribute to see if both outputs show the data type as object, indicating that the dates are stored as strings rather than as proper datetime objects."
   ]
  },
  {
   "cell_type": "code",
   "execution_count": 24,
   "id": "f3102671",
   "metadata": {},
   "outputs": [
    {
     "name": "stdout",
     "output_type": "stream",
     "text": [
      "Seattle datetime type: object\n",
      "Tampa datetime type: object\n"
     ]
    }
   ],
   "source": [
    "print(\"Seattle datetime type:\", df_seattle['DATE'].dtype)\n",
    "print(\"Tampa datetime type:\", df_tampa['DATE'].dtype)"
   ]
  },
  {
   "cell_type": "markdown",
   "id": "ec9b65ae",
   "metadata": {},
   "source": [
    "Here its telling the DATE column is in object format but not in datetime64[ns] format. Which needs to be corrected as it may lead to incorrect analysis."
   ]
  },
  {
   "cell_type": "markdown",
   "id": "6b805a1e",
   "metadata": {},
   "source": [
    "# DATA PREPARATION / CLEANING\n",
    "\n",
    "-> The Pandas provides a function called 'to_datetime' to convert a column to datetime format. Since we observed that the Seattle dataset was giving incorrect results, I now convert its date column to datetime format."
   ]
  },
  {
   "cell_type": "code",
   "execution_count": 25,
   "id": "dd2c74bd",
   "metadata": {},
   "outputs": [],
   "source": [
    "df_seattle['DATE'] = pd.to_datetime(df_seattle['DATE'], format='%m/%d/%y')"
   ]
  },
  {
   "cell_type": "code",
   "execution_count": 26,
   "id": "97022ee6",
   "metadata": {},
   "outputs": [
    {
     "data": {
      "text/plain": [
       "0      2018-01-01\n",
       "1      2018-01-02\n",
       "2      2018-01-03\n",
       "3      2018-01-04\n",
       "4      2018-01-05\n",
       "          ...    \n",
       "1653   2022-12-27\n",
       "1654   2022-12-28\n",
       "1655   2022-12-29\n",
       "1656   2022-12-30\n",
       "1657   2022-12-31\n",
       "Name: DATE, Length: 1658, dtype: datetime64[ns]"
      ]
     },
     "execution_count": 26,
     "metadata": {},
     "output_type": "execute_result"
    }
   ],
   "source": [
    "df_seattle['DATE'] "
   ]
  },
  {
   "cell_type": "code",
   "execution_count": 27,
   "id": "de094860",
   "metadata": {},
   "outputs": [],
   "source": [
    "df_tampa['DATE'] = pd.to_datetime(df_tampa['DATE'], format='%Y-%m-%d')"
   ]
  },
  {
   "cell_type": "code",
   "execution_count": 28,
   "id": "c3db1ca9",
   "metadata": {},
   "outputs": [
    {
     "data": {
      "text/plain": [
       "0       2018-01-01\n",
       "1       2018-01-02\n",
       "2       2018-01-03\n",
       "3       2018-01-04\n",
       "4       2018-01-05\n",
       "           ...    \n",
       "59077   2022-12-27\n",
       "59078   2022-12-28\n",
       "59079   2022-12-29\n",
       "59080   2022-12-30\n",
       "59081   2022-12-31\n",
       "Name: DATE, Length: 59082, dtype: datetime64[ns]"
      ]
     },
     "execution_count": 28,
     "metadata": {},
     "output_type": "execute_result"
    }
   ],
   "source": [
    "df_tampa['DATE']"
   ]
  },
  {
   "cell_type": "markdown",
   "id": "517002ba",
   "metadata": {},
   "source": [
    "We can see that the date format is different in both datasets. To work on the code effectively, we need to ensure that both datasets follow the same format. The tampa datatime is valid but it is in a different format so we changed the format to match both the datasets."
   ]
  },
  {
   "cell_type": "markdown",
   "id": "76663eb7",
   "metadata": {},
   "source": [
    "-> Here we are checking the DATE column again to verify if its data type has changed from object to datetime64[ns] and whether the changes were applied correctly."
   ]
  },
  {
   "cell_type": "code",
   "execution_count": 29,
   "id": "c4606af6",
   "metadata": {},
   "outputs": [
    {
     "name": "stdout",
     "output_type": "stream",
     "text": [
      "Seattle dates:\n",
      " 0   2018-01-01\n",
      "1   2018-01-02\n",
      "2   2018-01-03\n",
      "3   2018-01-04\n",
      "4   2018-01-05\n",
      "Name: DATE, dtype: datetime64[ns]\n",
      "Tampa dates:\n",
      " 0   2018-01-01\n",
      "1   2018-01-02\n",
      "2   2018-01-03\n",
      "3   2018-01-04\n",
      "4   2018-01-05\n",
      "Name: DATE, dtype: datetime64[ns]\n"
     ]
    }
   ],
   "source": [
    "print(\"Seattle dates:\\n\", df_seattle['DATE'].head())\n",
    "print(\"Tampa dates:\\n\", df_tampa['DATE'].head())"
   ]
  },
  {
   "cell_type": "markdown",
   "id": "20408346",
   "metadata": {},
   "source": [
    "Now we can see that both the DATE columns were changed to datetime64[ns]"
   ]
  },
  {
   "cell_type": "markdown",
   "id": "df1de948",
   "metadata": {},
   "source": [
    "-> To check the range of dates, min() and max() were used. min() returns the earliest date in the dataset, while max() returns the latest date.\n",
    "\n",
    "We used the agg() function to get both the minimum and maximum dates at once. It is important as we are merging the two datasets , the dates data should match along with the format."
   ]
  },
  {
   "cell_type": "code",
   "execution_count": 30,
   "id": "b2a350af",
   "metadata": {},
   "outputs": [
    {
     "data": {
      "text/plain": [
       "min   2018-01-01\n",
       "max   2022-12-31\n",
       "Name: DATE, dtype: datetime64[ns]"
      ]
     },
     "execution_count": 30,
     "metadata": {},
     "output_type": "execute_result"
    }
   ],
   "source": [
    "df_seattle['DATE'].agg(['min', 'max'])"
   ]
  },
  {
   "cell_type": "code",
   "execution_count": 31,
   "id": "c65948b0",
   "metadata": {},
   "outputs": [
    {
     "data": {
      "text/plain": [
       "min   2018-01-01\n",
       "max   2022-12-31\n",
       "Name: DATE, dtype: datetime64[ns]"
      ]
     },
     "execution_count": 31,
     "metadata": {},
     "output_type": "execute_result"
    }
   ],
   "source": [
    "df_tampa['DATE'].agg(['min', 'max'])"
   ]
  },
  {
   "cell_type": "markdown",
   "id": "948c2af3",
   "metadata": {},
   "source": [
    "We can see that the minimum and maximum dates, as well as the datetime formats, match in both datasets. It shows that the conversion preserved the data values."
   ]
  },
  {
   "cell_type": "markdown",
   "id": "163d2d1c",
   "metadata": {},
   "source": [
    "#### The libraries matplotlib and seaborn were used to visually represent the data. In matplotlib, plt.figure() sets the figure size, plt.xlabel() assigns a label to the x-axis, and plt.ylabel() assigns a label to the y-axis, with the specified font size. In seaborn, sns.lineplot() is used to draw a line graph for the specified x and y columns of the dataset, in this case, the Seattle dataset."
   ]
  },
  {
   "cell_type": "markdown",
   "id": "920ead47",
   "metadata": {},
   "source": [
    "-> In this step, I use a line plot to visualize daily precipitation amounts in Seattle from 2018 to 2022. By plotting DATE on the x-axis and PRCP which is precipitation in inches on the y-axis, this graph allows us to observe daily rainfall patterns, identify trends or seasonal cycles, and spot any unusual events. This visualization provides essential context for subsequent analysis, such as extreme rainfall periods that might affect the city’s climate assessment."
   ]
  },
  {
   "cell_type": "code",
   "execution_count": 32,
   "id": "dfc08c0b",
   "metadata": {
    "scrolled": true
   },
   "outputs": [
    {
     "data": {
      "image/png": "[encoded data removed]",
      "text/plain": [
       "<Figure size 1080x360 with 1 Axes>"
      ]
     },
     "metadata": {},
     "output_type": "display_data"
    }
   ],
   "source": [
    "plt.figure(figsize=(15, 5))\n",
    "sns.lineplot(data=df_seattle, x='DATE', y='PRCP')\n",
    "plt.xlabel('Date', fontsize=16)\n",
    "plt.ylabel('Precipitation (inches)', fontsize=16)\n",
    "\n",
    "plt.tick_params(labelsize=15)\n",
    "plt.show()"
   ]
  },
  {
   "cell_type": "markdown",
   "id": "c49af558",
   "metadata": {},
   "source": [
    "From the lineplot, we can observe a noticeable steep in precipitation at the start of 2018, followed by more variable rainfalls across the remaining years. This initial steep slope indicates the presence of outliers."
   ]
  },
  {
   "cell_type": "markdown",
   "id": "09e30c50",
   "metadata": {},
   "source": [
    "-> Here I am checking the cause for the steep slope from the graph plotted, by taking a certain number of observations."
   ]
  },
  {
   "cell_type": "code",
   "execution_count": 33,
   "id": "064f8232",
   "metadata": {},
   "outputs": [
    {
     "data": {
      "text/html": [
       "<div>\n",
       "<style scoped>\n",
       "    .dataframe tbody tr th:only-of-type {\n",
       "        vertical-align: middle;\n",
       "    }\n",
       "\n",
       "    .dataframe tbody tr th {\n",
       "        vertical-align: top;\n",
       "    }\n",
       "\n",
       "    .dataframe thead th {\n",
       "        text-align: right;\n",
       "    }\n",
       "</style>\n",
       "<table border=\"1\" class=\"dataframe\">\n",
       "  <thead>\n",
       "    <tr style=\"text-align: right;\">\n",
       "      <th></th>\n",
       "      <th>STATION</th>\n",
       "      <th>NAME</th>\n",
       "      <th>DATE</th>\n",
       "      <th>DAPR</th>\n",
       "      <th>MDPR</th>\n",
       "      <th>PRCP</th>\n",
       "      <th>SNOW</th>\n",
       "      <th>SNWD</th>\n",
       "      <th>WESD</th>\n",
       "      <th>WESF</th>\n",
       "    </tr>\n",
       "  </thead>\n",
       "  <tbody>\n",
       "    <tr>\n",
       "      <th>0</th>\n",
       "      <td>US1WAKG0225</td>\n",
       "      <td>SEATTLE 2.1 ESE, WA US</td>\n",
       "      <td>2018-01-01</td>\n",
       "      <td>NaN</td>\n",
       "      <td>NaN</td>\n",
       "      <td>0.00</td>\n",
       "      <td>NaN</td>\n",
       "      <td>NaN</td>\n",
       "      <td>NaN</td>\n",
       "      <td>NaN</td>\n",
       "    </tr>\n",
       "    <tr>\n",
       "      <th>1</th>\n",
       "      <td>US1WAKG0225</td>\n",
       "      <td>SEATTLE 2.1 ESE, WA US</td>\n",
       "      <td>2018-01-02</td>\n",
       "      <td>NaN</td>\n",
       "      <td>NaN</td>\n",
       "      <td>0.00</td>\n",
       "      <td>NaN</td>\n",
       "      <td>NaN</td>\n",
       "      <td>NaN</td>\n",
       "      <td>NaN</td>\n",
       "    </tr>\n",
       "    <tr>\n",
       "      <th>2</th>\n",
       "      <td>US1WAKG0225</td>\n",
       "      <td>SEATTLE 2.1 ESE, WA US</td>\n",
       "      <td>2018-01-03</td>\n",
       "      <td>NaN</td>\n",
       "      <td>NaN</td>\n",
       "      <td>0.00</td>\n",
       "      <td>NaN</td>\n",
       "      <td>NaN</td>\n",
       "      <td>NaN</td>\n",
       "      <td>NaN</td>\n",
       "    </tr>\n",
       "    <tr>\n",
       "      <th>3</th>\n",
       "      <td>US1WAKG0225</td>\n",
       "      <td>SEATTLE 2.1 ESE, WA US</td>\n",
       "      <td>2018-01-04</td>\n",
       "      <td>NaN</td>\n",
       "      <td>NaN</td>\n",
       "      <td>0.00</td>\n",
       "      <td>NaN</td>\n",
       "      <td>NaN</td>\n",
       "      <td>NaN</td>\n",
       "      <td>NaN</td>\n",
       "    </tr>\n",
       "    <tr>\n",
       "      <th>4</th>\n",
       "      <td>US1WAKG0225</td>\n",
       "      <td>SEATTLE 2.1 ESE, WA US</td>\n",
       "      <td>2018-01-05</td>\n",
       "      <td>NaN</td>\n",
       "      <td>NaN</td>\n",
       "      <td>0.25</td>\n",
       "      <td>NaN</td>\n",
       "      <td>NaN</td>\n",
       "      <td>NaN</td>\n",
       "      <td>NaN</td>\n",
       "    </tr>\n",
       "    <tr>\n",
       "      <th>5</th>\n",
       "      <td>US1WAKG0225</td>\n",
       "      <td>SEATTLE 2.1 ESE, WA US</td>\n",
       "      <td>2018-01-06</td>\n",
       "      <td>NaN</td>\n",
       "      <td>NaN</td>\n",
       "      <td>0.57</td>\n",
       "      <td>NaN</td>\n",
       "      <td>NaN</td>\n",
       "      <td>NaN</td>\n",
       "      <td>NaN</td>\n",
       "    </tr>\n",
       "    <tr>\n",
       "      <th>6</th>\n",
       "      <td>US1WAKG0225</td>\n",
       "      <td>SEATTLE 2.1 ESE, WA US</td>\n",
       "      <td>2018-01-07</td>\n",
       "      <td>NaN</td>\n",
       "      <td>NaN</td>\n",
       "      <td>0.23</td>\n",
       "      <td>NaN</td>\n",
       "      <td>NaN</td>\n",
       "      <td>NaN</td>\n",
       "      <td>NaN</td>\n",
       "    </tr>\n",
       "    <tr>\n",
       "      <th>7</th>\n",
       "      <td>US1WAKG0225</td>\n",
       "      <td>SEATTLE 2.1 ESE, WA US</td>\n",
       "      <td>2018-01-08</td>\n",
       "      <td>NaN</td>\n",
       "      <td>NaN</td>\n",
       "      <td>0.41</td>\n",
       "      <td>NaN</td>\n",
       "      <td>NaN</td>\n",
       "      <td>NaN</td>\n",
       "      <td>NaN</td>\n",
       "    </tr>\n",
       "    <tr>\n",
       "      <th>8</th>\n",
       "      <td>US1WAKG0225</td>\n",
       "      <td>SEATTLE 2.1 ESE, WA US</td>\n",
       "      <td>2018-03-12</td>\n",
       "      <td>NaN</td>\n",
       "      <td>NaN</td>\n",
       "      <td>0.00</td>\n",
       "      <td>NaN</td>\n",
       "      <td>NaN</td>\n",
       "      <td>NaN</td>\n",
       "      <td>NaN</td>\n",
       "    </tr>\n",
       "    <tr>\n",
       "      <th>9</th>\n",
       "      <td>US1WAKG0225</td>\n",
       "      <td>SEATTLE 2.1 ESE, WA US</td>\n",
       "      <td>2018-03-13</td>\n",
       "      <td>NaN</td>\n",
       "      <td>NaN</td>\n",
       "      <td>0.00</td>\n",
       "      <td>NaN</td>\n",
       "      <td>NaN</td>\n",
       "      <td>NaN</td>\n",
       "      <td>NaN</td>\n",
       "    </tr>\n",
       "    <tr>\n",
       "      <th>10</th>\n",
       "      <td>US1WAKG0225</td>\n",
       "      <td>SEATTLE 2.1 ESE, WA US</td>\n",
       "      <td>2018-03-14</td>\n",
       "      <td>NaN</td>\n",
       "      <td>NaN</td>\n",
       "      <td>0.20</td>\n",
       "      <td>NaN</td>\n",
       "      <td>NaN</td>\n",
       "      <td>NaN</td>\n",
       "      <td>NaN</td>\n",
       "    </tr>\n",
       "    <tr>\n",
       "      <th>11</th>\n",
       "      <td>US1WAKG0225</td>\n",
       "      <td>SEATTLE 2.1 ESE, WA US</td>\n",
       "      <td>2018-03-15</td>\n",
       "      <td>NaN</td>\n",
       "      <td>NaN</td>\n",
       "      <td>0.02</td>\n",
       "      <td>NaN</td>\n",
       "      <td>NaN</td>\n",
       "      <td>NaN</td>\n",
       "      <td>NaN</td>\n",
       "    </tr>\n",
       "    <tr>\n",
       "      <th>12</th>\n",
       "      <td>US1WAKG0225</td>\n",
       "      <td>SEATTLE 2.1 ESE, WA US</td>\n",
       "      <td>2018-03-16</td>\n",
       "      <td>NaN</td>\n",
       "      <td>NaN</td>\n",
       "      <td>0.00</td>\n",
       "      <td>NaN</td>\n",
       "      <td>NaN</td>\n",
       "      <td>NaN</td>\n",
       "      <td>NaN</td>\n",
       "    </tr>\n",
       "    <tr>\n",
       "      <th>13</th>\n",
       "      <td>US1WAKG0225</td>\n",
       "      <td>SEATTLE 2.1 ESE, WA US</td>\n",
       "      <td>2018-03-17</td>\n",
       "      <td>NaN</td>\n",
       "      <td>NaN</td>\n",
       "      <td>0.00</td>\n",
       "      <td>NaN</td>\n",
       "      <td>NaN</td>\n",
       "      <td>NaN</td>\n",
       "      <td>NaN</td>\n",
       "    </tr>\n",
       "    <tr>\n",
       "      <th>14</th>\n",
       "      <td>US1WAKG0225</td>\n",
       "      <td>SEATTLE 2.1 ESE, WA US</td>\n",
       "      <td>2018-03-18</td>\n",
       "      <td>NaN</td>\n",
       "      <td>NaN</td>\n",
       "      <td>0.00</td>\n",
       "      <td>NaN</td>\n",
       "      <td>NaN</td>\n",
       "      <td>NaN</td>\n",
       "      <td>NaN</td>\n",
       "    </tr>\n",
       "    <tr>\n",
       "      <th>15</th>\n",
       "      <td>US1WAKG0225</td>\n",
       "      <td>SEATTLE 2.1 ESE, WA US</td>\n",
       "      <td>2018-03-19</td>\n",
       "      <td>NaN</td>\n",
       "      <td>NaN</td>\n",
       "      <td>0.00</td>\n",
       "      <td>NaN</td>\n",
       "      <td>NaN</td>\n",
       "      <td>NaN</td>\n",
       "      <td>NaN</td>\n",
       "    </tr>\n",
       "    <tr>\n",
       "      <th>16</th>\n",
       "      <td>US1WAKG0225</td>\n",
       "      <td>SEATTLE 2.1 ESE, WA US</td>\n",
       "      <td>2018-03-20</td>\n",
       "      <td>NaN</td>\n",
       "      <td>NaN</td>\n",
       "      <td>0.00</td>\n",
       "      <td>NaN</td>\n",
       "      <td>NaN</td>\n",
       "      <td>NaN</td>\n",
       "      <td>NaN</td>\n",
       "    </tr>\n",
       "    <tr>\n",
       "      <th>17</th>\n",
       "      <td>US1WAKG0225</td>\n",
       "      <td>SEATTLE 2.1 ESE, WA US</td>\n",
       "      <td>2018-03-21</td>\n",
       "      <td>NaN</td>\n",
       "      <td>NaN</td>\n",
       "      <td>0.00</td>\n",
       "      <td>NaN</td>\n",
       "      <td>NaN</td>\n",
       "      <td>NaN</td>\n",
       "      <td>NaN</td>\n",
       "    </tr>\n",
       "    <tr>\n",
       "      <th>18</th>\n",
       "      <td>US1WAKG0225</td>\n",
       "      <td>SEATTLE 2.1 ESE, WA US</td>\n",
       "      <td>2018-03-22</td>\n",
       "      <td>NaN</td>\n",
       "      <td>NaN</td>\n",
       "      <td>0.25</td>\n",
       "      <td>NaN</td>\n",
       "      <td>NaN</td>\n",
       "      <td>NaN</td>\n",
       "      <td>NaN</td>\n",
       "    </tr>\n",
       "    <tr>\n",
       "      <th>19</th>\n",
       "      <td>US1WAKG0225</td>\n",
       "      <td>SEATTLE 2.1 ESE, WA US</td>\n",
       "      <td>2018-03-23</td>\n",
       "      <td>NaN</td>\n",
       "      <td>NaN</td>\n",
       "      <td>0.29</td>\n",
       "      <td>NaN</td>\n",
       "      <td>NaN</td>\n",
       "      <td>NaN</td>\n",
       "      <td>NaN</td>\n",
       "    </tr>\n",
       "  </tbody>\n",
       "</table>\n",
       "</div>"
      ],
      "text/plain": [
       "        STATION                    NAME       DATE  DAPR  MDPR  PRCP  SNOW  \\\n",
       "0   US1WAKG0225  SEATTLE 2.1 ESE, WA US 2018-01-01   NaN   NaN  0.00   NaN   \n",
       "1   US1WAKG0225  SEATTLE 2.1 ESE, WA US 2018-01-02   NaN   NaN  0.00   NaN   \n",
       "2   US1WAKG0225  SEATTLE 2.1 ESE, WA US 2018-01-03   NaN   NaN  0.00   NaN   \n",
       "3   US1WAKG0225  SEATTLE 2.1 ESE, WA US 2018-01-04   NaN   NaN  0.00   NaN   \n",
       "4   US1WAKG0225  SEATTLE 2.1 ESE, WA US 2018-01-05   NaN   NaN  0.25   NaN   \n",
       "5   US1WAKG0225  SEATTLE 2.1 ESE, WA US 2018-01-06   NaN   NaN  0.57   NaN   \n",
       "6   US1WAKG0225  SEATTLE 2.1 ESE, WA US 2018-01-07   NaN   NaN  0.23   NaN   \n",
       "7   US1WAKG0225  SEATTLE 2.1 ESE, WA US 2018-01-08   NaN   NaN  0.41   NaN   \n",
       "8   US1WAKG0225  SEATTLE 2.1 ESE, WA US 2018-03-12   NaN   NaN  0.00   NaN   \n",
       "9   US1WAKG0225  SEATTLE 2.1 ESE, WA US 2018-03-13   NaN   NaN  0.00   NaN   \n",
       "10  US1WAKG0225  SEATTLE 2.1 ESE, WA US 2018-03-14   NaN   NaN  0.20   NaN   \n",
       "11  US1WAKG0225  SEATTLE 2.1 ESE, WA US 2018-03-15   NaN   NaN  0.02   NaN   \n",
       "12  US1WAKG0225  SEATTLE 2.1 ESE, WA US 2018-03-16   NaN   NaN  0.00   NaN   \n",
       "13  US1WAKG0225  SEATTLE 2.1 ESE, WA US 2018-03-17   NaN   NaN  0.00   NaN   \n",
       "14  US1WAKG0225  SEATTLE 2.1 ESE, WA US 2018-03-18   NaN   NaN  0.00   NaN   \n",
       "15  US1WAKG0225  SEATTLE 2.1 ESE, WA US 2018-03-19   NaN   NaN  0.00   NaN   \n",
       "16  US1WAKG0225  SEATTLE 2.1 ESE, WA US 2018-03-20   NaN   NaN  0.00   NaN   \n",
       "17  US1WAKG0225  SEATTLE 2.1 ESE, WA US 2018-03-21   NaN   NaN  0.00   NaN   \n",
       "18  US1WAKG0225  SEATTLE 2.1 ESE, WA US 2018-03-22   NaN   NaN  0.25   NaN   \n",
       "19  US1WAKG0225  SEATTLE 2.1 ESE, WA US 2018-03-23   NaN   NaN  0.29   NaN   \n",
       "\n",
       "    SNWD  WESD  WESF  \n",
       "0    NaN   NaN   NaN  \n",
       "1    NaN   NaN   NaN  \n",
       "2    NaN   NaN   NaN  \n",
       "3    NaN   NaN   NaN  \n",
       "4    NaN   NaN   NaN  \n",
       "5    NaN   NaN   NaN  \n",
       "6    NaN   NaN   NaN  \n",
       "7    NaN   NaN   NaN  \n",
       "8    NaN   NaN   NaN  \n",
       "9    NaN   NaN   NaN  \n",
       "10   NaN   NaN   NaN  \n",
       "11   NaN   NaN   NaN  \n",
       "12   NaN   NaN   NaN  \n",
       "13   NaN   NaN   NaN  \n",
       "14   NaN   NaN   NaN  \n",
       "15   NaN   NaN   NaN  \n",
       "16   NaN   NaN   NaN  \n",
       "17   NaN   NaN   NaN  \n",
       "18   NaN   NaN   NaN  \n",
       "19   NaN   NaN   NaN  "
      ]
     },
     "execution_count": 33,
     "metadata": {},
     "output_type": "execute_result"
    }
   ],
   "source": [
    "df_seattle.head(20)"
   ]
  },
  {
   "cell_type": "markdown",
   "id": "62f6a862",
   "metadata": {},
   "source": [
    "We can observe that the steepness is not actual rain, it’s due to missing dates in the dataset."
   ]
  },
  {
   "cell_type": "markdown",
   "id": "d4236d92",
   "metadata": {},
   "source": [
    "-> In this step we are visualizing the precipitation in tampa city from 2018 to 2022 using a line plot, with x axis as date, and y axis mentioning precipitation in inches, this produces time series line plot showing the daily precipitation of tampa which helps in visually inspecting the rainfall distribution over several years."
   ]
  },
  {
   "cell_type": "code",
   "execution_count": 34,
   "id": "a1484da8",
   "metadata": {},
   "outputs": [
    {
     "data": {
      "image/png": "[encoded data removed]",
      "text/plain": [
       "<Figure size 1440x360 with 1 Axes>"
      ]
     },
     "metadata": {},
     "output_type": "display_data"
    }
   ],
   "source": [
    "plt.figure(figsize=(20, 5))\n",
    "\n",
    "sns.lineplot(data=df_tampa, x='DATE', y='PRCP')\n",
    "\n",
    "plt.xlabel('Date', fontsize=16)\n",
    "plt.ylabel('Precipitation (inches)', fontsize=16)\n",
    "\n",
    "plt.tick_params(labelsize=15)\n",
    "\n",
    "plt.show()"
   ]
  },
  {
   "cell_type": "markdown",
   "id": "1e1dda8a",
   "metadata": {},
   "source": [
    "Here we can actually see the graph but couldnt point out the missing values for the tampa dataset as the dataset is huge, so we then check the observations for more detailed understanding of the data."
   ]
  },
  {
   "cell_type": "code",
   "execution_count": 35,
   "id": "8f125974",
   "metadata": {
    "scrolled": true
   },
   "outputs": [
    {
     "data": {
      "text/html": [
       "<div>\n",
       "<style scoped>\n",
       "    .dataframe tbody tr th:only-of-type {\n",
       "        vertical-align: middle;\n",
       "    }\n",
       "\n",
       "    .dataframe tbody tr th {\n",
       "        vertical-align: top;\n",
       "    }\n",
       "\n",
       "    .dataframe thead th {\n",
       "        text-align: right;\n",
       "    }\n",
       "</style>\n",
       "<table border=\"1\" class=\"dataframe\">\n",
       "  <thead>\n",
       "    <tr style=\"text-align: right;\">\n",
       "      <th></th>\n",
       "      <th>STATION</th>\n",
       "      <th>NAME</th>\n",
       "      <th>DATE</th>\n",
       "      <th>DAPR</th>\n",
       "      <th>MDPR</th>\n",
       "      <th>PRCP</th>\n",
       "      <th>SNOW</th>\n",
       "      <th>SNWD</th>\n",
       "    </tr>\n",
       "  </thead>\n",
       "  <tbody>\n",
       "    <tr>\n",
       "      <th>0</th>\n",
       "      <td>US1FLHB0027</td>\n",
       "      <td>LUTZ 1.3 SSE, FL US</td>\n",
       "      <td>2018-01-01</td>\n",
       "      <td>NaN</td>\n",
       "      <td>NaN</td>\n",
       "      <td>0.00</td>\n",
       "      <td>0.0</td>\n",
       "      <td>NaN</td>\n",
       "    </tr>\n",
       "    <tr>\n",
       "      <th>1</th>\n",
       "      <td>US1FLHB0027</td>\n",
       "      <td>LUTZ 1.3 SSE, FL US</td>\n",
       "      <td>2018-01-02</td>\n",
       "      <td>NaN</td>\n",
       "      <td>NaN</td>\n",
       "      <td>0.02</td>\n",
       "      <td>NaN</td>\n",
       "      <td>NaN</td>\n",
       "    </tr>\n",
       "    <tr>\n",
       "      <th>2</th>\n",
       "      <td>US1FLHB0027</td>\n",
       "      <td>LUTZ 1.3 SSE, FL US</td>\n",
       "      <td>2018-01-03</td>\n",
       "      <td>NaN</td>\n",
       "      <td>NaN</td>\n",
       "      <td>0.40</td>\n",
       "      <td>NaN</td>\n",
       "      <td>NaN</td>\n",
       "    </tr>\n",
       "    <tr>\n",
       "      <th>3</th>\n",
       "      <td>US1FLHB0027</td>\n",
       "      <td>LUTZ 1.3 SSE, FL US</td>\n",
       "      <td>2018-01-04</td>\n",
       "      <td>NaN</td>\n",
       "      <td>NaN</td>\n",
       "      <td>0.33</td>\n",
       "      <td>NaN</td>\n",
       "      <td>NaN</td>\n",
       "    </tr>\n",
       "    <tr>\n",
       "      <th>4</th>\n",
       "      <td>US1FLHB0027</td>\n",
       "      <td>LUTZ 1.3 SSE, FL US</td>\n",
       "      <td>2018-01-05</td>\n",
       "      <td>NaN</td>\n",
       "      <td>NaN</td>\n",
       "      <td>0.00</td>\n",
       "      <td>0.0</td>\n",
       "      <td>NaN</td>\n",
       "    </tr>\n",
       "    <tr>\n",
       "      <th>5</th>\n",
       "      <td>US1FLHB0027</td>\n",
       "      <td>LUTZ 1.3 SSE, FL US</td>\n",
       "      <td>2018-01-06</td>\n",
       "      <td>NaN</td>\n",
       "      <td>NaN</td>\n",
       "      <td>0.00</td>\n",
       "      <td>0.0</td>\n",
       "      <td>NaN</td>\n",
       "    </tr>\n",
       "    <tr>\n",
       "      <th>6</th>\n",
       "      <td>US1FLHB0027</td>\n",
       "      <td>LUTZ 1.3 SSE, FL US</td>\n",
       "      <td>2018-01-07</td>\n",
       "      <td>NaN</td>\n",
       "      <td>NaN</td>\n",
       "      <td>0.00</td>\n",
       "      <td>0.0</td>\n",
       "      <td>NaN</td>\n",
       "    </tr>\n",
       "    <tr>\n",
       "      <th>7</th>\n",
       "      <td>US1FLHB0027</td>\n",
       "      <td>LUTZ 1.3 SSE, FL US</td>\n",
       "      <td>2018-01-08</td>\n",
       "      <td>NaN</td>\n",
       "      <td>NaN</td>\n",
       "      <td>0.00</td>\n",
       "      <td>0.0</td>\n",
       "      <td>NaN</td>\n",
       "    </tr>\n",
       "    <tr>\n",
       "      <th>8</th>\n",
       "      <td>US1FLHB0027</td>\n",
       "      <td>LUTZ 1.3 SSE, FL US</td>\n",
       "      <td>2018-01-12</td>\n",
       "      <td>4.0</td>\n",
       "      <td>0.56</td>\n",
       "      <td>NaN</td>\n",
       "      <td>NaN</td>\n",
       "      <td>NaN</td>\n",
       "    </tr>\n",
       "    <tr>\n",
       "      <th>9</th>\n",
       "      <td>US1FLHB0027</td>\n",
       "      <td>LUTZ 1.3 SSE, FL US</td>\n",
       "      <td>2018-01-13</td>\n",
       "      <td>NaN</td>\n",
       "      <td>NaN</td>\n",
       "      <td>0.05</td>\n",
       "      <td>NaN</td>\n",
       "      <td>NaN</td>\n",
       "    </tr>\n",
       "    <tr>\n",
       "      <th>10</th>\n",
       "      <td>US1FLHB0027</td>\n",
       "      <td>LUTZ 1.3 SSE, FL US</td>\n",
       "      <td>2018-01-14</td>\n",
       "      <td>NaN</td>\n",
       "      <td>NaN</td>\n",
       "      <td>0.00</td>\n",
       "      <td>0.0</td>\n",
       "      <td>NaN</td>\n",
       "    </tr>\n",
       "    <tr>\n",
       "      <th>11</th>\n",
       "      <td>US1FLHB0027</td>\n",
       "      <td>LUTZ 1.3 SSE, FL US</td>\n",
       "      <td>2018-01-15</td>\n",
       "      <td>NaN</td>\n",
       "      <td>NaN</td>\n",
       "      <td>0.00</td>\n",
       "      <td>0.0</td>\n",
       "      <td>NaN</td>\n",
       "    </tr>\n",
       "    <tr>\n",
       "      <th>12</th>\n",
       "      <td>US1FLHB0027</td>\n",
       "      <td>LUTZ 1.3 SSE, FL US</td>\n",
       "      <td>2018-01-16</td>\n",
       "      <td>NaN</td>\n",
       "      <td>NaN</td>\n",
       "      <td>0.00</td>\n",
       "      <td>0.0</td>\n",
       "      <td>NaN</td>\n",
       "    </tr>\n",
       "    <tr>\n",
       "      <th>13</th>\n",
       "      <td>US1FLHB0027</td>\n",
       "      <td>LUTZ 1.3 SSE, FL US</td>\n",
       "      <td>2018-01-17</td>\n",
       "      <td>NaN</td>\n",
       "      <td>NaN</td>\n",
       "      <td>0.00</td>\n",
       "      <td>0.0</td>\n",
       "      <td>NaN</td>\n",
       "    </tr>\n",
       "    <tr>\n",
       "      <th>14</th>\n",
       "      <td>US1FLHB0027</td>\n",
       "      <td>LUTZ 1.3 SSE, FL US</td>\n",
       "      <td>2018-01-18</td>\n",
       "      <td>NaN</td>\n",
       "      <td>NaN</td>\n",
       "      <td>0.00</td>\n",
       "      <td>0.0</td>\n",
       "      <td>NaN</td>\n",
       "    </tr>\n",
       "    <tr>\n",
       "      <th>15</th>\n",
       "      <td>US1FLHB0027</td>\n",
       "      <td>LUTZ 1.3 SSE, FL US</td>\n",
       "      <td>2018-01-19</td>\n",
       "      <td>NaN</td>\n",
       "      <td>NaN</td>\n",
       "      <td>0.00</td>\n",
       "      <td>0.0</td>\n",
       "      <td>NaN</td>\n",
       "    </tr>\n",
       "    <tr>\n",
       "      <th>16</th>\n",
       "      <td>US1FLHB0027</td>\n",
       "      <td>LUTZ 1.3 SSE, FL US</td>\n",
       "      <td>2018-01-20</td>\n",
       "      <td>NaN</td>\n",
       "      <td>NaN</td>\n",
       "      <td>0.00</td>\n",
       "      <td>0.0</td>\n",
       "      <td>NaN</td>\n",
       "    </tr>\n",
       "    <tr>\n",
       "      <th>17</th>\n",
       "      <td>US1FLHB0027</td>\n",
       "      <td>LUTZ 1.3 SSE, FL US</td>\n",
       "      <td>2018-01-21</td>\n",
       "      <td>NaN</td>\n",
       "      <td>NaN</td>\n",
       "      <td>0.00</td>\n",
       "      <td>0.0</td>\n",
       "      <td>NaN</td>\n",
       "    </tr>\n",
       "    <tr>\n",
       "      <th>18</th>\n",
       "      <td>US1FLHB0027</td>\n",
       "      <td>LUTZ 1.3 SSE, FL US</td>\n",
       "      <td>2018-01-22</td>\n",
       "      <td>NaN</td>\n",
       "      <td>NaN</td>\n",
       "      <td>0.00</td>\n",
       "      <td>0.0</td>\n",
       "      <td>NaN</td>\n",
       "    </tr>\n",
       "    <tr>\n",
       "      <th>19</th>\n",
       "      <td>US1FLHB0027</td>\n",
       "      <td>LUTZ 1.3 SSE, FL US</td>\n",
       "      <td>2018-01-23</td>\n",
       "      <td>NaN</td>\n",
       "      <td>NaN</td>\n",
       "      <td>0.11</td>\n",
       "      <td>NaN</td>\n",
       "      <td>NaN</td>\n",
       "    </tr>\n",
       "  </tbody>\n",
       "</table>\n",
       "</div>"
      ],
      "text/plain": [
       "        STATION                 NAME       DATE  DAPR  MDPR  PRCP  SNOW  SNWD\n",
       "0   US1FLHB0027  LUTZ 1.3 SSE, FL US 2018-01-01   NaN   NaN  0.00   0.0   NaN\n",
       "1   US1FLHB0027  LUTZ 1.3 SSE, FL US 2018-01-02   NaN   NaN  0.02   NaN   NaN\n",
       "2   US1FLHB0027  LUTZ 1.3 SSE, FL US 2018-01-03   NaN   NaN  0.40   NaN   NaN\n",
       "3   US1FLHB0027  LUTZ 1.3 SSE, FL US 2018-01-04   NaN   NaN  0.33   NaN   NaN\n",
       "4   US1FLHB0027  LUTZ 1.3 SSE, FL US 2018-01-05   NaN   NaN  0.00   0.0   NaN\n",
       "5   US1FLHB0027  LUTZ 1.3 SSE, FL US 2018-01-06   NaN   NaN  0.00   0.0   NaN\n",
       "6   US1FLHB0027  LUTZ 1.3 SSE, FL US 2018-01-07   NaN   NaN  0.00   0.0   NaN\n",
       "7   US1FLHB0027  LUTZ 1.3 SSE, FL US 2018-01-08   NaN   NaN  0.00   0.0   NaN\n",
       "8   US1FLHB0027  LUTZ 1.3 SSE, FL US 2018-01-12   4.0  0.56   NaN   NaN   NaN\n",
       "9   US1FLHB0027  LUTZ 1.3 SSE, FL US 2018-01-13   NaN   NaN  0.05   NaN   NaN\n",
       "10  US1FLHB0027  LUTZ 1.3 SSE, FL US 2018-01-14   NaN   NaN  0.00   0.0   NaN\n",
       "11  US1FLHB0027  LUTZ 1.3 SSE, FL US 2018-01-15   NaN   NaN  0.00   0.0   NaN\n",
       "12  US1FLHB0027  LUTZ 1.3 SSE, FL US 2018-01-16   NaN   NaN  0.00   0.0   NaN\n",
       "13  US1FLHB0027  LUTZ 1.3 SSE, FL US 2018-01-17   NaN   NaN  0.00   0.0   NaN\n",
       "14  US1FLHB0027  LUTZ 1.3 SSE, FL US 2018-01-18   NaN   NaN  0.00   0.0   NaN\n",
       "15  US1FLHB0027  LUTZ 1.3 SSE, FL US 2018-01-19   NaN   NaN  0.00   0.0   NaN\n",
       "16  US1FLHB0027  LUTZ 1.3 SSE, FL US 2018-01-20   NaN   NaN  0.00   0.0   NaN\n",
       "17  US1FLHB0027  LUTZ 1.3 SSE, FL US 2018-01-21   NaN   NaN  0.00   0.0   NaN\n",
       "18  US1FLHB0027  LUTZ 1.3 SSE, FL US 2018-01-22   NaN   NaN  0.00   0.0   NaN\n",
       "19  US1FLHB0027  LUTZ 1.3 SSE, FL US 2018-01-23   NaN   NaN  0.11   NaN   NaN"
      ]
     },
     "execution_count": 35,
     "metadata": {},
     "output_type": "execute_result"
    }
   ],
   "source": [
    "df_tampa.head(20)"
   ]
  },
  {
   "cell_type": "markdown",
   "id": "128a0351",
   "metadata": {},
   "source": [
    "We can see that there is no recorded precipitation data for some days in the tampa dataset, and due to the huge dataset we couldnt point the steep jumps in tampa dataset."
   ]
  },
  {
   "cell_type": "markdown",
   "id": "36097308",
   "metadata": {},
   "source": [
    "-> So now we are also checking the precipitation column the primary columns of interest. By displaying all values in the column, I confirm the data type as float64, which is appropriate for continuous precipitation measurements in inches. Inspecting these values helps verify that the precipitation data is correctly formatted and provides a quick check for any unusual patterns, such as outliers, missing values, or negative numbers that would require further cleaning before analysis."
   ]
  },
  {
   "cell_type": "code",
   "execution_count": 36,
   "id": "841b15a1",
   "metadata": {
    "scrolled": true
   },
   "outputs": [
    {
     "data": {
      "text/plain": [
       "0       0.00\n",
       "1       0.00\n",
       "2       0.00\n",
       "3       0.00\n",
       "4       0.25\n",
       "        ... \n",
       "1653    0.78\n",
       "1654    0.40\n",
       "1655    0.03\n",
       "1656    0.62\n",
       "1657    0.17\n",
       "Name: PRCP, Length: 1658, dtype: float64"
      ]
     },
     "execution_count": 36,
     "metadata": {},
     "output_type": "execute_result"
    }
   ],
   "source": [
    "df_seattle.loc[:, 'PRCP']"
   ]
  },
  {
   "cell_type": "markdown",
   "id": "5d32025d",
   "metadata": {},
   "source": [
    "Here we can see all rows starting from 0-1657, and the type of data is float."
   ]
  },
  {
   "cell_type": "markdown",
   "id": "e3c900f4",
   "metadata": {},
   "source": [
    "-> The precipitation and here the loc used to access a set of rows and columns, here the : means all rows and the PRCP is the column."
   ]
  },
  {
   "cell_type": "code",
   "execution_count": 37,
   "id": "e48260f8",
   "metadata": {},
   "outputs": [
    {
     "data": {
      "text/html": [
       "<div>\n",
       "<style scoped>\n",
       "    .dataframe tbody tr th:only-of-type {\n",
       "        vertical-align: middle;\n",
       "    }\n",
       "\n",
       "    .dataframe tbody tr th {\n",
       "        vertical-align: top;\n",
       "    }\n",
       "\n",
       "    .dataframe thead th {\n",
       "        text-align: right;\n",
       "    }\n",
       "</style>\n",
       "<table border=\"1\" class=\"dataframe\">\n",
       "  <thead>\n",
       "    <tr style=\"text-align: right;\">\n",
       "      <th></th>\n",
       "      <th>STATION</th>\n",
       "      <th>NAME</th>\n",
       "      <th>DATE</th>\n",
       "      <th>DAPR</th>\n",
       "      <th>MDPR</th>\n",
       "      <th>PRCP</th>\n",
       "      <th>SNOW</th>\n",
       "      <th>SNWD</th>\n",
       "      <th>WESD</th>\n",
       "      <th>WESF</th>\n",
       "    </tr>\n",
       "  </thead>\n",
       "  <tbody>\n",
       "    <tr>\n",
       "      <th>0</th>\n",
       "      <td>US1WAKG0225</td>\n",
       "      <td>SEATTLE 2.1 ESE, WA US</td>\n",
       "      <td>2018-01-01</td>\n",
       "      <td>NaN</td>\n",
       "      <td>NaN</td>\n",
       "      <td>0.00</td>\n",
       "      <td>NaN</td>\n",
       "      <td>NaN</td>\n",
       "      <td>NaN</td>\n",
       "      <td>NaN</td>\n",
       "    </tr>\n",
       "    <tr>\n",
       "      <th>1</th>\n",
       "      <td>US1WAKG0225</td>\n",
       "      <td>SEATTLE 2.1 ESE, WA US</td>\n",
       "      <td>2018-01-02</td>\n",
       "      <td>NaN</td>\n",
       "      <td>NaN</td>\n",
       "      <td>0.00</td>\n",
       "      <td>NaN</td>\n",
       "      <td>NaN</td>\n",
       "      <td>NaN</td>\n",
       "      <td>NaN</td>\n",
       "    </tr>\n",
       "    <tr>\n",
       "      <th>2</th>\n",
       "      <td>US1WAKG0225</td>\n",
       "      <td>SEATTLE 2.1 ESE, WA US</td>\n",
       "      <td>2018-01-03</td>\n",
       "      <td>NaN</td>\n",
       "      <td>NaN</td>\n",
       "      <td>0.00</td>\n",
       "      <td>NaN</td>\n",
       "      <td>NaN</td>\n",
       "      <td>NaN</td>\n",
       "      <td>NaN</td>\n",
       "    </tr>\n",
       "    <tr>\n",
       "      <th>3</th>\n",
       "      <td>US1WAKG0225</td>\n",
       "      <td>SEATTLE 2.1 ESE, WA US</td>\n",
       "      <td>2018-01-04</td>\n",
       "      <td>NaN</td>\n",
       "      <td>NaN</td>\n",
       "      <td>0.00</td>\n",
       "      <td>NaN</td>\n",
       "      <td>NaN</td>\n",
       "      <td>NaN</td>\n",
       "      <td>NaN</td>\n",
       "    </tr>\n",
       "    <tr>\n",
       "      <th>4</th>\n",
       "      <td>US1WAKG0225</td>\n",
       "      <td>SEATTLE 2.1 ESE, WA US</td>\n",
       "      <td>2018-01-05</td>\n",
       "      <td>NaN</td>\n",
       "      <td>NaN</td>\n",
       "      <td>0.25</td>\n",
       "      <td>NaN</td>\n",
       "      <td>NaN</td>\n",
       "      <td>NaN</td>\n",
       "      <td>NaN</td>\n",
       "    </tr>\n",
       "  </tbody>\n",
       "</table>\n",
       "</div>"
      ],
      "text/plain": [
       "       STATION                    NAME       DATE  DAPR  MDPR  PRCP  SNOW  \\\n",
       "0  US1WAKG0225  SEATTLE 2.1 ESE, WA US 2018-01-01   NaN   NaN  0.00   NaN   \n",
       "1  US1WAKG0225  SEATTLE 2.1 ESE, WA US 2018-01-02   NaN   NaN  0.00   NaN   \n",
       "2  US1WAKG0225  SEATTLE 2.1 ESE, WA US 2018-01-03   NaN   NaN  0.00   NaN   \n",
       "3  US1WAKG0225  SEATTLE 2.1 ESE, WA US 2018-01-04   NaN   NaN  0.00   NaN   \n",
       "4  US1WAKG0225  SEATTLE 2.1 ESE, WA US 2018-01-05   NaN   NaN  0.25   NaN   \n",
       "\n",
       "   SNWD  WESD  WESF  \n",
       "0   NaN   NaN   NaN  \n",
       "1   NaN   NaN   NaN  \n",
       "2   NaN   NaN   NaN  \n",
       "3   NaN   NaN   NaN  \n",
       "4   NaN   NaN   NaN  "
      ]
     },
     "execution_count": 37,
     "metadata": {},
     "output_type": "execute_result"
    }
   ],
   "source": [
    "df_seattle.head()"
   ]
  },
  {
   "cell_type": "markdown",
   "id": "8cb94598",
   "metadata": {},
   "source": [
    "-> In this step I am checking the three main columns that were required for analysis."
   ]
  },
  {
   "cell_type": "code",
   "execution_count": 38,
   "id": "0824fac6",
   "metadata": {},
   "outputs": [
    {
     "data": {
      "text/html": [
       "<div>\n",
       "<style scoped>\n",
       "    .dataframe tbody tr th:only-of-type {\n",
       "        vertical-align: middle;\n",
       "    }\n",
       "\n",
       "    .dataframe tbody tr th {\n",
       "        vertical-align: top;\n",
       "    }\n",
       "\n",
       "    .dataframe thead th {\n",
       "        text-align: right;\n",
       "    }\n",
       "</style>\n",
       "<table border=\"1\" class=\"dataframe\">\n",
       "  <thead>\n",
       "    <tr style=\"text-align: right;\">\n",
       "      <th></th>\n",
       "      <th>STATION</th>\n",
       "      <th>DATE</th>\n",
       "      <th>PRCP</th>\n",
       "    </tr>\n",
       "  </thead>\n",
       "  <tbody>\n",
       "    <tr>\n",
       "      <th>0</th>\n",
       "      <td>US1WAKG0225</td>\n",
       "      <td>2018-01-01</td>\n",
       "      <td>0.00</td>\n",
       "    </tr>\n",
       "    <tr>\n",
       "      <th>1</th>\n",
       "      <td>US1WAKG0225</td>\n",
       "      <td>2018-01-02</td>\n",
       "      <td>0.00</td>\n",
       "    </tr>\n",
       "    <tr>\n",
       "      <th>2</th>\n",
       "      <td>US1WAKG0225</td>\n",
       "      <td>2018-01-03</td>\n",
       "      <td>0.00</td>\n",
       "    </tr>\n",
       "    <tr>\n",
       "      <th>3</th>\n",
       "      <td>US1WAKG0225</td>\n",
       "      <td>2018-01-04</td>\n",
       "      <td>0.00</td>\n",
       "    </tr>\n",
       "    <tr>\n",
       "      <th>4</th>\n",
       "      <td>US1WAKG0225</td>\n",
       "      <td>2018-01-05</td>\n",
       "      <td>0.25</td>\n",
       "    </tr>\n",
       "    <tr>\n",
       "      <th>...</th>\n",
       "      <td>...</td>\n",
       "      <td>...</td>\n",
       "      <td>...</td>\n",
       "    </tr>\n",
       "    <tr>\n",
       "      <th>1653</th>\n",
       "      <td>US1WAKG0225</td>\n",
       "      <td>2022-12-27</td>\n",
       "      <td>0.78</td>\n",
       "    </tr>\n",
       "    <tr>\n",
       "      <th>1654</th>\n",
       "      <td>US1WAKG0225</td>\n",
       "      <td>2022-12-28</td>\n",
       "      <td>0.40</td>\n",
       "    </tr>\n",
       "    <tr>\n",
       "      <th>1655</th>\n",
       "      <td>US1WAKG0225</td>\n",
       "      <td>2022-12-29</td>\n",
       "      <td>0.03</td>\n",
       "    </tr>\n",
       "    <tr>\n",
       "      <th>1656</th>\n",
       "      <td>US1WAKG0225</td>\n",
       "      <td>2022-12-30</td>\n",
       "      <td>0.62</td>\n",
       "    </tr>\n",
       "    <tr>\n",
       "      <th>1657</th>\n",
       "      <td>US1WAKG0225</td>\n",
       "      <td>2022-12-31</td>\n",
       "      <td>0.17</td>\n",
       "    </tr>\n",
       "  </tbody>\n",
       "</table>\n",
       "<p>1658 rows × 3 columns</p>\n",
       "</div>"
      ],
      "text/plain": [
       "          STATION       DATE  PRCP\n",
       "0     US1WAKG0225 2018-01-01  0.00\n",
       "1     US1WAKG0225 2018-01-02  0.00\n",
       "2     US1WAKG0225 2018-01-03  0.00\n",
       "3     US1WAKG0225 2018-01-04  0.00\n",
       "4     US1WAKG0225 2018-01-05  0.25\n",
       "...           ...        ...   ...\n",
       "1653  US1WAKG0225 2022-12-27  0.78\n",
       "1654  US1WAKG0225 2022-12-28  0.40\n",
       "1655  US1WAKG0225 2022-12-29  0.03\n",
       "1656  US1WAKG0225 2022-12-30  0.62\n",
       "1657  US1WAKG0225 2022-12-31  0.17\n",
       "\n",
       "[1658 rows x 3 columns]"
      ]
     },
     "execution_count": 38,
     "metadata": {},
     "output_type": "execute_result"
    }
   ],
   "source": [
    "df_seattle[['STATION', 'DATE', 'PRCP']]"
   ]
  },
  {
   "cell_type": "markdown",
   "id": "ce0b04eb",
   "metadata": {},
   "source": [
    "We can get the same result using loc method, which allows selection by column names and works well for slicing."
   ]
  },
  {
   "cell_type": "markdown",
   "id": "e6c99a6a",
   "metadata": {},
   "source": [
    "-> Here > 0 checks if the precipitation is greater than 0, this creates a boolean output."
   ]
  },
  {
   "cell_type": "code",
   "execution_count": 39,
   "id": "5ab9772d",
   "metadata": {},
   "outputs": [
    {
     "data": {
      "text/plain": [
       "0       False\n",
       "1       False\n",
       "2       False\n",
       "3       False\n",
       "4        True\n",
       "        ...  \n",
       "1653     True\n",
       "1654     True\n",
       "1655     True\n",
       "1656     True\n",
       "1657     True\n",
       "Name: PRCP, Length: 1658, dtype: bool"
      ]
     },
     "execution_count": 39,
     "metadata": {},
     "output_type": "execute_result"
    }
   ],
   "source": [
    "df_seattle['PRCP'] > 0"
   ]
  },
  {
   "cell_type": "markdown",
   "id": "5d2ecd9b",
   "metadata": {},
   "source": [
    "In Python, True is treated as 1 and False as 0. So, summing a boolean series like the above code gives the count of days with precipitation. For Seattle, this sum is 841, indicating 841 rainy days in the dataset."
   ]
  },
  {
   "cell_type": "code",
   "execution_count": 40,
   "id": "09ea979b",
   "metadata": {},
   "outputs": [
    {
     "data": {
      "text/plain": [
       "841"
      ]
     },
     "execution_count": 40,
     "metadata": {},
     "output_type": "execute_result"
    }
   ],
   "source": [
    "sum(df_seattle['PRCP'] > 0)"
   ]
  },
  {
   "cell_type": "markdown",
   "id": "f00c3e7c",
   "metadata": {},
   "source": [
    "-> This acts as a filter to the dataframe, where it gives all the columns but gives only the rows of rainy days"
   ]
  },
  {
   "cell_type": "code",
   "execution_count": 41,
   "id": "5ca37ab7",
   "metadata": {},
   "outputs": [
    {
     "data": {
      "text/html": [
       "<div>\n",
       "<style scoped>\n",
       "    .dataframe tbody tr th:only-of-type {\n",
       "        vertical-align: middle;\n",
       "    }\n",
       "\n",
       "    .dataframe tbody tr th {\n",
       "        vertical-align: top;\n",
       "    }\n",
       "\n",
       "    .dataframe thead th {\n",
       "        text-align: right;\n",
       "    }\n",
       "</style>\n",
       "<table border=\"1\" class=\"dataframe\">\n",
       "  <thead>\n",
       "    <tr style=\"text-align: right;\">\n",
       "      <th></th>\n",
       "      <th>STATION</th>\n",
       "      <th>NAME</th>\n",
       "      <th>DATE</th>\n",
       "      <th>DAPR</th>\n",
       "      <th>MDPR</th>\n",
       "      <th>PRCP</th>\n",
       "      <th>SNOW</th>\n",
       "      <th>SNWD</th>\n",
       "      <th>WESD</th>\n",
       "      <th>WESF</th>\n",
       "    </tr>\n",
       "  </thead>\n",
       "  <tbody>\n",
       "    <tr>\n",
       "      <th>4</th>\n",
       "      <td>US1WAKG0225</td>\n",
       "      <td>SEATTLE 2.1 ESE, WA US</td>\n",
       "      <td>2018-01-05</td>\n",
       "      <td>NaN</td>\n",
       "      <td>NaN</td>\n",
       "      <td>0.25</td>\n",
       "      <td>NaN</td>\n",
       "      <td>NaN</td>\n",
       "      <td>NaN</td>\n",
       "      <td>NaN</td>\n",
       "    </tr>\n",
       "    <tr>\n",
       "      <th>5</th>\n",
       "      <td>US1WAKG0225</td>\n",
       "      <td>SEATTLE 2.1 ESE, WA US</td>\n",
       "      <td>2018-01-06</td>\n",
       "      <td>NaN</td>\n",
       "      <td>NaN</td>\n",
       "      <td>0.57</td>\n",
       "      <td>NaN</td>\n",
       "      <td>NaN</td>\n",
       "      <td>NaN</td>\n",
       "      <td>NaN</td>\n",
       "    </tr>\n",
       "    <tr>\n",
       "      <th>6</th>\n",
       "      <td>US1WAKG0225</td>\n",
       "      <td>SEATTLE 2.1 ESE, WA US</td>\n",
       "      <td>2018-01-07</td>\n",
       "      <td>NaN</td>\n",
       "      <td>NaN</td>\n",
       "      <td>0.23</td>\n",
       "      <td>NaN</td>\n",
       "      <td>NaN</td>\n",
       "      <td>NaN</td>\n",
       "      <td>NaN</td>\n",
       "    </tr>\n",
       "    <tr>\n",
       "      <th>7</th>\n",
       "      <td>US1WAKG0225</td>\n",
       "      <td>SEATTLE 2.1 ESE, WA US</td>\n",
       "      <td>2018-01-08</td>\n",
       "      <td>NaN</td>\n",
       "      <td>NaN</td>\n",
       "      <td>0.41</td>\n",
       "      <td>NaN</td>\n",
       "      <td>NaN</td>\n",
       "      <td>NaN</td>\n",
       "      <td>NaN</td>\n",
       "    </tr>\n",
       "    <tr>\n",
       "      <th>10</th>\n",
       "      <td>US1WAKG0225</td>\n",
       "      <td>SEATTLE 2.1 ESE, WA US</td>\n",
       "      <td>2018-03-14</td>\n",
       "      <td>NaN</td>\n",
       "      <td>NaN</td>\n",
       "      <td>0.20</td>\n",
       "      <td>NaN</td>\n",
       "      <td>NaN</td>\n",
       "      <td>NaN</td>\n",
       "      <td>NaN</td>\n",
       "    </tr>\n",
       "    <tr>\n",
       "      <th>...</th>\n",
       "      <td>...</td>\n",
       "      <td>...</td>\n",
       "      <td>...</td>\n",
       "      <td>...</td>\n",
       "      <td>...</td>\n",
       "      <td>...</td>\n",
       "      <td>...</td>\n",
       "      <td>...</td>\n",
       "      <td>...</td>\n",
       "      <td>...</td>\n",
       "    </tr>\n",
       "    <tr>\n",
       "      <th>1653</th>\n",
       "      <td>US1WAKG0225</td>\n",
       "      <td>SEATTLE 2.1 ESE, WA US</td>\n",
       "      <td>2022-12-27</td>\n",
       "      <td>NaN</td>\n",
       "      <td>NaN</td>\n",
       "      <td>0.78</td>\n",
       "      <td>NaN</td>\n",
       "      <td>NaN</td>\n",
       "      <td>NaN</td>\n",
       "      <td>NaN</td>\n",
       "    </tr>\n",
       "    <tr>\n",
       "      <th>1654</th>\n",
       "      <td>US1WAKG0225</td>\n",
       "      <td>SEATTLE 2.1 ESE, WA US</td>\n",
       "      <td>2022-12-28</td>\n",
       "      <td>NaN</td>\n",
       "      <td>NaN</td>\n",
       "      <td>0.40</td>\n",
       "      <td>NaN</td>\n",
       "      <td>NaN</td>\n",
       "      <td>NaN</td>\n",
       "      <td>NaN</td>\n",
       "    </tr>\n",
       "    <tr>\n",
       "      <th>1655</th>\n",
       "      <td>US1WAKG0225</td>\n",
       "      <td>SEATTLE 2.1 ESE, WA US</td>\n",
       "      <td>2022-12-29</td>\n",
       "      <td>NaN</td>\n",
       "      <td>NaN</td>\n",
       "      <td>0.03</td>\n",
       "      <td>NaN</td>\n",
       "      <td>NaN</td>\n",
       "      <td>NaN</td>\n",
       "      <td>NaN</td>\n",
       "    </tr>\n",
       "    <tr>\n",
       "      <th>1656</th>\n",
       "      <td>US1WAKG0225</td>\n",
       "      <td>SEATTLE 2.1 ESE, WA US</td>\n",
       "      <td>2022-12-30</td>\n",
       "      <td>NaN</td>\n",
       "      <td>NaN</td>\n",
       "      <td>0.62</td>\n",
       "      <td>NaN</td>\n",
       "      <td>NaN</td>\n",
       "      <td>NaN</td>\n",
       "      <td>NaN</td>\n",
       "    </tr>\n",
       "    <tr>\n",
       "      <th>1657</th>\n",
       "      <td>US1WAKG0225</td>\n",
       "      <td>SEATTLE 2.1 ESE, WA US</td>\n",
       "      <td>2022-12-31</td>\n",
       "      <td>NaN</td>\n",
       "      <td>NaN</td>\n",
       "      <td>0.17</td>\n",
       "      <td>NaN</td>\n",
       "      <td>NaN</td>\n",
       "      <td>NaN</td>\n",
       "      <td>NaN</td>\n",
       "    </tr>\n",
       "  </tbody>\n",
       "</table>\n",
       "<p>841 rows × 10 columns</p>\n",
       "</div>"
      ],
      "text/plain": [
       "          STATION                    NAME       DATE  DAPR  MDPR  PRCP  SNOW  \\\n",
       "4     US1WAKG0225  SEATTLE 2.1 ESE, WA US 2018-01-05   NaN   NaN  0.25   NaN   \n",
       "5     US1WAKG0225  SEATTLE 2.1 ESE, WA US 2018-01-06   NaN   NaN  0.57   NaN   \n",
       "6     US1WAKG0225  SEATTLE 2.1 ESE, WA US 2018-01-07   NaN   NaN  0.23   NaN   \n",
       "7     US1WAKG0225  SEATTLE 2.1 ESE, WA US 2018-01-08   NaN   NaN  0.41   NaN   \n",
       "10    US1WAKG0225  SEATTLE 2.1 ESE, WA US 2018-03-14   NaN   NaN  0.20   NaN   \n",
       "...           ...                     ...        ...   ...   ...   ...   ...   \n",
       "1653  US1WAKG0225  SEATTLE 2.1 ESE, WA US 2022-12-27   NaN   NaN  0.78   NaN   \n",
       "1654  US1WAKG0225  SEATTLE 2.1 ESE, WA US 2022-12-28   NaN   NaN  0.40   NaN   \n",
       "1655  US1WAKG0225  SEATTLE 2.1 ESE, WA US 2022-12-29   NaN   NaN  0.03   NaN   \n",
       "1656  US1WAKG0225  SEATTLE 2.1 ESE, WA US 2022-12-30   NaN   NaN  0.62   NaN   \n",
       "1657  US1WAKG0225  SEATTLE 2.1 ESE, WA US 2022-12-31   NaN   NaN  0.17   NaN   \n",
       "\n",
       "      SNWD  WESD  WESF  \n",
       "4      NaN   NaN   NaN  \n",
       "5      NaN   NaN   NaN  \n",
       "6      NaN   NaN   NaN  \n",
       "7      NaN   NaN   NaN  \n",
       "10     NaN   NaN   NaN  \n",
       "...    ...   ...   ...  \n",
       "1653   NaN   NaN   NaN  \n",
       "1654   NaN   NaN   NaN  \n",
       "1655   NaN   NaN   NaN  \n",
       "1656   NaN   NaN   NaN  \n",
       "1657   NaN   NaN   NaN  \n",
       "\n",
       "[841 rows x 10 columns]"
      ]
     },
     "execution_count": 41,
     "metadata": {},
     "output_type": "execute_result"
    }
   ],
   "source": [
    "df_seattle[df_seattle['PRCP'] > 0]"
   ]
  },
  {
   "cell_type": "markdown",
   "id": "2a74e791",
   "metadata": {},
   "source": [
    "This returns all rows where the precipitation is greater than 0, showing only rainy days in the Seattle dataset."
   ]
  },
  {
   "cell_type": "markdown",
   "id": "51d65447",
   "metadata": {},
   "source": [
    "-> Here, greater than equal to 0.5 creates a boolean series to check if precipiation is greater than equal to 0.5, and precp less than or equal to 0.75 the and operator here combines the both conditions"
   ]
  },
  {
   "cell_type": "code",
   "execution_count": 42,
   "id": "7e7d14b9",
   "metadata": {},
   "outputs": [
    {
     "data": {
      "text/html": [
       "<div>\n",
       "<style scoped>\n",
       "    .dataframe tbody tr th:only-of-type {\n",
       "        vertical-align: middle;\n",
       "    }\n",
       "\n",
       "    .dataframe tbody tr th {\n",
       "        vertical-align: top;\n",
       "    }\n",
       "\n",
       "    .dataframe thead th {\n",
       "        text-align: right;\n",
       "    }\n",
       "</style>\n",
       "<table border=\"1\" class=\"dataframe\">\n",
       "  <thead>\n",
       "    <tr style=\"text-align: right;\">\n",
       "      <th></th>\n",
       "      <th>STATION</th>\n",
       "      <th>NAME</th>\n",
       "      <th>DATE</th>\n",
       "      <th>DAPR</th>\n",
       "      <th>MDPR</th>\n",
       "      <th>PRCP</th>\n",
       "      <th>SNOW</th>\n",
       "      <th>SNWD</th>\n",
       "      <th>WESD</th>\n",
       "      <th>WESF</th>\n",
       "    </tr>\n",
       "  </thead>\n",
       "  <tbody>\n",
       "    <tr>\n",
       "      <th>5</th>\n",
       "      <td>US1WAKG0225</td>\n",
       "      <td>SEATTLE 2.1 ESE, WA US</td>\n",
       "      <td>2018-01-06</td>\n",
       "      <td>NaN</td>\n",
       "      <td>NaN</td>\n",
       "      <td>0.57</td>\n",
       "      <td>NaN</td>\n",
       "      <td>NaN</td>\n",
       "      <td>NaN</td>\n",
       "      <td>NaN</td>\n",
       "    </tr>\n",
       "    <tr>\n",
       "      <th>20</th>\n",
       "      <td>US1WAKG0225</td>\n",
       "      <td>SEATTLE 2.1 ESE, WA US</td>\n",
       "      <td>2018-03-24</td>\n",
       "      <td>NaN</td>\n",
       "      <td>NaN</td>\n",
       "      <td>0.63</td>\n",
       "      <td>NaN</td>\n",
       "      <td>NaN</td>\n",
       "      <td>NaN</td>\n",
       "      <td>NaN</td>\n",
       "    </tr>\n",
       "    <tr>\n",
       "      <th>35</th>\n",
       "      <td>US1WAKG0225</td>\n",
       "      <td>SEATTLE 2.1 ESE, WA US</td>\n",
       "      <td>2018-04-08</td>\n",
       "      <td>NaN</td>\n",
       "      <td>NaN</td>\n",
       "      <td>0.55</td>\n",
       "      <td>NaN</td>\n",
       "      <td>NaN</td>\n",
       "      <td>NaN</td>\n",
       "      <td>NaN</td>\n",
       "    </tr>\n",
       "    <tr>\n",
       "      <th>41</th>\n",
       "      <td>US1WAKG0225</td>\n",
       "      <td>SEATTLE 2.1 ESE, WA US</td>\n",
       "      <td>2018-04-14</td>\n",
       "      <td>NaN</td>\n",
       "      <td>NaN</td>\n",
       "      <td>0.68</td>\n",
       "      <td>NaN</td>\n",
       "      <td>NaN</td>\n",
       "      <td>NaN</td>\n",
       "      <td>NaN</td>\n",
       "    </tr>\n",
       "    <tr>\n",
       "      <th>271</th>\n",
       "      <td>US1WAKG0225</td>\n",
       "      <td>SEATTLE 2.1 ESE, WA US</td>\n",
       "      <td>2018-12-10</td>\n",
       "      <td>NaN</td>\n",
       "      <td>NaN</td>\n",
       "      <td>0.56</td>\n",
       "      <td>NaN</td>\n",
       "      <td>NaN</td>\n",
       "      <td>NaN</td>\n",
       "      <td>NaN</td>\n",
       "    </tr>\n",
       "    <tr>\n",
       "      <th>296</th>\n",
       "      <td>US1WAKG0225</td>\n",
       "      <td>SEATTLE 2.1 ESE, WA US</td>\n",
       "      <td>2019-01-04</td>\n",
       "      <td>NaN</td>\n",
       "      <td>NaN</td>\n",
       "      <td>0.55</td>\n",
       "      <td>NaN</td>\n",
       "      <td>NaN</td>\n",
       "      <td>NaN</td>\n",
       "      <td>NaN</td>\n",
       "    </tr>\n",
       "    <tr>\n",
       "      <th>313</th>\n",
       "      <td>US1WAKG0225</td>\n",
       "      <td>SEATTLE 2.1 ESE, WA US</td>\n",
       "      <td>2019-01-23</td>\n",
       "      <td>NaN</td>\n",
       "      <td>NaN</td>\n",
       "      <td>0.70</td>\n",
       "      <td>NaN</td>\n",
       "      <td>NaN</td>\n",
       "      <td>NaN</td>\n",
       "      <td>NaN</td>\n",
       "    </tr>\n",
       "    <tr>\n",
       "      <th>331</th>\n",
       "      <td>US1WAKG0225</td>\n",
       "      <td>SEATTLE 2.1 ESE, WA US</td>\n",
       "      <td>2019-02-11</td>\n",
       "      <td>NaN</td>\n",
       "      <td>NaN</td>\n",
       "      <td>0.70</td>\n",
       "      <td>4.0</td>\n",
       "      <td>NaN</td>\n",
       "      <td>NaN</td>\n",
       "      <td>NaN</td>\n",
       "    </tr>\n",
       "    <tr>\n",
       "      <th>419</th>\n",
       "      <td>US1WAKG0225</td>\n",
       "      <td>SEATTLE 2.1 ESE, WA US</td>\n",
       "      <td>2019-05-17</td>\n",
       "      <td>NaN</td>\n",
       "      <td>NaN</td>\n",
       "      <td>0.60</td>\n",
       "      <td>NaN</td>\n",
       "      <td>NaN</td>\n",
       "      <td>NaN</td>\n",
       "      <td>NaN</td>\n",
       "    </tr>\n",
       "    <tr>\n",
       "      <th>472</th>\n",
       "      <td>US1WAKG0225</td>\n",
       "      <td>SEATTLE 2.1 ESE, WA US</td>\n",
       "      <td>2019-07-19</td>\n",
       "      <td>NaN</td>\n",
       "      <td>NaN</td>\n",
       "      <td>0.62</td>\n",
       "      <td>NaN</td>\n",
       "      <td>NaN</td>\n",
       "      <td>NaN</td>\n",
       "      <td>NaN</td>\n",
       "    </tr>\n",
       "    <tr>\n",
       "      <th>517</th>\n",
       "      <td>US1WAKG0225</td>\n",
       "      <td>SEATTLE 2.1 ESE, WA US</td>\n",
       "      <td>2019-09-08</td>\n",
       "      <td>NaN</td>\n",
       "      <td>NaN</td>\n",
       "      <td>0.61</td>\n",
       "      <td>NaN</td>\n",
       "      <td>NaN</td>\n",
       "      <td>NaN</td>\n",
       "      <td>NaN</td>\n",
       "    </tr>\n",
       "    <tr>\n",
       "      <th>519</th>\n",
       "      <td>US1WAKG0225</td>\n",
       "      <td>SEATTLE 2.1 ESE, WA US</td>\n",
       "      <td>2019-09-10</td>\n",
       "      <td>NaN</td>\n",
       "      <td>NaN</td>\n",
       "      <td>0.55</td>\n",
       "      <td>NaN</td>\n",
       "      <td>NaN</td>\n",
       "      <td>NaN</td>\n",
       "      <td>NaN</td>\n",
       "    </tr>\n",
       "    <tr>\n",
       "      <th>589</th>\n",
       "      <td>US1WAKG0225</td>\n",
       "      <td>SEATTLE 2.1 ESE, WA US</td>\n",
       "      <td>2019-11-19</td>\n",
       "      <td>NaN</td>\n",
       "      <td>NaN</td>\n",
       "      <td>0.73</td>\n",
       "      <td>NaN</td>\n",
       "      <td>NaN</td>\n",
       "      <td>NaN</td>\n",
       "      <td>NaN</td>\n",
       "    </tr>\n",
       "    <tr>\n",
       "      <th>658</th>\n",
       "      <td>US1WAKG0225</td>\n",
       "      <td>SEATTLE 2.1 ESE, WA US</td>\n",
       "      <td>2020-02-05</td>\n",
       "      <td>NaN</td>\n",
       "      <td>NaN</td>\n",
       "      <td>0.69</td>\n",
       "      <td>0.0</td>\n",
       "      <td>NaN</td>\n",
       "      <td>NaN</td>\n",
       "      <td>NaN</td>\n",
       "    </tr>\n",
       "    <tr>\n",
       "      <th>660</th>\n",
       "      <td>US1WAKG0225</td>\n",
       "      <td>SEATTLE 2.1 ESE, WA US</td>\n",
       "      <td>2020-02-07</td>\n",
       "      <td>NaN</td>\n",
       "      <td>NaN</td>\n",
       "      <td>0.58</td>\n",
       "      <td>NaN</td>\n",
       "      <td>NaN</td>\n",
       "      <td>NaN</td>\n",
       "      <td>NaN</td>\n",
       "    </tr>\n",
       "    <tr>\n",
       "      <th>678</th>\n",
       "      <td>US1WAKG0225</td>\n",
       "      <td>SEATTLE 2.1 ESE, WA US</td>\n",
       "      <td>2020-03-06</td>\n",
       "      <td>NaN</td>\n",
       "      <td>NaN</td>\n",
       "      <td>0.71</td>\n",
       "      <td>NaN</td>\n",
       "      <td>NaN</td>\n",
       "      <td>NaN</td>\n",
       "      <td>NaN</td>\n",
       "    </tr>\n",
       "    <tr>\n",
       "      <th>701</th>\n",
       "      <td>US1WAKG0225</td>\n",
       "      <td>SEATTLE 2.1 ESE, WA US</td>\n",
       "      <td>2020-03-29</td>\n",
       "      <td>NaN</td>\n",
       "      <td>NaN</td>\n",
       "      <td>0.64</td>\n",
       "      <td>NaN</td>\n",
       "      <td>NaN</td>\n",
       "      <td>NaN</td>\n",
       "      <td>NaN</td>\n",
       "    </tr>\n",
       "    <tr>\n",
       "      <th>750</th>\n",
       "      <td>US1WAKG0225</td>\n",
       "      <td>SEATTLE 2.1 ESE, WA US</td>\n",
       "      <td>2020-05-17</td>\n",
       "      <td>NaN</td>\n",
       "      <td>NaN</td>\n",
       "      <td>0.66</td>\n",
       "      <td>NaN</td>\n",
       "      <td>NaN</td>\n",
       "      <td>NaN</td>\n",
       "      <td>NaN</td>\n",
       "    </tr>\n",
       "    <tr>\n",
       "      <th>792</th>\n",
       "      <td>US1WAKG0225</td>\n",
       "      <td>SEATTLE 2.1 ESE, WA US</td>\n",
       "      <td>2020-06-28</td>\n",
       "      <td>NaN</td>\n",
       "      <td>NaN</td>\n",
       "      <td>0.54</td>\n",
       "      <td>NaN</td>\n",
       "      <td>NaN</td>\n",
       "      <td>NaN</td>\n",
       "      <td>NaN</td>\n",
       "    </tr>\n",
       "    <tr>\n",
       "      <th>889</th>\n",
       "      <td>US1WAKG0225</td>\n",
       "      <td>SEATTLE 2.1 ESE, WA US</td>\n",
       "      <td>2020-10-12</td>\n",
       "      <td>NaN</td>\n",
       "      <td>NaN</td>\n",
       "      <td>0.58</td>\n",
       "      <td>NaN</td>\n",
       "      <td>NaN</td>\n",
       "      <td>NaN</td>\n",
       "      <td>NaN</td>\n",
       "    </tr>\n",
       "    <tr>\n",
       "      <th>890</th>\n",
       "      <td>US1WAKG0225</td>\n",
       "      <td>SEATTLE 2.1 ESE, WA US</td>\n",
       "      <td>2020-10-13</td>\n",
       "      <td>NaN</td>\n",
       "      <td>NaN</td>\n",
       "      <td>0.61</td>\n",
       "      <td>NaN</td>\n",
       "      <td>NaN</td>\n",
       "      <td>NaN</td>\n",
       "      <td>NaN</td>\n",
       "    </tr>\n",
       "    <tr>\n",
       "      <th>925</th>\n",
       "      <td>US1WAKG0225</td>\n",
       "      <td>SEATTLE 2.1 ESE, WA US</td>\n",
       "      <td>2020-11-17</td>\n",
       "      <td>NaN</td>\n",
       "      <td>NaN</td>\n",
       "      <td>0.64</td>\n",
       "      <td>NaN</td>\n",
       "      <td>NaN</td>\n",
       "      <td>NaN</td>\n",
       "      <td>NaN</td>\n",
       "    </tr>\n",
       "    <tr>\n",
       "      <th>926</th>\n",
       "      <td>US1WAKG0225</td>\n",
       "      <td>SEATTLE 2.1 ESE, WA US</td>\n",
       "      <td>2020-11-18</td>\n",
       "      <td>NaN</td>\n",
       "      <td>NaN</td>\n",
       "      <td>0.55</td>\n",
       "      <td>NaN</td>\n",
       "      <td>NaN</td>\n",
       "      <td>NaN</td>\n",
       "      <td>NaN</td>\n",
       "    </tr>\n",
       "    <tr>\n",
       "      <th>947</th>\n",
       "      <td>US1WAKG0225</td>\n",
       "      <td>SEATTLE 2.1 ESE, WA US</td>\n",
       "      <td>2020-12-09</td>\n",
       "      <td>NaN</td>\n",
       "      <td>NaN</td>\n",
       "      <td>0.58</td>\n",
       "      <td>NaN</td>\n",
       "      <td>NaN</td>\n",
       "      <td>NaN</td>\n",
       "      <td>NaN</td>\n",
       "    </tr>\n",
       "    <tr>\n",
       "      <th>955</th>\n",
       "      <td>US1WAKG0225</td>\n",
       "      <td>SEATTLE 2.1 ESE, WA US</td>\n",
       "      <td>2020-12-17</td>\n",
       "      <td>NaN</td>\n",
       "      <td>NaN</td>\n",
       "      <td>0.52</td>\n",
       "      <td>NaN</td>\n",
       "      <td>NaN</td>\n",
       "      <td>NaN</td>\n",
       "      <td>NaN</td>\n",
       "    </tr>\n",
       "    <tr>\n",
       "      <th>959</th>\n",
       "      <td>US1WAKG0225</td>\n",
       "      <td>SEATTLE 2.1 ESE, WA US</td>\n",
       "      <td>2020-12-21</td>\n",
       "      <td>NaN</td>\n",
       "      <td>NaN</td>\n",
       "      <td>0.64</td>\n",
       "      <td>NaN</td>\n",
       "      <td>NaN</td>\n",
       "      <td>NaN</td>\n",
       "      <td>NaN</td>\n",
       "    </tr>\n",
       "    <tr>\n",
       "      <th>969</th>\n",
       "      <td>US1WAKG0225</td>\n",
       "      <td>SEATTLE 2.1 ESE, WA US</td>\n",
       "      <td>2020-12-31</td>\n",
       "      <td>NaN</td>\n",
       "      <td>NaN</td>\n",
       "      <td>0.50</td>\n",
       "      <td>NaN</td>\n",
       "      <td>NaN</td>\n",
       "      <td>NaN</td>\n",
       "      <td>NaN</td>\n",
       "    </tr>\n",
       "    <tr>\n",
       "      <th>973</th>\n",
       "      <td>US1WAKG0225</td>\n",
       "      <td>SEATTLE 2.1 ESE, WA US</td>\n",
       "      <td>2021-01-04</td>\n",
       "      <td>NaN</td>\n",
       "      <td>NaN</td>\n",
       "      <td>0.65</td>\n",
       "      <td>NaN</td>\n",
       "      <td>NaN</td>\n",
       "      <td>NaN</td>\n",
       "      <td>NaN</td>\n",
       "    </tr>\n",
       "    <tr>\n",
       "      <th>1002</th>\n",
       "      <td>US1WAKG0225</td>\n",
       "      <td>SEATTLE 2.1 ESE, WA US</td>\n",
       "      <td>2021-02-02</td>\n",
       "      <td>NaN</td>\n",
       "      <td>NaN</td>\n",
       "      <td>0.72</td>\n",
       "      <td>NaN</td>\n",
       "      <td>NaN</td>\n",
       "      <td>NaN</td>\n",
       "      <td>NaN</td>\n",
       "    </tr>\n",
       "    <tr>\n",
       "      <th>1015</th>\n",
       "      <td>US1WAKG0225</td>\n",
       "      <td>SEATTLE 2.1 ESE, WA US</td>\n",
       "      <td>2021-02-15</td>\n",
       "      <td>NaN</td>\n",
       "      <td>NaN</td>\n",
       "      <td>0.60</td>\n",
       "      <td>1.0</td>\n",
       "      <td>8.0</td>\n",
       "      <td>1.8</td>\n",
       "      <td>NaN</td>\n",
       "    </tr>\n",
       "    <tr>\n",
       "      <th>1069</th>\n",
       "      <td>US1WAKG0225</td>\n",
       "      <td>SEATTLE 2.1 ESE, WA US</td>\n",
       "      <td>2021-04-25</td>\n",
       "      <td>NaN</td>\n",
       "      <td>NaN</td>\n",
       "      <td>0.50</td>\n",
       "      <td>NaN</td>\n",
       "      <td>NaN</td>\n",
       "      <td>NaN</td>\n",
       "      <td>NaN</td>\n",
       "    </tr>\n",
       "    <tr>\n",
       "      <th>1112</th>\n",
       "      <td>US1WAKG0225</td>\n",
       "      <td>SEATTLE 2.1 ESE, WA US</td>\n",
       "      <td>2021-06-07</td>\n",
       "      <td>NaN</td>\n",
       "      <td>NaN</td>\n",
       "      <td>0.73</td>\n",
       "      <td>NaN</td>\n",
       "      <td>NaN</td>\n",
       "      <td>NaN</td>\n",
       "      <td>NaN</td>\n",
       "    </tr>\n",
       "    <tr>\n",
       "      <th>1119</th>\n",
       "      <td>US1WAKG0225</td>\n",
       "      <td>SEATTLE 2.1 ESE, WA US</td>\n",
       "      <td>2021-06-14</td>\n",
       "      <td>NaN</td>\n",
       "      <td>NaN</td>\n",
       "      <td>0.60</td>\n",
       "      <td>NaN</td>\n",
       "      <td>NaN</td>\n",
       "      <td>NaN</td>\n",
       "      <td>NaN</td>\n",
       "    </tr>\n",
       "    <tr>\n",
       "      <th>1206</th>\n",
       "      <td>US1WAKG0225</td>\n",
       "      <td>SEATTLE 2.1 ESE, WA US</td>\n",
       "      <td>2021-09-27</td>\n",
       "      <td>NaN</td>\n",
       "      <td>NaN</td>\n",
       "      <td>0.71</td>\n",
       "      <td>NaN</td>\n",
       "      <td>NaN</td>\n",
       "      <td>NaN</td>\n",
       "      <td>NaN</td>\n",
       "    </tr>\n",
       "    <tr>\n",
       "      <th>1231</th>\n",
       "      <td>US1WAKG0225</td>\n",
       "      <td>SEATTLE 2.1 ESE, WA US</td>\n",
       "      <td>2021-10-22</td>\n",
       "      <td>NaN</td>\n",
       "      <td>NaN</td>\n",
       "      <td>0.64</td>\n",
       "      <td>NaN</td>\n",
       "      <td>NaN</td>\n",
       "      <td>NaN</td>\n",
       "      <td>NaN</td>\n",
       "    </tr>\n",
       "    <tr>\n",
       "      <th>1244</th>\n",
       "      <td>US1WAKG0225</td>\n",
       "      <td>SEATTLE 2.1 ESE, WA US</td>\n",
       "      <td>2021-11-04</td>\n",
       "      <td>NaN</td>\n",
       "      <td>NaN</td>\n",
       "      <td>0.61</td>\n",
       "      <td>NaN</td>\n",
       "      <td>NaN</td>\n",
       "      <td>NaN</td>\n",
       "      <td>NaN</td>\n",
       "    </tr>\n",
       "    <tr>\n",
       "      <th>1245</th>\n",
       "      <td>US1WAKG0225</td>\n",
       "      <td>SEATTLE 2.1 ESE, WA US</td>\n",
       "      <td>2021-11-05</td>\n",
       "      <td>NaN</td>\n",
       "      <td>NaN</td>\n",
       "      <td>0.57</td>\n",
       "      <td>NaN</td>\n",
       "      <td>NaN</td>\n",
       "      <td>NaN</td>\n",
       "      <td>NaN</td>\n",
       "    </tr>\n",
       "    <tr>\n",
       "      <th>1247</th>\n",
       "      <td>US1WAKG0225</td>\n",
       "      <td>SEATTLE 2.1 ESE, WA US</td>\n",
       "      <td>2021-11-07</td>\n",
       "      <td>NaN</td>\n",
       "      <td>NaN</td>\n",
       "      <td>0.64</td>\n",
       "      <td>NaN</td>\n",
       "      <td>NaN</td>\n",
       "      <td>NaN</td>\n",
       "      <td>NaN</td>\n",
       "    </tr>\n",
       "    <tr>\n",
       "      <th>1254</th>\n",
       "      <td>US1WAKG0225</td>\n",
       "      <td>SEATTLE 2.1 ESE, WA US</td>\n",
       "      <td>2021-11-14</td>\n",
       "      <td>NaN</td>\n",
       "      <td>NaN</td>\n",
       "      <td>0.59</td>\n",
       "      <td>NaN</td>\n",
       "      <td>NaN</td>\n",
       "      <td>NaN</td>\n",
       "      <td>NaN</td>\n",
       "    </tr>\n",
       "    <tr>\n",
       "      <th>1255</th>\n",
       "      <td>US1WAKG0225</td>\n",
       "      <td>SEATTLE 2.1 ESE, WA US</td>\n",
       "      <td>2021-11-15</td>\n",
       "      <td>NaN</td>\n",
       "      <td>NaN</td>\n",
       "      <td>0.59</td>\n",
       "      <td>NaN</td>\n",
       "      <td>NaN</td>\n",
       "      <td>NaN</td>\n",
       "      <td>NaN</td>\n",
       "    </tr>\n",
       "    <tr>\n",
       "      <th>1259</th>\n",
       "      <td>US1WAKG0225</td>\n",
       "      <td>SEATTLE 2.1 ESE, WA US</td>\n",
       "      <td>2021-11-19</td>\n",
       "      <td>NaN</td>\n",
       "      <td>NaN</td>\n",
       "      <td>0.52</td>\n",
       "      <td>NaN</td>\n",
       "      <td>NaN</td>\n",
       "      <td>NaN</td>\n",
       "      <td>NaN</td>\n",
       "    </tr>\n",
       "    <tr>\n",
       "      <th>1263</th>\n",
       "      <td>US1WAKG0225</td>\n",
       "      <td>SEATTLE 2.1 ESE, WA US</td>\n",
       "      <td>2021-11-23</td>\n",
       "      <td>NaN</td>\n",
       "      <td>NaN</td>\n",
       "      <td>0.53</td>\n",
       "      <td>NaN</td>\n",
       "      <td>NaN</td>\n",
       "      <td>NaN</td>\n",
       "      <td>NaN</td>\n",
       "    </tr>\n",
       "    <tr>\n",
       "      <th>1266</th>\n",
       "      <td>US1WAKG0225</td>\n",
       "      <td>SEATTLE 2.1 ESE, WA US</td>\n",
       "      <td>2021-11-26</td>\n",
       "      <td>NaN</td>\n",
       "      <td>NaN</td>\n",
       "      <td>0.55</td>\n",
       "      <td>NaN</td>\n",
       "      <td>NaN</td>\n",
       "      <td>NaN</td>\n",
       "      <td>NaN</td>\n",
       "    </tr>\n",
       "    <tr>\n",
       "      <th>1288</th>\n",
       "      <td>US1WAKG0225</td>\n",
       "      <td>SEATTLE 2.1 ESE, WA US</td>\n",
       "      <td>2021-12-18</td>\n",
       "      <td>NaN</td>\n",
       "      <td>NaN</td>\n",
       "      <td>0.54</td>\n",
       "      <td>NaN</td>\n",
       "      <td>NaN</td>\n",
       "      <td>NaN</td>\n",
       "      <td>NaN</td>\n",
       "    </tr>\n",
       "    <tr>\n",
       "      <th>1293</th>\n",
       "      <td>US1WAKG0225</td>\n",
       "      <td>SEATTLE 2.1 ESE, WA US</td>\n",
       "      <td>2021-12-23</td>\n",
       "      <td>NaN</td>\n",
       "      <td>NaN</td>\n",
       "      <td>0.56</td>\n",
       "      <td>NaN</td>\n",
       "      <td>NaN</td>\n",
       "      <td>NaN</td>\n",
       "      <td>NaN</td>\n",
       "    </tr>\n",
       "    <tr>\n",
       "      <th>1309</th>\n",
       "      <td>US1WAKG0225</td>\n",
       "      <td>SEATTLE 2.1 ESE, WA US</td>\n",
       "      <td>2022-01-08</td>\n",
       "      <td>NaN</td>\n",
       "      <td>NaN</td>\n",
       "      <td>0.62</td>\n",
       "      <td>NaN</td>\n",
       "      <td>NaN</td>\n",
       "      <td>NaN</td>\n",
       "      <td>NaN</td>\n",
       "    </tr>\n",
       "    <tr>\n",
       "      <th>1312</th>\n",
       "      <td>US1WAKG0225</td>\n",
       "      <td>SEATTLE 2.1 ESE, WA US</td>\n",
       "      <td>2022-01-11</td>\n",
       "      <td>NaN</td>\n",
       "      <td>NaN</td>\n",
       "      <td>0.70</td>\n",
       "      <td>NaN</td>\n",
       "      <td>NaN</td>\n",
       "      <td>NaN</td>\n",
       "      <td>NaN</td>\n",
       "    </tr>\n",
       "    <tr>\n",
       "      <th>1313</th>\n",
       "      <td>US1WAKG0225</td>\n",
       "      <td>SEATTLE 2.1 ESE, WA US</td>\n",
       "      <td>2022-01-12</td>\n",
       "      <td>NaN</td>\n",
       "      <td>NaN</td>\n",
       "      <td>0.52</td>\n",
       "      <td>NaN</td>\n",
       "      <td>NaN</td>\n",
       "      <td>NaN</td>\n",
       "      <td>NaN</td>\n",
       "    </tr>\n",
       "    <tr>\n",
       "      <th>1359</th>\n",
       "      <td>US1WAKG0225</td>\n",
       "      <td>SEATTLE 2.1 ESE, WA US</td>\n",
       "      <td>2022-02-27</td>\n",
       "      <td>NaN</td>\n",
       "      <td>NaN</td>\n",
       "      <td>0.61</td>\n",
       "      <td>NaN</td>\n",
       "      <td>NaN</td>\n",
       "      <td>NaN</td>\n",
       "      <td>NaN</td>\n",
       "    </tr>\n",
       "    <tr>\n",
       "      <th>1375</th>\n",
       "      <td>US1WAKG0225</td>\n",
       "      <td>SEATTLE 2.1 ESE, WA US</td>\n",
       "      <td>2022-03-15</td>\n",
       "      <td>NaN</td>\n",
       "      <td>NaN</td>\n",
       "      <td>0.52</td>\n",
       "      <td>NaN</td>\n",
       "      <td>NaN</td>\n",
       "      <td>NaN</td>\n",
       "      <td>NaN</td>\n",
       "    </tr>\n",
       "    <tr>\n",
       "      <th>1419</th>\n",
       "      <td>US1WAKG0225</td>\n",
       "      <td>SEATTLE 2.1 ESE, WA US</td>\n",
       "      <td>2022-05-07</td>\n",
       "      <td>NaN</td>\n",
       "      <td>NaN</td>\n",
       "      <td>0.55</td>\n",
       "      <td>NaN</td>\n",
       "      <td>NaN</td>\n",
       "      <td>NaN</td>\n",
       "      <td>NaN</td>\n",
       "    </tr>\n",
       "    <tr>\n",
       "      <th>1428</th>\n",
       "      <td>US1WAKG0225</td>\n",
       "      <td>SEATTLE 2.1 ESE, WA US</td>\n",
       "      <td>2022-05-16</td>\n",
       "      <td>NaN</td>\n",
       "      <td>NaN</td>\n",
       "      <td>0.66</td>\n",
       "      <td>NaN</td>\n",
       "      <td>NaN</td>\n",
       "      <td>NaN</td>\n",
       "      <td>NaN</td>\n",
       "    </tr>\n",
       "    <tr>\n",
       "      <th>1448</th>\n",
       "      <td>US1WAKG0225</td>\n",
       "      <td>SEATTLE 2.1 ESE, WA US</td>\n",
       "      <td>2022-06-05</td>\n",
       "      <td>NaN</td>\n",
       "      <td>NaN</td>\n",
       "      <td>0.61</td>\n",
       "      <td>NaN</td>\n",
       "      <td>NaN</td>\n",
       "      <td>NaN</td>\n",
       "      <td>NaN</td>\n",
       "    </tr>\n",
       "    <tr>\n",
       "      <th>1593</th>\n",
       "      <td>US1WAKG0225</td>\n",
       "      <td>SEATTLE 2.1 ESE, WA US</td>\n",
       "      <td>2022-10-28</td>\n",
       "      <td>NaN</td>\n",
       "      <td>NaN</td>\n",
       "      <td>0.58</td>\n",
       "      <td>NaN</td>\n",
       "      <td>NaN</td>\n",
       "      <td>NaN</td>\n",
       "      <td>NaN</td>\n",
       "    </tr>\n",
       "    <tr>\n",
       "      <th>1622</th>\n",
       "      <td>US1WAKG0225</td>\n",
       "      <td>SEATTLE 2.1 ESE, WA US</td>\n",
       "      <td>2022-11-26</td>\n",
       "      <td>NaN</td>\n",
       "      <td>NaN</td>\n",
       "      <td>0.70</td>\n",
       "      <td>NaN</td>\n",
       "      <td>NaN</td>\n",
       "      <td>NaN</td>\n",
       "      <td>NaN</td>\n",
       "    </tr>\n",
       "    <tr>\n",
       "      <th>1629</th>\n",
       "      <td>US1WAKG0225</td>\n",
       "      <td>SEATTLE 2.1 ESE, WA US</td>\n",
       "      <td>2022-12-03</td>\n",
       "      <td>NaN</td>\n",
       "      <td>NaN</td>\n",
       "      <td>0.72</td>\n",
       "      <td>2.0</td>\n",
       "      <td>1.5</td>\n",
       "      <td>NaN</td>\n",
       "      <td>NaN</td>\n",
       "    </tr>\n",
       "    <tr>\n",
       "      <th>1650</th>\n",
       "      <td>US1WAKG0225</td>\n",
       "      <td>SEATTLE 2.1 ESE, WA US</td>\n",
       "      <td>2022-12-24</td>\n",
       "      <td>NaN</td>\n",
       "      <td>NaN</td>\n",
       "      <td>0.52</td>\n",
       "      <td>0.0</td>\n",
       "      <td>0.0</td>\n",
       "      <td>NaN</td>\n",
       "      <td>NaN</td>\n",
       "    </tr>\n",
       "    <tr>\n",
       "      <th>1656</th>\n",
       "      <td>US1WAKG0225</td>\n",
       "      <td>SEATTLE 2.1 ESE, WA US</td>\n",
       "      <td>2022-12-30</td>\n",
       "      <td>NaN</td>\n",
       "      <td>NaN</td>\n",
       "      <td>0.62</td>\n",
       "      <td>NaN</td>\n",
       "      <td>NaN</td>\n",
       "      <td>NaN</td>\n",
       "      <td>NaN</td>\n",
       "    </tr>\n",
       "  </tbody>\n",
       "</table>\n",
       "</div>"
      ],
      "text/plain": [
       "          STATION                    NAME       DATE  DAPR  MDPR  PRCP  SNOW  \\\n",
       "5     US1WAKG0225  SEATTLE 2.1 ESE, WA US 2018-01-06   NaN   NaN  0.57   NaN   \n",
       "20    US1WAKG0225  SEATTLE 2.1 ESE, WA US 2018-03-24   NaN   NaN  0.63   NaN   \n",
       "35    US1WAKG0225  SEATTLE 2.1 ESE, WA US 2018-04-08   NaN   NaN  0.55   NaN   \n",
       "41    US1WAKG0225  SEATTLE 2.1 ESE, WA US 2018-04-14   NaN   NaN  0.68   NaN   \n",
       "271   US1WAKG0225  SEATTLE 2.1 ESE, WA US 2018-12-10   NaN   NaN  0.56   NaN   \n",
       "296   US1WAKG0225  SEATTLE 2.1 ESE, WA US 2019-01-04   NaN   NaN  0.55   NaN   \n",
       "313   US1WAKG0225  SEATTLE 2.1 ESE, WA US 2019-01-23   NaN   NaN  0.70   NaN   \n",
       "331   US1WAKG0225  SEATTLE 2.1 ESE, WA US 2019-02-11   NaN   NaN  0.70   4.0   \n",
       "419   US1WAKG0225  SEATTLE 2.1 ESE, WA US 2019-05-17   NaN   NaN  0.60   NaN   \n",
       "472   US1WAKG0225  SEATTLE 2.1 ESE, WA US 2019-07-19   NaN   NaN  0.62   NaN   \n",
       "517   US1WAKG0225  SEATTLE 2.1 ESE, WA US 2019-09-08   NaN   NaN  0.61   NaN   \n",
       "519   US1WAKG0225  SEATTLE 2.1 ESE, WA US 2019-09-10   NaN   NaN  0.55   NaN   \n",
       "589   US1WAKG0225  SEATTLE 2.1 ESE, WA US 2019-11-19   NaN   NaN  0.73   NaN   \n",
       "658   US1WAKG0225  SEATTLE 2.1 ESE, WA US 2020-02-05   NaN   NaN  0.69   0.0   \n",
       "660   US1WAKG0225  SEATTLE 2.1 ESE, WA US 2020-02-07   NaN   NaN  0.58   NaN   \n",
       "678   US1WAKG0225  SEATTLE 2.1 ESE, WA US 2020-03-06   NaN   NaN  0.71   NaN   \n",
       "701   US1WAKG0225  SEATTLE 2.1 ESE, WA US 2020-03-29   NaN   NaN  0.64   NaN   \n",
       "750   US1WAKG0225  SEATTLE 2.1 ESE, WA US 2020-05-17   NaN   NaN  0.66   NaN   \n",
       "792   US1WAKG0225  SEATTLE 2.1 ESE, WA US 2020-06-28   NaN   NaN  0.54   NaN   \n",
       "889   US1WAKG0225  SEATTLE 2.1 ESE, WA US 2020-10-12   NaN   NaN  0.58   NaN   \n",
       "890   US1WAKG0225  SEATTLE 2.1 ESE, WA US 2020-10-13   NaN   NaN  0.61   NaN   \n",
       "925   US1WAKG0225  SEATTLE 2.1 ESE, WA US 2020-11-17   NaN   NaN  0.64   NaN   \n",
       "926   US1WAKG0225  SEATTLE 2.1 ESE, WA US 2020-11-18   NaN   NaN  0.55   NaN   \n",
       "947   US1WAKG0225  SEATTLE 2.1 ESE, WA US 2020-12-09   NaN   NaN  0.58   NaN   \n",
       "955   US1WAKG0225  SEATTLE 2.1 ESE, WA US 2020-12-17   NaN   NaN  0.52   NaN   \n",
       "959   US1WAKG0225  SEATTLE 2.1 ESE, WA US 2020-12-21   NaN   NaN  0.64   NaN   \n",
       "969   US1WAKG0225  SEATTLE 2.1 ESE, WA US 2020-12-31   NaN   NaN  0.50   NaN   \n",
       "973   US1WAKG0225  SEATTLE 2.1 ESE, WA US 2021-01-04   NaN   NaN  0.65   NaN   \n",
       "1002  US1WAKG0225  SEATTLE 2.1 ESE, WA US 2021-02-02   NaN   NaN  0.72   NaN   \n",
       "1015  US1WAKG0225  SEATTLE 2.1 ESE, WA US 2021-02-15   NaN   NaN  0.60   1.0   \n",
       "1069  US1WAKG0225  SEATTLE 2.1 ESE, WA US 2021-04-25   NaN   NaN  0.50   NaN   \n",
       "1112  US1WAKG0225  SEATTLE 2.1 ESE, WA US 2021-06-07   NaN   NaN  0.73   NaN   \n",
       "1119  US1WAKG0225  SEATTLE 2.1 ESE, WA US 2021-06-14   NaN   NaN  0.60   NaN   \n",
       "1206  US1WAKG0225  SEATTLE 2.1 ESE, WA US 2021-09-27   NaN   NaN  0.71   NaN   \n",
       "1231  US1WAKG0225  SEATTLE 2.1 ESE, WA US 2021-10-22   NaN   NaN  0.64   NaN   \n",
       "1244  US1WAKG0225  SEATTLE 2.1 ESE, WA US 2021-11-04   NaN   NaN  0.61   NaN   \n",
       "1245  US1WAKG0225  SEATTLE 2.1 ESE, WA US 2021-11-05   NaN   NaN  0.57   NaN   \n",
       "1247  US1WAKG0225  SEATTLE 2.1 ESE, WA US 2021-11-07   NaN   NaN  0.64   NaN   \n",
       "1254  US1WAKG0225  SEATTLE 2.1 ESE, WA US 2021-11-14   NaN   NaN  0.59   NaN   \n",
       "1255  US1WAKG0225  SEATTLE 2.1 ESE, WA US 2021-11-15   NaN   NaN  0.59   NaN   \n",
       "1259  US1WAKG0225  SEATTLE 2.1 ESE, WA US 2021-11-19   NaN   NaN  0.52   NaN   \n",
       "1263  US1WAKG0225  SEATTLE 2.1 ESE, WA US 2021-11-23   NaN   NaN  0.53   NaN   \n",
       "1266  US1WAKG0225  SEATTLE 2.1 ESE, WA US 2021-11-26   NaN   NaN  0.55   NaN   \n",
       "1288  US1WAKG0225  SEATTLE 2.1 ESE, WA US 2021-12-18   NaN   NaN  0.54   NaN   \n",
       "1293  US1WAKG0225  SEATTLE 2.1 ESE, WA US 2021-12-23   NaN   NaN  0.56   NaN   \n",
       "1309  US1WAKG0225  SEATTLE 2.1 ESE, WA US 2022-01-08   NaN   NaN  0.62   NaN   \n",
       "1312  US1WAKG0225  SEATTLE 2.1 ESE, WA US 2022-01-11   NaN   NaN  0.70   NaN   \n",
       "1313  US1WAKG0225  SEATTLE 2.1 ESE, WA US 2022-01-12   NaN   NaN  0.52   NaN   \n",
       "1359  US1WAKG0225  SEATTLE 2.1 ESE, WA US 2022-02-27   NaN   NaN  0.61   NaN   \n",
       "1375  US1WAKG0225  SEATTLE 2.1 ESE, WA US 2022-03-15   NaN   NaN  0.52   NaN   \n",
       "1419  US1WAKG0225  SEATTLE 2.1 ESE, WA US 2022-05-07   NaN   NaN  0.55   NaN   \n",
       "1428  US1WAKG0225  SEATTLE 2.1 ESE, WA US 2022-05-16   NaN   NaN  0.66   NaN   \n",
       "1448  US1WAKG0225  SEATTLE 2.1 ESE, WA US 2022-06-05   NaN   NaN  0.61   NaN   \n",
       "1593  US1WAKG0225  SEATTLE 2.1 ESE, WA US 2022-10-28   NaN   NaN  0.58   NaN   \n",
       "1622  US1WAKG0225  SEATTLE 2.1 ESE, WA US 2022-11-26   NaN   NaN  0.70   NaN   \n",
       "1629  US1WAKG0225  SEATTLE 2.1 ESE, WA US 2022-12-03   NaN   NaN  0.72   2.0   \n",
       "1650  US1WAKG0225  SEATTLE 2.1 ESE, WA US 2022-12-24   NaN   NaN  0.52   0.0   \n",
       "1656  US1WAKG0225  SEATTLE 2.1 ESE, WA US 2022-12-30   NaN   NaN  0.62   NaN   \n",
       "\n",
       "      SNWD  WESD  WESF  \n",
       "5      NaN   NaN   NaN  \n",
       "20     NaN   NaN   NaN  \n",
       "35     NaN   NaN   NaN  \n",
       "41     NaN   NaN   NaN  \n",
       "271    NaN   NaN   NaN  \n",
       "296    NaN   NaN   NaN  \n",
       "313    NaN   NaN   NaN  \n",
       "331    NaN   NaN   NaN  \n",
       "419    NaN   NaN   NaN  \n",
       "472    NaN   NaN   NaN  \n",
       "517    NaN   NaN   NaN  \n",
       "519    NaN   NaN   NaN  \n",
       "589    NaN   NaN   NaN  \n",
       "658    NaN   NaN   NaN  \n",
       "660    NaN   NaN   NaN  \n",
       "678    NaN   NaN   NaN  \n",
       "701    NaN   NaN   NaN  \n",
       "750    NaN   NaN   NaN  \n",
       "792    NaN   NaN   NaN  \n",
       "889    NaN   NaN   NaN  \n",
       "890    NaN   NaN   NaN  \n",
       "925    NaN   NaN   NaN  \n",
       "926    NaN   NaN   NaN  \n",
       "947    NaN   NaN   NaN  \n",
       "955    NaN   NaN   NaN  \n",
       "959    NaN   NaN   NaN  \n",
       "969    NaN   NaN   NaN  \n",
       "973    NaN   NaN   NaN  \n",
       "1002   NaN   NaN   NaN  \n",
       "1015   8.0   1.8   NaN  \n",
       "1069   NaN   NaN   NaN  \n",
       "1112   NaN   NaN   NaN  \n",
       "1119   NaN   NaN   NaN  \n",
       "1206   NaN   NaN   NaN  \n",
       "1231   NaN   NaN   NaN  \n",
       "1244   NaN   NaN   NaN  \n",
       "1245   NaN   NaN   NaN  \n",
       "1247   NaN   NaN   NaN  \n",
       "1254   NaN   NaN   NaN  \n",
       "1255   NaN   NaN   NaN  \n",
       "1259   NaN   NaN   NaN  \n",
       "1263   NaN   NaN   NaN  \n",
       "1266   NaN   NaN   NaN  \n",
       "1288   NaN   NaN   NaN  \n",
       "1293   NaN   NaN   NaN  \n",
       "1309   NaN   NaN   NaN  \n",
       "1312   NaN   NaN   NaN  \n",
       "1313   NaN   NaN   NaN  \n",
       "1359   NaN   NaN   NaN  \n",
       "1375   NaN   NaN   NaN  \n",
       "1419   NaN   NaN   NaN  \n",
       "1428   NaN   NaN   NaN  \n",
       "1448   NaN   NaN   NaN  \n",
       "1593   NaN   NaN   NaN  \n",
       "1622   NaN   NaN   NaN  \n",
       "1629   1.5   NaN   NaN  \n",
       "1650   0.0   NaN   NaN  \n",
       "1656   NaN   NaN   NaN  "
      ]
     },
     "execution_count": 42,
     "metadata": {},
     "output_type": "execute_result"
    }
   ],
   "source": [
    "df_seattle[(df_seattle['PRCP'] >= 0.5) & (df_seattle['PRCP'] <= 0.75)]"
   ]
  },
  {
   "cell_type": "markdown",
   "id": "4057af73",
   "metadata": {},
   "source": [
    "Shows the data that is > or equal to 0.5 and less than or equal to 0.75"
   ]
  },
  {
   "cell_type": "markdown",
   "id": "fd8d11f1",
   "metadata": {},
   "source": [
    "-> In The step df_tampa['DATE'] >= '2018-01-01' generates a boolean Series or we can take the data as per name rather than explicitly metioning."
   ]
  },
  {
   "cell_type": "code",
   "execution_count": 43,
   "id": "33d1d37e",
   "metadata": {},
   "outputs": [
    {
     "data": {
      "text/html": [
       "<div>\n",
       "<style scoped>\n",
       "    .dataframe tbody tr th:only-of-type {\n",
       "        vertical-align: middle;\n",
       "    }\n",
       "\n",
       "    .dataframe tbody tr th {\n",
       "        vertical-align: top;\n",
       "    }\n",
       "\n",
       "    .dataframe thead th {\n",
       "        text-align: right;\n",
       "    }\n",
       "</style>\n",
       "<table border=\"1\" class=\"dataframe\">\n",
       "  <thead>\n",
       "    <tr style=\"text-align: right;\">\n",
       "      <th></th>\n",
       "      <th>STATION</th>\n",
       "      <th>NAME</th>\n",
       "      <th>DATE</th>\n",
       "      <th>DAPR</th>\n",
       "      <th>MDPR</th>\n",
       "      <th>PRCP</th>\n",
       "      <th>SNOW</th>\n",
       "      <th>SNWD</th>\n",
       "    </tr>\n",
       "  </thead>\n",
       "  <tbody>\n",
       "    <tr>\n",
       "      <th>0</th>\n",
       "      <td>US1FLHB0027</td>\n",
       "      <td>LUTZ 1.3 SSE, FL US</td>\n",
       "      <td>2018-01-01</td>\n",
       "      <td>NaN</td>\n",
       "      <td>NaN</td>\n",
       "      <td>0.00</td>\n",
       "      <td>0.0</td>\n",
       "      <td>NaN</td>\n",
       "    </tr>\n",
       "    <tr>\n",
       "      <th>1</th>\n",
       "      <td>US1FLHB0027</td>\n",
       "      <td>LUTZ 1.3 SSE, FL US</td>\n",
       "      <td>2018-01-02</td>\n",
       "      <td>NaN</td>\n",
       "      <td>NaN</td>\n",
       "      <td>0.02</td>\n",
       "      <td>NaN</td>\n",
       "      <td>NaN</td>\n",
       "    </tr>\n",
       "    <tr>\n",
       "      <th>2</th>\n",
       "      <td>US1FLHB0027</td>\n",
       "      <td>LUTZ 1.3 SSE, FL US</td>\n",
       "      <td>2018-01-03</td>\n",
       "      <td>NaN</td>\n",
       "      <td>NaN</td>\n",
       "      <td>0.40</td>\n",
       "      <td>NaN</td>\n",
       "      <td>NaN</td>\n",
       "    </tr>\n",
       "    <tr>\n",
       "      <th>3</th>\n",
       "      <td>US1FLHB0027</td>\n",
       "      <td>LUTZ 1.3 SSE, FL US</td>\n",
       "      <td>2018-01-04</td>\n",
       "      <td>NaN</td>\n",
       "      <td>NaN</td>\n",
       "      <td>0.33</td>\n",
       "      <td>NaN</td>\n",
       "      <td>NaN</td>\n",
       "    </tr>\n",
       "    <tr>\n",
       "      <th>4</th>\n",
       "      <td>US1FLHB0027</td>\n",
       "      <td>LUTZ 1.3 SSE, FL US</td>\n",
       "      <td>2018-01-05</td>\n",
       "      <td>NaN</td>\n",
       "      <td>NaN</td>\n",
       "      <td>0.00</td>\n",
       "      <td>0.0</td>\n",
       "      <td>NaN</td>\n",
       "    </tr>\n",
       "  </tbody>\n",
       "</table>\n",
       "</div>"
      ],
      "text/plain": [
       "       STATION                 NAME       DATE  DAPR  MDPR  PRCP  SNOW  SNWD\n",
       "0  US1FLHB0027  LUTZ 1.3 SSE, FL US 2018-01-01   NaN   NaN  0.00   0.0   NaN\n",
       "1  US1FLHB0027  LUTZ 1.3 SSE, FL US 2018-01-02   NaN   NaN  0.02   NaN   NaN\n",
       "2  US1FLHB0027  LUTZ 1.3 SSE, FL US 2018-01-03   NaN   NaN  0.40   NaN   NaN\n",
       "3  US1FLHB0027  LUTZ 1.3 SSE, FL US 2018-01-04   NaN   NaN  0.33   NaN   NaN\n",
       "4  US1FLHB0027  LUTZ 1.3 SSE, FL US 2018-01-05   NaN   NaN  0.00   0.0   NaN"
      ]
     },
     "execution_count": 43,
     "metadata": {},
     "output_type": "execute_result"
    }
   ],
   "source": [
    "df_tampa = df_tampa.loc[df_tampa['DATE'] >= '2018-01-01']\n",
    "df_tampa.head()"
   ]
  },
  {
   "cell_type": "markdown",
   "id": "9899a98c",
   "metadata": {},
   "source": [
    "-> To analyse data for only one weather station in Tampa, we can filter the dataset using a condition on the NAME column."
   ]
  },
  {
   "cell_type": "code",
   "execution_count": 44,
   "id": "cc0e567a",
   "metadata": {},
   "outputs": [
    {
     "data": {
      "text/html": [
       "<div>\n",
       "<style scoped>\n",
       "    .dataframe tbody tr th:only-of-type {\n",
       "        vertical-align: middle;\n",
       "    }\n",
       "\n",
       "    .dataframe tbody tr th {\n",
       "        vertical-align: top;\n",
       "    }\n",
       "\n",
       "    .dataframe thead th {\n",
       "        text-align: right;\n",
       "    }\n",
       "</style>\n",
       "<table border=\"1\" class=\"dataframe\">\n",
       "  <thead>\n",
       "    <tr style=\"text-align: right;\">\n",
       "      <th></th>\n",
       "      <th>STATION</th>\n",
       "      <th>NAME</th>\n",
       "      <th>DATE</th>\n",
       "      <th>DAPR</th>\n",
       "      <th>MDPR</th>\n",
       "      <th>PRCP</th>\n",
       "      <th>SNOW</th>\n",
       "      <th>SNWD</th>\n",
       "    </tr>\n",
       "  </thead>\n",
       "  <tbody>\n",
       "    <tr>\n",
       "      <th>0</th>\n",
       "      <td>US1FLHB0027</td>\n",
       "      <td>LUTZ 1.3 SSE, FL US</td>\n",
       "      <td>2018-01-01</td>\n",
       "      <td>NaN</td>\n",
       "      <td>NaN</td>\n",
       "      <td>0.00</td>\n",
       "      <td>0.0</td>\n",
       "      <td>NaN</td>\n",
       "    </tr>\n",
       "    <tr>\n",
       "      <th>1</th>\n",
       "      <td>US1FLHB0027</td>\n",
       "      <td>LUTZ 1.3 SSE, FL US</td>\n",
       "      <td>2018-01-02</td>\n",
       "      <td>NaN</td>\n",
       "      <td>NaN</td>\n",
       "      <td>0.02</td>\n",
       "      <td>NaN</td>\n",
       "      <td>NaN</td>\n",
       "    </tr>\n",
       "    <tr>\n",
       "      <th>2</th>\n",
       "      <td>US1FLHB0027</td>\n",
       "      <td>LUTZ 1.3 SSE, FL US</td>\n",
       "      <td>2018-01-03</td>\n",
       "      <td>NaN</td>\n",
       "      <td>NaN</td>\n",
       "      <td>0.40</td>\n",
       "      <td>NaN</td>\n",
       "      <td>NaN</td>\n",
       "    </tr>\n",
       "    <tr>\n",
       "      <th>3</th>\n",
       "      <td>US1FLHB0027</td>\n",
       "      <td>LUTZ 1.3 SSE, FL US</td>\n",
       "      <td>2018-01-04</td>\n",
       "      <td>NaN</td>\n",
       "      <td>NaN</td>\n",
       "      <td>0.33</td>\n",
       "      <td>NaN</td>\n",
       "      <td>NaN</td>\n",
       "    </tr>\n",
       "    <tr>\n",
       "      <th>4</th>\n",
       "      <td>US1FLHB0027</td>\n",
       "      <td>LUTZ 1.3 SSE, FL US</td>\n",
       "      <td>2018-01-05</td>\n",
       "      <td>NaN</td>\n",
       "      <td>NaN</td>\n",
       "      <td>0.00</td>\n",
       "      <td>0.0</td>\n",
       "      <td>NaN</td>\n",
       "    </tr>\n",
       "  </tbody>\n",
       "</table>\n",
       "</div>"
      ],
      "text/plain": [
       "       STATION                 NAME       DATE  DAPR  MDPR  PRCP  SNOW  SNWD\n",
       "0  US1FLHB0027  LUTZ 1.3 SSE, FL US 2018-01-01   NaN   NaN  0.00   0.0   NaN\n",
       "1  US1FLHB0027  LUTZ 1.3 SSE, FL US 2018-01-02   NaN   NaN  0.02   NaN   NaN\n",
       "2  US1FLHB0027  LUTZ 1.3 SSE, FL US 2018-01-03   NaN   NaN  0.40   NaN   NaN\n",
       "3  US1FLHB0027  LUTZ 1.3 SSE, FL US 2018-01-04   NaN   NaN  0.33   NaN   NaN\n",
       "4  US1FLHB0027  LUTZ 1.3 SSE, FL US 2018-01-05   NaN   NaN  0.00   0.0   NaN"
      ]
     },
     "execution_count": 44,
     "metadata": {},
     "output_type": "execute_result"
    }
   ],
   "source": [
    "df_tampa = df_tampa.loc[df_tampa['NAME'] == 'LUTZ 1.3 SSE, FL US']\n",
    "df_tampa.head()"
   ]
  },
  {
   "cell_type": "markdown",
   "id": "9812a262",
   "metadata": {},
   "source": [
    "The df_tampa is filtered and all other stations data are removed. This is useful to analyze data for one particular station"
   ]
  },
  {
   "cell_type": "markdown",
   "id": "e387e21c",
   "metadata": {},
   "source": [
    "This creates a boolean series where each row is True if the NAME matches 'LUTZ 1.3 SSE, FL US' and False otherwise."
   ]
  },
  {
   "cell_type": "markdown",
   "id": "3587f646",
   "metadata": {},
   "source": [
    "-> To directly compare daily precipitation between Seattle and Tampa, I merge the two datasets on their DATE columns. Using an outer join ensures that all dates present in either city’s data are included in the result. This approach lets us retain all observations, even if one city lacks a record for a particular date. Suffixes are added to distinguish the precipitation columns from each city."
   ]
  },
  {
   "cell_type": "code",
   "execution_count": 45,
   "id": "9b977500",
   "metadata": {},
   "outputs": [],
   "source": [
    "df = df_tampa[['DATE', 'PRCP']].merge(df_seattle[['DATE', 'PRCP']], on='DATE', how='outer', suffixes=('_tampa', '_seattle'))"
   ]
  },
  {
   "cell_type": "markdown",
   "id": "d79ff266",
   "metadata": {},
   "source": [
    "-> To confirm the size of the merged dataset, I use the .shape attribute. This returns a tuple with the number of rows and columns. Knowing the dataset dimensions is useful for planning further analysis which also helps us verify that all records from both original datasets are represented."
   ]
  },
  {
   "cell_type": "code",
   "execution_count": 46,
   "id": "528ccf55",
   "metadata": {},
   "outputs": [
    {
     "data": {
      "text/plain": [
       "(1812, 3)"
      ]
     },
     "execution_count": 46,
     "metadata": {},
     "output_type": "execute_result"
    }
   ],
   "source": [
    "df.shape"
   ]
  },
  {
   "cell_type": "markdown",
   "id": "a19caee0",
   "metadata": {},
   "source": [
    "This ouput indicates the final merged DataFrame contains 1,812 dates rows and 3 columns which are the date, Tampa precipitation, and Seattle precipitation."
   ]
  },
  {
   "cell_type": "code",
   "execution_count": 47,
   "id": "d81ca8db",
   "metadata": {},
   "outputs": [
    {
     "data": {
      "text/html": [
       "<div>\n",
       "<style scoped>\n",
       "    .dataframe tbody tr th:only-of-type {\n",
       "        vertical-align: middle;\n",
       "    }\n",
       "\n",
       "    .dataframe tbody tr th {\n",
       "        vertical-align: top;\n",
       "    }\n",
       "\n",
       "    .dataframe thead th {\n",
       "        text-align: right;\n",
       "    }\n",
       "</style>\n",
       "<table border=\"1\" class=\"dataframe\">\n",
       "  <thead>\n",
       "    <tr style=\"text-align: right;\">\n",
       "      <th></th>\n",
       "      <th>DATE</th>\n",
       "      <th>PRCP_tampa</th>\n",
       "      <th>PRCP_seattle</th>\n",
       "    </tr>\n",
       "  </thead>\n",
       "  <tbody>\n",
       "    <tr>\n",
       "      <th>0</th>\n",
       "      <td>2018-01-01</td>\n",
       "      <td>0.00</td>\n",
       "      <td>0.00</td>\n",
       "    </tr>\n",
       "    <tr>\n",
       "      <th>1</th>\n",
       "      <td>2018-01-02</td>\n",
       "      <td>0.02</td>\n",
       "      <td>0.00</td>\n",
       "    </tr>\n",
       "    <tr>\n",
       "      <th>2</th>\n",
       "      <td>2018-01-03</td>\n",
       "      <td>0.40</td>\n",
       "      <td>0.00</td>\n",
       "    </tr>\n",
       "    <tr>\n",
       "      <th>3</th>\n",
       "      <td>2018-01-04</td>\n",
       "      <td>0.33</td>\n",
       "      <td>0.00</td>\n",
       "    </tr>\n",
       "    <tr>\n",
       "      <th>4</th>\n",
       "      <td>2018-01-05</td>\n",
       "      <td>0.00</td>\n",
       "      <td>0.25</td>\n",
       "    </tr>\n",
       "    <tr>\n",
       "      <th>...</th>\n",
       "      <td>...</td>\n",
       "      <td>...</td>\n",
       "      <td>...</td>\n",
       "    </tr>\n",
       "    <tr>\n",
       "      <th>1807</th>\n",
       "      <td>2022-07-21</td>\n",
       "      <td>NaN</td>\n",
       "      <td>0.00</td>\n",
       "    </tr>\n",
       "    <tr>\n",
       "      <th>1808</th>\n",
       "      <td>2022-07-29</td>\n",
       "      <td>NaN</td>\n",
       "      <td>0.00</td>\n",
       "    </tr>\n",
       "    <tr>\n",
       "      <th>1809</th>\n",
       "      <td>2022-08-23</td>\n",
       "      <td>NaN</td>\n",
       "      <td>0.00</td>\n",
       "    </tr>\n",
       "    <tr>\n",
       "      <th>1810</th>\n",
       "      <td>2022-11-27</td>\n",
       "      <td>NaN</td>\n",
       "      <td>0.26</td>\n",
       "    </tr>\n",
       "    <tr>\n",
       "      <th>1811</th>\n",
       "      <td>2022-12-21</td>\n",
       "      <td>NaN</td>\n",
       "      <td>0.31</td>\n",
       "    </tr>\n",
       "  </tbody>\n",
       "</table>\n",
       "<p>1812 rows × 3 columns</p>\n",
       "</div>"
      ],
      "text/plain": [
       "           DATE  PRCP_tampa  PRCP_seattle\n",
       "0    2018-01-01        0.00          0.00\n",
       "1    2018-01-02        0.02          0.00\n",
       "2    2018-01-03        0.40          0.00\n",
       "3    2018-01-04        0.33          0.00\n",
       "4    2018-01-05        0.00          0.25\n",
       "...         ...         ...           ...\n",
       "1807 2022-07-21         NaN          0.00\n",
       "1808 2022-07-29         NaN          0.00\n",
       "1809 2022-08-23         NaN          0.00\n",
       "1810 2022-11-27         NaN          0.26\n",
       "1811 2022-12-21         NaN          0.31\n",
       "\n",
       "[1812 rows x 3 columns]"
      ]
     },
     "execution_count": 47,
     "metadata": {},
     "output_type": "execute_result"
    }
   ],
   "source": [
    "df"
   ]
  },
  {
   "cell_type": "markdown",
   "id": "f71599d4",
   "metadata": {},
   "source": [
    "-> I used the pd.melt() function to keep the DATE column fixed and turn the city columns into two columns, one for the city name and one for the precipitation values. This makes the data longer and easier to use for plotting and group analysis."
   ]
  },
  {
   "cell_type": "code",
   "execution_count": 48,
   "id": "932e619f",
   "metadata": {},
   "outputs": [],
   "source": [
    "df = pd.melt(df, id_vars='DATE', var_name='city', value_name='precipitation')"
   ]
  },
  {
   "cell_type": "markdown",
   "id": "4aa5bba0",
   "metadata": {},
   "source": [
    "Here, DATE is kept as the identifier column, while the other columns city and precipitation holding original column names and values."
   ]
  },
  {
   "cell_type": "code",
   "execution_count": 49,
   "id": "28774dfb",
   "metadata": {},
   "outputs": [
    {
     "data": {
      "text/html": [
       "<div>\n",
       "<style scoped>\n",
       "    .dataframe tbody tr th:only-of-type {\n",
       "        vertical-align: middle;\n",
       "    }\n",
       "\n",
       "    .dataframe tbody tr th {\n",
       "        vertical-align: top;\n",
       "    }\n",
       "\n",
       "    .dataframe thead th {\n",
       "        text-align: right;\n",
       "    }\n",
       "</style>\n",
       "<table border=\"1\" class=\"dataframe\">\n",
       "  <thead>\n",
       "    <tr style=\"text-align: right;\">\n",
       "      <th></th>\n",
       "      <th>DATE</th>\n",
       "      <th>city</th>\n",
       "      <th>precipitation</th>\n",
       "    </tr>\n",
       "  </thead>\n",
       "  <tbody>\n",
       "    <tr>\n",
       "      <th>0</th>\n",
       "      <td>2018-01-01</td>\n",
       "      <td>PRCP_tampa</td>\n",
       "      <td>0.00</td>\n",
       "    </tr>\n",
       "    <tr>\n",
       "      <th>1</th>\n",
       "      <td>2018-01-02</td>\n",
       "      <td>PRCP_tampa</td>\n",
       "      <td>0.02</td>\n",
       "    </tr>\n",
       "    <tr>\n",
       "      <th>2</th>\n",
       "      <td>2018-01-03</td>\n",
       "      <td>PRCP_tampa</td>\n",
       "      <td>0.40</td>\n",
       "    </tr>\n",
       "    <tr>\n",
       "      <th>3</th>\n",
       "      <td>2018-01-04</td>\n",
       "      <td>PRCP_tampa</td>\n",
       "      <td>0.33</td>\n",
       "    </tr>\n",
       "    <tr>\n",
       "      <th>4</th>\n",
       "      <td>2018-01-05</td>\n",
       "      <td>PRCP_tampa</td>\n",
       "      <td>0.00</td>\n",
       "    </tr>\n",
       "  </tbody>\n",
       "</table>\n",
       "</div>"
      ],
      "text/plain": [
       "        DATE        city  precipitation\n",
       "0 2018-01-01  PRCP_tampa           0.00\n",
       "1 2018-01-02  PRCP_tampa           0.02\n",
       "2 2018-01-03  PRCP_tampa           0.40\n",
       "3 2018-01-04  PRCP_tampa           0.33\n",
       "4 2018-01-05  PRCP_tampa           0.00"
      ]
     },
     "execution_count": 49,
     "metadata": {},
     "output_type": "execute_result"
    }
   ],
   "source": [
    "df.head()"
   ]
  },
  {
   "cell_type": "markdown",
   "id": "cd8e3ff1",
   "metadata": {},
   "source": [
    "Here i am checking the merged dataset, the starting observations contains the tampa dataset details."
   ]
  },
  {
   "cell_type": "code",
   "execution_count": 50,
   "id": "57deed18",
   "metadata": {
    "scrolled": true
   },
   "outputs": [
    {
     "data": {
      "text/html": [
       "<div>\n",
       "<style scoped>\n",
       "    .dataframe tbody tr th:only-of-type {\n",
       "        vertical-align: middle;\n",
       "    }\n",
       "\n",
       "    .dataframe tbody tr th {\n",
       "        vertical-align: top;\n",
       "    }\n",
       "\n",
       "    .dataframe thead th {\n",
       "        text-align: right;\n",
       "    }\n",
       "</style>\n",
       "<table border=\"1\" class=\"dataframe\">\n",
       "  <thead>\n",
       "    <tr style=\"text-align: right;\">\n",
       "      <th></th>\n",
       "      <th>DATE</th>\n",
       "      <th>city</th>\n",
       "      <th>precipitation</th>\n",
       "    </tr>\n",
       "  </thead>\n",
       "  <tbody>\n",
       "    <tr>\n",
       "      <th>3619</th>\n",
       "      <td>2022-07-21</td>\n",
       "      <td>PRCP_seattle</td>\n",
       "      <td>0.00</td>\n",
       "    </tr>\n",
       "    <tr>\n",
       "      <th>3620</th>\n",
       "      <td>2022-07-29</td>\n",
       "      <td>PRCP_seattle</td>\n",
       "      <td>0.00</td>\n",
       "    </tr>\n",
       "    <tr>\n",
       "      <th>3621</th>\n",
       "      <td>2022-08-23</td>\n",
       "      <td>PRCP_seattle</td>\n",
       "      <td>0.00</td>\n",
       "    </tr>\n",
       "    <tr>\n",
       "      <th>3622</th>\n",
       "      <td>2022-11-27</td>\n",
       "      <td>PRCP_seattle</td>\n",
       "      <td>0.26</td>\n",
       "    </tr>\n",
       "    <tr>\n",
       "      <th>3623</th>\n",
       "      <td>2022-12-21</td>\n",
       "      <td>PRCP_seattle</td>\n",
       "      <td>0.31</td>\n",
       "    </tr>\n",
       "  </tbody>\n",
       "</table>\n",
       "</div>"
      ],
      "text/plain": [
       "           DATE          city  precipitation\n",
       "3619 2022-07-21  PRCP_seattle           0.00\n",
       "3620 2022-07-29  PRCP_seattle           0.00\n",
       "3621 2022-08-23  PRCP_seattle           0.00\n",
       "3622 2022-11-27  PRCP_seattle           0.26\n",
       "3623 2022-12-21  PRCP_seattle           0.31"
      ]
     },
     "execution_count": 50,
     "metadata": {},
     "output_type": "execute_result"
    }
   ],
   "source": [
    "df.tail()"
   ]
  },
  {
   "cell_type": "markdown",
   "id": "1c7d4b34",
   "metadata": {},
   "source": [
    "The last observations contains the seattle dataset details."
   ]
  },
  {
   "cell_type": "markdown",
   "id": "0b621045",
   "metadata": {},
   "source": [
    "-> In this step, After melting I rename the city codes to meaningful and understandable codes. This enhances the readability of the dataset and makes subsequent plots and summaries easier to interpret."
   ]
  },
  {
   "cell_type": "code",
   "execution_count": 51,
   "id": "2c2ef166",
   "metadata": {},
   "outputs": [],
   "source": [
    "df.loc[df['city'] == 'PRCP_x', 'city'] = 'SEA'\n",
    "df.loc[df['city'] == 'PRCP_y', 'city'] = 'TMP'"
   ]
  },
  {
   "cell_type": "markdown",
   "id": "40961d35",
   "metadata": {},
   "source": [
    "All entries that were are changed to the mentioned codes for Seattle, and for Tampa. "
   ]
  },
  {
   "cell_type": "markdown",
   "id": "01177ff7",
   "metadata": {},
   "source": [
    "-> To make the city names easier to work with, we can convert all entries in the city column to lowercase. This ensures uniformity in the city names, which is critical when performing case-sensitive operations such as filtering or plotting. By standardizing to lowercase, we minimize risk of mismatches due to inconsistent capitalization in the data."
   ]
  },
  {
   "cell_type": "code",
   "execution_count": 52,
   "id": "86030b8d",
   "metadata": {},
   "outputs": [],
   "source": [
    "df['city'] = df['city'].str.lower()"
   ]
  },
  {
   "cell_type": "markdown",
   "id": "01ac7593",
   "metadata": {},
   "source": [
    "This line makes the .str.lower() method to the city column, converting all uppercase and mixed-case characters to lowercase."
   ]
  },
  {
   "cell_type": "code",
   "execution_count": 53,
   "id": "72017861",
   "metadata": {},
   "outputs": [
    {
     "data": {
      "text/html": [
       "<div>\n",
       "<style scoped>\n",
       "    .dataframe tbody tr th:only-of-type {\n",
       "        vertical-align: middle;\n",
       "    }\n",
       "\n",
       "    .dataframe tbody tr th {\n",
       "        vertical-align: top;\n",
       "    }\n",
       "\n",
       "    .dataframe thead th {\n",
       "        text-align: right;\n",
       "    }\n",
       "</style>\n",
       "<table border=\"1\" class=\"dataframe\">\n",
       "  <thead>\n",
       "    <tr style=\"text-align: right;\">\n",
       "      <th></th>\n",
       "      <th>DATE</th>\n",
       "      <th>city</th>\n",
       "      <th>precipitation</th>\n",
       "    </tr>\n",
       "  </thead>\n",
       "  <tbody>\n",
       "    <tr>\n",
       "      <th>0</th>\n",
       "      <td>2018-01-01</td>\n",
       "      <td>prcp_tampa</td>\n",
       "      <td>0.00</td>\n",
       "    </tr>\n",
       "    <tr>\n",
       "      <th>1</th>\n",
       "      <td>2018-01-02</td>\n",
       "      <td>prcp_tampa</td>\n",
       "      <td>0.02</td>\n",
       "    </tr>\n",
       "    <tr>\n",
       "      <th>2</th>\n",
       "      <td>2018-01-03</td>\n",
       "      <td>prcp_tampa</td>\n",
       "      <td>0.40</td>\n",
       "    </tr>\n",
       "    <tr>\n",
       "      <th>3</th>\n",
       "      <td>2018-01-04</td>\n",
       "      <td>prcp_tampa</td>\n",
       "      <td>0.33</td>\n",
       "    </tr>\n",
       "    <tr>\n",
       "      <th>4</th>\n",
       "      <td>2018-01-05</td>\n",
       "      <td>prcp_tampa</td>\n",
       "      <td>0.00</td>\n",
       "    </tr>\n",
       "  </tbody>\n",
       "</table>\n",
       "</div>"
      ],
      "text/plain": [
       "        DATE        city  precipitation\n",
       "0 2018-01-01  prcp_tampa           0.00\n",
       "1 2018-01-02  prcp_tampa           0.02\n",
       "2 2018-01-03  prcp_tampa           0.40\n",
       "3 2018-01-04  prcp_tampa           0.33\n",
       "4 2018-01-05  prcp_tampa           0.00"
      ]
     },
     "execution_count": 53,
     "metadata": {},
     "output_type": "execute_result"
    }
   ],
   "source": [
    "df.head()"
   ]
  },
  {
   "cell_type": "code",
   "execution_count": 54,
   "id": "5ae1773a",
   "metadata": {},
   "outputs": [
    {
     "data": {
      "text/html": [
       "<div>\n",
       "<style scoped>\n",
       "    .dataframe tbody tr th:only-of-type {\n",
       "        vertical-align: middle;\n",
       "    }\n",
       "\n",
       "    .dataframe tbody tr th {\n",
       "        vertical-align: top;\n",
       "    }\n",
       "\n",
       "    .dataframe thead th {\n",
       "        text-align: right;\n",
       "    }\n",
       "</style>\n",
       "<table border=\"1\" class=\"dataframe\">\n",
       "  <thead>\n",
       "    <tr style=\"text-align: right;\">\n",
       "      <th></th>\n",
       "      <th>DATE</th>\n",
       "      <th>city</th>\n",
       "      <th>precipitation</th>\n",
       "    </tr>\n",
       "  </thead>\n",
       "  <tbody>\n",
       "    <tr>\n",
       "      <th>3619</th>\n",
       "      <td>2022-07-21</td>\n",
       "      <td>prcp_seattle</td>\n",
       "      <td>0.00</td>\n",
       "    </tr>\n",
       "    <tr>\n",
       "      <th>3620</th>\n",
       "      <td>2022-07-29</td>\n",
       "      <td>prcp_seattle</td>\n",
       "      <td>0.00</td>\n",
       "    </tr>\n",
       "    <tr>\n",
       "      <th>3621</th>\n",
       "      <td>2022-08-23</td>\n",
       "      <td>prcp_seattle</td>\n",
       "      <td>0.00</td>\n",
       "    </tr>\n",
       "    <tr>\n",
       "      <th>3622</th>\n",
       "      <td>2022-11-27</td>\n",
       "      <td>prcp_seattle</td>\n",
       "      <td>0.26</td>\n",
       "    </tr>\n",
       "    <tr>\n",
       "      <th>3623</th>\n",
       "      <td>2022-12-21</td>\n",
       "      <td>prcp_seattle</td>\n",
       "      <td>0.31</td>\n",
       "    </tr>\n",
       "  </tbody>\n",
       "</table>\n",
       "</div>"
      ],
      "text/plain": [
       "           DATE          city  precipitation\n",
       "3619 2022-07-21  prcp_seattle           0.00\n",
       "3620 2022-07-29  prcp_seattle           0.00\n",
       "3621 2022-08-23  prcp_seattle           0.00\n",
       "3622 2022-11-27  prcp_seattle           0.26\n",
       "3623 2022-12-21  prcp_seattle           0.31"
      ]
     },
     "execution_count": 54,
     "metadata": {},
     "output_type": "execute_result"
    }
   ],
   "source": [
    "df.tail()"
   ]
  },
  {
   "cell_type": "markdown",
   "id": "9c8d0204",
   "metadata": {},
   "source": [
    "-> We can use rename to turn the uppercase to lowercase also using the same rename with curly braces"
   ]
  },
  {
   "cell_type": "code",
   "execution_count": 55,
   "id": "37d4c7fa",
   "metadata": {},
   "outputs": [],
   "source": [
    "df = df.rename(columns={'DATE': 'date'})"
   ]
  },
  {
   "cell_type": "markdown",
   "id": "14e7c9d6",
   "metadata": {},
   "source": [
    "This line renames the DATE column to date to avoid errors caused by case sensitivity."
   ]
  },
  {
   "cell_type": "code",
   "execution_count": 56,
   "id": "decb4f07",
   "metadata": {},
   "outputs": [
    {
     "data": {
      "text/html": [
       "<div>\n",
       "<style scoped>\n",
       "    .dataframe tbody tr th:only-of-type {\n",
       "        vertical-align: middle;\n",
       "    }\n",
       "\n",
       "    .dataframe tbody tr th {\n",
       "        vertical-align: top;\n",
       "    }\n",
       "\n",
       "    .dataframe thead th {\n",
       "        text-align: right;\n",
       "    }\n",
       "</style>\n",
       "<table border=\"1\" class=\"dataframe\">\n",
       "  <thead>\n",
       "    <tr style=\"text-align: right;\">\n",
       "      <th></th>\n",
       "      <th>date</th>\n",
       "      <th>city</th>\n",
       "      <th>precipitation</th>\n",
       "    </tr>\n",
       "  </thead>\n",
       "  <tbody>\n",
       "    <tr>\n",
       "      <th>0</th>\n",
       "      <td>2018-01-01</td>\n",
       "      <td>prcp_tampa</td>\n",
       "      <td>0.00</td>\n",
       "    </tr>\n",
       "    <tr>\n",
       "      <th>1</th>\n",
       "      <td>2018-01-02</td>\n",
       "      <td>prcp_tampa</td>\n",
       "      <td>0.02</td>\n",
       "    </tr>\n",
       "    <tr>\n",
       "      <th>2</th>\n",
       "      <td>2018-01-03</td>\n",
       "      <td>prcp_tampa</td>\n",
       "      <td>0.40</td>\n",
       "    </tr>\n",
       "    <tr>\n",
       "      <th>3</th>\n",
       "      <td>2018-01-04</td>\n",
       "      <td>prcp_tampa</td>\n",
       "      <td>0.33</td>\n",
       "    </tr>\n",
       "    <tr>\n",
       "      <th>4</th>\n",
       "      <td>2018-01-05</td>\n",
       "      <td>prcp_tampa</td>\n",
       "      <td>0.00</td>\n",
       "    </tr>\n",
       "  </tbody>\n",
       "</table>\n",
       "</div>"
      ],
      "text/plain": [
       "        date        city  precipitation\n",
       "0 2018-01-01  prcp_tampa           0.00\n",
       "1 2018-01-02  prcp_tampa           0.02\n",
       "2 2018-01-03  prcp_tampa           0.40\n",
       "3 2018-01-04  prcp_tampa           0.33\n",
       "4 2018-01-05  prcp_tampa           0.00"
      ]
     },
     "execution_count": 56,
     "metadata": {},
     "output_type": "execute_result"
    }
   ],
   "source": [
    "df.head()"
   ]
  },
  {
   "cell_type": "markdown",
   "id": "b5acf4ea",
   "metadata": {},
   "source": [
    "It is important to determine the non-null values so we use the notna to check the non-null values in each column of our dataset"
   ]
  },
  {
   "cell_type": "code",
   "execution_count": 57,
   "id": "38f2460a",
   "metadata": {},
   "outputs": [
    {
     "name": "stdout",
     "output_type": "stream",
     "text": [
      "<class 'pandas.core.frame.DataFrame'>\n",
      "RangeIndex: 3624 entries, 0 to 3623\n",
      "Data columns (total 3 columns):\n",
      " #   Column         Non-Null Count  Dtype         \n",
      "---  ------         --------------  -----         \n",
      " 0   date           3624 non-null   datetime64[ns]\n",
      " 1   city           3624 non-null   object        \n",
      " 2   precipitation  3361 non-null   float64       \n",
      "dtypes: datetime64[ns](1), float64(1), object(1)\n",
      "memory usage: 85.1+ KB\n"
     ]
    }
   ],
   "source": [
    "df.info()"
   ]
  },
  {
   "cell_type": "markdown",
   "id": "45b14d52",
   "metadata": {},
   "source": [
    "-> Before performing analysis, its important to check how many non missing values exist in each column."
   ]
  },
  {
   "cell_type": "code",
   "execution_count": 58,
   "id": "d6cdeb5d",
   "metadata": {},
   "outputs": [
    {
     "data": {
      "text/plain": [
       "date             3624\n",
       "city             3624\n",
       "precipitation    3361\n",
       "dtype: int64"
      ]
     },
     "execution_count": 58,
     "metadata": {},
     "output_type": "execute_result"
    }
   ],
   "source": [
    "df.notna().sum()"
   ]
  },
  {
   "cell_type": "markdown",
   "id": "6c49f200",
   "metadata": {},
   "source": [
    "This line gives the count of non-NA, non-missing values in each column of the dataframe."
   ]
  },
  {
   "cell_type": "markdown",
   "id": "3fb520fb",
   "metadata": {},
   "source": [
    "-> To identify any missing data in our dataset, I checked which values are non null values."
   ]
  },
  {
   "cell_type": "code",
   "execution_count": 59,
   "id": "48ec7d43",
   "metadata": {
    "scrolled": true
   },
   "outputs": [
    {
     "data": {
      "text/plain": [
       "date               0\n",
       "city               0\n",
       "precipitation    263\n",
       "dtype: int64"
      ]
     },
     "execution_count": 59,
     "metadata": {},
     "output_type": "execute_result"
    }
   ],
   "source": [
    "df.isna().sum()"
   ]
  },
  {
   "cell_type": "markdown",
   "id": "51a1e83c",
   "metadata": {},
   "source": [
    "This line gives the count of missing values in each column of the dataframe."
   ]
  },
  {
   "cell_type": "markdown",
   "id": "f579a3e8",
   "metadata": {},
   "source": [
    "-> It is used to specifically check particular city columns that has non null values"
   ]
  },
  {
   "cell_type": "code",
   "execution_count": 60,
   "id": "047f706c",
   "metadata": {},
   "outputs": [
    {
     "data": {
      "text/plain": [
       "0"
      ]
     },
     "execution_count": 60,
     "metadata": {},
     "output_type": "execute_result"
    }
   ],
   "source": [
    "df.loc[df['city'] == 'SEA', 'precipitation'].isna().sum()"
   ]
  },
  {
   "cell_type": "code",
   "execution_count": 61,
   "id": "99b852d4",
   "metadata": {},
   "outputs": [
    {
     "data": {
      "text/plain": [
       "0"
      ]
     },
     "execution_count": 61,
     "metadata": {},
     "output_type": "execute_result"
    }
   ],
   "source": [
    "df.loc[df['city'] == 'TMP', 'precipitation'].isna().sum()"
   ]
  },
  {
   "cell_type": "markdown",
   "id": "dde39915",
   "metadata": {},
   "source": [
    "Which is giving 0 in this case for both cities."
   ]
  },
  {
   "cell_type": "markdown",
   "id": "194f78a6",
   "metadata": {},
   "source": [
    "-> This code creates a new column, day_of_year, in the DataFrame. This column is calculated using the DatetimeIndex, which returns an integer from 1 to 365 (or 366 for leap years) representing the day’s position in integer within the year."
   ]
  },
  {
   "cell_type": "code",
   "execution_count": 62,
   "id": "c6490533",
   "metadata": {},
   "outputs": [
    {
     "data": {
      "text/html": [
       "<div>\n",
       "<style scoped>\n",
       "    .dataframe tbody tr th:only-of-type {\n",
       "        vertical-align: middle;\n",
       "    }\n",
       "\n",
       "    .dataframe tbody tr th {\n",
       "        vertical-align: top;\n",
       "    }\n",
       "\n",
       "    .dataframe thead th {\n",
       "        text-align: right;\n",
       "    }\n",
       "</style>\n",
       "<table border=\"1\" class=\"dataframe\">\n",
       "  <thead>\n",
       "    <tr style=\"text-align: right;\">\n",
       "      <th></th>\n",
       "      <th>date</th>\n",
       "      <th>city</th>\n",
       "      <th>precipitation</th>\n",
       "      <th>day_of_year</th>\n",
       "    </tr>\n",
       "  </thead>\n",
       "  <tbody>\n",
       "    <tr>\n",
       "      <th>0</th>\n",
       "      <td>2018-01-01</td>\n",
       "      <td>prcp_tampa</td>\n",
       "      <td>0.00</td>\n",
       "      <td>1</td>\n",
       "    </tr>\n",
       "    <tr>\n",
       "      <th>1</th>\n",
       "      <td>2018-01-02</td>\n",
       "      <td>prcp_tampa</td>\n",
       "      <td>0.02</td>\n",
       "      <td>2</td>\n",
       "    </tr>\n",
       "    <tr>\n",
       "      <th>2</th>\n",
       "      <td>2018-01-03</td>\n",
       "      <td>prcp_tampa</td>\n",
       "      <td>0.40</td>\n",
       "      <td>3</td>\n",
       "    </tr>\n",
       "    <tr>\n",
       "      <th>3</th>\n",
       "      <td>2018-01-04</td>\n",
       "      <td>prcp_tampa</td>\n",
       "      <td>0.33</td>\n",
       "      <td>4</td>\n",
       "    </tr>\n",
       "    <tr>\n",
       "      <th>4</th>\n",
       "      <td>2018-01-05</td>\n",
       "      <td>prcp_tampa</td>\n",
       "      <td>0.00</td>\n",
       "      <td>5</td>\n",
       "    </tr>\n",
       "    <tr>\n",
       "      <th>5</th>\n",
       "      <td>2018-01-06</td>\n",
       "      <td>prcp_tampa</td>\n",
       "      <td>0.00</td>\n",
       "      <td>6</td>\n",
       "    </tr>\n",
       "    <tr>\n",
       "      <th>6</th>\n",
       "      <td>2018-01-07</td>\n",
       "      <td>prcp_tampa</td>\n",
       "      <td>0.00</td>\n",
       "      <td>7</td>\n",
       "    </tr>\n",
       "    <tr>\n",
       "      <th>7</th>\n",
       "      <td>2018-01-08</td>\n",
       "      <td>prcp_tampa</td>\n",
       "      <td>0.00</td>\n",
       "      <td>8</td>\n",
       "    </tr>\n",
       "    <tr>\n",
       "      <th>8</th>\n",
       "      <td>2018-01-12</td>\n",
       "      <td>prcp_tampa</td>\n",
       "      <td>NaN</td>\n",
       "      <td>12</td>\n",
       "    </tr>\n",
       "    <tr>\n",
       "      <th>9</th>\n",
       "      <td>2018-01-13</td>\n",
       "      <td>prcp_tampa</td>\n",
       "      <td>0.05</td>\n",
       "      <td>13</td>\n",
       "    </tr>\n",
       "  </tbody>\n",
       "</table>\n",
       "</div>"
      ],
      "text/plain": [
       "        date        city  precipitation  day_of_year\n",
       "0 2018-01-01  prcp_tampa           0.00            1\n",
       "1 2018-01-02  prcp_tampa           0.02            2\n",
       "2 2018-01-03  prcp_tampa           0.40            3\n",
       "3 2018-01-04  prcp_tampa           0.33            4\n",
       "4 2018-01-05  prcp_tampa           0.00            5\n",
       "5 2018-01-06  prcp_tampa           0.00            6\n",
       "6 2018-01-07  prcp_tampa           0.00            7\n",
       "7 2018-01-08  prcp_tampa           0.00            8\n",
       "8 2018-01-12  prcp_tampa            NaN           12\n",
       "9 2018-01-13  prcp_tampa           0.05           13"
      ]
     },
     "execution_count": 62,
     "metadata": {},
     "output_type": "execute_result"
    }
   ],
   "source": [
    "df['day_of_year'] = pd.DatetimeIndex(df['date']).day_of_year\n",
    "df.head(10)"
   ]
  },
  {
   "cell_type": "markdown",
   "id": "468ae1f3",
   "metadata": {},
   "source": [
    "This line creates a new column day_of_year that represents the day number for each date in the date column."
   ]
  },
  {
   "cell_type": "markdown",
   "id": "ae1f1070",
   "metadata": {},
   "source": [
    "-> In this step the code filters the DataFrame for Seattle data, then groups by the day_of_year column and computes the mean precipitation for each day. "
   ]
  },
  {
   "cell_type": "code",
   "execution_count": 63,
   "id": "c8eecedf",
   "metadata": {},
   "outputs": [],
   "source": [
    "mean_day_precipitation = df.loc[\n",
    "    df['city'] == 'prcp_seattle',  \n",
    "    ['precipitation', 'day_of_year']\n",
    "].groupby('day_of_year').mean().reset_index()"
   ]
  },
  {
   "cell_type": "markdown",
   "id": "3360f207",
   "metadata": {},
   "source": [
    "The ouput is a new DataFrame where each row represents the average rainfall for a specific day of the year providing a clear view of Seattle’s annual precipitation cycle."
   ]
  },
  {
   "cell_type": "markdown",
   "id": "a02ba72b",
   "metadata": {},
   "source": [
    "-> To visually examine Seattle's average rainfall trends throughout the year, I plot the mean daily precipitation for each day of the year, using data averaged across all years. This line plot makes it easy to see how precipitation varies as its crucial for identifying seasonal patterns in Seattle's climate."
   ]
  },
  {
   "cell_type": "code",
   "execution_count": 64,
   "id": "7bd721af",
   "metadata": {},
   "outputs": [
    {
     "data": {
      "text/plain": [
       "<AxesSubplot:xlabel='day_of_year', ylabel='precipitation'>"
      ]
     },
     "execution_count": 64,
     "metadata": {},
     "output_type": "execute_result"
    },
    {
     "data": {
      "image/png": "[encoded data removed]",
      "text/plain": [
       "<Figure size 432x288 with 1 Axes>"
      ]
     },
     "metadata": {},
     "output_type": "display_data"
    }
   ],
   "source": [
    "sns.lineplot(data=mean_day_precipitation, x='day_of_year', y='precipitation')"
   ]
  },
  {
   "cell_type": "markdown",
   "id": "4026de3b",
   "metadata": {},
   "source": [
    "In the graph we observe that Seattle experiences higher average precipitation at the start and end of the year, with a dip during the middle months. This reflects Seattle's characteristic wet winters and dryer summers. The spikes at the ends of the plot indicate typically rainier periods, while the lower lines through the middle correspond to drier months."
   ]
  },
  {
   "cell_type": "markdown",
   "id": "28bc4367",
   "metadata": {},
   "source": [
    "-> By using reset index, we convert day of the year from an index back into a regular column."
   ]
  },
  {
   "cell_type": "code",
   "execution_count": 65,
   "id": "7ff9695a",
   "metadata": {},
   "outputs": [
    {
     "name": "stdout",
     "output_type": "stream",
     "text": [
      "   index  day_of_year  precipitation\n",
      "0      0            1       0.052000\n",
      "1      1            2       0.150000\n",
      "2      2            3       0.836000\n",
      "3      3            4       0.370000\n",
      "4      4            5       0.246667\n"
     ]
    }
   ],
   "source": [
    "mean_day_precipitation = mean_day_precipitation.reset_index()\n",
    "print(mean_day_precipitation.head())"
   ]
  },
  {
   "cell_type": "markdown",
   "id": "51a0c25b",
   "metadata": {},
   "source": [
    "Now we can see the index, day of year and precipitation columns with the mean values for precipitation column."
   ]
  },
  {
   "cell_type": "markdown",
   "id": "1b245fee",
   "metadata": {},
   "source": [
    "-> In this step, the line plot above displays Seattle's mean daily precipitation averaged across all available years for each day of the year. The x-axis represents the day of the year, and the y-axis shows the average precipitation in inches. "
   ]
  },
  {
   "cell_type": "code",
   "execution_count": 66,
   "id": "f57e07df",
   "metadata": {
    "scrolled": true
   },
   "outputs": [
    {
     "data": {
      "image/png": "[encoded data removed]",
      "text/plain": [
       "<Figure size 1440x360 with 1 Axes>"
      ]
     },
     "metadata": {},
     "output_type": "display_data"
    }
   ],
   "source": [
    "plt.figure(figsize=(20, 5))\n",
    "plt.plot(mean_day_precipitation['day_of_year'], mean_day_precipitation['precipitation'])\n",
    "plt.xlabel('Day of the year', fontsize=18)\n",
    "plt.ylabel('Mean precipitation (inches)', fontsize=18)\n",
    "plt.tick_params(labelsize=15)\n",
    "plt.show()"
   ]
  },
  {
   "cell_type": "markdown",
   "id": "c38bb328",
   "metadata": {},
   "source": [
    "From the plot, we observe much higher average rainfall at the very start and end of the year, while the summer months the days roughly between 180 and 270 experience comparatively lower precipitation. This visualization clearly captures Seattle's seasonal rainfall pattern the wet winters and dry summers. The frequent spikes, especially at the beginning and end of year, represent days with unusually high rainfall averaged over multiple years."
   ]
  },
  {
   "cell_type": "code",
   "execution_count": 67,
   "id": "533484ad",
   "metadata": {},
   "outputs": [
    {
     "data": {
      "text/plain": [
       "array([   8,  122,  185,  348,  483,  632,  737,  974,  975, 1027, 1091,\n",
       "       1477, 1535, 1613, 1649, 1731, 1741, 1742, 1743, 1744, 1745, 1746,\n",
       "       1747, 1748, 1749, 1750, 1751, 1752, 1753, 1754, 1755, 1756, 1757,\n",
       "       1758, 1759, 1760, 1761, 1762, 1763, 1764, 1765, 1766, 1767, 1768,\n",
       "       1769, 1770, 1771, 1772, 1773, 1774, 1775, 1776, 1777, 1778, 1779,\n",
       "       1780, 1781, 1782, 1783, 1784, 1785, 1786, 1787, 1788, 1789, 1790,\n",
       "       1791, 1792, 1793, 1794, 1795, 1796, 1797, 1798, 1799, 1800, 1801,\n",
       "       1802, 1803, 1804, 1805, 1806, 1807, 1808, 1809, 1810, 1811, 1820,\n",
       "       1821, 1822, 1823, 1824, 1825, 1826, 1827, 1828, 1829, 1830, 1831,\n",
       "       1832, 1833, 1834, 1835, 1836, 1837, 1838, 1839, 1840, 1841, 1842,\n",
       "       1843, 1844, 1845, 1846, 1847, 1848, 1849, 1850, 1851, 1852, 1853,\n",
       "       1854, 1855, 1856, 1857, 1858, 1859, 1860, 1861, 1862, 1863, 1864,\n",
       "       1865, 1866, 1867, 1868, 1869, 1870, 1871, 1872, 1873, 1874, 1875,\n",
       "       1876, 1877, 1878, 2056, 2097, 2098, 2099, 2100, 2101, 2102, 2103,\n",
       "       2104, 2105, 2106, 2174, 2175, 2204, 2205, 2206, 2207, 2208, 2209,\n",
       "       2244, 2245, 2306, 2307, 2312, 2313, 2314, 2315, 2316, 2317, 2318,\n",
       "       2319, 2320, 2321, 2361, 2362, 2363, 2364, 2365, 2366, 2367, 2460,\n",
       "       2461, 2462, 2463, 2464, 2465, 2466, 2467, 2501, 2502, 2503, 2544,\n",
       "       2545, 2546, 2547, 2548, 2549, 2550, 2551, 2552, 2755, 2756, 2757,\n",
       "       2758, 2759, 2760, 2761, 2762, 2763, 2764, 2907, 2908, 2910, 2911,\n",
       "       2912, 2924, 2925, 2928, 2929, 2930, 2932, 2933, 2934, 2935, 2936,\n",
       "       2937, 3054, 3055, 3056, 3068, 3069, 3070, 3071, 3072, 3073, 3074,\n",
       "       3075, 3076, 3077, 3078, 3079, 3080, 3081, 3082, 3083, 3084, 3283,\n",
       "       3284, 3285, 3286, 3287, 3288, 3571, 3600, 3604, 3605, 3608],\n",
       "      dtype=int64)"
      ]
     },
     "execution_count": 67,
     "metadata": {},
     "output_type": "execute_result"
    }
   ],
   "source": [
    "indices = np.where(df['precipitation'].isna() == True)[0]\n",
    "indices"
   ]
  },
  {
   "cell_type": "markdown",
   "id": "05d394e0",
   "metadata": {},
   "source": [
    "## HANDLING MISSING VALUES\n"
   ]
  },
  {
   "cell_type": "markdown",
   "id": "2b085538",
   "metadata": {},
   "source": [
    "Here we are checking if the null values are present in the dataframe."
   ]
  },
  {
   "cell_type": "code",
   "execution_count": 68,
   "id": "a39b2ee4",
   "metadata": {},
   "outputs": [
    {
     "data": {
      "text/plain": [
       "date               0\n",
       "city               0\n",
       "precipitation    263\n",
       "day_of_year        0\n",
       "dtype: int64"
      ]
     },
     "execution_count": 68,
     "metadata": {},
     "output_type": "execute_result"
    }
   ],
   "source": [
    "df.isna().sum()"
   ]
  },
  {
   "cell_type": "markdown",
   "id": "0643e6ba",
   "metadata": {},
   "source": [
    "As per the ouput we can see the presence of null values in the precipitation attribute, we have to handle the null values in the further analysis."
   ]
  },
  {
   "cell_type": "markdown",
   "id": "6616ab02",
   "metadata": {},
   "source": [
    "-> Here this block calculates the average precipitation for each day of the year and fills the missing precipitation values with days average. This fills the missing values in the precipitation column by replacing them with the mean precipitation for the specific day of the year."
   ]
  },
  {
   "cell_type": "code",
   "execution_count": 69,
   "id": "237480ba",
   "metadata": {},
   "outputs": [],
   "source": [
    "mean_day_precipitation = df.groupby(\"day_of_year\")[\"precipitation\"].mean()\n",
    "df[\"precipitation\"] = df[\"precipitation\"].fillna(\n",
    "    df[\"day_of_year\"].map(mean_day_precipitation)\n",
    ")\n"
   ]
  },
  {
   "cell_type": "code",
   "execution_count": 70,
   "id": "35599857",
   "metadata": {},
   "outputs": [
    {
     "data": {
      "text/plain": [
       "date             0\n",
       "city             0\n",
       "precipitation    0\n",
       "day_of_year      0\n",
       "dtype: int64"
      ]
     },
     "execution_count": 70,
     "metadata": {},
     "output_type": "execute_result"
    }
   ],
   "source": [
    "df.isna().sum()"
   ]
  },
  {
   "cell_type": "markdown",
   "id": "1569495c",
   "metadata": {},
   "source": [
    "We can see the null values are handled for the further analysing."
   ]
  },
  {
   "cell_type": "code",
   "execution_count": 71,
   "id": "e3b12738",
   "metadata": {},
   "outputs": [],
   "source": [
    "df.to_csv('clean_seattle_tampa_weather.csv', encoding='utf-8-sig', index=False)"
   ]
  },
  {
   "cell_type": "markdown",
   "id": "eedede1c",
   "metadata": {},
   "source": [
    "This block exports the final cleaned weather dataset to a CSV file with proper structure, making it ready for further analysis."
   ]
  },
  {
   "cell_type": "markdown",
   "id": "55fa4940",
   "metadata": {},
   "source": [
    "# VISUALIZATIONS\n",
    "\n",
    "\n",
    "-> In This block of code generates a line graph that visualizes the daily precipitation trends for both cities Tampa and Seattle. This plot reflects the new precipitation values after filling missing data, providing a continuous and accurate representation of daily rainfall over the years. It helps visually compare how often and how much it rains in Tampa versus Seattle, highlighting seasonal patterns and extreme precipitation events in both cities."
   ]
  },
  {
   "cell_type": "code",
   "execution_count": 72,
   "id": "0d221dc8",
   "metadata": {},
   "outputs": [
    {
     "data": {
      "image/png": "[encoded data removed]",
      "text/plain": [
       "<Figure size 1440x360 with 1 Axes>"
      ]
     },
     "metadata": {},
     "output_type": "display_data"
    }
   ],
   "source": [
    "plt.figure(figsize=(20, 5))\n",
    "\n",
    "sns.lineplot(data=df, x='date', y='precipitation', hue='city')\n",
    "\n",
    "plt.xlabel('Date', fontsize=15)\n",
    "plt.ylabel('Daily precipitation (inches)', fontsize=15)\n",
    "\n",
    "plt.tick_params(labelsize=15)\n",
    "\n",
    "plt.show()"
   ]
  },
  {
   "cell_type": "markdown",
   "id": "6e8d4a0c",
   "metadata": {},
   "source": [
    "-> This block of code calculates and displays summary statistics for daily precipitation for each city. "
   ]
  },
  {
   "cell_type": "code",
   "execution_count": 73,
   "id": "d2e46f46",
   "metadata": {},
   "outputs": [
    {
     "data": {
      "text/html": [
       "<div>\n",
       "<style scoped>\n",
       "    .dataframe tbody tr th:only-of-type {\n",
       "        vertical-align: middle;\n",
       "    }\n",
       "\n",
       "    .dataframe tbody tr th {\n",
       "        vertical-align: top;\n",
       "    }\n",
       "\n",
       "    .dataframe thead tr th {\n",
       "        text-align: left;\n",
       "    }\n",
       "\n",
       "    .dataframe thead tr:last-of-type th {\n",
       "        text-align: right;\n",
       "    }\n",
       "</style>\n",
       "<table border=\"1\" class=\"dataframe\">\n",
       "  <thead>\n",
       "    <tr>\n",
       "      <th></th>\n",
       "      <th colspan=\"8\" halign=\"left\">precipitation</th>\n",
       "    </tr>\n",
       "    <tr>\n",
       "      <th></th>\n",
       "      <th>count</th>\n",
       "      <th>mean</th>\n",
       "      <th>std</th>\n",
       "      <th>min</th>\n",
       "      <th>25%</th>\n",
       "      <th>50%</th>\n",
       "      <th>75%</th>\n",
       "      <th>max</th>\n",
       "    </tr>\n",
       "    <tr>\n",
       "      <th>city</th>\n",
       "      <th></th>\n",
       "      <th></th>\n",
       "      <th></th>\n",
       "      <th></th>\n",
       "      <th></th>\n",
       "      <th></th>\n",
       "      <th></th>\n",
       "      <th></th>\n",
       "    </tr>\n",
       "  </thead>\n",
       "  <tbody>\n",
       "    <tr>\n",
       "      <th>prcp_seattle</th>\n",
       "      <td>1812.0</td>\n",
       "      <td>0.113754</td>\n",
       "      <td>0.240161</td>\n",
       "      <td>0.0</td>\n",
       "      <td>0.0</td>\n",
       "      <td>0.01</td>\n",
       "      <td>0.12</td>\n",
       "      <td>2.60</td>\n",
       "    </tr>\n",
       "    <tr>\n",
       "      <th>prcp_tampa</th>\n",
       "      <td>1812.0</td>\n",
       "      <td>0.172687</td>\n",
       "      <td>0.485871</td>\n",
       "      <td>0.0</td>\n",
       "      <td>0.0</td>\n",
       "      <td>0.00</td>\n",
       "      <td>0.07</td>\n",
       "      <td>6.23</td>\n",
       "    </tr>\n",
       "  </tbody>\n",
       "</table>\n",
       "</div>"
      ],
      "text/plain": [
       "             precipitation                                                \n",
       "                     count      mean       std  min  25%   50%   75%   max\n",
       "city                                                                      \n",
       "prcp_seattle        1812.0  0.113754  0.240161  0.0  0.0  0.01  0.12  2.60\n",
       "prcp_tampa          1812.0  0.172687  0.485871  0.0  0.0  0.00  0.07  6.23"
      ]
     },
     "execution_count": 73,
     "metadata": {},
     "output_type": "execute_result"
    }
   ],
   "source": [
    "df[['city','precipitation']].groupby('city').describe()"
   ]
  },
  {
   "cell_type": "markdown",
   "id": "45c79343",
   "metadata": {},
   "source": [
    "It groups the data by city and provides descriptive measures such as count, mean, standard deviation, minimum, quartiles, and maximum precipitation values. This gives a comprehensive statistical overview of how rainfall is distributed in Seattle and Tampa."
   ]
  },
  {
   "cell_type": "code",
   "execution_count": 74,
   "id": "b0e79891",
   "metadata": {},
   "outputs": [
    {
     "data": {
      "text/html": [
       "<div>\n",
       "<style scoped>\n",
       "    .dataframe tbody tr th:only-of-type {\n",
       "        vertical-align: middle;\n",
       "    }\n",
       "\n",
       "    .dataframe tbody tr th {\n",
       "        vertical-align: top;\n",
       "    }\n",
       "\n",
       "    .dataframe thead th {\n",
       "        text-align: right;\n",
       "    }\n",
       "</style>\n",
       "<table border=\"1\" class=\"dataframe\">\n",
       "  <thead>\n",
       "    <tr style=\"text-align: right;\">\n",
       "      <th></th>\n",
       "      <th>precipitation</th>\n",
       "    </tr>\n",
       "    <tr>\n",
       "      <th>city</th>\n",
       "      <th></th>\n",
       "    </tr>\n",
       "  </thead>\n",
       "  <tbody>\n",
       "    <tr>\n",
       "      <th>prcp_seattle</th>\n",
       "      <td>0.113754</td>\n",
       "    </tr>\n",
       "    <tr>\n",
       "      <th>prcp_tampa</th>\n",
       "      <td>0.172687</td>\n",
       "    </tr>\n",
       "  </tbody>\n",
       "</table>\n",
       "</div>"
      ],
      "text/plain": [
       "              precipitation\n",
       "city                       \n",
       "prcp_seattle       0.113754\n",
       "prcp_tampa         0.172687"
      ]
     },
     "execution_count": 74,
     "metadata": {},
     "output_type": "execute_result"
    }
   ],
   "source": [
    "df[['city','precipitation']].groupby('city').mean()"
   ]
  },
  {
   "cell_type": "markdown",
   "id": "41ae09a7",
   "metadata": {},
   "source": [
    "-> This calculates and shows the mean daily precipitation amount in inches. The y-axis represents the average rainfall per day across all days, including dry ones where precipitation = 0. "
   ]
  },
  {
   "cell_type": "code",
   "execution_count": 75,
   "id": "02f572b4",
   "metadata": {},
   "outputs": [
    {
     "data": {
      "image/png": "[encoded data removed]",
      "text/plain": [
       "<Figure size 432x288 with 1 Axes>"
      ]
     },
     "metadata": {},
     "output_type": "display_data"
    }
   ],
   "source": [
    "sns.barplot(data=df, x='city', y='precipitation')\n",
    "\n",
    "plt.ylabel('precipitation(inches)', fontsize=15)\n",
    "plt.xlabel('city',fontsize=15)\n",
    "plt.ylabel('MeanDaily precipitation (inches)', fontsize=15)\n",
    "\n",
    "plt.tick_params(labelsize=15)\n",
    "\n",
    "plt.show()"
   ]
  },
  {
   "cell_type": "markdown",
   "id": "7915fdde",
   "metadata": {},
   "source": [
    "From the ouput, Tampa averages around 0.18 inches/day tall bar, while Seattle is around 0.12 inches/day. This metric emphasizes rainfall intensity and total volume, answering How much does it rain on average per day? which Highlights average rainfall amounts, showing Tampa as rainier overall in terms of volume. "
   ]
  },
  {
   "cell_type": "code",
   "execution_count": 76,
   "id": "49d9bec2",
   "metadata": {},
   "outputs": [
    {
     "data": {
      "text/html": [
       "<div>\n",
       "<style scoped>\n",
       "    .dataframe tbody tr th:only-of-type {\n",
       "        vertical-align: middle;\n",
       "    }\n",
       "\n",
       "    .dataframe tbody tr th {\n",
       "        vertical-align: top;\n",
       "    }\n",
       "\n",
       "    .dataframe thead th {\n",
       "        text-align: right;\n",
       "    }\n",
       "</style>\n",
       "<table border=\"1\" class=\"dataframe\">\n",
       "  <thead>\n",
       "    <tr style=\"text-align: right;\">\n",
       "      <th></th>\n",
       "      <th>date</th>\n",
       "      <th>city</th>\n",
       "      <th>precipitation</th>\n",
       "      <th>day_of_year</th>\n",
       "      <th>month</th>\n",
       "    </tr>\n",
       "  </thead>\n",
       "  <tbody>\n",
       "    <tr>\n",
       "      <th>0</th>\n",
       "      <td>2018-01-01</td>\n",
       "      <td>prcp_tampa</td>\n",
       "      <td>0.00</td>\n",
       "      <td>1</td>\n",
       "      <td>1</td>\n",
       "    </tr>\n",
       "    <tr>\n",
       "      <th>1</th>\n",
       "      <td>2018-01-02</td>\n",
       "      <td>prcp_tampa</td>\n",
       "      <td>0.02</td>\n",
       "      <td>2</td>\n",
       "      <td>1</td>\n",
       "    </tr>\n",
       "    <tr>\n",
       "      <th>2</th>\n",
       "      <td>2018-01-03</td>\n",
       "      <td>prcp_tampa</td>\n",
       "      <td>0.40</td>\n",
       "      <td>3</td>\n",
       "      <td>1</td>\n",
       "    </tr>\n",
       "    <tr>\n",
       "      <th>3</th>\n",
       "      <td>2018-01-04</td>\n",
       "      <td>prcp_tampa</td>\n",
       "      <td>0.33</td>\n",
       "      <td>4</td>\n",
       "      <td>1</td>\n",
       "    </tr>\n",
       "    <tr>\n",
       "      <th>4</th>\n",
       "      <td>2018-01-05</td>\n",
       "      <td>prcp_tampa</td>\n",
       "      <td>0.00</td>\n",
       "      <td>5</td>\n",
       "      <td>1</td>\n",
       "    </tr>\n",
       "  </tbody>\n",
       "</table>\n",
       "</div>"
      ],
      "text/plain": [
       "        date        city  precipitation  day_of_year  month\n",
       "0 2018-01-01  prcp_tampa           0.00            1      1\n",
       "1 2018-01-02  prcp_tampa           0.02            2      1\n",
       "2 2018-01-03  prcp_tampa           0.40            3      1\n",
       "3 2018-01-04  prcp_tampa           0.33            4      1\n",
       "4 2018-01-05  prcp_tampa           0.00            5      1"
      ]
     },
     "execution_count": 76,
     "metadata": {},
     "output_type": "execute_result"
    }
   ],
   "source": [
    "df['month']=pd.DatetimeIndex(df['date']).month\n",
    "df.head()"
   ]
  },
  {
   "cell_type": "code",
   "execution_count": 77,
   "id": "cae58683",
   "metadata": {},
   "outputs": [
    {
     "data": {
      "text/plain": [
       "array([ 1,  2,  3,  4,  5,  6,  7,  8,  9, 10, 11, 12], dtype=int64)"
      ]
     },
     "execution_count": 77,
     "metadata": {},
     "output_type": "execute_result"
    }
   ],
   "source": [
    "df['month'].unique()"
   ]
  },
  {
   "cell_type": "markdown",
   "id": "d0012f20",
   "metadata": {},
   "source": [
    "-> This step helps To gain deeper insights into the seasonal patterns and variability of daily precipitation in Tampa and Seattle, we can group the data by month and visualize the distributions using a boxplot. "
   ]
  },
  {
   "cell_type": "code",
   "execution_count": 78,
   "id": "304f025c",
   "metadata": {},
   "outputs": [
    {
     "data": {
      "image/png": "[encoded data removed]",
      "text/plain": [
       "<Figure size 1440x288 with 1 Axes>"
      ]
     },
     "metadata": {},
     "output_type": "display_data"
    }
   ],
   "source": [
    "plt.figure(figsize=(20, 4))\n",
    "\n",
    "sns.boxplot(data=df, x='month', y='precipitation', hue='city')\n",
    "\n",
    "plt.xlabel('month', fontsize=15)\n",
    "plt.ylabel('precipitation (inches)', fontsize=15)\n",
    "\n",
    "plt.tick_params(labelsize=15)\n",
    "\n",
    "\n",
    "import calendar\n",
    "month_names=list(calendar.month_name[1:])\n",
    "plt.xticks(ticks=range(12),labels=month_names)\n",
    "plt.show()"
   ]
  },
  {
   "cell_type": "markdown",
   "id": "51538b96",
   "metadata": {},
   "source": [
    "It creates a horizontal boxplot showing the distribution of daily precipitation for each month, separated by city. This plot will show the median, quartiles, and outliers for each month's precipitation values, separated by city, allowing us to compare not just averages but the full range of daily rainfall throughout the year."
   ]
  },
  {
   "cell_type": "code",
   "execution_count": 79,
   "id": "275bad63",
   "metadata": {},
   "outputs": [
    {
     "data": {
      "image/png": "[encoded data removed]",
      "text/plain": [
       "<Figure size 1080x576 with 1 Axes>"
      ]
     },
     "metadata": {},
     "output_type": "display_data"
    }
   ],
   "source": [
    "plt.figure(figsize=(15, 8))\n",
    "\n",
    "sns.boxplot(data=df, x='precipitation', y='month', hue='city', orient='h')\n",
    "\n",
    "plt.ylabel('precipitation (inches)', fontsize=15)\n",
    "plt.xlabel('month', fontsize=15)\n",
    "\n",
    "plt.tick_params(labelsize=15)\n",
    "plt.yticks(ticks=range(12),labels=month_names)\n",
    "plt.show()"
   ]
  },
  {
   "cell_type": "markdown",
   "id": "ff436af0",
   "metadata": {},
   "source": [
    "The code has swapped x and y labels to correct them as shown below for accuracy (xlabel for precipitation, ylabel for month). Assuming the DataFrame df is already in long format with 'month', 'city', and 'precipitation' columns as prepared earlier. This helps us see the boxplots better than the above one."
   ]
  },
  {
   "cell_type": "markdown",
   "id": "40b70c12",
   "metadata": {},
   "source": [
    "-> This block plots To zoom in on the lower range of daily precipitation values for a clearer comparison of typical rainfall patterns across months in Tampa and Seattle, we can apply a y-axis limit to the boxplot."
   ]
  },
  {
   "cell_type": "code",
   "execution_count": 80,
   "id": "3d3344bb",
   "metadata": {},
   "outputs": [
    {
     "data": {
      "image/png": "[encoded data removed]",
      "text/plain": [
       "<Figure size 1440x288 with 1 Axes>"
      ]
     },
     "metadata": {},
     "output_type": "display_data"
    }
   ],
   "source": [
    "plt.figure(figsize=(20, 4))\n",
    "\n",
    "sns.boxplot(data=df, x='month', y='precipitation', hue='city')\n",
    "\n",
    "plt.xlabel('month', fontsize=15)\n",
    "plt.ylabel('precipitation (inches)', fontsize=15)\n",
    "\n",
    "plt.tick_params(labelsize=15)\n",
    "plt.yticks(ticks=range(12),labels=month_names)\n",
    "plt.ylim(0,0.4)\n",
    "plt.show()"
   ]
  },
  {
   "cell_type": "markdown",
   "id": "cf0b5207",
   "metadata": {},
   "source": [
    "-> To examine the full distribution of daily precipitation across months for Tampa and Seattle without any axis limits, we can generate a standard vertical boxplot. This visualization reveals the medians, interquartile ranges, outliers, and overall spread for each month, differentiated by city, helping to identify seasonal patterns such as higher variability in certain months due to weather events."
   ]
  },
  {
   "cell_type": "code",
   "execution_count": 81,
   "id": "d317a061",
   "metadata": {},
   "outputs": [
    {
     "data": {
      "image/png": "[encoded data removed]",
      "text/plain": [
       "<Figure size 1440x288 with 1 Axes>"
      ]
     },
     "metadata": {},
     "output_type": "display_data"
    }
   ],
   "source": [
    "plt.figure(figsize=(20, 4))\n",
    "\n",
    "sns.boxplot(data=df, x='month', y='precipitation', hue='city')\n",
    "\n",
    "plt.xlabel('month', fontsize=15)\n",
    "plt.ylabel('precipitation (inches)', fontsize=15)\n",
    "\n",
    "plt.tick_params(labelsize=15)\n",
    "plt.yticks(ticks=range(12),labels=month_names)\n",
    "\n",
    "plt.show()"
   ]
  },
  {
   "cell_type": "markdown",
   "id": "428151f8",
   "metadata": {},
   "source": [
    "This lets us compute the precipitation based on cities by each month"
   ]
  },
  {
   "cell_type": "code",
   "execution_count": 82,
   "id": "45812016",
   "metadata": {},
   "outputs": [
    {
     "data": {
      "text/html": [
       "<div>\n",
       "<style scoped>\n",
       "    .dataframe tbody tr th:only-of-type {\n",
       "        vertical-align: middle;\n",
       "    }\n",
       "\n",
       "    .dataframe tbody tr th {\n",
       "        vertical-align: top;\n",
       "    }\n",
       "\n",
       "    .dataframe thead th {\n",
       "        text-align: right;\n",
       "    }\n",
       "</style>\n",
       "<table border=\"1\" class=\"dataframe\">\n",
       "  <thead>\n",
       "    <tr style=\"text-align: right;\">\n",
       "      <th></th>\n",
       "      <th></th>\n",
       "      <th>precipitation</th>\n",
       "    </tr>\n",
       "    <tr>\n",
       "      <th>city</th>\n",
       "      <th>month</th>\n",
       "      <th></th>\n",
       "    </tr>\n",
       "  </thead>\n",
       "  <tbody>\n",
       "    <tr>\n",
       "      <th rowspan=\"12\" valign=\"top\">prcp_seattle</th>\n",
       "      <th>1</th>\n",
       "      <td>0.214443</td>\n",
       "    </tr>\n",
       "    <tr>\n",
       "      <th>2</th>\n",
       "      <td>0.160865</td>\n",
       "    </tr>\n",
       "    <tr>\n",
       "      <th>3</th>\n",
       "      <td>0.081388</td>\n",
       "    </tr>\n",
       "    <tr>\n",
       "      <th>4</th>\n",
       "      <td>0.102789</td>\n",
       "    </tr>\n",
       "    <tr>\n",
       "      <th>5</th>\n",
       "      <td>0.069161</td>\n",
       "    </tr>\n",
       "    <tr>\n",
       "      <th>6</th>\n",
       "      <td>0.065781</td>\n",
       "    </tr>\n",
       "    <tr>\n",
       "      <th>7</th>\n",
       "      <td>0.021194</td>\n",
       "    </tr>\n",
       "    <tr>\n",
       "      <th>8</th>\n",
       "      <td>0.059116</td>\n",
       "    </tr>\n",
       "    <tr>\n",
       "      <th>9</th>\n",
       "      <td>0.059427</td>\n",
       "    </tr>\n",
       "    <tr>\n",
       "      <th>10</th>\n",
       "      <td>0.118452</td>\n",
       "    </tr>\n",
       "    <tr>\n",
       "      <th>11</th>\n",
       "      <td>0.194812</td>\n",
       "    </tr>\n",
       "    <tr>\n",
       "      <th>12</th>\n",
       "      <td>0.224903</td>\n",
       "    </tr>\n",
       "    <tr>\n",
       "      <th rowspan=\"12\" valign=\"top\">prcp_tampa</th>\n",
       "      <th>1</th>\n",
       "      <td>0.081050</td>\n",
       "    </tr>\n",
       "    <tr>\n",
       "      <th>2</th>\n",
       "      <td>0.070700</td>\n",
       "    </tr>\n",
       "    <tr>\n",
       "      <th>3</th>\n",
       "      <td>0.036262</td>\n",
       "    </tr>\n",
       "    <tr>\n",
       "      <th>4</th>\n",
       "      <td>0.165861</td>\n",
       "    </tr>\n",
       "    <tr>\n",
       "      <th>5</th>\n",
       "      <td>0.113441</td>\n",
       "    </tr>\n",
       "    <tr>\n",
       "      <th>6</th>\n",
       "      <td>0.302559</td>\n",
       "    </tr>\n",
       "    <tr>\n",
       "      <th>7</th>\n",
       "      <td>0.313311</td>\n",
       "    </tr>\n",
       "    <tr>\n",
       "      <th>8</th>\n",
       "      <td>0.381831</td>\n",
       "    </tr>\n",
       "    <tr>\n",
       "      <th>9</th>\n",
       "      <td>0.238125</td>\n",
       "    </tr>\n",
       "    <tr>\n",
       "      <th>10</th>\n",
       "      <td>0.092502</td>\n",
       "    </tr>\n",
       "    <tr>\n",
       "      <th>11</th>\n",
       "      <td>0.129175</td>\n",
       "    </tr>\n",
       "    <tr>\n",
       "      <th>12</th>\n",
       "      <td>0.133957</td>\n",
       "    </tr>\n",
       "  </tbody>\n",
       "</table>\n",
       "</div>"
      ],
      "text/plain": [
       "                    precipitation\n",
       "city         month               \n",
       "prcp_seattle 1           0.214443\n",
       "             2           0.160865\n",
       "             3           0.081388\n",
       "             4           0.102789\n",
       "             5           0.069161\n",
       "             6           0.065781\n",
       "             7           0.021194\n",
       "             8           0.059116\n",
       "             9           0.059427\n",
       "             10          0.118452\n",
       "             11          0.194812\n",
       "             12          0.224903\n",
       "prcp_tampa   1           0.081050\n",
       "             2           0.070700\n",
       "             3           0.036262\n",
       "             4           0.165861\n",
       "             5           0.113441\n",
       "             6           0.302559\n",
       "             7           0.313311\n",
       "             8           0.381831\n",
       "             9           0.238125\n",
       "             10          0.092502\n",
       "             11          0.129175\n",
       "             12          0.133957"
      ]
     },
     "execution_count": 82,
     "metadata": {},
     "output_type": "execute_result"
    }
   ],
   "source": [
    "df[['month', 'precipitation','city']].groupby(['city','month']).mean()"
   ]
  },
  {
   "cell_type": "code",
   "execution_count": 83,
   "id": "0da31656",
   "metadata": {},
   "outputs": [
    {
     "data": {
      "text/html": [
       "<div>\n",
       "<style scoped>\n",
       "    .dataframe tbody tr th:only-of-type {\n",
       "        vertical-align: middle;\n",
       "    }\n",
       "\n",
       "    .dataframe tbody tr th {\n",
       "        vertical-align: top;\n",
       "    }\n",
       "\n",
       "    .dataframe thead th {\n",
       "        text-align: right;\n",
       "    }\n",
       "</style>\n",
       "<table border=\"1\" class=\"dataframe\">\n",
       "  <thead>\n",
       "    <tr style=\"text-align: right;\">\n",
       "      <th></th>\n",
       "      <th>date</th>\n",
       "      <th>city</th>\n",
       "      <th>precipitation</th>\n",
       "      <th>day_of_year</th>\n",
       "      <th>month</th>\n",
       "      <th>any_precipitation</th>\n",
       "    </tr>\n",
       "  </thead>\n",
       "  <tbody>\n",
       "    <tr>\n",
       "      <th>0</th>\n",
       "      <td>2018-01-01</td>\n",
       "      <td>prcp_tampa</td>\n",
       "      <td>0.00</td>\n",
       "      <td>1</td>\n",
       "      <td>1</td>\n",
       "      <td>False</td>\n",
       "    </tr>\n",
       "    <tr>\n",
       "      <th>1</th>\n",
       "      <td>2018-01-02</td>\n",
       "      <td>prcp_tampa</td>\n",
       "      <td>0.02</td>\n",
       "      <td>2</td>\n",
       "      <td>1</td>\n",
       "      <td>True</td>\n",
       "    </tr>\n",
       "    <tr>\n",
       "      <th>2</th>\n",
       "      <td>2018-01-03</td>\n",
       "      <td>prcp_tampa</td>\n",
       "      <td>0.40</td>\n",
       "      <td>3</td>\n",
       "      <td>1</td>\n",
       "      <td>True</td>\n",
       "    </tr>\n",
       "    <tr>\n",
       "      <th>3</th>\n",
       "      <td>2018-01-04</td>\n",
       "      <td>prcp_tampa</td>\n",
       "      <td>0.33</td>\n",
       "      <td>4</td>\n",
       "      <td>1</td>\n",
       "      <td>True</td>\n",
       "    </tr>\n",
       "    <tr>\n",
       "      <th>4</th>\n",
       "      <td>2018-01-05</td>\n",
       "      <td>prcp_tampa</td>\n",
       "      <td>0.00</td>\n",
       "      <td>5</td>\n",
       "      <td>1</td>\n",
       "      <td>False</td>\n",
       "    </tr>\n",
       "  </tbody>\n",
       "</table>\n",
       "</div>"
      ],
      "text/plain": [
       "        date        city  precipitation  day_of_year  month  any_precipitation\n",
       "0 2018-01-01  prcp_tampa           0.00            1      1              False\n",
       "1 2018-01-02  prcp_tampa           0.02            2      1               True\n",
       "2 2018-01-03  prcp_tampa           0.40            3      1               True\n",
       "3 2018-01-04  prcp_tampa           0.33            4      1               True\n",
       "4 2018-01-05  prcp_tampa           0.00            5      1              False"
      ]
     },
     "execution_count": 83,
     "metadata": {},
     "output_type": "execute_result"
    }
   ],
   "source": [
    "df['any_precipitation']=df['precipitation']>0\n",
    "df.head()"
   ]
  },
  {
   "cell_type": "markdown",
   "id": "ffe637d4",
   "metadata": {},
   "source": [
    "-> In this step It visualizes the proportion of days with precipitation per city as bars and how frequently it rains in Tampa versus Seattle, we can compute the proportion of days with any precipitation. This provides a different perspective from average rainfall amounts, focusing on the occurrence of rainy days rather than intensity."
   ]
  },
  {
   "cell_type": "code",
   "execution_count": 84,
   "id": "19d19b3d",
   "metadata": {},
   "outputs": [
    {
     "data": {
      "image/png": "[encoded data removed]",
      "text/plain": [
       "<Figure size 432x288 with 1 Axes>"
      ]
     },
     "metadata": {},
     "output_type": "display_data"
    }
   ],
   "source": [
    "sns.barplot(data=df, x='city', y='precipitation', ci=None)\n",
    "\n",
    "plt.xlabel('City', fontsize=15)\n",
    "plt.ylabel('Proportion days with precipitation', fontsize=15)\n",
    "\n",
    "plt.tick_params(labelsize=15)\n",
    "plt.show()"
   ]
  },
  {
   "cell_type": "markdown",
   "id": "6d5532ba",
   "metadata": {},
   "source": [
    "The graph illustrates that, according to the data, Tampa experiences precipitation on a higher proportion of days around 0.15 or 15% compared to Seattle which is about 0.10 or 10%, highlighting potential differences in weather patterns such as more frequent but possibly lighter rain in Tampa."
   ]
  },
  {
   "cell_type": "markdown",
   "id": "cfb4d16b",
   "metadata": {},
   "source": [
    "-> In this step to break down the frequency of rainy days on a monthly basis for Tampa and Seattle, we  group the data by city and month, then compute the average of the any_precipitation indicator. This yields the proportion of rainy days per month for each city. A bar plot is then used to visualize these proportions side-by-side, facilitating a comparison of seasonal rainfall frequency patterns between the two locations."
   ]
  },
  {
   "cell_type": "code",
   "execution_count": 85,
   "id": "456d756a",
   "metadata": {},
   "outputs": [
    {
     "data": {
      "image/png": "[encoded data removed]",
      "text/plain": [
       "<Figure size 1440x432 with 1 Axes>"
      ]
     },
     "metadata": {},
     "output_type": "display_data"
    }
   ],
   "source": [
    "df['city'] = df['city'].replace({'prcp_tampa': 'Tampa', 'prcp_seattle': 'Seattle'})\n",
    "proportion_by_month = (\n",
    "    df.groupby(['city', 'month'])['any_precipitation']\n",
    "    .mean()\n",
    "    .reset_index()\n",
    ")\n",
    "plt.figure(figsize=(20, 6))\n",
    "sns.barplot(data=proportion_by_month, x='month', y='any_precipitation', hue='city')\n",
    "\n",
    "plt.ylabel('Proportion of days with precipitation', fontsize=13)\n",
    "plt.xlabel(None)\n",
    "plt.xticks(ticks=range(12), labels=month_names)\n",
    "plt.tick_params(labelsize=15)\n",
    "plt.ylim(0, 1)\n",
    "plt.title('Monthly Proportion of Rainy Days by City', fontsize=16)\n",
    "plt.legend(title='City', fontsize=13)\n",
    "plt.show()"
   ]
  },
  {
   "cell_type": "markdown",
   "id": "3f4c1777",
   "metadata": {},
   "source": [
    "The graph reveals contrasting seasonal trends Seattle experiences a higher proportion of rainy days during the fall and winter months 0.8 mostly in November and December, with drier summers dropping to about 0.2 in July and August. Along with this, Tampa shows the reverse, with rainy day proportions spiking in the summer rainy season around 0.6-0.7 in June through August and lower values in winter around 0.2. "
   ]
  },
  {
   "cell_type": "markdown",
   "id": "947bb17b",
   "metadata": {},
   "source": [
    "-> In this Step, To inspect the daily precipitation amounts in January for Tampa and Seattle, we filter the melted DataFrame to include only data from month 1 that is January and use a histogram to visualize the frequency of different precipitation levels. which helps reveal patterns such as the prevalence of dry days at 0 inches versus days with varying rainfall intensities."
   ]
  },
  {
   "cell_type": "code",
   "execution_count": 86,
   "id": "d3872479",
   "metadata": {},
   "outputs": [
    {
     "data": {
      "image/png": "[encoded data removed]",
      "text/plain": [
       "<Figure size 360x288 with 1 Axes>"
      ]
     },
     "metadata": {},
     "output_type": "display_data"
    }
   ],
   "source": [
    "plt.figure(figsize=(5, 4))\n",
    "\n",
    "sns.histplot(data=df.loc[df['month']==1], x='precipitation', hue='city')\n",
    "\n",
    "plt.xlabel('precipitation (inches)', fontsize=15)\n",
    "plt.ylabel('Number of days', fontsize=15)\n",
    "plt.title('Precipitation in January', fontsize=15)\n",
    "\n",
    "plt.tick_params(labelsize=15)\n",
    "\n",
    "\n",
    "plt.show()"
   ]
  },
  {
   "cell_type": "markdown",
   "id": "75f529c9",
   "metadata": {},
   "source": [
    "The graph shows that both cities experience a large number of dry or near-dry days in January, but Tampa has a higher frequency of days with low to moderate precipitation compared to Seattle, indicating more frequent light rain events in Tampa during this winter month. Seattle's distribution is more skewed toward zero, with fewer rainy days overall."
   ]
  },
  {
   "cell_type": "markdown",
   "id": "128ab073",
   "metadata": {},
   "source": [
    "-> Here we are importing the stats module from scipy to use its statistical functions later in our analysis."
   ]
  },
  {
   "cell_type": "code",
   "execution_count": 87,
   "id": "85326397",
   "metadata": {},
   "outputs": [
    {
     "name": "stdout",
     "output_type": "stream",
     "text": [
      "Index(['date', 'city', 'precipitation', 'day_of_year', 'month',\n",
      "       'any_precipitation'],\n",
      "      dtype='object')\n",
      "0    1\n",
      "1    1\n",
      "2    1\n",
      "3    1\n",
      "4    1\n",
      "Name: month, dtype: int64\n",
      "['Tampa' 'Seattle']\n"
     ]
    }
   ],
   "source": [
    "from scipy import stats\n",
    "print(df.columns)          \n",
    "print(df['month'].head()) \n",
    "print(df['city'].unique())"
   ]
  },
  {
   "cell_type": "markdown",
   "id": "6a92e8ad",
   "metadata": {},
   "source": [
    "we print the first few values of the month column to ensure the data is correctly formatted."
   ]
  },
  {
   "cell_type": "markdown",
   "id": "040561ad",
   "metadata": {},
   "source": [
    "-> In this step to determine if the observed differences in monthly mean daily precipitation between Tampa and Seattle are statistically significant, we can apply a two-sample t-test to the data for each month separately. This statistical test compares the means of the two independent samples (daily precipitation values from each city) and computes a t-statistic and p-value."
   ]
  },
  {
   "cell_type": "code",
   "execution_count": 88,
   "id": "5643fdbc",
   "metadata": {},
   "outputs": [
    {
     "name": "stdout",
     "output_type": "stream",
     "text": [
      "Month 1:\n",
      " t-statistic = 3.4916766351475754\n",
      " p-value t test = 0.0005528377391260241\n",
      "____________________\n",
      "Month 2:\n",
      " t-statistic = 2.758884501438194\n",
      " p-value t test = 0.006215192745358785\n",
      "____________________\n",
      "Month 3:\n",
      " t-statistic = 2.3144868762934823\n",
      " p-value t test = 0.02131398692648422\n",
      "____________________\n",
      "Month 4:\n",
      " t-statistic = -1.616422639425409\n",
      " p-value t test = 0.10749939554523479\n",
      "____________________\n",
      "Month 5:\n",
      " t-statistic = -1.6064542924652316\n",
      " p-value t test = 0.10950079720976916\n",
      "____________________\n",
      "Month 6:\n",
      " t-statistic = -4.525554457230182\n",
      " p-value t test = 1.145822530602925e-05\n",
      "____________________\n",
      "Month 7:\n",
      " t-statistic = -6.191881397976823\n",
      " p-value t test = 4.864672096677887e-09\n",
      "____________________\n",
      "Month 8:\n",
      " t-statistic = -4.791211497860968\n",
      " p-value t test = 3.728198453626667e-06\n",
      "____________________\n",
      "Month 9:\n",
      " t-statistic = -4.643740635526116\n",
      " p-value t test = 6.668080506932227e-06\n",
      "____________________\n",
      "Month 10:\n",
      " t-statistic = 0.8159552293948201\n",
      " p-value t test = 0.41516816239083854\n",
      "____________________\n",
      "Month 11:\n",
      " t-statistic = 1.261360679411898\n",
      " p-value t test = 0.208552082072219\n",
      "____________________\n",
      "Month 12:\n",
      " t-statistic = 1.975746492261338\n",
      " p-value t test = 0.0490903252510675\n",
      "____________________\n"
     ]
    }
   ],
   "source": [
    "significance_level = 0.05\n",
    "significantly_different = np.zeros(12)\n",
    "\n",
    "for month in range(1, 13):\n",
    "    sea_data = df.loc[(df['city'] == 'Seattle') & (df['month'] == month), 'precipitation']\n",
    "    tmp_data = df.loc[(df['city'] == 'Tampa') & (df['month'] == month), 'precipitation']\n",
    "    \n",
    "    if len(sea_data) > 0 and len(tmp_data) > 0 and (sea_data.std() > 0 or tmp_data.std() > 0):\n",
    "        t_statistic, p_value = stats.ttest_ind(sea_data, tmp_data, equal_var=False)\n",
    "    else:\n",
    "        t_statistic, p_value = np.nan, np.nan\n",
    "    \n",
    "    if not np.isnan(p_value) and p_value < significance_level:\n",
    "        significantly_different[month-1] = 1\n",
    "    \n",
    "    print(f\"Month {month}:\")\n",
    "    print(f\" t-statistic = {t_statistic}\")\n",
    "    print(f\" p-value t test = {p_value}\")\n",
    "    print(\"_\" * 20)\n"
   ]
  },
  {
   "cell_type": "markdown",
   "id": "176cd46f",
   "metadata": {},
   "source": [
    "The ouput initializes the significance level and an array to track significant months, then loops through each month to extract the relevant data subsets revealing months with significant differences, such as potentially higher p-values in transitional seasons and lower ones in peak rainy periods for each city."
   ]
  },
  {
   "cell_type": "markdown",
   "id": "f6931111",
   "metadata": {},
   "source": [
    "-> This plot visualize the average daily precipitation trends across months for Tampa and Seattle, we can aggregate the data by month and city to compute means, then use a grouped bar plot for side-by-side comparison. Additionally, based on the earlier t-test results stored in the significantly_different array, asterisks are placed above months with significant differences at a fixed y-position for visibility, aiding in identifying seasons where one city's rainfall statistically exceeds the other's."
   ]
  },
  {
   "cell_type": "code",
   "execution_count": 89,
   "id": "1e4d2e6d",
   "metadata": {},
   "outputs": [
    {
     "data": {
      "image/png": "[encoded data removed]",
      "text/plain": [
       "<Figure size 1440x288 with 1 Axes>"
      ]
     },
     "metadata": {},
     "output_type": "display_data"
    }
   ],
   "source": [
    "plt.figure(figsize=(20, 4))\n",
    "sns.barplot(data=df, x='month', y='precipitation', hue='city', alpha=0.75)\n",
    "\n",
    "\n",
    "plt.xlabel('Month',fontsize=15)\n",
    "plt.ylabel('Precipitation (inches)',fontsize=15)\n",
    "plt.title('Mean monthly precipitation', fontsize=15)\n",
    "\n",
    "plt.tick_params(labelsize=15)\n",
    "plt.xticks(ticks=range(12),labels=month_names)\n",
    "\n",
    "for month in range(12):\n",
    "    if significantly_different[month]==1:\n",
    "        plt.text(month, 0.3, '*', ha='center', fontsize=25)\n",
    "\n",
    "plt.show()"
   ]
  },
  {
   "cell_type": "markdown",
   "id": "be30493f",
   "metadata": {},
   "source": [
    "The ouput barplot shows seasonal contrasts Seattle generally experiences higher mean precipitation during the cooler months consistent with its reputation for rainy winters, while Tampa shows elevated averages in the summer driven by tropical storms thunderstorms. August stands out with Tampa mean notably higher than Seattle illustrating Tampa wetter summer pattern. Significant differences are marked with asterisks suggesting potential updates to the t-test with city filters."
   ]
  },
  {
   "cell_type": "markdown",
   "id": "cbc1f2c3",
   "metadata": {},
   "source": [
    "-> This block is performing a two-proportion z-test for each month to check if the proportion of days with precipitation is significantly different between the two cities. It creates a contingency table of days with/without precipitation, calculates the z-statistic and p-value, and records whether the difference is statistically significant."
   ]
  },
  {
   "cell_type": "code",
   "execution_count": 90,
   "id": "442f13f5",
   "metadata": {},
   "outputs": [
    {
     "name": "stdout",
     "output_type": "stream",
     "text": [
      "Month 1:\n",
      " z-statistic = 9.35\n",
      " p-value = 0.000\n",
      "____________________\n",
      "Month 2:\n",
      " z-statistic = 9.59\n",
      " p-value = 0.000\n",
      "____________________\n",
      "Month 3:\n",
      " z-statistic = 5.94\n",
      " p-value = 0.000\n",
      "____________________\n",
      "Month 4:\n",
      " z-statistic = 5.96\n",
      " p-value = 0.000\n",
      "____________________\n",
      "Month 5:\n",
      " z-statistic = 3.16\n",
      " p-value = 0.002\n",
      "____________________\n",
      "Month 6:\n",
      " z-statistic = -1.50\n",
      " p-value = 0.133\n",
      "____________________\n",
      "Month 7:\n",
      " z-statistic = -7.30\n",
      " p-value = 0.000\n",
      "____________________\n",
      "Month 8:\n",
      " z-statistic = -4.77\n",
      " p-value = 0.000\n",
      "____________________\n",
      "Month 9:\n",
      " z-statistic = -2.55\n",
      " p-value = 0.011\n",
      "____________________\n",
      "Month 10:\n",
      " z-statistic = 4.98\n",
      " p-value = 0.000\n",
      "____________________\n",
      "Month 11:\n",
      " z-statistic = 8.08\n",
      " p-value = 0.000\n",
      "____________________\n",
      "Month 12:\n",
      " z-statistic = 10.14\n",
      " p-value = 0.000\n",
      "____________________\n"
     ]
    }
   ],
   "source": [
    "from statsmodels.stats.proportion import proportions_ztest\n",
    "significance_level = 0.05\n",
    "significantly_different_proportion = np.zeros(12)\n",
    "\n",
    "for month in range(1, 13):\n",
    "    contingency_table = pd.crosstab(\n",
    "        df.loc[df['month'] == month, 'city'],\n",
    "        df.loc[df['month'] == month, 'any_precipitation']  \n",
    "    )\n",
    "    \n",
    "    days_with_precipitation = contingency_table[True]\n",
    "    total_counts = contingency_table.sum(axis=1)\n",
    "    \n",
    "    zstat, p_value = proportions_ztest(count=days_with_precipitation, nobs=total_counts, alternative='two-sided')\n",
    "    \n",
    "    if p_value < significance_level:\n",
    "        significantly_different_proportion[month-1] = 1\n",
    "    \n",
    "    print(f\"Month {month}:\")\n",
    "    print(f\" z-statistic = {zstat:.2f}\") \n",
    "    print(f\" p-value = {p_value:.3f}\") \n",
    "    print(\"_\" * 20)"
   ]
  },
  {
   "cell_type": "markdown",
   "id": "075af688",
   "metadata": {},
   "source": [
    "This table summarizes the number of rainy days vs non rainy days as per the cities seattle and tampa."
   ]
  },
  {
   "cell_type": "markdown",
   "id": "9dac8fec",
   "metadata": {},
   "source": [
    "-> Here we are creating a contingency table for January to summarize the relationship between the city and whether there was any precipitation"
   ]
  },
  {
   "cell_type": "code",
   "execution_count": 91,
   "id": "42ab2bf0",
   "metadata": {},
   "outputs": [
    {
     "data": {
      "text/html": [
       "<div>\n",
       "<style scoped>\n",
       "    .dataframe tbody tr th:only-of-type {\n",
       "        vertical-align: middle;\n",
       "    }\n",
       "\n",
       "    .dataframe tbody tr th {\n",
       "        vertical-align: top;\n",
       "    }\n",
       "\n",
       "    .dataframe thead th {\n",
       "        text-align: right;\n",
       "    }\n",
       "</style>\n",
       "<table border=\"1\" class=\"dataframe\">\n",
       "  <thead>\n",
       "    <tr style=\"text-align: right;\">\n",
       "      <th>any_precipitation</th>\n",
       "      <th>False</th>\n",
       "      <th>True</th>\n",
       "    </tr>\n",
       "    <tr>\n",
       "      <th>city</th>\n",
       "      <th></th>\n",
       "      <th></th>\n",
       "    </tr>\n",
       "  </thead>\n",
       "  <tbody>\n",
       "    <tr>\n",
       "      <th>Seattle</th>\n",
       "      <td>36</td>\n",
       "      <td>114</td>\n",
       "    </tr>\n",
       "    <tr>\n",
       "      <th>Tampa</th>\n",
       "      <td>117</td>\n",
       "      <td>33</td>\n",
       "    </tr>\n",
       "  </tbody>\n",
       "</table>\n",
       "</div>"
      ],
      "text/plain": [
       "any_precipitation  False  True\n",
       "city                          \n",
       "Seattle               36   114\n",
       "Tampa                117    33"
      ]
     },
     "execution_count": 91,
     "metadata": {},
     "output_type": "execute_result"
    }
   ],
   "source": [
    "contingency_table = pd.crosstab(\n",
    "    df.loc[df['month']==1, 'city'],\n",
    "    df.loc[df['month']==1, 'any_precipitation']  \n",
    ")\n",
    "contingency_table\n"
   ]
  },
  {
   "cell_type": "markdown",
   "id": "053f1d10",
   "metadata": {},
   "source": [
    "The resulting contingency_table clearly shows the number of days with and without precipitation for each city in January."
   ]
  },
  {
   "cell_type": "markdown",
   "id": "f1e9f0df",
   "metadata": {},
   "source": [
    "-> This this step we assess differences in the frequency of rainy days between Tampa and Seattle on a monthly basis, we can first compute the proportion of days with any precipitation by aggregating means per month and city. Assuming the z-test indicates a p-value below 0.05, denoting reliable differences in rainy day occurrence."
   ]
  },
  {
   "cell_type": "code",
   "execution_count": 92,
   "id": "e9d03584",
   "metadata": {},
   "outputs": [
    {
     "data": {
      "image/png": "[encoded data removed]",
      "text/plain": [
       "<Figure size 1440x288 with 1 Axes>"
      ]
     },
     "metadata": {},
     "output_type": "display_data"
    }
   ],
   "source": [
    "plt.figure(figsize=(20, 4))\n",
    "sns.barplot(data=df, x='month', y='any_precipitation', hue='city', alpha=0.75)\n",
    "\n",
    "\n",
    "plt.xlabel(None)\n",
    "plt.ylabel('Proportion days with Precipitation',fontsize=15)\n",
    "plt.title('Monthly proportion of days with precipitation', fontsize=15)\n",
    "plt.xticks(ticks=range(12),labels=month_names)\n",
    "\n",
    "plt.tick_params(labelsize=15)\n",
    "\n",
    "for month in range(12):\n",
    "    if significantly_different_proportion[month]==1:\n",
    "        plt.text(month, 0.825, '*', ha='center', fontsize=25)\n",
    "\n",
    "plt.show()"
   ]
  },
  {
   "cell_type": "markdown",
   "id": "30785101",
   "metadata": {},
   "source": [
    "The final plot shows clear seasonal opposites Seattle dominates with higher proportions of rainy days during the wetter fall and winter seasons approaching higher precipitation in December, while Tampa shows elevated frequencies in the summer monsoon period around a little in between in July and August. Along with a general claim of more rain in Seattle overall, the data reveals Tampa has fewer rainy days year-round but with potential for intense events nearly all months are marked as significantly different,contrasting climates Seattle's persistent drizzle vs the Tampa's thunderstorms."
   ]
  }
 ],
 "metadata": {
  "kernelspec": {
   "display_name": "Python 3 (ipykernel)",
   "language": "python",
   "name": "python3"
  },
  "language_info": {
   "codemirror_mode": {
    "name": "ipython",
    "version": 3
   },
   "file_extension": ".py",
   "mimetype": "text/x-python",
   "name": "python",
   "nbconvert_exporter": "python",
   "pygments_lexer": "ipython3",
   "version": "3.9.7"
  }
 },
 "nbformat": 4,
 "nbformat_minor": 5
}

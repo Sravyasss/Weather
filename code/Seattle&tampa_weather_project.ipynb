{
 "cells": [
  {
   "cell_type": "markdown",
   "id": "dbcdbb17",
   "metadata": {},
   "source": [
    "# DATA COLLECTION\n",
    "\n",
    "-> The very first thing when working on a project is import the libraries that were required to explore and work on the dataset, Here I imported the necessary libraries:\n",
    "1. Here the 'pandas' and 'numpys' will be used to handle the data and perform the numerical operations.\n",
    "2. The matplotlib and seaborn are used to plot the data for better visualization.\n",
    "3. Whitegrid style is set for better understanding and clean visulaizations."
   ]
  },
  {
   "cell_type": "code",
   "execution_count": 1,
   "id": "068d9caa",
   "metadata": {},
   "outputs": [],
   "source": [
    "import pandas as pd\n",
    "import numpy as np\n",
    "import matplotlib.pyplot as plt\n",
    "import seaborn as sns\n",
    "sns.set_style(\"whitegrid\")"
   ]
  },
  {
   "cell_type": "markdown",
   "id": "006a7278",
   "metadata": {},
   "source": [
    "The libraries were sucessfully imported, which ensures that i have the required tools to perform data cleaning, analyzing, manipulation and visualization."
   ]
  },
  {
   "cell_type": "markdown",
   "id": "2c51bdce",
   "metadata": {},
   "source": [
    "-> In this step, I load the datasets of both Seattle and Tampa using pandas, Here pandas provide us with the read.csv() function which allow us to import the csv files."
   ]
  },
  {
   "cell_type": "code",
   "execution_count": 2,
   "id": "c9e1027b",
   "metadata": {},
   "outputs": [],
   "source": [
    "df_seattle=pd.read_csv(\"C:/Users/SRAVYASRI/Downloads/DATA 5100_Foundations of data science/Weather/data/seattle_rain.csv\")"
   ]
  },
  {
   "cell_type": "code",
   "execution_count": 3,
   "id": "0b5bedb7",
   "metadata": {},
   "outputs": [],
   "source": [
    "df_tampa=pd.read_csv(\"C:/Users/SRAVYASRI/Downloads/DATA 5100_Foundations of data science/Weather/data/Tampa.csv\")"
   ]
  },
  {
   "cell_type": "markdown",
   "id": "fedf286a",
   "metadata": {},
   "source": [
    "Here both the datasets were sucessfully loaded as two separate datasets seattle and tampa."
   ]
  },
  {
   "cell_type": "markdown",
   "id": "6e832c2f",
   "metadata": {},
   "source": [
    "## DATA UNDERSTANDING\n",
    "\n",
    "-> Here we are exploring the dataset with head, This function gives the number of columns to getan overview about what were present in the dataset."
   ]
  },
  {
   "cell_type": "code",
   "execution_count": 4,
   "id": "241c72a2",
   "metadata": {},
   "outputs": [
    {
     "data": {
      "text/html": [
       "<div>\n",
       "<style scoped>\n",
       "    .dataframe tbody tr th:only-of-type {\n",
       "        vertical-align: middle;\n",
       "    }\n",
       "\n",
       "    .dataframe tbody tr th {\n",
       "        vertical-align: top;\n",
       "    }\n",
       "\n",
       "    .dataframe thead th {\n",
       "        text-align: right;\n",
       "    }\n",
       "</style>\n",
       "<table border=\"1\" class=\"dataframe\">\n",
       "  <thead>\n",
       "    <tr style=\"text-align: right;\">\n",
       "      <th></th>\n",
       "      <th>STATION</th>\n",
       "      <th>NAME</th>\n",
       "      <th>DATE</th>\n",
       "      <th>DAPR</th>\n",
       "      <th>MDPR</th>\n",
       "      <th>PRCP</th>\n",
       "      <th>SNOW</th>\n",
       "      <th>SNWD</th>\n",
       "      <th>WESD</th>\n",
       "      <th>WESF</th>\n",
       "    </tr>\n",
       "  </thead>\n",
       "  <tbody>\n",
       "    <tr>\n",
       "      <th>0</th>\n",
       "      <td>US1WAKG0225</td>\n",
       "      <td>SEATTLE 2.1 ESE, WA US</td>\n",
       "      <td>1/1/18</td>\n",
       "      <td>NaN</td>\n",
       "      <td>NaN</td>\n",
       "      <td>0.00</td>\n",
       "      <td>NaN</td>\n",
       "      <td>NaN</td>\n",
       "      <td>NaN</td>\n",
       "      <td>NaN</td>\n",
       "    </tr>\n",
       "    <tr>\n",
       "      <th>1</th>\n",
       "      <td>US1WAKG0225</td>\n",
       "      <td>SEATTLE 2.1 ESE, WA US</td>\n",
       "      <td>1/2/18</td>\n",
       "      <td>NaN</td>\n",
       "      <td>NaN</td>\n",
       "      <td>0.00</td>\n",
       "      <td>NaN</td>\n",
       "      <td>NaN</td>\n",
       "      <td>NaN</td>\n",
       "      <td>NaN</td>\n",
       "    </tr>\n",
       "    <tr>\n",
       "      <th>2</th>\n",
       "      <td>US1WAKG0225</td>\n",
       "      <td>SEATTLE 2.1 ESE, WA US</td>\n",
       "      <td>1/3/18</td>\n",
       "      <td>NaN</td>\n",
       "      <td>NaN</td>\n",
       "      <td>0.00</td>\n",
       "      <td>NaN</td>\n",
       "      <td>NaN</td>\n",
       "      <td>NaN</td>\n",
       "      <td>NaN</td>\n",
       "    </tr>\n",
       "    <tr>\n",
       "      <th>3</th>\n",
       "      <td>US1WAKG0225</td>\n",
       "      <td>SEATTLE 2.1 ESE, WA US</td>\n",
       "      <td>1/4/18</td>\n",
       "      <td>NaN</td>\n",
       "      <td>NaN</td>\n",
       "      <td>0.00</td>\n",
       "      <td>NaN</td>\n",
       "      <td>NaN</td>\n",
       "      <td>NaN</td>\n",
       "      <td>NaN</td>\n",
       "    </tr>\n",
       "    <tr>\n",
       "      <th>4</th>\n",
       "      <td>US1WAKG0225</td>\n",
       "      <td>SEATTLE 2.1 ESE, WA US</td>\n",
       "      <td>1/5/18</td>\n",
       "      <td>NaN</td>\n",
       "      <td>NaN</td>\n",
       "      <td>0.25</td>\n",
       "      <td>NaN</td>\n",
       "      <td>NaN</td>\n",
       "      <td>NaN</td>\n",
       "      <td>NaN</td>\n",
       "    </tr>\n",
       "  </tbody>\n",
       "</table>\n",
       "</div>"
      ],
      "text/plain": [
       "       STATION                    NAME    DATE  DAPR  MDPR  PRCP  SNOW  SNWD  \\\n",
       "0  US1WAKG0225  SEATTLE 2.1 ESE, WA US  1/1/18   NaN   NaN  0.00   NaN   NaN   \n",
       "1  US1WAKG0225  SEATTLE 2.1 ESE, WA US  1/2/18   NaN   NaN  0.00   NaN   NaN   \n",
       "2  US1WAKG0225  SEATTLE 2.1 ESE, WA US  1/3/18   NaN   NaN  0.00   NaN   NaN   \n",
       "3  US1WAKG0225  SEATTLE 2.1 ESE, WA US  1/4/18   NaN   NaN  0.00   NaN   NaN   \n",
       "4  US1WAKG0225  SEATTLE 2.1 ESE, WA US  1/5/18   NaN   NaN  0.25   NaN   NaN   \n",
       "\n",
       "   WESD  WESF  \n",
       "0   NaN   NaN  \n",
       "1   NaN   NaN  \n",
       "2   NaN   NaN  \n",
       "3   NaN   NaN  \n",
       "4   NaN   NaN  "
      ]
     },
     "execution_count": 4,
     "metadata": {},
     "output_type": "execute_result"
    }
   ],
   "source": [
    "df_seattle.head()"
   ]
  },
  {
   "cell_type": "markdown",
   "id": "4dbe31b2",
   "metadata": {},
   "source": [
    "Here we can see what was present in the dataset, when we just give head() function, it defaults to displaying the first 5 observations."
   ]
  },
  {
   "cell_type": "markdown",
   "id": "7e4697ab",
   "metadata": {},
   "source": [
    "-> Here the value inside head(10) indicates that head gives us the 10 observations of the dataset."
   ]
  },
  {
   "cell_type": "code",
   "execution_count": 5,
   "id": "8ac906c2",
   "metadata": {},
   "outputs": [
    {
     "data": {
      "text/html": [
       "<div>\n",
       "<style scoped>\n",
       "    .dataframe tbody tr th:only-of-type {\n",
       "        vertical-align: middle;\n",
       "    }\n",
       "\n",
       "    .dataframe tbody tr th {\n",
       "        vertical-align: top;\n",
       "    }\n",
       "\n",
       "    .dataframe thead th {\n",
       "        text-align: right;\n",
       "    }\n",
       "</style>\n",
       "<table border=\"1\" class=\"dataframe\">\n",
       "  <thead>\n",
       "    <tr style=\"text-align: right;\">\n",
       "      <th></th>\n",
       "      <th>STATION</th>\n",
       "      <th>NAME</th>\n",
       "      <th>DATE</th>\n",
       "      <th>DAPR</th>\n",
       "      <th>MDPR</th>\n",
       "      <th>PRCP</th>\n",
       "      <th>SNOW</th>\n",
       "      <th>SNWD</th>\n",
       "    </tr>\n",
       "  </thead>\n",
       "  <tbody>\n",
       "    <tr>\n",
       "      <th>0</th>\n",
       "      <td>US1FLHB0027</td>\n",
       "      <td>LUTZ 1.3 SSE, FL US</td>\n",
       "      <td>2018-01-01</td>\n",
       "      <td>NaN</td>\n",
       "      <td>NaN</td>\n",
       "      <td>0.00</td>\n",
       "      <td>0.0</td>\n",
       "      <td>NaN</td>\n",
       "    </tr>\n",
       "    <tr>\n",
       "      <th>1</th>\n",
       "      <td>US1FLHB0027</td>\n",
       "      <td>LUTZ 1.3 SSE, FL US</td>\n",
       "      <td>2018-01-02</td>\n",
       "      <td>NaN</td>\n",
       "      <td>NaN</td>\n",
       "      <td>0.02</td>\n",
       "      <td>NaN</td>\n",
       "      <td>NaN</td>\n",
       "    </tr>\n",
       "    <tr>\n",
       "      <th>2</th>\n",
       "      <td>US1FLHB0027</td>\n",
       "      <td>LUTZ 1.3 SSE, FL US</td>\n",
       "      <td>2018-01-03</td>\n",
       "      <td>NaN</td>\n",
       "      <td>NaN</td>\n",
       "      <td>0.40</td>\n",
       "      <td>NaN</td>\n",
       "      <td>NaN</td>\n",
       "    </tr>\n",
       "    <tr>\n",
       "      <th>3</th>\n",
       "      <td>US1FLHB0027</td>\n",
       "      <td>LUTZ 1.3 SSE, FL US</td>\n",
       "      <td>2018-01-04</td>\n",
       "      <td>NaN</td>\n",
       "      <td>NaN</td>\n",
       "      <td>0.33</td>\n",
       "      <td>NaN</td>\n",
       "      <td>NaN</td>\n",
       "    </tr>\n",
       "    <tr>\n",
       "      <th>4</th>\n",
       "      <td>US1FLHB0027</td>\n",
       "      <td>LUTZ 1.3 SSE, FL US</td>\n",
       "      <td>2018-01-05</td>\n",
       "      <td>NaN</td>\n",
       "      <td>NaN</td>\n",
       "      <td>0.00</td>\n",
       "      <td>0.0</td>\n",
       "      <td>NaN</td>\n",
       "    </tr>\n",
       "    <tr>\n",
       "      <th>5</th>\n",
       "      <td>US1FLHB0027</td>\n",
       "      <td>LUTZ 1.3 SSE, FL US</td>\n",
       "      <td>2018-01-06</td>\n",
       "      <td>NaN</td>\n",
       "      <td>NaN</td>\n",
       "      <td>0.00</td>\n",
       "      <td>0.0</td>\n",
       "      <td>NaN</td>\n",
       "    </tr>\n",
       "    <tr>\n",
       "      <th>6</th>\n",
       "      <td>US1FLHB0027</td>\n",
       "      <td>LUTZ 1.3 SSE, FL US</td>\n",
       "      <td>2018-01-07</td>\n",
       "      <td>NaN</td>\n",
       "      <td>NaN</td>\n",
       "      <td>0.00</td>\n",
       "      <td>0.0</td>\n",
       "      <td>NaN</td>\n",
       "    </tr>\n",
       "    <tr>\n",
       "      <th>7</th>\n",
       "      <td>US1FLHB0027</td>\n",
       "      <td>LUTZ 1.3 SSE, FL US</td>\n",
       "      <td>2018-01-08</td>\n",
       "      <td>NaN</td>\n",
       "      <td>NaN</td>\n",
       "      <td>0.00</td>\n",
       "      <td>0.0</td>\n",
       "      <td>NaN</td>\n",
       "    </tr>\n",
       "    <tr>\n",
       "      <th>8</th>\n",
       "      <td>US1FLHB0027</td>\n",
       "      <td>LUTZ 1.3 SSE, FL US</td>\n",
       "      <td>2018-01-12</td>\n",
       "      <td>4.0</td>\n",
       "      <td>0.56</td>\n",
       "      <td>NaN</td>\n",
       "      <td>NaN</td>\n",
       "      <td>NaN</td>\n",
       "    </tr>\n",
       "    <tr>\n",
       "      <th>9</th>\n",
       "      <td>US1FLHB0027</td>\n",
       "      <td>LUTZ 1.3 SSE, FL US</td>\n",
       "      <td>2018-01-13</td>\n",
       "      <td>NaN</td>\n",
       "      <td>NaN</td>\n",
       "      <td>0.05</td>\n",
       "      <td>NaN</td>\n",
       "      <td>NaN</td>\n",
       "    </tr>\n",
       "  </tbody>\n",
       "</table>\n",
       "</div>"
      ],
      "text/plain": [
       "       STATION                 NAME        DATE  DAPR  MDPR  PRCP  SNOW  SNWD\n",
       "0  US1FLHB0027  LUTZ 1.3 SSE, FL US  2018-01-01   NaN   NaN  0.00   0.0   NaN\n",
       "1  US1FLHB0027  LUTZ 1.3 SSE, FL US  2018-01-02   NaN   NaN  0.02   NaN   NaN\n",
       "2  US1FLHB0027  LUTZ 1.3 SSE, FL US  2018-01-03   NaN   NaN  0.40   NaN   NaN\n",
       "3  US1FLHB0027  LUTZ 1.3 SSE, FL US  2018-01-04   NaN   NaN  0.33   NaN   NaN\n",
       "4  US1FLHB0027  LUTZ 1.3 SSE, FL US  2018-01-05   NaN   NaN  0.00   0.0   NaN\n",
       "5  US1FLHB0027  LUTZ 1.3 SSE, FL US  2018-01-06   NaN   NaN  0.00   0.0   NaN\n",
       "6  US1FLHB0027  LUTZ 1.3 SSE, FL US  2018-01-07   NaN   NaN  0.00   0.0   NaN\n",
       "7  US1FLHB0027  LUTZ 1.3 SSE, FL US  2018-01-08   NaN   NaN  0.00   0.0   NaN\n",
       "8  US1FLHB0027  LUTZ 1.3 SSE, FL US  2018-01-12   4.0  0.56   NaN   NaN   NaN\n",
       "9  US1FLHB0027  LUTZ 1.3 SSE, FL US  2018-01-13   NaN   NaN  0.05   NaN   NaN"
      ]
     },
     "execution_count": 5,
     "metadata": {},
     "output_type": "execute_result"
    }
   ],
   "source": [
    "df_tampa.head(10)"
   ]
  },
  {
   "cell_type": "markdown",
   "id": "0c2940f4",
   "metadata": {},
   "source": [
    "->As we are in the data exploration process, In this step the type() function is used to check the type of the dataset."
   ]
  },
  {
   "cell_type": "code",
   "execution_count": 6,
   "id": "0fbb8522",
   "metadata": {},
   "outputs": [
    {
     "data": {
      "text/plain": [
       "pandas.core.frame.DataFrame"
      ]
     },
     "execution_count": 6,
     "metadata": {},
     "output_type": "execute_result"
    }
   ],
   "source": [
    "type(df_seattle)"
   ]
  },
  {
   "cell_type": "code",
   "execution_count": 7,
   "id": "308d96ac",
   "metadata": {},
   "outputs": [
    {
     "data": {
      "text/plain": [
       "pandas.core.frame.DataFrame"
      ]
     },
     "execution_count": 7,
     "metadata": {},
     "output_type": "execute_result"
    }
   ],
   "source": [
    "type(df_tampa)"
   ]
  },
  {
   "cell_type": "markdown",
   "id": "0ab52c12",
   "metadata": {},
   "source": [
    "type() function is used when we want to investigate the type of dataset we have, Here it is the dataframes."
   ]
  },
  {
   "cell_type": "markdown",
   "id": "815b99b5",
   "metadata": {},
   "source": [
    "-> In this step, I check for the columns in each dataset, Here the column attribute give the names of all the columns that were present in the dataset. "
   ]
  },
  {
   "cell_type": "code",
   "execution_count": 8,
   "id": "7e78e5ed",
   "metadata": {},
   "outputs": [
    {
     "data": {
      "text/plain": [
       "Index(['STATION', 'NAME', 'DATE', 'DAPR', 'MDPR', 'PRCP', 'SNOW', 'SNWD',\n",
       "       'WESD', 'WESF'],\n",
       "      dtype='object')"
      ]
     },
     "execution_count": 8,
     "metadata": {},
     "output_type": "execute_result"
    }
   ],
   "source": [
    "df_seattle.columns"
   ]
  },
  {
   "cell_type": "code",
   "execution_count": 9,
   "id": "ad7bd7f2",
   "metadata": {},
   "outputs": [
    {
     "data": {
      "text/plain": [
       "Index(['STATION', 'NAME', 'DATE', 'DAPR', 'MDPR', 'PRCP', 'SNOW', 'SNWD'], dtype='object')"
      ]
     },
     "execution_count": 9,
     "metadata": {},
     "output_type": "execute_result"
    }
   ],
   "source": [
    "df_tampa.columns"
   ]
  },
  {
   "cell_type": "markdown",
   "id": "0851b91f",
   "metadata": {},
   "source": [
    "Here the seattle dataset has more columns than the stl and tampa"
   ]
  },
  {
   "cell_type": "markdown",
   "id": "628f9bcd",
   "metadata": {},
   "source": [
    "-> Here the info() function gives the information such as column names, datatypes, memory usage and the information about NAN(Not a number) values."
   ]
  },
  {
   "cell_type": "code",
   "execution_count": 10,
   "id": "51fb4658",
   "metadata": {
    "scrolled": true
   },
   "outputs": [
    {
     "name": "stdout",
     "output_type": "stream",
     "text": [
      "<class 'pandas.core.frame.DataFrame'>\n",
      "RangeIndex: 1658 entries, 0 to 1657\n",
      "Data columns (total 10 columns):\n",
      " #   Column   Non-Null Count  Dtype  \n",
      "---  ------   --------------  -----  \n",
      " 0   STATION  1658 non-null   object \n",
      " 1   NAME     1658 non-null   object \n",
      " 2   DATE     1658 non-null   object \n",
      " 3   DAPR     23 non-null     float64\n",
      " 4   MDPR     23 non-null     float64\n",
      " 5   PRCP     1636 non-null   float64\n",
      " 6   SNOW     353 non-null    float64\n",
      " 7   SNWD     66 non-null     float64\n",
      " 8   WESD     15 non-null     float64\n",
      " 9   WESF     28 non-null     float64\n",
      "dtypes: float64(7), object(3)\n",
      "memory usage: 129.7+ KB\n"
     ]
    }
   ],
   "source": [
    "df_seattle.info()"
   ]
  },
  {
   "cell_type": "code",
   "execution_count": 11,
   "id": "6be83724",
   "metadata": {},
   "outputs": [
    {
     "name": "stdout",
     "output_type": "stream",
     "text": [
      "<class 'pandas.core.frame.DataFrame'>\n",
      "RangeIndex: 59082 entries, 0 to 59081\n",
      "Data columns (total 8 columns):\n",
      " #   Column   Non-Null Count  Dtype  \n",
      "---  ------   --------------  -----  \n",
      " 0   STATION  59082 non-null  object \n",
      " 1   NAME     59082 non-null  object \n",
      " 2   DATE     59082 non-null  object \n",
      " 3   DAPR     573 non-null    float64\n",
      " 4   MDPR     569 non-null    float64\n",
      " 5   PRCP     58488 non-null  float64\n",
      " 6   SNOW     32336 non-null  float64\n",
      " 7   SNWD     4554 non-null   float64\n",
      "dtypes: float64(5), object(3)\n",
      "memory usage: 3.6+ MB\n"
     ]
    }
   ],
   "source": [
    "df_tampa.info()"
   ]
  },
  {
   "cell_type": "markdown",
   "id": "4758224d",
   "metadata": {},
   "source": [
    "Here the number of entries were more in tampa > seattle (the amount of data is less in the seattle dataset, and huge data means more memory usage."
   ]
  },
  {
   "cell_type": "markdown",
   "id": "eaa80b80",
   "metadata": {},
   "source": [
    "-> In this step I am inspecting each column individually we use the dataframevariablename[\"columnname\"] to get the data from an individual column."
   ]
  },
  {
   "cell_type": "code",
   "execution_count": 12,
   "id": "3ebe566d",
   "metadata": {},
   "outputs": [
    {
     "data": {
      "text/plain": [
       "0       US1WAKG0225\n",
       "1       US1WAKG0225\n",
       "2       US1WAKG0225\n",
       "3       US1WAKG0225\n",
       "4       US1WAKG0225\n",
       "           ...     \n",
       "1653    US1WAKG0225\n",
       "1654    US1WAKG0225\n",
       "1655    US1WAKG0225\n",
       "1656    US1WAKG0225\n",
       "1657    US1WAKG0225\n",
       "Name: STATION, Length: 1658, dtype: object"
      ]
     },
     "execution_count": 12,
     "metadata": {},
     "output_type": "execute_result"
    }
   ],
   "source": [
    "df_seattle[\"STATION\"]"
   ]
  },
  {
   "cell_type": "code",
   "execution_count": 13,
   "id": "fef19ed0",
   "metadata": {},
   "outputs": [
    {
     "data": {
      "text/plain": [
       "0        US1FLHB0027\n",
       "1        US1FLHB0027\n",
       "2        US1FLHB0027\n",
       "3        US1FLHB0027\n",
       "4        US1FLHB0027\n",
       "            ...     \n",
       "59077    US1FLPN0060\n",
       "59078    US1FLPN0060\n",
       "59079    US1FLPN0060\n",
       "59080    US1FLPN0060\n",
       "59081    US1FLPN0060\n",
       "Name: STATION, Length: 59082, dtype: object"
      ]
     },
     "execution_count": 13,
     "metadata": {},
     "output_type": "execute_result"
    }
   ],
   "source": [
    "df_tampa[\"STATION\"]"
   ]
  },
  {
   "cell_type": "markdown",
   "id": "51c1ac22",
   "metadata": {},
   "source": [
    "We can see the length of the data and the entries present in the column STATION from both seattle and tampa dataset."
   ]
  },
  {
   "cell_type": "markdown",
   "id": "280a3f4a",
   "metadata": {},
   "source": [
    "-> The Unique() function gives the names of the unique stations. It is used to check the unquie entries in our dataset."
   ]
  },
  {
   "cell_type": "code",
   "execution_count": 14,
   "id": "53610c35",
   "metadata": {},
   "outputs": [
    {
     "data": {
      "text/plain": [
       "array(['US1WAKG0225'], dtype=object)"
      ]
     },
     "execution_count": 14,
     "metadata": {},
     "output_type": "execute_result"
    }
   ],
   "source": [
    "df_seattle[\"STATION\"].unique()"
   ]
  },
  {
   "cell_type": "code",
   "execution_count": 15,
   "id": "dc016ad1",
   "metadata": {},
   "outputs": [
    {
     "data": {
      "text/plain": [
       "array(['US1FLHB0027', 'US1FLHB0029', 'US1FLPN0091', 'US1FLPN0090',\n",
       "       'US1FLHB0141', 'US1FLHB0140', 'US1FLHB0143', 'USW00012873',\n",
       "       'USC00088824', 'US1FLHB0026', 'US1FLHB0147', 'US1FLPN0057',\n",
       "       'US1FLPS0075', 'US1FLPN0016', 'US1FLPN0093', 'US1FLPN0092',\n",
       "       'US1FLPN0094', 'US1FLPN0096', 'US1FLPN0055', 'US1FLHB0116',\n",
       "       'US1FLHB0115', 'US1FLHB0152', 'USW00012842', 'US1FLHB0112',\n",
       "       'US1FLHB0156', 'US1FLHB0037', 'US1FLHB0036', 'US1FLPN0123',\n",
       "       'US1FLPN0089', 'US1FLPN0122', 'US1FLPN0047', 'US1FLPS0065',\n",
       "       'US1FLPN0049', 'US1FLPN0082', 'US1FLPN0083', 'US1FLPN0086',\n",
       "       'US1FLPN0121', 'US1FLHB0005', 'US1FLPN0108', 'US1FLHB0120',\n",
       "       'US1FLHB0167', 'US1FLHB0048', 'US1FLHB0168', 'US1FLPN0079',\n",
       "       'US1FLPN0112', 'US1FLPN0034', 'US1FLPN0111', 'US1FLPN0036',\n",
       "       'US1FLPN0116', 'US1FLPN0115', 'US1FLHB0040', 'US1FLPN0071',\n",
       "       'US1FLPN0072', 'US1FLPN0033', 'US1FLHB0138', 'US1FLHB0055',\n",
       "       'US1FLHB0010', 'US1FLHB0090', 'US1FLPN0105', 'US1FLHB0093',\n",
       "       'US1FLPN0104', 'US1FLHB0051', 'US1FLPN0060'], dtype=object)"
      ]
     },
     "execution_count": 15,
     "metadata": {},
     "output_type": "execute_result"
    }
   ],
   "source": [
    "df_tampa[\"STATION\"].unique()"
   ]
  },
  {
   "cell_type": "markdown",
   "id": "0c88feb6",
   "metadata": {},
   "source": [
    "So in the output we can see from the STATION column of both the datasets, 1 unique varaible in seattle dataset whereas 63 unique values in tampa dataset."
   ]
  },
  {
   "cell_type": "markdown",
   "id": "de3a9dc2",
   "metadata": {},
   "source": [
    "-> The nunique() function gives the count of number of unique stations present in the column station."
   ]
  },
  {
   "cell_type": "code",
   "execution_count": 16,
   "id": "f6959303",
   "metadata": {},
   "outputs": [
    {
     "data": {
      "text/plain": [
       "1"
      ]
     },
     "execution_count": 16,
     "metadata": {},
     "output_type": "execute_result"
    }
   ],
   "source": [
    "df_seattle[\"STATION\"].nunique()"
   ]
  },
  {
   "cell_type": "code",
   "execution_count": 17,
   "id": "7373b293",
   "metadata": {},
   "outputs": [
    {
     "data": {
      "text/plain": [
       "63"
      ]
     },
     "execution_count": 17,
     "metadata": {},
     "output_type": "execute_result"
    }
   ],
   "source": [
    "df_tampa[\"STATION\"].nunique()"
   ]
  },
  {
   "cell_type": "markdown",
   "id": "61c26153",
   "metadata": {},
   "source": [
    "Which is returning the no.of unique values as an integer."
   ]
  },
  {
   "cell_type": "markdown",
   "id": "eaafd094",
   "metadata": {},
   "source": [
    "-> I used the Shape attribute to check the total count of Rows X columns of the dataframe"
   ]
  },
  {
   "cell_type": "code",
   "execution_count": 18,
   "id": "c416256f",
   "metadata": {},
   "outputs": [
    {
     "name": "stdout",
     "output_type": "stream",
     "text": [
      "(1658, 10)\n"
     ]
    }
   ],
   "source": [
    "print(df_seattle.shape)"
   ]
  },
  {
   "cell_type": "code",
   "execution_count": 19,
   "id": "95bcaf12",
   "metadata": {},
   "outputs": [
    {
     "data": {
      "text/plain": [
       "(59082, 8)"
      ]
     },
     "execution_count": 19,
     "metadata": {},
     "output_type": "execute_result"
    }
   ],
   "source": [
    "df_tampa.shape"
   ]
  },
  {
   "cell_type": "markdown",
   "id": "b60c2329",
   "metadata": {},
   "source": [
    "Which is 1658 rows, and 10 columns in seattle dataframe, and 59082 rows and 8 columns in the tampa dataframe."
   ]
  },
  {
   "cell_type": "markdown",
   "id": "047d9c0b",
   "metadata": {},
   "source": [
    "-> In the next step i am checking the DATE column because the format of it may vary in different datasets which could lead to incorrect results."
   ]
  },
  {
   "cell_type": "code",
   "execution_count": 20,
   "id": "77fb855c",
   "metadata": {},
   "outputs": [
    {
     "data": {
      "text/plain": [
       "0         1/1/18\n",
       "1         1/2/18\n",
       "2         1/3/18\n",
       "3         1/4/18\n",
       "4         1/5/18\n",
       "          ...   \n",
       "1653    12/27/22\n",
       "1654    12/28/22\n",
       "1655    12/29/22\n",
       "1656    12/30/22\n",
       "1657    12/31/22\n",
       "Name: DATE, Length: 1658, dtype: object"
      ]
     },
     "execution_count": 20,
     "metadata": {},
     "output_type": "execute_result"
    }
   ],
   "source": [
    "df_seattle['DATE']"
   ]
  },
  {
   "cell_type": "code",
   "execution_count": 21,
   "id": "bec480f3",
   "metadata": {},
   "outputs": [
    {
     "data": {
      "text/plain": [
       "0        2018-01-01\n",
       "1        2018-01-02\n",
       "2        2018-01-03\n",
       "3        2018-01-04\n",
       "4        2018-01-05\n",
       "            ...    \n",
       "59077    2022-12-27\n",
       "59078    2022-12-28\n",
       "59079    2022-12-29\n",
       "59080    2022-12-30\n",
       "59081    2022-12-31\n",
       "Name: DATE, Length: 59082, dtype: object"
      ]
     },
     "execution_count": 21,
     "metadata": {},
     "output_type": "execute_result"
    }
   ],
   "source": [
    "df_tampa['DATE']"
   ]
  },
  {
   "cell_type": "markdown",
   "id": "c70fce04",
   "metadata": {},
   "source": [
    "As we can see the data formats are very different in the both datasets. Its really important to ensure both the datasets follow the same format before performing any sort of analysis."
   ]
  },
  {
   "cell_type": "markdown",
   "id": "94a596a8",
   "metadata": {},
   "source": [
    "-> Here the max() function is used to check the last date of the table from the DATE column as written.  And the tail() fucntion returns the last 5 rows of the dataset by default when we dont pass any values inside it."
   ]
  },
  {
   "cell_type": "code",
   "execution_count": 22,
   "id": "e3508a58",
   "metadata": {},
   "outputs": [
    {
     "data": {
      "text/plain": [
       "'9/9/22'"
      ]
     },
     "execution_count": 22,
     "metadata": {},
     "output_type": "execute_result"
    }
   ],
   "source": [
    "df_seattle['DATE'].max()"
   ]
  },
  {
   "cell_type": "code",
   "execution_count": 23,
   "id": "5e580c67",
   "metadata": {},
   "outputs": [
    {
     "data": {
      "text/plain": [
       "1653    12/27/22\n",
       "1654    12/28/22\n",
       "1655    12/29/22\n",
       "1656    12/30/22\n",
       "1657    12/31/22\n",
       "Name: DATE, dtype: object"
      ]
     },
     "execution_count": 23,
     "metadata": {},
     "output_type": "execute_result"
    }
   ],
   "source": [
    "df_seattle['DATE'].tail()"
   ]
  },
  {
   "cell_type": "code",
   "execution_count": 24,
   "id": "6af9e5f9",
   "metadata": {},
   "outputs": [
    {
     "data": {
      "text/plain": [
       "'2022-12-31'"
      ]
     },
     "execution_count": 24,
     "metadata": {},
     "output_type": "execute_result"
    }
   ],
   "source": [
    "df_tampa['DATE'].max()"
   ]
  },
  {
   "cell_type": "code",
   "execution_count": 25,
   "id": "62f92dd4",
   "metadata": {},
   "outputs": [
    {
     "data": {
      "text/plain": [
       "59077    2022-12-27\n",
       "59078    2022-12-28\n",
       "59079    2022-12-29\n",
       "59080    2022-12-30\n",
       "59081    2022-12-31\n",
       "Name: DATE, dtype: object"
      ]
     },
     "execution_count": 25,
     "metadata": {},
     "output_type": "execute_result"
    }
   ],
   "source": [
    "df_tampa['DATE'].tail()"
   ]
  },
  {
   "cell_type": "markdown",
   "id": "d7d599e0",
   "metadata": {},
   "source": [
    "Here we can see that the date is incorrect when we checked the last 5 rows of seattle dataset, as '12/31/22' is considered the last date in Seattle regardless of the actual data which is showing us the '9/9/22' as the max date. For reasons like this, it is really important to ensure that both datasets follow the same date format."
   ]
  },
  {
   "cell_type": "markdown",
   "id": "73328d30",
   "metadata": {},
   "source": [
    "-> Here I am checking the data type of the DATE column using the dtype attribute."
   ]
  },
  {
   "cell_type": "code",
   "execution_count": 26,
   "id": "f3102671",
   "metadata": {},
   "outputs": [
    {
     "name": "stdout",
     "output_type": "stream",
     "text": [
      "Seattle datetime type: object\n",
      "Tampa datetime type: object\n"
     ]
    }
   ],
   "source": [
    "print(\"Seattle datetime type:\", df_seattle['DATE'].dtype)\n",
    "print(\"Tampa datetime type:\", df_tampa['DATE'].dtype)"
   ]
  },
  {
   "cell_type": "markdown",
   "id": "ec9b65ae",
   "metadata": {},
   "source": [
    "Here its telling the DATE column is in object format but not in datetime64[ns] format."
   ]
  },
  {
   "cell_type": "markdown",
   "id": "6b805a1e",
   "metadata": {},
   "source": [
    "# DATA PREPARATION / CLEANING\n",
    "\n",
    "-> The Pandas provides a function called 'to_datetime' to convert a column to datetime format. Since we observed that the Seattle dataset was giving incorrect results, I now convert its date column to datetime format."
   ]
  },
  {
   "cell_type": "code",
   "execution_count": 27,
   "id": "dd2c74bd",
   "metadata": {},
   "outputs": [],
   "source": [
    "df_seattle['DATE'] = pd.to_datetime(df_seattle['DATE'], format='%m/%d/%y')"
   ]
  },
  {
   "cell_type": "code",
   "execution_count": 28,
   "id": "97022ee6",
   "metadata": {},
   "outputs": [
    {
     "data": {
      "text/plain": [
       "0      2018-01-01\n",
       "1      2018-01-02\n",
       "2      2018-01-03\n",
       "3      2018-01-04\n",
       "4      2018-01-05\n",
       "          ...    \n",
       "1653   2022-12-27\n",
       "1654   2022-12-28\n",
       "1655   2022-12-29\n",
       "1656   2022-12-30\n",
       "1657   2022-12-31\n",
       "Name: DATE, Length: 1658, dtype: datetime64[ns]"
      ]
     },
     "execution_count": 28,
     "metadata": {},
     "output_type": "execute_result"
    }
   ],
   "source": [
    "df_seattle['DATE'] "
   ]
  },
  {
   "cell_type": "code",
   "execution_count": 29,
   "id": "de094860",
   "metadata": {},
   "outputs": [],
   "source": [
    "df_tampa['DATE'] = pd.to_datetime(df_tampa['DATE'], format='%Y-%m-%d')"
   ]
  },
  {
   "cell_type": "code",
   "execution_count": 30,
   "id": "c3db1ca9",
   "metadata": {},
   "outputs": [
    {
     "data": {
      "text/plain": [
       "0       2018-01-01\n",
       "1       2018-01-02\n",
       "2       2018-01-03\n",
       "3       2018-01-04\n",
       "4       2018-01-05\n",
       "           ...    \n",
       "59077   2022-12-27\n",
       "59078   2022-12-28\n",
       "59079   2022-12-29\n",
       "59080   2022-12-30\n",
       "59081   2022-12-31\n",
       "Name: DATE, Length: 59082, dtype: datetime64[ns]"
      ]
     },
     "execution_count": 30,
     "metadata": {},
     "output_type": "execute_result"
    }
   ],
   "source": [
    "df_tampa['DATE']"
   ]
  },
  {
   "cell_type": "markdown",
   "id": "517002ba",
   "metadata": {},
   "source": [
    "We can see that the date format is different in both datasets. To work on the code effectively, we need to ensure that both datasets follow the same format. The tampa datatime is valid but it is in a different format so we changed the format to match both the datasets."
   ]
  },
  {
   "cell_type": "markdown",
   "id": "76663eb7",
   "metadata": {},
   "source": [
    "-> Here we are checking the DATE column again to verify if its data type has changed from object to datetime64[ns] and whether the changes were applied correctly."
   ]
  },
  {
   "cell_type": "code",
   "execution_count": 31,
   "id": "c4606af6",
   "metadata": {},
   "outputs": [
    {
     "name": "stdout",
     "output_type": "stream",
     "text": [
      "Seattle datetime type: datetime64[ns]\n",
      "Tampa datetime type: datetime64[ns]\n"
     ]
    }
   ],
   "source": [
    "print(\"Seattle datetime type:\", df_seattle['DATE'].dtype)\n",
    "print(\"Tampa datetime type:\", df_tampa['DATE'].dtype)"
   ]
  },
  {
   "cell_type": "code",
   "execution_count": 32,
   "id": "c8ab8d10",
   "metadata": {},
   "outputs": [
    {
     "name": "stdout",
     "output_type": "stream",
     "text": [
      "Seattle dates:\n",
      " 0   2018-01-01\n",
      "1   2018-01-02\n",
      "2   2018-01-03\n",
      "3   2018-01-04\n",
      "4   2018-01-05\n",
      "Name: DATE, dtype: datetime64[ns]\n",
      "Tampa dates:\n",
      " 0   2018-01-01\n",
      "1   2018-01-02\n",
      "2   2018-01-03\n",
      "3   2018-01-04\n",
      "4   2018-01-05\n",
      "Name: DATE, dtype: datetime64[ns]\n"
     ]
    }
   ],
   "source": [
    "print(\"Seattle dates:\\n\", df_seattle['DATE'].head())\n",
    "print(\"Tampa dates:\\n\", df_tampa['DATE'].head())"
   ]
  },
  {
   "cell_type": "markdown",
   "id": "20408346",
   "metadata": {},
   "source": [
    "Now we can see that both the DATE columns were changed to datetime64[ns]"
   ]
  },
  {
   "cell_type": "markdown",
   "id": "df1de948",
   "metadata": {},
   "source": [
    "-> To check the range of dates, min() and max() were used. min() returns the earliest date in the dataset, while max() returns the latest date.\n",
    "\n",
    "We can also use the agg() function to get both the minimum and maximum dates at once."
   ]
  },
  {
   "cell_type": "code",
   "execution_count": 33,
   "id": "59329d0c",
   "metadata": {},
   "outputs": [
    {
     "data": {
      "text/plain": [
       "Timestamp('2018-01-01 00:00:00')"
      ]
     },
     "execution_count": 33,
     "metadata": {},
     "output_type": "execute_result"
    }
   ],
   "source": [
    "df_seattle['DATE'].min()"
   ]
  },
  {
   "cell_type": "code",
   "execution_count": 34,
   "id": "531bbfcb",
   "metadata": {},
   "outputs": [
    {
     "data": {
      "text/plain": [
       "Timestamp('2022-12-31 00:00:00')"
      ]
     },
     "execution_count": 34,
     "metadata": {},
     "output_type": "execute_result"
    }
   ],
   "source": [
    "df_seattle['DATE'].max()"
   ]
  },
  {
   "cell_type": "code",
   "execution_count": 35,
   "id": "b2a350af",
   "metadata": {},
   "outputs": [
    {
     "data": {
      "text/plain": [
       "min   2018-01-01\n",
       "max   2022-12-31\n",
       "Name: DATE, dtype: datetime64[ns]"
      ]
     },
     "execution_count": 35,
     "metadata": {},
     "output_type": "execute_result"
    }
   ],
   "source": [
    "df_seattle['DATE'].agg(['min', 'max'])"
   ]
  },
  {
   "cell_type": "code",
   "execution_count": 36,
   "id": "c65948b0",
   "metadata": {},
   "outputs": [
    {
     "data": {
      "text/plain": [
       "min   2018-01-01\n",
       "max   2022-12-31\n",
       "Name: DATE, dtype: datetime64[ns]"
      ]
     },
     "execution_count": 36,
     "metadata": {},
     "output_type": "execute_result"
    }
   ],
   "source": [
    "df_tampa['DATE'].agg(['min', 'max'])"
   ]
  },
  {
   "cell_type": "markdown",
   "id": "948c2af3",
   "metadata": {},
   "source": [
    "We can see that the minimum and maximum dates, as well as the datetime formats, match in both datasets."
   ]
  },
  {
   "cell_type": "markdown",
   "id": "163d2d1c",
   "metadata": {},
   "source": [
    "-> Here, the libraries matplotlib and seaborn were used to visually represent the data. In matplotlib, plt.figure() sets the figure size, plt.xlabel() assigns a label to the x-axis, and plt.ylabel() assigns a label to the y-axis, with the specified font size. \n",
    "\n",
    "In seaborn, sns.lineplot() is used to draw a line graph for the specified x and y columns of the dataset, in this case, the Seattle dataset."
   ]
  },
  {
   "cell_type": "code",
   "execution_count": 37,
   "id": "dfc08c0b",
   "metadata": {},
   "outputs": [
    {
     "data": {
      "image/png": "[encoded data removed]",
      "text/plain": [
       "<Figure size 1080x360 with 1 Axes>"
      ]
     },
     "metadata": {},
     "output_type": "display_data"
    }
   ],
   "source": [
    "plt.figure(figsize=(15, 5))\n",
    "sns.lineplot(data=df_seattle, x='DATE', y='PRCP')\n",
    "plt.xlabel('Date', fontsize=16)\n",
    "plt.ylabel('Precipitation (inches)', fontsize=16)\n",
    "\n",
    "plt.tick_params(labelsize=15)\n",
    "plt.show()"
   ]
  },
  {
   "cell_type": "markdown",
   "id": "c49af558",
   "metadata": {},
   "source": [
    "Here we can observe a steep slope in the graph at the beginning of 2018 and normal indication for the rest of the years."
   ]
  },
  {
   "cell_type": "markdown",
   "id": "09e30c50",
   "metadata": {},
   "source": [
    "-> Here I am checking the cause for the steep slope from the graph plotted, by taking a certain number of observations."
   ]
  },
  {
   "cell_type": "code",
   "execution_count": 38,
   "id": "064f8232",
   "metadata": {},
   "outputs": [
    {
     "data": {
      "text/html": [
       "<div>\n",
       "<style scoped>\n",
       "    .dataframe tbody tr th:only-of-type {\n",
       "        vertical-align: middle;\n",
       "    }\n",
       "\n",
       "    .dataframe tbody tr th {\n",
       "        vertical-align: top;\n",
       "    }\n",
       "\n",
       "    .dataframe thead th {\n",
       "        text-align: right;\n",
       "    }\n",
       "</style>\n",
       "<table border=\"1\" class=\"dataframe\">\n",
       "  <thead>\n",
       "    <tr style=\"text-align: right;\">\n",
       "      <th></th>\n",
       "      <th>STATION</th>\n",
       "      <th>NAME</th>\n",
       "      <th>DATE</th>\n",
       "      <th>DAPR</th>\n",
       "      <th>MDPR</th>\n",
       "      <th>PRCP</th>\n",
       "      <th>SNOW</th>\n",
       "      <th>SNWD</th>\n",
       "      <th>WESD</th>\n",
       "      <th>WESF</th>\n",
       "    </tr>\n",
       "  </thead>\n",
       "  <tbody>\n",
       "    <tr>\n",
       "      <th>0</th>\n",
       "      <td>US1WAKG0225</td>\n",
       "      <td>SEATTLE 2.1 ESE, WA US</td>\n",
       "      <td>2018-01-01</td>\n",
       "      <td>NaN</td>\n",
       "      <td>NaN</td>\n",
       "      <td>0.00</td>\n",
       "      <td>NaN</td>\n",
       "      <td>NaN</td>\n",
       "      <td>NaN</td>\n",
       "      <td>NaN</td>\n",
       "    </tr>\n",
       "    <tr>\n",
       "      <th>1</th>\n",
       "      <td>US1WAKG0225</td>\n",
       "      <td>SEATTLE 2.1 ESE, WA US</td>\n",
       "      <td>2018-01-02</td>\n",
       "      <td>NaN</td>\n",
       "      <td>NaN</td>\n",
       "      <td>0.00</td>\n",
       "      <td>NaN</td>\n",
       "      <td>NaN</td>\n",
       "      <td>NaN</td>\n",
       "      <td>NaN</td>\n",
       "    </tr>\n",
       "    <tr>\n",
       "      <th>2</th>\n",
       "      <td>US1WAKG0225</td>\n",
       "      <td>SEATTLE 2.1 ESE, WA US</td>\n",
       "      <td>2018-01-03</td>\n",
       "      <td>NaN</td>\n",
       "      <td>NaN</td>\n",
       "      <td>0.00</td>\n",
       "      <td>NaN</td>\n",
       "      <td>NaN</td>\n",
       "      <td>NaN</td>\n",
       "      <td>NaN</td>\n",
       "    </tr>\n",
       "    <tr>\n",
       "      <th>3</th>\n",
       "      <td>US1WAKG0225</td>\n",
       "      <td>SEATTLE 2.1 ESE, WA US</td>\n",
       "      <td>2018-01-04</td>\n",
       "      <td>NaN</td>\n",
       "      <td>NaN</td>\n",
       "      <td>0.00</td>\n",
       "      <td>NaN</td>\n",
       "      <td>NaN</td>\n",
       "      <td>NaN</td>\n",
       "      <td>NaN</td>\n",
       "    </tr>\n",
       "    <tr>\n",
       "      <th>4</th>\n",
       "      <td>US1WAKG0225</td>\n",
       "      <td>SEATTLE 2.1 ESE, WA US</td>\n",
       "      <td>2018-01-05</td>\n",
       "      <td>NaN</td>\n",
       "      <td>NaN</td>\n",
       "      <td>0.25</td>\n",
       "      <td>NaN</td>\n",
       "      <td>NaN</td>\n",
       "      <td>NaN</td>\n",
       "      <td>NaN</td>\n",
       "    </tr>\n",
       "    <tr>\n",
       "      <th>5</th>\n",
       "      <td>US1WAKG0225</td>\n",
       "      <td>SEATTLE 2.1 ESE, WA US</td>\n",
       "      <td>2018-01-06</td>\n",
       "      <td>NaN</td>\n",
       "      <td>NaN</td>\n",
       "      <td>0.57</td>\n",
       "      <td>NaN</td>\n",
       "      <td>NaN</td>\n",
       "      <td>NaN</td>\n",
       "      <td>NaN</td>\n",
       "    </tr>\n",
       "    <tr>\n",
       "      <th>6</th>\n",
       "      <td>US1WAKG0225</td>\n",
       "      <td>SEATTLE 2.1 ESE, WA US</td>\n",
       "      <td>2018-01-07</td>\n",
       "      <td>NaN</td>\n",
       "      <td>NaN</td>\n",
       "      <td>0.23</td>\n",
       "      <td>NaN</td>\n",
       "      <td>NaN</td>\n",
       "      <td>NaN</td>\n",
       "      <td>NaN</td>\n",
       "    </tr>\n",
       "    <tr>\n",
       "      <th>7</th>\n",
       "      <td>US1WAKG0225</td>\n",
       "      <td>SEATTLE 2.1 ESE, WA US</td>\n",
       "      <td>2018-01-08</td>\n",
       "      <td>NaN</td>\n",
       "      <td>NaN</td>\n",
       "      <td>0.41</td>\n",
       "      <td>NaN</td>\n",
       "      <td>NaN</td>\n",
       "      <td>NaN</td>\n",
       "      <td>NaN</td>\n",
       "    </tr>\n",
       "    <tr>\n",
       "      <th>8</th>\n",
       "      <td>US1WAKG0225</td>\n",
       "      <td>SEATTLE 2.1 ESE, WA US</td>\n",
       "      <td>2018-03-12</td>\n",
       "      <td>NaN</td>\n",
       "      <td>NaN</td>\n",
       "      <td>0.00</td>\n",
       "      <td>NaN</td>\n",
       "      <td>NaN</td>\n",
       "      <td>NaN</td>\n",
       "      <td>NaN</td>\n",
       "    </tr>\n",
       "    <tr>\n",
       "      <th>9</th>\n",
       "      <td>US1WAKG0225</td>\n",
       "      <td>SEATTLE 2.1 ESE, WA US</td>\n",
       "      <td>2018-03-13</td>\n",
       "      <td>NaN</td>\n",
       "      <td>NaN</td>\n",
       "      <td>0.00</td>\n",
       "      <td>NaN</td>\n",
       "      <td>NaN</td>\n",
       "      <td>NaN</td>\n",
       "      <td>NaN</td>\n",
       "    </tr>\n",
       "    <tr>\n",
       "      <th>10</th>\n",
       "      <td>US1WAKG0225</td>\n",
       "      <td>SEATTLE 2.1 ESE, WA US</td>\n",
       "      <td>2018-03-14</td>\n",
       "      <td>NaN</td>\n",
       "      <td>NaN</td>\n",
       "      <td>0.20</td>\n",
       "      <td>NaN</td>\n",
       "      <td>NaN</td>\n",
       "      <td>NaN</td>\n",
       "      <td>NaN</td>\n",
       "    </tr>\n",
       "    <tr>\n",
       "      <th>11</th>\n",
       "      <td>US1WAKG0225</td>\n",
       "      <td>SEATTLE 2.1 ESE, WA US</td>\n",
       "      <td>2018-03-15</td>\n",
       "      <td>NaN</td>\n",
       "      <td>NaN</td>\n",
       "      <td>0.02</td>\n",
       "      <td>NaN</td>\n",
       "      <td>NaN</td>\n",
       "      <td>NaN</td>\n",
       "      <td>NaN</td>\n",
       "    </tr>\n",
       "    <tr>\n",
       "      <th>12</th>\n",
       "      <td>US1WAKG0225</td>\n",
       "      <td>SEATTLE 2.1 ESE, WA US</td>\n",
       "      <td>2018-03-16</td>\n",
       "      <td>NaN</td>\n",
       "      <td>NaN</td>\n",
       "      <td>0.00</td>\n",
       "      <td>NaN</td>\n",
       "      <td>NaN</td>\n",
       "      <td>NaN</td>\n",
       "      <td>NaN</td>\n",
       "    </tr>\n",
       "    <tr>\n",
       "      <th>13</th>\n",
       "      <td>US1WAKG0225</td>\n",
       "      <td>SEATTLE 2.1 ESE, WA US</td>\n",
       "      <td>2018-03-17</td>\n",
       "      <td>NaN</td>\n",
       "      <td>NaN</td>\n",
       "      <td>0.00</td>\n",
       "      <td>NaN</td>\n",
       "      <td>NaN</td>\n",
       "      <td>NaN</td>\n",
       "      <td>NaN</td>\n",
       "    </tr>\n",
       "    <tr>\n",
       "      <th>14</th>\n",
       "      <td>US1WAKG0225</td>\n",
       "      <td>SEATTLE 2.1 ESE, WA US</td>\n",
       "      <td>2018-03-18</td>\n",
       "      <td>NaN</td>\n",
       "      <td>NaN</td>\n",
       "      <td>0.00</td>\n",
       "      <td>NaN</td>\n",
       "      <td>NaN</td>\n",
       "      <td>NaN</td>\n",
       "      <td>NaN</td>\n",
       "    </tr>\n",
       "    <tr>\n",
       "      <th>15</th>\n",
       "      <td>US1WAKG0225</td>\n",
       "      <td>SEATTLE 2.1 ESE, WA US</td>\n",
       "      <td>2018-03-19</td>\n",
       "      <td>NaN</td>\n",
       "      <td>NaN</td>\n",
       "      <td>0.00</td>\n",
       "      <td>NaN</td>\n",
       "      <td>NaN</td>\n",
       "      <td>NaN</td>\n",
       "      <td>NaN</td>\n",
       "    </tr>\n",
       "    <tr>\n",
       "      <th>16</th>\n",
       "      <td>US1WAKG0225</td>\n",
       "      <td>SEATTLE 2.1 ESE, WA US</td>\n",
       "      <td>2018-03-20</td>\n",
       "      <td>NaN</td>\n",
       "      <td>NaN</td>\n",
       "      <td>0.00</td>\n",
       "      <td>NaN</td>\n",
       "      <td>NaN</td>\n",
       "      <td>NaN</td>\n",
       "      <td>NaN</td>\n",
       "    </tr>\n",
       "    <tr>\n",
       "      <th>17</th>\n",
       "      <td>US1WAKG0225</td>\n",
       "      <td>SEATTLE 2.1 ESE, WA US</td>\n",
       "      <td>2018-03-21</td>\n",
       "      <td>NaN</td>\n",
       "      <td>NaN</td>\n",
       "      <td>0.00</td>\n",
       "      <td>NaN</td>\n",
       "      <td>NaN</td>\n",
       "      <td>NaN</td>\n",
       "      <td>NaN</td>\n",
       "    </tr>\n",
       "    <tr>\n",
       "      <th>18</th>\n",
       "      <td>US1WAKG0225</td>\n",
       "      <td>SEATTLE 2.1 ESE, WA US</td>\n",
       "      <td>2018-03-22</td>\n",
       "      <td>NaN</td>\n",
       "      <td>NaN</td>\n",
       "      <td>0.25</td>\n",
       "      <td>NaN</td>\n",
       "      <td>NaN</td>\n",
       "      <td>NaN</td>\n",
       "      <td>NaN</td>\n",
       "    </tr>\n",
       "    <tr>\n",
       "      <th>19</th>\n",
       "      <td>US1WAKG0225</td>\n",
       "      <td>SEATTLE 2.1 ESE, WA US</td>\n",
       "      <td>2018-03-23</td>\n",
       "      <td>NaN</td>\n",
       "      <td>NaN</td>\n",
       "      <td>0.29</td>\n",
       "      <td>NaN</td>\n",
       "      <td>NaN</td>\n",
       "      <td>NaN</td>\n",
       "      <td>NaN</td>\n",
       "    </tr>\n",
       "  </tbody>\n",
       "</table>\n",
       "</div>"
      ],
      "text/plain": [
       "        STATION                    NAME       DATE  DAPR  MDPR  PRCP  SNOW  \\\n",
       "0   US1WAKG0225  SEATTLE 2.1 ESE, WA US 2018-01-01   NaN   NaN  0.00   NaN   \n",
       "1   US1WAKG0225  SEATTLE 2.1 ESE, WA US 2018-01-02   NaN   NaN  0.00   NaN   \n",
       "2   US1WAKG0225  SEATTLE 2.1 ESE, WA US 2018-01-03   NaN   NaN  0.00   NaN   \n",
       "3   US1WAKG0225  SEATTLE 2.1 ESE, WA US 2018-01-04   NaN   NaN  0.00   NaN   \n",
       "4   US1WAKG0225  SEATTLE 2.1 ESE, WA US 2018-01-05   NaN   NaN  0.25   NaN   \n",
       "5   US1WAKG0225  SEATTLE 2.1 ESE, WA US 2018-01-06   NaN   NaN  0.57   NaN   \n",
       "6   US1WAKG0225  SEATTLE 2.1 ESE, WA US 2018-01-07   NaN   NaN  0.23   NaN   \n",
       "7   US1WAKG0225  SEATTLE 2.1 ESE, WA US 2018-01-08   NaN   NaN  0.41   NaN   \n",
       "8   US1WAKG0225  SEATTLE 2.1 ESE, WA US 2018-03-12   NaN   NaN  0.00   NaN   \n",
       "9   US1WAKG0225  SEATTLE 2.1 ESE, WA US 2018-03-13   NaN   NaN  0.00   NaN   \n",
       "10  US1WAKG0225  SEATTLE 2.1 ESE, WA US 2018-03-14   NaN   NaN  0.20   NaN   \n",
       "11  US1WAKG0225  SEATTLE 2.1 ESE, WA US 2018-03-15   NaN   NaN  0.02   NaN   \n",
       "12  US1WAKG0225  SEATTLE 2.1 ESE, WA US 2018-03-16   NaN   NaN  0.00   NaN   \n",
       "13  US1WAKG0225  SEATTLE 2.1 ESE, WA US 2018-03-17   NaN   NaN  0.00   NaN   \n",
       "14  US1WAKG0225  SEATTLE 2.1 ESE, WA US 2018-03-18   NaN   NaN  0.00   NaN   \n",
       "15  US1WAKG0225  SEATTLE 2.1 ESE, WA US 2018-03-19   NaN   NaN  0.00   NaN   \n",
       "16  US1WAKG0225  SEATTLE 2.1 ESE, WA US 2018-03-20   NaN   NaN  0.00   NaN   \n",
       "17  US1WAKG0225  SEATTLE 2.1 ESE, WA US 2018-03-21   NaN   NaN  0.00   NaN   \n",
       "18  US1WAKG0225  SEATTLE 2.1 ESE, WA US 2018-03-22   NaN   NaN  0.25   NaN   \n",
       "19  US1WAKG0225  SEATTLE 2.1 ESE, WA US 2018-03-23   NaN   NaN  0.29   NaN   \n",
       "\n",
       "    SNWD  WESD  WESF  \n",
       "0    NaN   NaN   NaN  \n",
       "1    NaN   NaN   NaN  \n",
       "2    NaN   NaN   NaN  \n",
       "3    NaN   NaN   NaN  \n",
       "4    NaN   NaN   NaN  \n",
       "5    NaN   NaN   NaN  \n",
       "6    NaN   NaN   NaN  \n",
       "7    NaN   NaN   NaN  \n",
       "8    NaN   NaN   NaN  \n",
       "9    NaN   NaN   NaN  \n",
       "10   NaN   NaN   NaN  \n",
       "11   NaN   NaN   NaN  \n",
       "12   NaN   NaN   NaN  \n",
       "13   NaN   NaN   NaN  \n",
       "14   NaN   NaN   NaN  \n",
       "15   NaN   NaN   NaN  \n",
       "16   NaN   NaN   NaN  \n",
       "17   NaN   NaN   NaN  \n",
       "18   NaN   NaN   NaN  \n",
       "19   NaN   NaN   NaN  "
      ]
     },
     "execution_count": 38,
     "metadata": {},
     "output_type": "execute_result"
    }
   ],
   "source": [
    "df_seattle.head(20)"
   ]
  },
  {
   "cell_type": "markdown",
   "id": "62f6a862",
   "metadata": {},
   "source": [
    "The steepness is not actual rain, it’s due to missing dates in the dataset."
   ]
  },
  {
   "cell_type": "markdown",
   "id": "d4236d92",
   "metadata": {},
   "source": [
    "-> We are visualizing the precipitation in tampa city using a line plot, with x axis as date, and y axis mentioning preceipitation in inches, this produces time series line plot showing the daily precipitation of tampa."
   ]
  },
  {
   "cell_type": "code",
   "execution_count": 39,
   "id": "a1484da8",
   "metadata": {},
   "outputs": [
    {
     "data": {
      "image/png": "[encoded data removed]",
      "text/plain": [
       "<Figure size 1440x360 with 1 Axes>"
      ]
     },
     "metadata": {},
     "output_type": "display_data"
    }
   ],
   "source": [
    "plt.figure(figsize=(20, 5))\n",
    "\n",
    "sns.lineplot(data=df_tampa, x='DATE', y='PRCP')\n",
    "\n",
    "plt.xlabel('Date', fontsize=16)\n",
    "plt.ylabel('Precipitation (inches)', fontsize=16)\n",
    "\n",
    "plt.tick_params(labelsize=15)\n",
    "\n",
    "plt.show()"
   ]
  },
  {
   "cell_type": "markdown",
   "id": "1e1dda8a",
   "metadata": {},
   "source": [
    "Here we can actually see the graph but couldnt point out the missing values for the tampa dataset as the dataset is huge, so we then check the observations."
   ]
  },
  {
   "cell_type": "code",
   "execution_count": 40,
   "id": "8f125974",
   "metadata": {
    "scrolled": true
   },
   "outputs": [
    {
     "data": {
      "text/html": [
       "<div>\n",
       "<style scoped>\n",
       "    .dataframe tbody tr th:only-of-type {\n",
       "        vertical-align: middle;\n",
       "    }\n",
       "\n",
       "    .dataframe tbody tr th {\n",
       "        vertical-align: top;\n",
       "    }\n",
       "\n",
       "    .dataframe thead th {\n",
       "        text-align: right;\n",
       "    }\n",
       "</style>\n",
       "<table border=\"1\" class=\"dataframe\">\n",
       "  <thead>\n",
       "    <tr style=\"text-align: right;\">\n",
       "      <th></th>\n",
       "      <th>STATION</th>\n",
       "      <th>NAME</th>\n",
       "      <th>DATE</th>\n",
       "      <th>DAPR</th>\n",
       "      <th>MDPR</th>\n",
       "      <th>PRCP</th>\n",
       "      <th>SNOW</th>\n",
       "      <th>SNWD</th>\n",
       "    </tr>\n",
       "  </thead>\n",
       "  <tbody>\n",
       "    <tr>\n",
       "      <th>0</th>\n",
       "      <td>US1FLHB0027</td>\n",
       "      <td>LUTZ 1.3 SSE, FL US</td>\n",
       "      <td>2018-01-01</td>\n",
       "      <td>NaN</td>\n",
       "      <td>NaN</td>\n",
       "      <td>0.00</td>\n",
       "      <td>0.0</td>\n",
       "      <td>NaN</td>\n",
       "    </tr>\n",
       "    <tr>\n",
       "      <th>1</th>\n",
       "      <td>US1FLHB0027</td>\n",
       "      <td>LUTZ 1.3 SSE, FL US</td>\n",
       "      <td>2018-01-02</td>\n",
       "      <td>NaN</td>\n",
       "      <td>NaN</td>\n",
       "      <td>0.02</td>\n",
       "      <td>NaN</td>\n",
       "      <td>NaN</td>\n",
       "    </tr>\n",
       "    <tr>\n",
       "      <th>2</th>\n",
       "      <td>US1FLHB0027</td>\n",
       "      <td>LUTZ 1.3 SSE, FL US</td>\n",
       "      <td>2018-01-03</td>\n",
       "      <td>NaN</td>\n",
       "      <td>NaN</td>\n",
       "      <td>0.40</td>\n",
       "      <td>NaN</td>\n",
       "      <td>NaN</td>\n",
       "    </tr>\n",
       "    <tr>\n",
       "      <th>3</th>\n",
       "      <td>US1FLHB0027</td>\n",
       "      <td>LUTZ 1.3 SSE, FL US</td>\n",
       "      <td>2018-01-04</td>\n",
       "      <td>NaN</td>\n",
       "      <td>NaN</td>\n",
       "      <td>0.33</td>\n",
       "      <td>NaN</td>\n",
       "      <td>NaN</td>\n",
       "    </tr>\n",
       "    <tr>\n",
       "      <th>4</th>\n",
       "      <td>US1FLHB0027</td>\n",
       "      <td>LUTZ 1.3 SSE, FL US</td>\n",
       "      <td>2018-01-05</td>\n",
       "      <td>NaN</td>\n",
       "      <td>NaN</td>\n",
       "      <td>0.00</td>\n",
       "      <td>0.0</td>\n",
       "      <td>NaN</td>\n",
       "    </tr>\n",
       "    <tr>\n",
       "      <th>5</th>\n",
       "      <td>US1FLHB0027</td>\n",
       "      <td>LUTZ 1.3 SSE, FL US</td>\n",
       "      <td>2018-01-06</td>\n",
       "      <td>NaN</td>\n",
       "      <td>NaN</td>\n",
       "      <td>0.00</td>\n",
       "      <td>0.0</td>\n",
       "      <td>NaN</td>\n",
       "    </tr>\n",
       "    <tr>\n",
       "      <th>6</th>\n",
       "      <td>US1FLHB0027</td>\n",
       "      <td>LUTZ 1.3 SSE, FL US</td>\n",
       "      <td>2018-01-07</td>\n",
       "      <td>NaN</td>\n",
       "      <td>NaN</td>\n",
       "      <td>0.00</td>\n",
       "      <td>0.0</td>\n",
       "      <td>NaN</td>\n",
       "    </tr>\n",
       "    <tr>\n",
       "      <th>7</th>\n",
       "      <td>US1FLHB0027</td>\n",
       "      <td>LUTZ 1.3 SSE, FL US</td>\n",
       "      <td>2018-01-08</td>\n",
       "      <td>NaN</td>\n",
       "      <td>NaN</td>\n",
       "      <td>0.00</td>\n",
       "      <td>0.0</td>\n",
       "      <td>NaN</td>\n",
       "    </tr>\n",
       "    <tr>\n",
       "      <th>8</th>\n",
       "      <td>US1FLHB0027</td>\n",
       "      <td>LUTZ 1.3 SSE, FL US</td>\n",
       "      <td>2018-01-12</td>\n",
       "      <td>4.0</td>\n",
       "      <td>0.56</td>\n",
       "      <td>NaN</td>\n",
       "      <td>NaN</td>\n",
       "      <td>NaN</td>\n",
       "    </tr>\n",
       "    <tr>\n",
       "      <th>9</th>\n",
       "      <td>US1FLHB0027</td>\n",
       "      <td>LUTZ 1.3 SSE, FL US</td>\n",
       "      <td>2018-01-13</td>\n",
       "      <td>NaN</td>\n",
       "      <td>NaN</td>\n",
       "      <td>0.05</td>\n",
       "      <td>NaN</td>\n",
       "      <td>NaN</td>\n",
       "    </tr>\n",
       "    <tr>\n",
       "      <th>10</th>\n",
       "      <td>US1FLHB0027</td>\n",
       "      <td>LUTZ 1.3 SSE, FL US</td>\n",
       "      <td>2018-01-14</td>\n",
       "      <td>NaN</td>\n",
       "      <td>NaN</td>\n",
       "      <td>0.00</td>\n",
       "      <td>0.0</td>\n",
       "      <td>NaN</td>\n",
       "    </tr>\n",
       "    <tr>\n",
       "      <th>11</th>\n",
       "      <td>US1FLHB0027</td>\n",
       "      <td>LUTZ 1.3 SSE, FL US</td>\n",
       "      <td>2018-01-15</td>\n",
       "      <td>NaN</td>\n",
       "      <td>NaN</td>\n",
       "      <td>0.00</td>\n",
       "      <td>0.0</td>\n",
       "      <td>NaN</td>\n",
       "    </tr>\n",
       "    <tr>\n",
       "      <th>12</th>\n",
       "      <td>US1FLHB0027</td>\n",
       "      <td>LUTZ 1.3 SSE, FL US</td>\n",
       "      <td>2018-01-16</td>\n",
       "      <td>NaN</td>\n",
       "      <td>NaN</td>\n",
       "      <td>0.00</td>\n",
       "      <td>0.0</td>\n",
       "      <td>NaN</td>\n",
       "    </tr>\n",
       "    <tr>\n",
       "      <th>13</th>\n",
       "      <td>US1FLHB0027</td>\n",
       "      <td>LUTZ 1.3 SSE, FL US</td>\n",
       "      <td>2018-01-17</td>\n",
       "      <td>NaN</td>\n",
       "      <td>NaN</td>\n",
       "      <td>0.00</td>\n",
       "      <td>0.0</td>\n",
       "      <td>NaN</td>\n",
       "    </tr>\n",
       "    <tr>\n",
       "      <th>14</th>\n",
       "      <td>US1FLHB0027</td>\n",
       "      <td>LUTZ 1.3 SSE, FL US</td>\n",
       "      <td>2018-01-18</td>\n",
       "      <td>NaN</td>\n",
       "      <td>NaN</td>\n",
       "      <td>0.00</td>\n",
       "      <td>0.0</td>\n",
       "      <td>NaN</td>\n",
       "    </tr>\n",
       "    <tr>\n",
       "      <th>15</th>\n",
       "      <td>US1FLHB0027</td>\n",
       "      <td>LUTZ 1.3 SSE, FL US</td>\n",
       "      <td>2018-01-19</td>\n",
       "      <td>NaN</td>\n",
       "      <td>NaN</td>\n",
       "      <td>0.00</td>\n",
       "      <td>0.0</td>\n",
       "      <td>NaN</td>\n",
       "    </tr>\n",
       "    <tr>\n",
       "      <th>16</th>\n",
       "      <td>US1FLHB0027</td>\n",
       "      <td>LUTZ 1.3 SSE, FL US</td>\n",
       "      <td>2018-01-20</td>\n",
       "      <td>NaN</td>\n",
       "      <td>NaN</td>\n",
       "      <td>0.00</td>\n",
       "      <td>0.0</td>\n",
       "      <td>NaN</td>\n",
       "    </tr>\n",
       "    <tr>\n",
       "      <th>17</th>\n",
       "      <td>US1FLHB0027</td>\n",
       "      <td>LUTZ 1.3 SSE, FL US</td>\n",
       "      <td>2018-01-21</td>\n",
       "      <td>NaN</td>\n",
       "      <td>NaN</td>\n",
       "      <td>0.00</td>\n",
       "      <td>0.0</td>\n",
       "      <td>NaN</td>\n",
       "    </tr>\n",
       "    <tr>\n",
       "      <th>18</th>\n",
       "      <td>US1FLHB0027</td>\n",
       "      <td>LUTZ 1.3 SSE, FL US</td>\n",
       "      <td>2018-01-22</td>\n",
       "      <td>NaN</td>\n",
       "      <td>NaN</td>\n",
       "      <td>0.00</td>\n",
       "      <td>0.0</td>\n",
       "      <td>NaN</td>\n",
       "    </tr>\n",
       "    <tr>\n",
       "      <th>19</th>\n",
       "      <td>US1FLHB0027</td>\n",
       "      <td>LUTZ 1.3 SSE, FL US</td>\n",
       "      <td>2018-01-23</td>\n",
       "      <td>NaN</td>\n",
       "      <td>NaN</td>\n",
       "      <td>0.11</td>\n",
       "      <td>NaN</td>\n",
       "      <td>NaN</td>\n",
       "    </tr>\n",
       "  </tbody>\n",
       "</table>\n",
       "</div>"
      ],
      "text/plain": [
       "        STATION                 NAME       DATE  DAPR  MDPR  PRCP  SNOW  SNWD\n",
       "0   US1FLHB0027  LUTZ 1.3 SSE, FL US 2018-01-01   NaN   NaN  0.00   0.0   NaN\n",
       "1   US1FLHB0027  LUTZ 1.3 SSE, FL US 2018-01-02   NaN   NaN  0.02   NaN   NaN\n",
       "2   US1FLHB0027  LUTZ 1.3 SSE, FL US 2018-01-03   NaN   NaN  0.40   NaN   NaN\n",
       "3   US1FLHB0027  LUTZ 1.3 SSE, FL US 2018-01-04   NaN   NaN  0.33   NaN   NaN\n",
       "4   US1FLHB0027  LUTZ 1.3 SSE, FL US 2018-01-05   NaN   NaN  0.00   0.0   NaN\n",
       "5   US1FLHB0027  LUTZ 1.3 SSE, FL US 2018-01-06   NaN   NaN  0.00   0.0   NaN\n",
       "6   US1FLHB0027  LUTZ 1.3 SSE, FL US 2018-01-07   NaN   NaN  0.00   0.0   NaN\n",
       "7   US1FLHB0027  LUTZ 1.3 SSE, FL US 2018-01-08   NaN   NaN  0.00   0.0   NaN\n",
       "8   US1FLHB0027  LUTZ 1.3 SSE, FL US 2018-01-12   4.0  0.56   NaN   NaN   NaN\n",
       "9   US1FLHB0027  LUTZ 1.3 SSE, FL US 2018-01-13   NaN   NaN  0.05   NaN   NaN\n",
       "10  US1FLHB0027  LUTZ 1.3 SSE, FL US 2018-01-14   NaN   NaN  0.00   0.0   NaN\n",
       "11  US1FLHB0027  LUTZ 1.3 SSE, FL US 2018-01-15   NaN   NaN  0.00   0.0   NaN\n",
       "12  US1FLHB0027  LUTZ 1.3 SSE, FL US 2018-01-16   NaN   NaN  0.00   0.0   NaN\n",
       "13  US1FLHB0027  LUTZ 1.3 SSE, FL US 2018-01-17   NaN   NaN  0.00   0.0   NaN\n",
       "14  US1FLHB0027  LUTZ 1.3 SSE, FL US 2018-01-18   NaN   NaN  0.00   0.0   NaN\n",
       "15  US1FLHB0027  LUTZ 1.3 SSE, FL US 2018-01-19   NaN   NaN  0.00   0.0   NaN\n",
       "16  US1FLHB0027  LUTZ 1.3 SSE, FL US 2018-01-20   NaN   NaN  0.00   0.0   NaN\n",
       "17  US1FLHB0027  LUTZ 1.3 SSE, FL US 2018-01-21   NaN   NaN  0.00   0.0   NaN\n",
       "18  US1FLHB0027  LUTZ 1.3 SSE, FL US 2018-01-22   NaN   NaN  0.00   0.0   NaN\n",
       "19  US1FLHB0027  LUTZ 1.3 SSE, FL US 2018-01-23   NaN   NaN  0.11   NaN   NaN"
      ]
     },
     "execution_count": 40,
     "metadata": {},
     "output_type": "execute_result"
    }
   ],
   "source": [
    "df_tampa.head(20)"
   ]
  },
  {
   "cell_type": "markdown",
   "id": "128a0351",
   "metadata": {},
   "source": [
    "We can see that there is no recorded precipitation data for some days in the tampa dataset, and due to the huge dataset we couldnt point the steep jumps in tampa dataset."
   ]
  },
  {
   "cell_type": "markdown",
   "id": "36097308",
   "metadata": {},
   "source": [
    "-> So now we are also checking the precipitation column which is the other major column to point out from the project."
   ]
  },
  {
   "cell_type": "code",
   "execution_count": 41,
   "id": "e890ba71",
   "metadata": {},
   "outputs": [
    {
     "data": {
      "text/plain": [
       "0       0.00\n",
       "1       0.00\n",
       "2       0.00\n",
       "3       0.00\n",
       "4       0.25\n",
       "        ... \n",
       "1653    0.78\n",
       "1654    0.40\n",
       "1655    0.03\n",
       "1656    0.62\n",
       "1657    0.17\n",
       "Name: PRCP, Length: 1658, dtype: float64"
      ]
     },
     "execution_count": 41,
     "metadata": {},
     "output_type": "execute_result"
    }
   ],
   "source": [
    "df_seattle['PRCP']"
   ]
  },
  {
   "cell_type": "markdown",
   "id": "e3c900f4",
   "metadata": {},
   "source": [
    "-> The PRCP means precipitation and here the loc used to access a set of rows and columns, here the : means all rows and the PRCP is the column."
   ]
  },
  {
   "cell_type": "code",
   "execution_count": 42,
   "id": "841b15a1",
   "metadata": {
    "scrolled": true
   },
   "outputs": [
    {
     "data": {
      "text/plain": [
       "0       0.00\n",
       "1       0.00\n",
       "2       0.00\n",
       "3       0.00\n",
       "4       0.25\n",
       "        ... \n",
       "1653    0.78\n",
       "1654    0.40\n",
       "1655    0.03\n",
       "1656    0.62\n",
       "1657    0.17\n",
       "Name: PRCP, Length: 1658, dtype: float64"
      ]
     },
     "execution_count": 42,
     "metadata": {},
     "output_type": "execute_result"
    }
   ],
   "source": [
    "df_seattle.loc[:, 'PRCP']"
   ]
  },
  {
   "cell_type": "markdown",
   "id": "5d32025d",
   "metadata": {},
   "source": [
    "Here we can see all rows starting from 0-1657, and the type of data is float."
   ]
  },
  {
   "cell_type": "code",
   "execution_count": 43,
   "id": "e48260f8",
   "metadata": {},
   "outputs": [
    {
     "data": {
      "text/html": [
       "<div>\n",
       "<style scoped>\n",
       "    .dataframe tbody tr th:only-of-type {\n",
       "        vertical-align: middle;\n",
       "    }\n",
       "\n",
       "    .dataframe tbody tr th {\n",
       "        vertical-align: top;\n",
       "    }\n",
       "\n",
       "    .dataframe thead th {\n",
       "        text-align: right;\n",
       "    }\n",
       "</style>\n",
       "<table border=\"1\" class=\"dataframe\">\n",
       "  <thead>\n",
       "    <tr style=\"text-align: right;\">\n",
       "      <th></th>\n",
       "      <th>STATION</th>\n",
       "      <th>NAME</th>\n",
       "      <th>DATE</th>\n",
       "      <th>DAPR</th>\n",
       "      <th>MDPR</th>\n",
       "      <th>PRCP</th>\n",
       "      <th>SNOW</th>\n",
       "      <th>SNWD</th>\n",
       "      <th>WESD</th>\n",
       "      <th>WESF</th>\n",
       "    </tr>\n",
       "  </thead>\n",
       "  <tbody>\n",
       "    <tr>\n",
       "      <th>0</th>\n",
       "      <td>US1WAKG0225</td>\n",
       "      <td>SEATTLE 2.1 ESE, WA US</td>\n",
       "      <td>2018-01-01</td>\n",
       "      <td>NaN</td>\n",
       "      <td>NaN</td>\n",
       "      <td>0.00</td>\n",
       "      <td>NaN</td>\n",
       "      <td>NaN</td>\n",
       "      <td>NaN</td>\n",
       "      <td>NaN</td>\n",
       "    </tr>\n",
       "    <tr>\n",
       "      <th>1</th>\n",
       "      <td>US1WAKG0225</td>\n",
       "      <td>SEATTLE 2.1 ESE, WA US</td>\n",
       "      <td>2018-01-02</td>\n",
       "      <td>NaN</td>\n",
       "      <td>NaN</td>\n",
       "      <td>0.00</td>\n",
       "      <td>NaN</td>\n",
       "      <td>NaN</td>\n",
       "      <td>NaN</td>\n",
       "      <td>NaN</td>\n",
       "    </tr>\n",
       "    <tr>\n",
       "      <th>2</th>\n",
       "      <td>US1WAKG0225</td>\n",
       "      <td>SEATTLE 2.1 ESE, WA US</td>\n",
       "      <td>2018-01-03</td>\n",
       "      <td>NaN</td>\n",
       "      <td>NaN</td>\n",
       "      <td>0.00</td>\n",
       "      <td>NaN</td>\n",
       "      <td>NaN</td>\n",
       "      <td>NaN</td>\n",
       "      <td>NaN</td>\n",
       "    </tr>\n",
       "    <tr>\n",
       "      <th>3</th>\n",
       "      <td>US1WAKG0225</td>\n",
       "      <td>SEATTLE 2.1 ESE, WA US</td>\n",
       "      <td>2018-01-04</td>\n",
       "      <td>NaN</td>\n",
       "      <td>NaN</td>\n",
       "      <td>0.00</td>\n",
       "      <td>NaN</td>\n",
       "      <td>NaN</td>\n",
       "      <td>NaN</td>\n",
       "      <td>NaN</td>\n",
       "    </tr>\n",
       "    <tr>\n",
       "      <th>4</th>\n",
       "      <td>US1WAKG0225</td>\n",
       "      <td>SEATTLE 2.1 ESE, WA US</td>\n",
       "      <td>2018-01-05</td>\n",
       "      <td>NaN</td>\n",
       "      <td>NaN</td>\n",
       "      <td>0.25</td>\n",
       "      <td>NaN</td>\n",
       "      <td>NaN</td>\n",
       "      <td>NaN</td>\n",
       "      <td>NaN</td>\n",
       "    </tr>\n",
       "  </tbody>\n",
       "</table>\n",
       "</div>"
      ],
      "text/plain": [
       "       STATION                    NAME       DATE  DAPR  MDPR  PRCP  SNOW  \\\n",
       "0  US1WAKG0225  SEATTLE 2.1 ESE, WA US 2018-01-01   NaN   NaN  0.00   NaN   \n",
       "1  US1WAKG0225  SEATTLE 2.1 ESE, WA US 2018-01-02   NaN   NaN  0.00   NaN   \n",
       "2  US1WAKG0225  SEATTLE 2.1 ESE, WA US 2018-01-03   NaN   NaN  0.00   NaN   \n",
       "3  US1WAKG0225  SEATTLE 2.1 ESE, WA US 2018-01-04   NaN   NaN  0.00   NaN   \n",
       "4  US1WAKG0225  SEATTLE 2.1 ESE, WA US 2018-01-05   NaN   NaN  0.25   NaN   \n",
       "\n",
       "   SNWD  WESD  WESF  \n",
       "0   NaN   NaN   NaN  \n",
       "1   NaN   NaN   NaN  \n",
       "2   NaN   NaN   NaN  \n",
       "3   NaN   NaN   NaN  \n",
       "4   NaN   NaN   NaN  "
      ]
     },
     "execution_count": 43,
     "metadata": {},
     "output_type": "execute_result"
    }
   ],
   "source": [
    "df_seattle.head()"
   ]
  },
  {
   "cell_type": "markdown",
   "id": "5d07e8e4",
   "metadata": {},
   "source": [
    "-> Here the iloc is used to select the integer by position and is mainly used when we are unsure about the column name. "
   ]
  },
  {
   "cell_type": "code",
   "execution_count": 44,
   "id": "aff6aa5c",
   "metadata": {},
   "outputs": [
    {
     "data": {
      "text/plain": [
       "0       0.00\n",
       "1       0.00\n",
       "2       0.00\n",
       "3       0.00\n",
       "4       0.25\n",
       "        ... \n",
       "1653    0.78\n",
       "1654    0.40\n",
       "1655    0.03\n",
       "1656    0.62\n",
       "1657    0.17\n",
       "Name: PRCP, Length: 1658, dtype: float64"
      ]
     },
     "execution_count": 44,
     "metadata": {},
     "output_type": "execute_result"
    }
   ],
   "source": [
    "df_seattle.iloc[:, 5]"
   ]
  },
  {
   "cell_type": "markdown",
   "id": "fd3464ef",
   "metadata": {},
   "source": [
    "Here, 5 indicates the 6th column, as indexing starts from 0. The output shows the PRCP values for all rows."
   ]
  },
  {
   "cell_type": "markdown",
   "id": "8cb94598",
   "metadata": {},
   "source": [
    "-> In this step I am checking the three main columns that were required for analysis."
   ]
  },
  {
   "cell_type": "code",
   "execution_count": 45,
   "id": "0824fac6",
   "metadata": {},
   "outputs": [
    {
     "data": {
      "text/html": [
       "<div>\n",
       "<style scoped>\n",
       "    .dataframe tbody tr th:only-of-type {\n",
       "        vertical-align: middle;\n",
       "    }\n",
       "\n",
       "    .dataframe tbody tr th {\n",
       "        vertical-align: top;\n",
       "    }\n",
       "\n",
       "    .dataframe thead th {\n",
       "        text-align: right;\n",
       "    }\n",
       "</style>\n",
       "<table border=\"1\" class=\"dataframe\">\n",
       "  <thead>\n",
       "    <tr style=\"text-align: right;\">\n",
       "      <th></th>\n",
       "      <th>STATION</th>\n",
       "      <th>DATE</th>\n",
       "      <th>PRCP</th>\n",
       "    </tr>\n",
       "  </thead>\n",
       "  <tbody>\n",
       "    <tr>\n",
       "      <th>0</th>\n",
       "      <td>US1WAKG0225</td>\n",
       "      <td>2018-01-01</td>\n",
       "      <td>0.00</td>\n",
       "    </tr>\n",
       "    <tr>\n",
       "      <th>1</th>\n",
       "      <td>US1WAKG0225</td>\n",
       "      <td>2018-01-02</td>\n",
       "      <td>0.00</td>\n",
       "    </tr>\n",
       "    <tr>\n",
       "      <th>2</th>\n",
       "      <td>US1WAKG0225</td>\n",
       "      <td>2018-01-03</td>\n",
       "      <td>0.00</td>\n",
       "    </tr>\n",
       "    <tr>\n",
       "      <th>3</th>\n",
       "      <td>US1WAKG0225</td>\n",
       "      <td>2018-01-04</td>\n",
       "      <td>0.00</td>\n",
       "    </tr>\n",
       "    <tr>\n",
       "      <th>4</th>\n",
       "      <td>US1WAKG0225</td>\n",
       "      <td>2018-01-05</td>\n",
       "      <td>0.25</td>\n",
       "    </tr>\n",
       "    <tr>\n",
       "      <th>...</th>\n",
       "      <td>...</td>\n",
       "      <td>...</td>\n",
       "      <td>...</td>\n",
       "    </tr>\n",
       "    <tr>\n",
       "      <th>1653</th>\n",
       "      <td>US1WAKG0225</td>\n",
       "      <td>2022-12-27</td>\n",
       "      <td>0.78</td>\n",
       "    </tr>\n",
       "    <tr>\n",
       "      <th>1654</th>\n",
       "      <td>US1WAKG0225</td>\n",
       "      <td>2022-12-28</td>\n",
       "      <td>0.40</td>\n",
       "    </tr>\n",
       "    <tr>\n",
       "      <th>1655</th>\n",
       "      <td>US1WAKG0225</td>\n",
       "      <td>2022-12-29</td>\n",
       "      <td>0.03</td>\n",
       "    </tr>\n",
       "    <tr>\n",
       "      <th>1656</th>\n",
       "      <td>US1WAKG0225</td>\n",
       "      <td>2022-12-30</td>\n",
       "      <td>0.62</td>\n",
       "    </tr>\n",
       "    <tr>\n",
       "      <th>1657</th>\n",
       "      <td>US1WAKG0225</td>\n",
       "      <td>2022-12-31</td>\n",
       "      <td>0.17</td>\n",
       "    </tr>\n",
       "  </tbody>\n",
       "</table>\n",
       "<p>1658 rows × 3 columns</p>\n",
       "</div>"
      ],
      "text/plain": [
       "          STATION       DATE  PRCP\n",
       "0     US1WAKG0225 2018-01-01  0.00\n",
       "1     US1WAKG0225 2018-01-02  0.00\n",
       "2     US1WAKG0225 2018-01-03  0.00\n",
       "3     US1WAKG0225 2018-01-04  0.00\n",
       "4     US1WAKG0225 2018-01-05  0.25\n",
       "...           ...        ...   ...\n",
       "1653  US1WAKG0225 2022-12-27  0.78\n",
       "1654  US1WAKG0225 2022-12-28  0.40\n",
       "1655  US1WAKG0225 2022-12-29  0.03\n",
       "1656  US1WAKG0225 2022-12-30  0.62\n",
       "1657  US1WAKG0225 2022-12-31  0.17\n",
       "\n",
       "[1658 rows x 3 columns]"
      ]
     },
     "execution_count": 45,
     "metadata": {},
     "output_type": "execute_result"
    }
   ],
   "source": [
    "df_seattle[['STATION', 'DATE', 'PRCP']]"
   ]
  },
  {
   "cell_type": "markdown",
   "id": "ce0b04eb",
   "metadata": {},
   "source": [
    "We can get the same result using loc method, which allows selection by column names and works well for slicing."
   ]
  },
  {
   "cell_type": "code",
   "execution_count": 46,
   "id": "2ed93c14",
   "metadata": {},
   "outputs": [
    {
     "data": {
      "text/html": [
       "<div>\n",
       "<style scoped>\n",
       "    .dataframe tbody tr th:only-of-type {\n",
       "        vertical-align: middle;\n",
       "    }\n",
       "\n",
       "    .dataframe tbody tr th {\n",
       "        vertical-align: top;\n",
       "    }\n",
       "\n",
       "    .dataframe thead th {\n",
       "        text-align: right;\n",
       "    }\n",
       "</style>\n",
       "<table border=\"1\" class=\"dataframe\">\n",
       "  <thead>\n",
       "    <tr style=\"text-align: right;\">\n",
       "      <th></th>\n",
       "      <th>STATION</th>\n",
       "      <th>DATE</th>\n",
       "      <th>PRCP</th>\n",
       "    </tr>\n",
       "  </thead>\n",
       "  <tbody>\n",
       "    <tr>\n",
       "      <th>0</th>\n",
       "      <td>US1WAKG0225</td>\n",
       "      <td>2018-01-01</td>\n",
       "      <td>0.00</td>\n",
       "    </tr>\n",
       "    <tr>\n",
       "      <th>1</th>\n",
       "      <td>US1WAKG0225</td>\n",
       "      <td>2018-01-02</td>\n",
       "      <td>0.00</td>\n",
       "    </tr>\n",
       "    <tr>\n",
       "      <th>2</th>\n",
       "      <td>US1WAKG0225</td>\n",
       "      <td>2018-01-03</td>\n",
       "      <td>0.00</td>\n",
       "    </tr>\n",
       "    <tr>\n",
       "      <th>3</th>\n",
       "      <td>US1WAKG0225</td>\n",
       "      <td>2018-01-04</td>\n",
       "      <td>0.00</td>\n",
       "    </tr>\n",
       "    <tr>\n",
       "      <th>4</th>\n",
       "      <td>US1WAKG0225</td>\n",
       "      <td>2018-01-05</td>\n",
       "      <td>0.25</td>\n",
       "    </tr>\n",
       "    <tr>\n",
       "      <th>...</th>\n",
       "      <td>...</td>\n",
       "      <td>...</td>\n",
       "      <td>...</td>\n",
       "    </tr>\n",
       "    <tr>\n",
       "      <th>1653</th>\n",
       "      <td>US1WAKG0225</td>\n",
       "      <td>2022-12-27</td>\n",
       "      <td>0.78</td>\n",
       "    </tr>\n",
       "    <tr>\n",
       "      <th>1654</th>\n",
       "      <td>US1WAKG0225</td>\n",
       "      <td>2022-12-28</td>\n",
       "      <td>0.40</td>\n",
       "    </tr>\n",
       "    <tr>\n",
       "      <th>1655</th>\n",
       "      <td>US1WAKG0225</td>\n",
       "      <td>2022-12-29</td>\n",
       "      <td>0.03</td>\n",
       "    </tr>\n",
       "    <tr>\n",
       "      <th>1656</th>\n",
       "      <td>US1WAKG0225</td>\n",
       "      <td>2022-12-30</td>\n",
       "      <td>0.62</td>\n",
       "    </tr>\n",
       "    <tr>\n",
       "      <th>1657</th>\n",
       "      <td>US1WAKG0225</td>\n",
       "      <td>2022-12-31</td>\n",
       "      <td>0.17</td>\n",
       "    </tr>\n",
       "  </tbody>\n",
       "</table>\n",
       "<p>1658 rows × 3 columns</p>\n",
       "</div>"
      ],
      "text/plain": [
       "          STATION       DATE  PRCP\n",
       "0     US1WAKG0225 2018-01-01  0.00\n",
       "1     US1WAKG0225 2018-01-02  0.00\n",
       "2     US1WAKG0225 2018-01-03  0.00\n",
       "3     US1WAKG0225 2018-01-04  0.00\n",
       "4     US1WAKG0225 2018-01-05  0.25\n",
       "...           ...        ...   ...\n",
       "1653  US1WAKG0225 2022-12-27  0.78\n",
       "1654  US1WAKG0225 2022-12-28  0.40\n",
       "1655  US1WAKG0225 2022-12-29  0.03\n",
       "1656  US1WAKG0225 2022-12-30  0.62\n",
       "1657  US1WAKG0225 2022-12-31  0.17\n",
       "\n",
       "[1658 rows x 3 columns]"
      ]
     },
     "execution_count": 46,
     "metadata": {},
     "output_type": "execute_result"
    }
   ],
   "source": [
    "df_seattle.loc[:, ['STATION', 'DATE', 'PRCP']]"
   ]
  },
  {
   "cell_type": "markdown",
   "id": "f60d0c34",
   "metadata": {},
   "source": [
    "-> Here i want to check integer-based indexing for multiple columns, I passed the integer values positions to iloc."
   ]
  },
  {
   "cell_type": "code",
   "execution_count": 47,
   "id": "fe2b5e6a",
   "metadata": {},
   "outputs": [
    {
     "data": {
      "text/html": [
       "<div>\n",
       "<style scoped>\n",
       "    .dataframe tbody tr th:only-of-type {\n",
       "        vertical-align: middle;\n",
       "    }\n",
       "\n",
       "    .dataframe tbody tr th {\n",
       "        vertical-align: top;\n",
       "    }\n",
       "\n",
       "    .dataframe thead th {\n",
       "        text-align: right;\n",
       "    }\n",
       "</style>\n",
       "<table border=\"1\" class=\"dataframe\">\n",
       "  <thead>\n",
       "    <tr style=\"text-align: right;\">\n",
       "      <th></th>\n",
       "      <th>STATION</th>\n",
       "      <th>DATE</th>\n",
       "      <th>PRCP</th>\n",
       "    </tr>\n",
       "  </thead>\n",
       "  <tbody>\n",
       "    <tr>\n",
       "      <th>0</th>\n",
       "      <td>US1WAKG0225</td>\n",
       "      <td>2018-01-01</td>\n",
       "      <td>0.00</td>\n",
       "    </tr>\n",
       "    <tr>\n",
       "      <th>1</th>\n",
       "      <td>US1WAKG0225</td>\n",
       "      <td>2018-01-02</td>\n",
       "      <td>0.00</td>\n",
       "    </tr>\n",
       "    <tr>\n",
       "      <th>2</th>\n",
       "      <td>US1WAKG0225</td>\n",
       "      <td>2018-01-03</td>\n",
       "      <td>0.00</td>\n",
       "    </tr>\n",
       "    <tr>\n",
       "      <th>3</th>\n",
       "      <td>US1WAKG0225</td>\n",
       "      <td>2018-01-04</td>\n",
       "      <td>0.00</td>\n",
       "    </tr>\n",
       "    <tr>\n",
       "      <th>4</th>\n",
       "      <td>US1WAKG0225</td>\n",
       "      <td>2018-01-05</td>\n",
       "      <td>0.25</td>\n",
       "    </tr>\n",
       "    <tr>\n",
       "      <th>...</th>\n",
       "      <td>...</td>\n",
       "      <td>...</td>\n",
       "      <td>...</td>\n",
       "    </tr>\n",
       "    <tr>\n",
       "      <th>1653</th>\n",
       "      <td>US1WAKG0225</td>\n",
       "      <td>2022-12-27</td>\n",
       "      <td>0.78</td>\n",
       "    </tr>\n",
       "    <tr>\n",
       "      <th>1654</th>\n",
       "      <td>US1WAKG0225</td>\n",
       "      <td>2022-12-28</td>\n",
       "      <td>0.40</td>\n",
       "    </tr>\n",
       "    <tr>\n",
       "      <th>1655</th>\n",
       "      <td>US1WAKG0225</td>\n",
       "      <td>2022-12-29</td>\n",
       "      <td>0.03</td>\n",
       "    </tr>\n",
       "    <tr>\n",
       "      <th>1656</th>\n",
       "      <td>US1WAKG0225</td>\n",
       "      <td>2022-12-30</td>\n",
       "      <td>0.62</td>\n",
       "    </tr>\n",
       "    <tr>\n",
       "      <th>1657</th>\n",
       "      <td>US1WAKG0225</td>\n",
       "      <td>2022-12-31</td>\n",
       "      <td>0.17</td>\n",
       "    </tr>\n",
       "  </tbody>\n",
       "</table>\n",
       "<p>1658 rows × 3 columns</p>\n",
       "</div>"
      ],
      "text/plain": [
       "          STATION       DATE  PRCP\n",
       "0     US1WAKG0225 2018-01-01  0.00\n",
       "1     US1WAKG0225 2018-01-02  0.00\n",
       "2     US1WAKG0225 2018-01-03  0.00\n",
       "3     US1WAKG0225 2018-01-04  0.00\n",
       "4     US1WAKG0225 2018-01-05  0.25\n",
       "...           ...        ...   ...\n",
       "1653  US1WAKG0225 2022-12-27  0.78\n",
       "1654  US1WAKG0225 2022-12-28  0.40\n",
       "1655  US1WAKG0225 2022-12-29  0.03\n",
       "1656  US1WAKG0225 2022-12-30  0.62\n",
       "1657  US1WAKG0225 2022-12-31  0.17\n",
       "\n",
       "[1658 rows x 3 columns]"
      ]
     },
     "execution_count": 47,
     "metadata": {},
     "output_type": "execute_result"
    }
   ],
   "source": [
    "df_seattle.iloc[:, [0, 2, 5]]"
   ]
  },
  {
   "cell_type": "markdown",
   "id": "944c0e9c",
   "metadata": {},
   "source": [
    "Here the columns at index positions 0,2,5 (STATION, DATE, PRCP) are selected."
   ]
  },
  {
   "cell_type": "code",
   "execution_count": 48,
   "id": "6e09a105",
   "metadata": {},
   "outputs": [
    {
     "data": {
      "text/html": [
       "<div>\n",
       "<style scoped>\n",
       "    .dataframe tbody tr th:only-of-type {\n",
       "        vertical-align: middle;\n",
       "    }\n",
       "\n",
       "    .dataframe tbody tr th {\n",
       "        vertical-align: top;\n",
       "    }\n",
       "\n",
       "    .dataframe thead th {\n",
       "        text-align: right;\n",
       "    }\n",
       "</style>\n",
       "<table border=\"1\" class=\"dataframe\">\n",
       "  <thead>\n",
       "    <tr style=\"text-align: right;\">\n",
       "      <th></th>\n",
       "      <th>STATION</th>\n",
       "      <th>NAME</th>\n",
       "      <th>DATE</th>\n",
       "      <th>DAPR</th>\n",
       "      <th>MDPR</th>\n",
       "      <th>PRCP</th>\n",
       "      <th>SNOW</th>\n",
       "      <th>SNWD</th>\n",
       "      <th>WESD</th>\n",
       "      <th>WESF</th>\n",
       "    </tr>\n",
       "  </thead>\n",
       "  <tbody>\n",
       "    <tr>\n",
       "      <th>0</th>\n",
       "      <td>US1WAKG0225</td>\n",
       "      <td>SEATTLE 2.1 ESE, WA US</td>\n",
       "      <td>2018-01-01</td>\n",
       "      <td>NaN</td>\n",
       "      <td>NaN</td>\n",
       "      <td>0.00</td>\n",
       "      <td>NaN</td>\n",
       "      <td>NaN</td>\n",
       "      <td>NaN</td>\n",
       "      <td>NaN</td>\n",
       "    </tr>\n",
       "    <tr>\n",
       "      <th>1</th>\n",
       "      <td>US1WAKG0225</td>\n",
       "      <td>SEATTLE 2.1 ESE, WA US</td>\n",
       "      <td>2018-01-02</td>\n",
       "      <td>NaN</td>\n",
       "      <td>NaN</td>\n",
       "      <td>0.00</td>\n",
       "      <td>NaN</td>\n",
       "      <td>NaN</td>\n",
       "      <td>NaN</td>\n",
       "      <td>NaN</td>\n",
       "    </tr>\n",
       "    <tr>\n",
       "      <th>2</th>\n",
       "      <td>US1WAKG0225</td>\n",
       "      <td>SEATTLE 2.1 ESE, WA US</td>\n",
       "      <td>2018-01-03</td>\n",
       "      <td>NaN</td>\n",
       "      <td>NaN</td>\n",
       "      <td>0.00</td>\n",
       "      <td>NaN</td>\n",
       "      <td>NaN</td>\n",
       "      <td>NaN</td>\n",
       "      <td>NaN</td>\n",
       "    </tr>\n",
       "    <tr>\n",
       "      <th>3</th>\n",
       "      <td>US1WAKG0225</td>\n",
       "      <td>SEATTLE 2.1 ESE, WA US</td>\n",
       "      <td>2018-01-04</td>\n",
       "      <td>NaN</td>\n",
       "      <td>NaN</td>\n",
       "      <td>0.00</td>\n",
       "      <td>NaN</td>\n",
       "      <td>NaN</td>\n",
       "      <td>NaN</td>\n",
       "      <td>NaN</td>\n",
       "    </tr>\n",
       "    <tr>\n",
       "      <th>4</th>\n",
       "      <td>US1WAKG0225</td>\n",
       "      <td>SEATTLE 2.1 ESE, WA US</td>\n",
       "      <td>2018-01-05</td>\n",
       "      <td>NaN</td>\n",
       "      <td>NaN</td>\n",
       "      <td>0.25</td>\n",
       "      <td>NaN</td>\n",
       "      <td>NaN</td>\n",
       "      <td>NaN</td>\n",
       "      <td>NaN</td>\n",
       "    </tr>\n",
       "  </tbody>\n",
       "</table>\n",
       "</div>"
      ],
      "text/plain": [
       "       STATION                    NAME       DATE  DAPR  MDPR  PRCP  SNOW  \\\n",
       "0  US1WAKG0225  SEATTLE 2.1 ESE, WA US 2018-01-01   NaN   NaN  0.00   NaN   \n",
       "1  US1WAKG0225  SEATTLE 2.1 ESE, WA US 2018-01-02   NaN   NaN  0.00   NaN   \n",
       "2  US1WAKG0225  SEATTLE 2.1 ESE, WA US 2018-01-03   NaN   NaN  0.00   NaN   \n",
       "3  US1WAKG0225  SEATTLE 2.1 ESE, WA US 2018-01-04   NaN   NaN  0.00   NaN   \n",
       "4  US1WAKG0225  SEATTLE 2.1 ESE, WA US 2018-01-05   NaN   NaN  0.25   NaN   \n",
       "\n",
       "   SNWD  WESD  WESF  \n",
       "0   NaN   NaN   NaN  \n",
       "1   NaN   NaN   NaN  \n",
       "2   NaN   NaN   NaN  \n",
       "3   NaN   NaN   NaN  \n",
       "4   NaN   NaN   NaN  "
      ]
     },
     "execution_count": 48,
     "metadata": {},
     "output_type": "execute_result"
    }
   ],
   "source": [
    "df_seattle.head()"
   ]
  },
  {
   "cell_type": "markdown",
   "id": "85bbb427",
   "metadata": {},
   "source": [
    "-> Here this is called slicing where we mention columns by giving the first column name and the last column name we want to see, which gives us the from station and the columns in between and the last column name mentioned."
   ]
  },
  {
   "cell_type": "code",
   "execution_count": 49,
   "id": "eb073d6f",
   "metadata": {},
   "outputs": [
    {
     "data": {
      "text/html": [
       "<div>\n",
       "<style scoped>\n",
       "    .dataframe tbody tr th:only-of-type {\n",
       "        vertical-align: middle;\n",
       "    }\n",
       "\n",
       "    .dataframe tbody tr th {\n",
       "        vertical-align: top;\n",
       "    }\n",
       "\n",
       "    .dataframe thead th {\n",
       "        text-align: right;\n",
       "    }\n",
       "</style>\n",
       "<table border=\"1\" class=\"dataframe\">\n",
       "  <thead>\n",
       "    <tr style=\"text-align: right;\">\n",
       "      <th></th>\n",
       "      <th>STATION</th>\n",
       "      <th>NAME</th>\n",
       "      <th>DATE</th>\n",
       "      <th>DAPR</th>\n",
       "      <th>MDPR</th>\n",
       "      <th>PRCP</th>\n",
       "    </tr>\n",
       "  </thead>\n",
       "  <tbody>\n",
       "    <tr>\n",
       "      <th>0</th>\n",
       "      <td>US1WAKG0225</td>\n",
       "      <td>SEATTLE 2.1 ESE, WA US</td>\n",
       "      <td>2018-01-01</td>\n",
       "      <td>NaN</td>\n",
       "      <td>NaN</td>\n",
       "      <td>0.00</td>\n",
       "    </tr>\n",
       "    <tr>\n",
       "      <th>1</th>\n",
       "      <td>US1WAKG0225</td>\n",
       "      <td>SEATTLE 2.1 ESE, WA US</td>\n",
       "      <td>2018-01-02</td>\n",
       "      <td>NaN</td>\n",
       "      <td>NaN</td>\n",
       "      <td>0.00</td>\n",
       "    </tr>\n",
       "    <tr>\n",
       "      <th>2</th>\n",
       "      <td>US1WAKG0225</td>\n",
       "      <td>SEATTLE 2.1 ESE, WA US</td>\n",
       "      <td>2018-01-03</td>\n",
       "      <td>NaN</td>\n",
       "      <td>NaN</td>\n",
       "      <td>0.00</td>\n",
       "    </tr>\n",
       "    <tr>\n",
       "      <th>3</th>\n",
       "      <td>US1WAKG0225</td>\n",
       "      <td>SEATTLE 2.1 ESE, WA US</td>\n",
       "      <td>2018-01-04</td>\n",
       "      <td>NaN</td>\n",
       "      <td>NaN</td>\n",
       "      <td>0.00</td>\n",
       "    </tr>\n",
       "    <tr>\n",
       "      <th>4</th>\n",
       "      <td>US1WAKG0225</td>\n",
       "      <td>SEATTLE 2.1 ESE, WA US</td>\n",
       "      <td>2018-01-05</td>\n",
       "      <td>NaN</td>\n",
       "      <td>NaN</td>\n",
       "      <td>0.25</td>\n",
       "    </tr>\n",
       "    <tr>\n",
       "      <th>...</th>\n",
       "      <td>...</td>\n",
       "      <td>...</td>\n",
       "      <td>...</td>\n",
       "      <td>...</td>\n",
       "      <td>...</td>\n",
       "      <td>...</td>\n",
       "    </tr>\n",
       "    <tr>\n",
       "      <th>1653</th>\n",
       "      <td>US1WAKG0225</td>\n",
       "      <td>SEATTLE 2.1 ESE, WA US</td>\n",
       "      <td>2022-12-27</td>\n",
       "      <td>NaN</td>\n",
       "      <td>NaN</td>\n",
       "      <td>0.78</td>\n",
       "    </tr>\n",
       "    <tr>\n",
       "      <th>1654</th>\n",
       "      <td>US1WAKG0225</td>\n",
       "      <td>SEATTLE 2.1 ESE, WA US</td>\n",
       "      <td>2022-12-28</td>\n",
       "      <td>NaN</td>\n",
       "      <td>NaN</td>\n",
       "      <td>0.40</td>\n",
       "    </tr>\n",
       "    <tr>\n",
       "      <th>1655</th>\n",
       "      <td>US1WAKG0225</td>\n",
       "      <td>SEATTLE 2.1 ESE, WA US</td>\n",
       "      <td>2022-12-29</td>\n",
       "      <td>NaN</td>\n",
       "      <td>NaN</td>\n",
       "      <td>0.03</td>\n",
       "    </tr>\n",
       "    <tr>\n",
       "      <th>1656</th>\n",
       "      <td>US1WAKG0225</td>\n",
       "      <td>SEATTLE 2.1 ESE, WA US</td>\n",
       "      <td>2022-12-30</td>\n",
       "      <td>NaN</td>\n",
       "      <td>NaN</td>\n",
       "      <td>0.62</td>\n",
       "    </tr>\n",
       "    <tr>\n",
       "      <th>1657</th>\n",
       "      <td>US1WAKG0225</td>\n",
       "      <td>SEATTLE 2.1 ESE, WA US</td>\n",
       "      <td>2022-12-31</td>\n",
       "      <td>NaN</td>\n",
       "      <td>NaN</td>\n",
       "      <td>0.17</td>\n",
       "    </tr>\n",
       "  </tbody>\n",
       "</table>\n",
       "<p>1658 rows × 6 columns</p>\n",
       "</div>"
      ],
      "text/plain": [
       "          STATION                    NAME       DATE  DAPR  MDPR  PRCP\n",
       "0     US1WAKG0225  SEATTLE 2.1 ESE, WA US 2018-01-01   NaN   NaN  0.00\n",
       "1     US1WAKG0225  SEATTLE 2.1 ESE, WA US 2018-01-02   NaN   NaN  0.00\n",
       "2     US1WAKG0225  SEATTLE 2.1 ESE, WA US 2018-01-03   NaN   NaN  0.00\n",
       "3     US1WAKG0225  SEATTLE 2.1 ESE, WA US 2018-01-04   NaN   NaN  0.00\n",
       "4     US1WAKG0225  SEATTLE 2.1 ESE, WA US 2018-01-05   NaN   NaN  0.25\n",
       "...           ...                     ...        ...   ...   ...   ...\n",
       "1653  US1WAKG0225  SEATTLE 2.1 ESE, WA US 2022-12-27   NaN   NaN  0.78\n",
       "1654  US1WAKG0225  SEATTLE 2.1 ESE, WA US 2022-12-28   NaN   NaN  0.40\n",
       "1655  US1WAKG0225  SEATTLE 2.1 ESE, WA US 2022-12-29   NaN   NaN  0.03\n",
       "1656  US1WAKG0225  SEATTLE 2.1 ESE, WA US 2022-12-30   NaN   NaN  0.62\n",
       "1657  US1WAKG0225  SEATTLE 2.1 ESE, WA US 2022-12-31   NaN   NaN  0.17\n",
       "\n",
       "[1658 rows x 6 columns]"
      ]
     },
     "execution_count": 49,
     "metadata": {},
     "output_type": "execute_result"
    }
   ],
   "source": [
    "df_seattle.loc[:, 'STATION':'PRCP']"
   ]
  },
  {
   "cell_type": "markdown",
   "id": "42c1eb0f",
   "metadata": {},
   "source": [
    "-> This slicing method is used when we are unsure about the columnname, we specify the number. "
   ]
  },
  {
   "cell_type": "code",
   "execution_count": 50,
   "id": "6048026d",
   "metadata": {},
   "outputs": [
    {
     "data": {
      "text/html": [
       "<div>\n",
       "<style scoped>\n",
       "    .dataframe tbody tr th:only-of-type {\n",
       "        vertical-align: middle;\n",
       "    }\n",
       "\n",
       "    .dataframe tbody tr th {\n",
       "        vertical-align: top;\n",
       "    }\n",
       "\n",
       "    .dataframe thead th {\n",
       "        text-align: right;\n",
       "    }\n",
       "</style>\n",
       "<table border=\"1\" class=\"dataframe\">\n",
       "  <thead>\n",
       "    <tr style=\"text-align: right;\">\n",
       "      <th></th>\n",
       "      <th>STATION</th>\n",
       "      <th>NAME</th>\n",
       "      <th>DATE</th>\n",
       "      <th>DAPR</th>\n",
       "      <th>MDPR</th>\n",
       "      <th>PRCP</th>\n",
       "    </tr>\n",
       "  </thead>\n",
       "  <tbody>\n",
       "    <tr>\n",
       "      <th>0</th>\n",
       "      <td>US1WAKG0225</td>\n",
       "      <td>SEATTLE 2.1 ESE, WA US</td>\n",
       "      <td>2018-01-01</td>\n",
       "      <td>NaN</td>\n",
       "      <td>NaN</td>\n",
       "      <td>0.00</td>\n",
       "    </tr>\n",
       "    <tr>\n",
       "      <th>1</th>\n",
       "      <td>US1WAKG0225</td>\n",
       "      <td>SEATTLE 2.1 ESE, WA US</td>\n",
       "      <td>2018-01-02</td>\n",
       "      <td>NaN</td>\n",
       "      <td>NaN</td>\n",
       "      <td>0.00</td>\n",
       "    </tr>\n",
       "    <tr>\n",
       "      <th>2</th>\n",
       "      <td>US1WAKG0225</td>\n",
       "      <td>SEATTLE 2.1 ESE, WA US</td>\n",
       "      <td>2018-01-03</td>\n",
       "      <td>NaN</td>\n",
       "      <td>NaN</td>\n",
       "      <td>0.00</td>\n",
       "    </tr>\n",
       "    <tr>\n",
       "      <th>3</th>\n",
       "      <td>US1WAKG0225</td>\n",
       "      <td>SEATTLE 2.1 ESE, WA US</td>\n",
       "      <td>2018-01-04</td>\n",
       "      <td>NaN</td>\n",
       "      <td>NaN</td>\n",
       "      <td>0.00</td>\n",
       "    </tr>\n",
       "    <tr>\n",
       "      <th>4</th>\n",
       "      <td>US1WAKG0225</td>\n",
       "      <td>SEATTLE 2.1 ESE, WA US</td>\n",
       "      <td>2018-01-05</td>\n",
       "      <td>NaN</td>\n",
       "      <td>NaN</td>\n",
       "      <td>0.25</td>\n",
       "    </tr>\n",
       "    <tr>\n",
       "      <th>...</th>\n",
       "      <td>...</td>\n",
       "      <td>...</td>\n",
       "      <td>...</td>\n",
       "      <td>...</td>\n",
       "      <td>...</td>\n",
       "      <td>...</td>\n",
       "    </tr>\n",
       "    <tr>\n",
       "      <th>1653</th>\n",
       "      <td>US1WAKG0225</td>\n",
       "      <td>SEATTLE 2.1 ESE, WA US</td>\n",
       "      <td>2022-12-27</td>\n",
       "      <td>NaN</td>\n",
       "      <td>NaN</td>\n",
       "      <td>0.78</td>\n",
       "    </tr>\n",
       "    <tr>\n",
       "      <th>1654</th>\n",
       "      <td>US1WAKG0225</td>\n",
       "      <td>SEATTLE 2.1 ESE, WA US</td>\n",
       "      <td>2022-12-28</td>\n",
       "      <td>NaN</td>\n",
       "      <td>NaN</td>\n",
       "      <td>0.40</td>\n",
       "    </tr>\n",
       "    <tr>\n",
       "      <th>1655</th>\n",
       "      <td>US1WAKG0225</td>\n",
       "      <td>SEATTLE 2.1 ESE, WA US</td>\n",
       "      <td>2022-12-29</td>\n",
       "      <td>NaN</td>\n",
       "      <td>NaN</td>\n",
       "      <td>0.03</td>\n",
       "    </tr>\n",
       "    <tr>\n",
       "      <th>1656</th>\n",
       "      <td>US1WAKG0225</td>\n",
       "      <td>SEATTLE 2.1 ESE, WA US</td>\n",
       "      <td>2022-12-30</td>\n",
       "      <td>NaN</td>\n",
       "      <td>NaN</td>\n",
       "      <td>0.62</td>\n",
       "    </tr>\n",
       "    <tr>\n",
       "      <th>1657</th>\n",
       "      <td>US1WAKG0225</td>\n",
       "      <td>SEATTLE 2.1 ESE, WA US</td>\n",
       "      <td>2022-12-31</td>\n",
       "      <td>NaN</td>\n",
       "      <td>NaN</td>\n",
       "      <td>0.17</td>\n",
       "    </tr>\n",
       "  </tbody>\n",
       "</table>\n",
       "<p>1658 rows × 6 columns</p>\n",
       "</div>"
      ],
      "text/plain": [
       "          STATION                    NAME       DATE  DAPR  MDPR  PRCP\n",
       "0     US1WAKG0225  SEATTLE 2.1 ESE, WA US 2018-01-01   NaN   NaN  0.00\n",
       "1     US1WAKG0225  SEATTLE 2.1 ESE, WA US 2018-01-02   NaN   NaN  0.00\n",
       "2     US1WAKG0225  SEATTLE 2.1 ESE, WA US 2018-01-03   NaN   NaN  0.00\n",
       "3     US1WAKG0225  SEATTLE 2.1 ESE, WA US 2018-01-04   NaN   NaN  0.00\n",
       "4     US1WAKG0225  SEATTLE 2.1 ESE, WA US 2018-01-05   NaN   NaN  0.25\n",
       "...           ...                     ...        ...   ...   ...   ...\n",
       "1653  US1WAKG0225  SEATTLE 2.1 ESE, WA US 2022-12-27   NaN   NaN  0.78\n",
       "1654  US1WAKG0225  SEATTLE 2.1 ESE, WA US 2022-12-28   NaN   NaN  0.40\n",
       "1655  US1WAKG0225  SEATTLE 2.1 ESE, WA US 2022-12-29   NaN   NaN  0.03\n",
       "1656  US1WAKG0225  SEATTLE 2.1 ESE, WA US 2022-12-30   NaN   NaN  0.62\n",
       "1657  US1WAKG0225  SEATTLE 2.1 ESE, WA US 2022-12-31   NaN   NaN  0.17\n",
       "\n",
       "[1658 rows x 6 columns]"
      ]
     },
     "execution_count": 50,
     "metadata": {},
     "output_type": "execute_result"
    }
   ],
   "source": [
    "df_seattle.iloc[:, 0:6]"
   ]
  },
  {
   "cell_type": "markdown",
   "id": "7ff3074d",
   "metadata": {},
   "source": [
    "So, here 0 is inclusive and 6 is not inclusive, so it shows 0-5 indexed columns."
   ]
  },
  {
   "cell_type": "code",
   "execution_count": 51,
   "id": "fd81e272",
   "metadata": {},
   "outputs": [
    {
     "data": {
      "text/html": [
       "<div>\n",
       "<style scoped>\n",
       "    .dataframe tbody tr th:only-of-type {\n",
       "        vertical-align: middle;\n",
       "    }\n",
       "\n",
       "    .dataframe tbody tr th {\n",
       "        vertical-align: top;\n",
       "    }\n",
       "\n",
       "    .dataframe thead th {\n",
       "        text-align: right;\n",
       "    }\n",
       "</style>\n",
       "<table border=\"1\" class=\"dataframe\">\n",
       "  <thead>\n",
       "    <tr style=\"text-align: right;\">\n",
       "      <th></th>\n",
       "      <th>STATION</th>\n",
       "      <th>NAME</th>\n",
       "      <th>DATE</th>\n",
       "      <th>DAPR</th>\n",
       "      <th>MDPR</th>\n",
       "      <th>PRCP</th>\n",
       "      <th>SNOW</th>\n",
       "      <th>SNWD</th>\n",
       "      <th>WESD</th>\n",
       "      <th>WESF</th>\n",
       "    </tr>\n",
       "  </thead>\n",
       "  <tbody>\n",
       "    <tr>\n",
       "      <th>0</th>\n",
       "      <td>US1WAKG0225</td>\n",
       "      <td>SEATTLE 2.1 ESE, WA US</td>\n",
       "      <td>2018-01-01</td>\n",
       "      <td>NaN</td>\n",
       "      <td>NaN</td>\n",
       "      <td>0.0</td>\n",
       "      <td>NaN</td>\n",
       "      <td>NaN</td>\n",
       "      <td>NaN</td>\n",
       "      <td>NaN</td>\n",
       "    </tr>\n",
       "    <tr>\n",
       "      <th>1</th>\n",
       "      <td>US1WAKG0225</td>\n",
       "      <td>SEATTLE 2.1 ESE, WA US</td>\n",
       "      <td>2018-01-02</td>\n",
       "      <td>NaN</td>\n",
       "      <td>NaN</td>\n",
       "      <td>0.0</td>\n",
       "      <td>NaN</td>\n",
       "      <td>NaN</td>\n",
       "      <td>NaN</td>\n",
       "      <td>NaN</td>\n",
       "    </tr>\n",
       "    <tr>\n",
       "      <th>2</th>\n",
       "      <td>US1WAKG0225</td>\n",
       "      <td>SEATTLE 2.1 ESE, WA US</td>\n",
       "      <td>2018-01-03</td>\n",
       "      <td>NaN</td>\n",
       "      <td>NaN</td>\n",
       "      <td>0.0</td>\n",
       "      <td>NaN</td>\n",
       "      <td>NaN</td>\n",
       "      <td>NaN</td>\n",
       "      <td>NaN</td>\n",
       "    </tr>\n",
       "  </tbody>\n",
       "</table>\n",
       "</div>"
      ],
      "text/plain": [
       "       STATION                    NAME       DATE  DAPR  MDPR  PRCP  SNOW  \\\n",
       "0  US1WAKG0225  SEATTLE 2.1 ESE, WA US 2018-01-01   NaN   NaN   0.0   NaN   \n",
       "1  US1WAKG0225  SEATTLE 2.1 ESE, WA US 2018-01-02   NaN   NaN   0.0   NaN   \n",
       "2  US1WAKG0225  SEATTLE 2.1 ESE, WA US 2018-01-03   NaN   NaN   0.0   NaN   \n",
       "\n",
       "   SNWD  WESD  WESF  \n",
       "0   NaN   NaN   NaN  \n",
       "1   NaN   NaN   NaN  \n",
       "2   NaN   NaN   NaN  "
      ]
     },
     "execution_count": 51,
     "metadata": {},
     "output_type": "execute_result"
    }
   ],
   "source": [
    "df_seattle.head(3)"
   ]
  },
  {
   "cell_type": "code",
   "execution_count": 52,
   "id": "e5700abd",
   "metadata": {},
   "outputs": [
    {
     "data": {
      "text/html": [
       "<div>\n",
       "<style scoped>\n",
       "    .dataframe tbody tr th:only-of-type {\n",
       "        vertical-align: middle;\n",
       "    }\n",
       "\n",
       "    .dataframe tbody tr th {\n",
       "        vertical-align: top;\n",
       "    }\n",
       "\n",
       "    .dataframe thead th {\n",
       "        text-align: right;\n",
       "    }\n",
       "</style>\n",
       "<table border=\"1\" class=\"dataframe\">\n",
       "  <thead>\n",
       "    <tr style=\"text-align: right;\">\n",
       "      <th></th>\n",
       "      <th>STATION</th>\n",
       "      <th>NAME</th>\n",
       "      <th>DATE</th>\n",
       "      <th>DAPR</th>\n",
       "      <th>MDPR</th>\n",
       "      <th>PRCP</th>\n",
       "      <th>SNOW</th>\n",
       "      <th>SNWD</th>\n",
       "      <th>WESD</th>\n",
       "      <th>WESF</th>\n",
       "    </tr>\n",
       "  </thead>\n",
       "  <tbody>\n",
       "    <tr>\n",
       "      <th>0</th>\n",
       "      <td>US1WAKG0225</td>\n",
       "      <td>SEATTLE 2.1 ESE, WA US</td>\n",
       "      <td>2018-01-01</td>\n",
       "      <td>NaN</td>\n",
       "      <td>NaN</td>\n",
       "      <td>0.0</td>\n",
       "      <td>NaN</td>\n",
       "      <td>NaN</td>\n",
       "      <td>NaN</td>\n",
       "      <td>NaN</td>\n",
       "    </tr>\n",
       "    <tr>\n",
       "      <th>1</th>\n",
       "      <td>US1WAKG0225</td>\n",
       "      <td>SEATTLE 2.1 ESE, WA US</td>\n",
       "      <td>2018-01-02</td>\n",
       "      <td>NaN</td>\n",
       "      <td>NaN</td>\n",
       "      <td>0.0</td>\n",
       "      <td>NaN</td>\n",
       "      <td>NaN</td>\n",
       "      <td>NaN</td>\n",
       "      <td>NaN</td>\n",
       "    </tr>\n",
       "    <tr>\n",
       "      <th>2</th>\n",
       "      <td>US1WAKG0225</td>\n",
       "      <td>SEATTLE 2.1 ESE, WA US</td>\n",
       "      <td>2018-01-03</td>\n",
       "      <td>NaN</td>\n",
       "      <td>NaN</td>\n",
       "      <td>0.0</td>\n",
       "      <td>NaN</td>\n",
       "      <td>NaN</td>\n",
       "      <td>NaN</td>\n",
       "      <td>NaN</td>\n",
       "    </tr>\n",
       "  </tbody>\n",
       "</table>\n",
       "</div>"
      ],
      "text/plain": [
       "       STATION                    NAME       DATE  DAPR  MDPR  PRCP  SNOW  \\\n",
       "0  US1WAKG0225  SEATTLE 2.1 ESE, WA US 2018-01-01   NaN   NaN   0.0   NaN   \n",
       "1  US1WAKG0225  SEATTLE 2.1 ESE, WA US 2018-01-02   NaN   NaN   0.0   NaN   \n",
       "2  US1WAKG0225  SEATTLE 2.1 ESE, WA US 2018-01-03   NaN   NaN   0.0   NaN   \n",
       "\n",
       "   SNWD  WESD  WESF  \n",
       "0   NaN   NaN   NaN  \n",
       "1   NaN   NaN   NaN  \n",
       "2   NaN   NaN   NaN  "
      ]
     },
     "execution_count": 52,
     "metadata": {},
     "output_type": "execute_result"
    }
   ],
   "source": [
    "df_seattle.loc[:2]"
   ]
  },
  {
   "cell_type": "code",
   "execution_count": 53,
   "id": "fed86144",
   "metadata": {},
   "outputs": [
    {
     "data": {
      "text/html": [
       "<div>\n",
       "<style scoped>\n",
       "    .dataframe tbody tr th:only-of-type {\n",
       "        vertical-align: middle;\n",
       "    }\n",
       "\n",
       "    .dataframe tbody tr th {\n",
       "        vertical-align: top;\n",
       "    }\n",
       "\n",
       "    .dataframe thead th {\n",
       "        text-align: right;\n",
       "    }\n",
       "</style>\n",
       "<table border=\"1\" class=\"dataframe\">\n",
       "  <thead>\n",
       "    <tr style=\"text-align: right;\">\n",
       "      <th></th>\n",
       "      <th>STATION</th>\n",
       "      <th>NAME</th>\n",
       "      <th>DATE</th>\n",
       "      <th>DAPR</th>\n",
       "      <th>MDPR</th>\n",
       "      <th>PRCP</th>\n",
       "      <th>SNOW</th>\n",
       "      <th>SNWD</th>\n",
       "      <th>WESD</th>\n",
       "      <th>WESF</th>\n",
       "    </tr>\n",
       "  </thead>\n",
       "  <tbody>\n",
       "    <tr>\n",
       "      <th>0</th>\n",
       "      <td>US1WAKG0225</td>\n",
       "      <td>SEATTLE 2.1 ESE, WA US</td>\n",
       "      <td>2018-01-01</td>\n",
       "      <td>NaN</td>\n",
       "      <td>NaN</td>\n",
       "      <td>0.0</td>\n",
       "      <td>NaN</td>\n",
       "      <td>NaN</td>\n",
       "      <td>NaN</td>\n",
       "      <td>NaN</td>\n",
       "    </tr>\n",
       "    <tr>\n",
       "      <th>1</th>\n",
       "      <td>US1WAKG0225</td>\n",
       "      <td>SEATTLE 2.1 ESE, WA US</td>\n",
       "      <td>2018-01-02</td>\n",
       "      <td>NaN</td>\n",
       "      <td>NaN</td>\n",
       "      <td>0.0</td>\n",
       "      <td>NaN</td>\n",
       "      <td>NaN</td>\n",
       "      <td>NaN</td>\n",
       "      <td>NaN</td>\n",
       "    </tr>\n",
       "    <tr>\n",
       "      <th>2</th>\n",
       "      <td>US1WAKG0225</td>\n",
       "      <td>SEATTLE 2.1 ESE, WA US</td>\n",
       "      <td>2018-01-03</td>\n",
       "      <td>NaN</td>\n",
       "      <td>NaN</td>\n",
       "      <td>0.0</td>\n",
       "      <td>NaN</td>\n",
       "      <td>NaN</td>\n",
       "      <td>NaN</td>\n",
       "      <td>NaN</td>\n",
       "    </tr>\n",
       "  </tbody>\n",
       "</table>\n",
       "</div>"
      ],
      "text/plain": [
       "       STATION                    NAME       DATE  DAPR  MDPR  PRCP  SNOW  \\\n",
       "0  US1WAKG0225  SEATTLE 2.1 ESE, WA US 2018-01-01   NaN   NaN   0.0   NaN   \n",
       "1  US1WAKG0225  SEATTLE 2.1 ESE, WA US 2018-01-02   NaN   NaN   0.0   NaN   \n",
       "2  US1WAKG0225  SEATTLE 2.1 ESE, WA US 2018-01-03   NaN   NaN   0.0   NaN   \n",
       "\n",
       "   SNWD  WESD  WESF  \n",
       "0   NaN   NaN   NaN  \n",
       "1   NaN   NaN   NaN  \n",
       "2   NaN   NaN   NaN  "
      ]
     },
     "execution_count": 53,
     "metadata": {},
     "output_type": "execute_result"
    }
   ],
   "source": [
    "df_seattle.iloc[:3]"
   ]
  },
  {
   "cell_type": "code",
   "execution_count": 54,
   "id": "9d59df3c",
   "metadata": {
    "scrolled": true
   },
   "outputs": [
    {
     "data": {
      "text/html": [
       "<div>\n",
       "<style scoped>\n",
       "    .dataframe tbody tr th:only-of-type {\n",
       "        vertical-align: middle;\n",
       "    }\n",
       "\n",
       "    .dataframe tbody tr th {\n",
       "        vertical-align: top;\n",
       "    }\n",
       "\n",
       "    .dataframe thead th {\n",
       "        text-align: right;\n",
       "    }\n",
       "</style>\n",
       "<table border=\"1\" class=\"dataframe\">\n",
       "  <thead>\n",
       "    <tr style=\"text-align: right;\">\n",
       "      <th></th>\n",
       "      <th>STATION</th>\n",
       "      <th>NAME</th>\n",
       "      <th>DATE</th>\n",
       "      <th>DAPR</th>\n",
       "      <th>MDPR</th>\n",
       "      <th>PRCP</th>\n",
       "      <th>SNOW</th>\n",
       "      <th>SNWD</th>\n",
       "      <th>WESD</th>\n",
       "      <th>WESF</th>\n",
       "    </tr>\n",
       "  </thead>\n",
       "  <tbody>\n",
       "    <tr>\n",
       "      <th>1655</th>\n",
       "      <td>US1WAKG0225</td>\n",
       "      <td>SEATTLE 2.1 ESE, WA US</td>\n",
       "      <td>2022-12-29</td>\n",
       "      <td>NaN</td>\n",
       "      <td>NaN</td>\n",
       "      <td>0.03</td>\n",
       "      <td>NaN</td>\n",
       "      <td>NaN</td>\n",
       "      <td>NaN</td>\n",
       "      <td>NaN</td>\n",
       "    </tr>\n",
       "    <tr>\n",
       "      <th>1656</th>\n",
       "      <td>US1WAKG0225</td>\n",
       "      <td>SEATTLE 2.1 ESE, WA US</td>\n",
       "      <td>2022-12-30</td>\n",
       "      <td>NaN</td>\n",
       "      <td>NaN</td>\n",
       "      <td>0.62</td>\n",
       "      <td>NaN</td>\n",
       "      <td>NaN</td>\n",
       "      <td>NaN</td>\n",
       "      <td>NaN</td>\n",
       "    </tr>\n",
       "    <tr>\n",
       "      <th>1657</th>\n",
       "      <td>US1WAKG0225</td>\n",
       "      <td>SEATTLE 2.1 ESE, WA US</td>\n",
       "      <td>2022-12-31</td>\n",
       "      <td>NaN</td>\n",
       "      <td>NaN</td>\n",
       "      <td>0.17</td>\n",
       "      <td>NaN</td>\n",
       "      <td>NaN</td>\n",
       "      <td>NaN</td>\n",
       "      <td>NaN</td>\n",
       "    </tr>\n",
       "  </tbody>\n",
       "</table>\n",
       "</div>"
      ],
      "text/plain": [
       "          STATION                    NAME       DATE  DAPR  MDPR  PRCP  SNOW  \\\n",
       "1655  US1WAKG0225  SEATTLE 2.1 ESE, WA US 2022-12-29   NaN   NaN  0.03   NaN   \n",
       "1656  US1WAKG0225  SEATTLE 2.1 ESE, WA US 2022-12-30   NaN   NaN  0.62   NaN   \n",
       "1657  US1WAKG0225  SEATTLE 2.1 ESE, WA US 2022-12-31   NaN   NaN  0.17   NaN   \n",
       "\n",
       "      SNWD  WESD  WESF  \n",
       "1655   NaN   NaN   NaN  \n",
       "1656   NaN   NaN   NaN  \n",
       "1657   NaN   NaN   NaN  "
      ]
     },
     "execution_count": 54,
     "metadata": {},
     "output_type": "execute_result"
    }
   ],
   "source": [
    "df_seattle.tail(3)"
   ]
  },
  {
   "cell_type": "markdown",
   "id": "656c048a",
   "metadata": {},
   "source": [
    "-> The len fucntion gives the length of the rows of the seattle dataframe."
   ]
  },
  {
   "cell_type": "code",
   "execution_count": 55,
   "id": "5c7ff0e0",
   "metadata": {
    "scrolled": true
   },
   "outputs": [
    {
     "data": {
      "text/html": [
       "<div>\n",
       "<style scoped>\n",
       "    .dataframe tbody tr th:only-of-type {\n",
       "        vertical-align: middle;\n",
       "    }\n",
       "\n",
       "    .dataframe tbody tr th {\n",
       "        vertical-align: top;\n",
       "    }\n",
       "\n",
       "    .dataframe thead th {\n",
       "        text-align: right;\n",
       "    }\n",
       "</style>\n",
       "<table border=\"1\" class=\"dataframe\">\n",
       "  <thead>\n",
       "    <tr style=\"text-align: right;\">\n",
       "      <th></th>\n",
       "      <th>STATION</th>\n",
       "      <th>NAME</th>\n",
       "      <th>DATE</th>\n",
       "      <th>DAPR</th>\n",
       "      <th>MDPR</th>\n",
       "      <th>PRCP</th>\n",
       "      <th>SNOW</th>\n",
       "      <th>SNWD</th>\n",
       "      <th>WESD</th>\n",
       "      <th>WESF</th>\n",
       "    </tr>\n",
       "  </thead>\n",
       "  <tbody>\n",
       "    <tr>\n",
       "      <th>1655</th>\n",
       "      <td>US1WAKG0225</td>\n",
       "      <td>SEATTLE 2.1 ESE, WA US</td>\n",
       "      <td>2022-12-29</td>\n",
       "      <td>NaN</td>\n",
       "      <td>NaN</td>\n",
       "      <td>0.03</td>\n",
       "      <td>NaN</td>\n",
       "      <td>NaN</td>\n",
       "      <td>NaN</td>\n",
       "      <td>NaN</td>\n",
       "    </tr>\n",
       "    <tr>\n",
       "      <th>1656</th>\n",
       "      <td>US1WAKG0225</td>\n",
       "      <td>SEATTLE 2.1 ESE, WA US</td>\n",
       "      <td>2022-12-30</td>\n",
       "      <td>NaN</td>\n",
       "      <td>NaN</td>\n",
       "      <td>0.62</td>\n",
       "      <td>NaN</td>\n",
       "      <td>NaN</td>\n",
       "      <td>NaN</td>\n",
       "      <td>NaN</td>\n",
       "    </tr>\n",
       "    <tr>\n",
       "      <th>1657</th>\n",
       "      <td>US1WAKG0225</td>\n",
       "      <td>SEATTLE 2.1 ESE, WA US</td>\n",
       "      <td>2022-12-31</td>\n",
       "      <td>NaN</td>\n",
       "      <td>NaN</td>\n",
       "      <td>0.17</td>\n",
       "      <td>NaN</td>\n",
       "      <td>NaN</td>\n",
       "      <td>NaN</td>\n",
       "      <td>NaN</td>\n",
       "    </tr>\n",
       "  </tbody>\n",
       "</table>\n",
       "</div>"
      ],
      "text/plain": [
       "          STATION                    NAME       DATE  DAPR  MDPR  PRCP  SNOW  \\\n",
       "1655  US1WAKG0225  SEATTLE 2.1 ESE, WA US 2022-12-29   NaN   NaN  0.03   NaN   \n",
       "1656  US1WAKG0225  SEATTLE 2.1 ESE, WA US 2022-12-30   NaN   NaN  0.62   NaN   \n",
       "1657  US1WAKG0225  SEATTLE 2.1 ESE, WA US 2022-12-31   NaN   NaN  0.17   NaN   \n",
       "\n",
       "      SNWD  WESD  WESF  \n",
       "1655   NaN   NaN   NaN  \n",
       "1656   NaN   NaN   NaN  \n",
       "1657   NaN   NaN   NaN  "
      ]
     },
     "execution_count": 55,
     "metadata": {},
     "output_type": "execute_result"
    }
   ],
   "source": [
    "df_seattle.loc[len(df_seattle)-3:]"
   ]
  },
  {
   "cell_type": "markdown",
   "id": "8d3d7f41",
   "metadata": {},
   "source": [
    "Here -3 indicates that the total rows-3 which is 1655 so, 1655: gives the rows from 1665 to the last row in the dataframe"
   ]
  },
  {
   "cell_type": "code",
   "execution_count": 56,
   "id": "0f9ee28c",
   "metadata": {},
   "outputs": [
    {
     "data": {
      "text/html": [
       "<div>\n",
       "<style scoped>\n",
       "    .dataframe tbody tr th:only-of-type {\n",
       "        vertical-align: middle;\n",
       "    }\n",
       "\n",
       "    .dataframe tbody tr th {\n",
       "        vertical-align: top;\n",
       "    }\n",
       "\n",
       "    .dataframe thead th {\n",
       "        text-align: right;\n",
       "    }\n",
       "</style>\n",
       "<table border=\"1\" class=\"dataframe\">\n",
       "  <thead>\n",
       "    <tr style=\"text-align: right;\">\n",
       "      <th></th>\n",
       "      <th>STATION</th>\n",
       "      <th>NAME</th>\n",
       "      <th>DATE</th>\n",
       "      <th>DAPR</th>\n",
       "      <th>MDPR</th>\n",
       "      <th>PRCP</th>\n",
       "      <th>SNOW</th>\n",
       "      <th>SNWD</th>\n",
       "      <th>WESD</th>\n",
       "      <th>WESF</th>\n",
       "    </tr>\n",
       "  </thead>\n",
       "  <tbody>\n",
       "    <tr>\n",
       "      <th>1655</th>\n",
       "      <td>US1WAKG0225</td>\n",
       "      <td>SEATTLE 2.1 ESE, WA US</td>\n",
       "      <td>2022-12-29</td>\n",
       "      <td>NaN</td>\n",
       "      <td>NaN</td>\n",
       "      <td>0.03</td>\n",
       "      <td>NaN</td>\n",
       "      <td>NaN</td>\n",
       "      <td>NaN</td>\n",
       "      <td>NaN</td>\n",
       "    </tr>\n",
       "    <tr>\n",
       "      <th>1656</th>\n",
       "      <td>US1WAKG0225</td>\n",
       "      <td>SEATTLE 2.1 ESE, WA US</td>\n",
       "      <td>2022-12-30</td>\n",
       "      <td>NaN</td>\n",
       "      <td>NaN</td>\n",
       "      <td>0.62</td>\n",
       "      <td>NaN</td>\n",
       "      <td>NaN</td>\n",
       "      <td>NaN</td>\n",
       "      <td>NaN</td>\n",
       "    </tr>\n",
       "    <tr>\n",
       "      <th>1657</th>\n",
       "      <td>US1WAKG0225</td>\n",
       "      <td>SEATTLE 2.1 ESE, WA US</td>\n",
       "      <td>2022-12-31</td>\n",
       "      <td>NaN</td>\n",
       "      <td>NaN</td>\n",
       "      <td>0.17</td>\n",
       "      <td>NaN</td>\n",
       "      <td>NaN</td>\n",
       "      <td>NaN</td>\n",
       "      <td>NaN</td>\n",
       "    </tr>\n",
       "  </tbody>\n",
       "</table>\n",
       "</div>"
      ],
      "text/plain": [
       "          STATION                    NAME       DATE  DAPR  MDPR  PRCP  SNOW  \\\n",
       "1655  US1WAKG0225  SEATTLE 2.1 ESE, WA US 2022-12-29   NaN   NaN  0.03   NaN   \n",
       "1656  US1WAKG0225  SEATTLE 2.1 ESE, WA US 2022-12-30   NaN   NaN  0.62   NaN   \n",
       "1657  US1WAKG0225  SEATTLE 2.1 ESE, WA US 2022-12-31   NaN   NaN  0.17   NaN   \n",
       "\n",
       "      SNWD  WESD  WESF  \n",
       "1655   NaN   NaN   NaN  \n",
       "1656   NaN   NaN   NaN  \n",
       "1657   NaN   NaN   NaN  "
      ]
     },
     "execution_count": 56,
     "metadata": {},
     "output_type": "execute_result"
    }
   ],
   "source": [
    "df_seattle.iloc[-3:]"
   ]
  },
  {
   "cell_type": "markdown",
   "id": "2e6725d9",
   "metadata": {},
   "source": [
    "This selects the last 3 rows using iloc with negative indexing, which is shorter and more convenient."
   ]
  },
  {
   "cell_type": "markdown",
   "id": "e6c99a6a",
   "metadata": {},
   "source": [
    "-> Here > 0 checks if the precipitation is greater than 0, this creates a boolean output."
   ]
  },
  {
   "cell_type": "code",
   "execution_count": 57,
   "id": "5ab9772d",
   "metadata": {},
   "outputs": [
    {
     "data": {
      "text/plain": [
       "0       False\n",
       "1       False\n",
       "2       False\n",
       "3       False\n",
       "4        True\n",
       "        ...  \n",
       "1653     True\n",
       "1654     True\n",
       "1655     True\n",
       "1656     True\n",
       "1657     True\n",
       "Name: PRCP, Length: 1658, dtype: bool"
      ]
     },
     "execution_count": 57,
     "metadata": {},
     "output_type": "execute_result"
    }
   ],
   "source": [
    "df_seattle['PRCP'] > 0"
   ]
  },
  {
   "cell_type": "markdown",
   "id": "5d2ecd9b",
   "metadata": {},
   "source": [
    "In Python, True is treated as 1 and False as 0. So, summing a boolean series like the above code gives the count of days with precipitation. For Seattle, this sum is 841, indicating 841 rainy days in the dataset."
   ]
  },
  {
   "cell_type": "code",
   "execution_count": 58,
   "id": "09ea979b",
   "metadata": {},
   "outputs": [
    {
     "data": {
      "text/plain": [
       "841"
      ]
     },
     "execution_count": 58,
     "metadata": {},
     "output_type": "execute_result"
    }
   ],
   "source": [
    "sum(df_seattle['PRCP'] > 0)"
   ]
  },
  {
   "cell_type": "markdown",
   "id": "f00c3e7c",
   "metadata": {},
   "source": [
    "-> This acts as a filter to the dataframe, where it gives all the columns but gives only the rows of rainy days"
   ]
  },
  {
   "cell_type": "code",
   "execution_count": 59,
   "id": "5ca37ab7",
   "metadata": {},
   "outputs": [
    {
     "data": {
      "text/html": [
       "<div>\n",
       "<style scoped>\n",
       "    .dataframe tbody tr th:only-of-type {\n",
       "        vertical-align: middle;\n",
       "    }\n",
       "\n",
       "    .dataframe tbody tr th {\n",
       "        vertical-align: top;\n",
       "    }\n",
       "\n",
       "    .dataframe thead th {\n",
       "        text-align: right;\n",
       "    }\n",
       "</style>\n",
       "<table border=\"1\" class=\"dataframe\">\n",
       "  <thead>\n",
       "    <tr style=\"text-align: right;\">\n",
       "      <th></th>\n",
       "      <th>STATION</th>\n",
       "      <th>NAME</th>\n",
       "      <th>DATE</th>\n",
       "      <th>DAPR</th>\n",
       "      <th>MDPR</th>\n",
       "      <th>PRCP</th>\n",
       "      <th>SNOW</th>\n",
       "      <th>SNWD</th>\n",
       "      <th>WESD</th>\n",
       "      <th>WESF</th>\n",
       "    </tr>\n",
       "  </thead>\n",
       "  <tbody>\n",
       "    <tr>\n",
       "      <th>4</th>\n",
       "      <td>US1WAKG0225</td>\n",
       "      <td>SEATTLE 2.1 ESE, WA US</td>\n",
       "      <td>2018-01-05</td>\n",
       "      <td>NaN</td>\n",
       "      <td>NaN</td>\n",
       "      <td>0.25</td>\n",
       "      <td>NaN</td>\n",
       "      <td>NaN</td>\n",
       "      <td>NaN</td>\n",
       "      <td>NaN</td>\n",
       "    </tr>\n",
       "    <tr>\n",
       "      <th>5</th>\n",
       "      <td>US1WAKG0225</td>\n",
       "      <td>SEATTLE 2.1 ESE, WA US</td>\n",
       "      <td>2018-01-06</td>\n",
       "      <td>NaN</td>\n",
       "      <td>NaN</td>\n",
       "      <td>0.57</td>\n",
       "      <td>NaN</td>\n",
       "      <td>NaN</td>\n",
       "      <td>NaN</td>\n",
       "      <td>NaN</td>\n",
       "    </tr>\n",
       "    <tr>\n",
       "      <th>6</th>\n",
       "      <td>US1WAKG0225</td>\n",
       "      <td>SEATTLE 2.1 ESE, WA US</td>\n",
       "      <td>2018-01-07</td>\n",
       "      <td>NaN</td>\n",
       "      <td>NaN</td>\n",
       "      <td>0.23</td>\n",
       "      <td>NaN</td>\n",
       "      <td>NaN</td>\n",
       "      <td>NaN</td>\n",
       "      <td>NaN</td>\n",
       "    </tr>\n",
       "    <tr>\n",
       "      <th>7</th>\n",
       "      <td>US1WAKG0225</td>\n",
       "      <td>SEATTLE 2.1 ESE, WA US</td>\n",
       "      <td>2018-01-08</td>\n",
       "      <td>NaN</td>\n",
       "      <td>NaN</td>\n",
       "      <td>0.41</td>\n",
       "      <td>NaN</td>\n",
       "      <td>NaN</td>\n",
       "      <td>NaN</td>\n",
       "      <td>NaN</td>\n",
       "    </tr>\n",
       "    <tr>\n",
       "      <th>10</th>\n",
       "      <td>US1WAKG0225</td>\n",
       "      <td>SEATTLE 2.1 ESE, WA US</td>\n",
       "      <td>2018-03-14</td>\n",
       "      <td>NaN</td>\n",
       "      <td>NaN</td>\n",
       "      <td>0.20</td>\n",
       "      <td>NaN</td>\n",
       "      <td>NaN</td>\n",
       "      <td>NaN</td>\n",
       "      <td>NaN</td>\n",
       "    </tr>\n",
       "    <tr>\n",
       "      <th>...</th>\n",
       "      <td>...</td>\n",
       "      <td>...</td>\n",
       "      <td>...</td>\n",
       "      <td>...</td>\n",
       "      <td>...</td>\n",
       "      <td>...</td>\n",
       "      <td>...</td>\n",
       "      <td>...</td>\n",
       "      <td>...</td>\n",
       "      <td>...</td>\n",
       "    </tr>\n",
       "    <tr>\n",
       "      <th>1653</th>\n",
       "      <td>US1WAKG0225</td>\n",
       "      <td>SEATTLE 2.1 ESE, WA US</td>\n",
       "      <td>2022-12-27</td>\n",
       "      <td>NaN</td>\n",
       "      <td>NaN</td>\n",
       "      <td>0.78</td>\n",
       "      <td>NaN</td>\n",
       "      <td>NaN</td>\n",
       "      <td>NaN</td>\n",
       "      <td>NaN</td>\n",
       "    </tr>\n",
       "    <tr>\n",
       "      <th>1654</th>\n",
       "      <td>US1WAKG0225</td>\n",
       "      <td>SEATTLE 2.1 ESE, WA US</td>\n",
       "      <td>2022-12-28</td>\n",
       "      <td>NaN</td>\n",
       "      <td>NaN</td>\n",
       "      <td>0.40</td>\n",
       "      <td>NaN</td>\n",
       "      <td>NaN</td>\n",
       "      <td>NaN</td>\n",
       "      <td>NaN</td>\n",
       "    </tr>\n",
       "    <tr>\n",
       "      <th>1655</th>\n",
       "      <td>US1WAKG0225</td>\n",
       "      <td>SEATTLE 2.1 ESE, WA US</td>\n",
       "      <td>2022-12-29</td>\n",
       "      <td>NaN</td>\n",
       "      <td>NaN</td>\n",
       "      <td>0.03</td>\n",
       "      <td>NaN</td>\n",
       "      <td>NaN</td>\n",
       "      <td>NaN</td>\n",
       "      <td>NaN</td>\n",
       "    </tr>\n",
       "    <tr>\n",
       "      <th>1656</th>\n",
       "      <td>US1WAKG0225</td>\n",
       "      <td>SEATTLE 2.1 ESE, WA US</td>\n",
       "      <td>2022-12-30</td>\n",
       "      <td>NaN</td>\n",
       "      <td>NaN</td>\n",
       "      <td>0.62</td>\n",
       "      <td>NaN</td>\n",
       "      <td>NaN</td>\n",
       "      <td>NaN</td>\n",
       "      <td>NaN</td>\n",
       "    </tr>\n",
       "    <tr>\n",
       "      <th>1657</th>\n",
       "      <td>US1WAKG0225</td>\n",
       "      <td>SEATTLE 2.1 ESE, WA US</td>\n",
       "      <td>2022-12-31</td>\n",
       "      <td>NaN</td>\n",
       "      <td>NaN</td>\n",
       "      <td>0.17</td>\n",
       "      <td>NaN</td>\n",
       "      <td>NaN</td>\n",
       "      <td>NaN</td>\n",
       "      <td>NaN</td>\n",
       "    </tr>\n",
       "  </tbody>\n",
       "</table>\n",
       "<p>841 rows × 10 columns</p>\n",
       "</div>"
      ],
      "text/plain": [
       "          STATION                    NAME       DATE  DAPR  MDPR  PRCP  SNOW  \\\n",
       "4     US1WAKG0225  SEATTLE 2.1 ESE, WA US 2018-01-05   NaN   NaN  0.25   NaN   \n",
       "5     US1WAKG0225  SEATTLE 2.1 ESE, WA US 2018-01-06   NaN   NaN  0.57   NaN   \n",
       "6     US1WAKG0225  SEATTLE 2.1 ESE, WA US 2018-01-07   NaN   NaN  0.23   NaN   \n",
       "7     US1WAKG0225  SEATTLE 2.1 ESE, WA US 2018-01-08   NaN   NaN  0.41   NaN   \n",
       "10    US1WAKG0225  SEATTLE 2.1 ESE, WA US 2018-03-14   NaN   NaN  0.20   NaN   \n",
       "...           ...                     ...        ...   ...   ...   ...   ...   \n",
       "1653  US1WAKG0225  SEATTLE 2.1 ESE, WA US 2022-12-27   NaN   NaN  0.78   NaN   \n",
       "1654  US1WAKG0225  SEATTLE 2.1 ESE, WA US 2022-12-28   NaN   NaN  0.40   NaN   \n",
       "1655  US1WAKG0225  SEATTLE 2.1 ESE, WA US 2022-12-29   NaN   NaN  0.03   NaN   \n",
       "1656  US1WAKG0225  SEATTLE 2.1 ESE, WA US 2022-12-30   NaN   NaN  0.62   NaN   \n",
       "1657  US1WAKG0225  SEATTLE 2.1 ESE, WA US 2022-12-31   NaN   NaN  0.17   NaN   \n",
       "\n",
       "      SNWD  WESD  WESF  \n",
       "4      NaN   NaN   NaN  \n",
       "5      NaN   NaN   NaN  \n",
       "6      NaN   NaN   NaN  \n",
       "7      NaN   NaN   NaN  \n",
       "10     NaN   NaN   NaN  \n",
       "...    ...   ...   ...  \n",
       "1653   NaN   NaN   NaN  \n",
       "1654   NaN   NaN   NaN  \n",
       "1655   NaN   NaN   NaN  \n",
       "1656   NaN   NaN   NaN  \n",
       "1657   NaN   NaN   NaN  \n",
       "\n",
       "[841 rows x 10 columns]"
      ]
     },
     "execution_count": 59,
     "metadata": {},
     "output_type": "execute_result"
    }
   ],
   "source": [
    "df_seattle[df_seattle['PRCP'] > 0]"
   ]
  },
  {
   "cell_type": "markdown",
   "id": "2a74e791",
   "metadata": {},
   "source": [
    "This returns all rows where the precipitatio is greater than 0, showing only rainy days in the Seattle dataset."
   ]
  },
  {
   "cell_type": "markdown",
   "id": "e0f31874",
   "metadata": {},
   "source": [
    "-> This step Gives the rows, the has precipitaion from 0.5 to 0.75"
   ]
  },
  {
   "cell_type": "code",
   "execution_count": 60,
   "id": "dd53b2df",
   "metadata": {},
   "outputs": [
    {
     "data": {
      "text/html": [
       "<div>\n",
       "<style scoped>\n",
       "    .dataframe tbody tr th:only-of-type {\n",
       "        vertical-align: middle;\n",
       "    }\n",
       "\n",
       "    .dataframe tbody tr th {\n",
       "        vertical-align: top;\n",
       "    }\n",
       "\n",
       "    .dataframe thead th {\n",
       "        text-align: right;\n",
       "    }\n",
       "</style>\n",
       "<table border=\"1\" class=\"dataframe\">\n",
       "  <thead>\n",
       "    <tr style=\"text-align: right;\">\n",
       "      <th></th>\n",
       "      <th>STATION</th>\n",
       "      <th>NAME</th>\n",
       "      <th>DATE</th>\n",
       "      <th>DAPR</th>\n",
       "      <th>MDPR</th>\n",
       "      <th>PRCP</th>\n",
       "      <th>SNOW</th>\n",
       "      <th>SNWD</th>\n",
       "      <th>WESD</th>\n",
       "      <th>WESF</th>\n",
       "    </tr>\n",
       "  </thead>\n",
       "  <tbody>\n",
       "    <tr>\n",
       "      <th>5</th>\n",
       "      <td>US1WAKG0225</td>\n",
       "      <td>SEATTLE 2.1 ESE, WA US</td>\n",
       "      <td>2018-01-06</td>\n",
       "      <td>NaN</td>\n",
       "      <td>NaN</td>\n",
       "      <td>0.57</td>\n",
       "      <td>NaN</td>\n",
       "      <td>NaN</td>\n",
       "      <td>NaN</td>\n",
       "      <td>NaN</td>\n",
       "    </tr>\n",
       "    <tr>\n",
       "      <th>20</th>\n",
       "      <td>US1WAKG0225</td>\n",
       "      <td>SEATTLE 2.1 ESE, WA US</td>\n",
       "      <td>2018-03-24</td>\n",
       "      <td>NaN</td>\n",
       "      <td>NaN</td>\n",
       "      <td>0.63</td>\n",
       "      <td>NaN</td>\n",
       "      <td>NaN</td>\n",
       "      <td>NaN</td>\n",
       "      <td>NaN</td>\n",
       "    </tr>\n",
       "    <tr>\n",
       "      <th>35</th>\n",
       "      <td>US1WAKG0225</td>\n",
       "      <td>SEATTLE 2.1 ESE, WA US</td>\n",
       "      <td>2018-04-08</td>\n",
       "      <td>NaN</td>\n",
       "      <td>NaN</td>\n",
       "      <td>0.55</td>\n",
       "      <td>NaN</td>\n",
       "      <td>NaN</td>\n",
       "      <td>NaN</td>\n",
       "      <td>NaN</td>\n",
       "    </tr>\n",
       "    <tr>\n",
       "      <th>41</th>\n",
       "      <td>US1WAKG0225</td>\n",
       "      <td>SEATTLE 2.1 ESE, WA US</td>\n",
       "      <td>2018-04-14</td>\n",
       "      <td>NaN</td>\n",
       "      <td>NaN</td>\n",
       "      <td>0.68</td>\n",
       "      <td>NaN</td>\n",
       "      <td>NaN</td>\n",
       "      <td>NaN</td>\n",
       "      <td>NaN</td>\n",
       "    </tr>\n",
       "    <tr>\n",
       "      <th>271</th>\n",
       "      <td>US1WAKG0225</td>\n",
       "      <td>SEATTLE 2.1 ESE, WA US</td>\n",
       "      <td>2018-12-10</td>\n",
       "      <td>NaN</td>\n",
       "      <td>NaN</td>\n",
       "      <td>0.56</td>\n",
       "      <td>NaN</td>\n",
       "      <td>NaN</td>\n",
       "      <td>NaN</td>\n",
       "      <td>NaN</td>\n",
       "    </tr>\n",
       "    <tr>\n",
       "      <th>296</th>\n",
       "      <td>US1WAKG0225</td>\n",
       "      <td>SEATTLE 2.1 ESE, WA US</td>\n",
       "      <td>2019-01-04</td>\n",
       "      <td>NaN</td>\n",
       "      <td>NaN</td>\n",
       "      <td>0.55</td>\n",
       "      <td>NaN</td>\n",
       "      <td>NaN</td>\n",
       "      <td>NaN</td>\n",
       "      <td>NaN</td>\n",
       "    </tr>\n",
       "    <tr>\n",
       "      <th>313</th>\n",
       "      <td>US1WAKG0225</td>\n",
       "      <td>SEATTLE 2.1 ESE, WA US</td>\n",
       "      <td>2019-01-23</td>\n",
       "      <td>NaN</td>\n",
       "      <td>NaN</td>\n",
       "      <td>0.70</td>\n",
       "      <td>NaN</td>\n",
       "      <td>NaN</td>\n",
       "      <td>NaN</td>\n",
       "      <td>NaN</td>\n",
       "    </tr>\n",
       "    <tr>\n",
       "      <th>331</th>\n",
       "      <td>US1WAKG0225</td>\n",
       "      <td>SEATTLE 2.1 ESE, WA US</td>\n",
       "      <td>2019-02-11</td>\n",
       "      <td>NaN</td>\n",
       "      <td>NaN</td>\n",
       "      <td>0.70</td>\n",
       "      <td>4.0</td>\n",
       "      <td>NaN</td>\n",
       "      <td>NaN</td>\n",
       "      <td>NaN</td>\n",
       "    </tr>\n",
       "    <tr>\n",
       "      <th>419</th>\n",
       "      <td>US1WAKG0225</td>\n",
       "      <td>SEATTLE 2.1 ESE, WA US</td>\n",
       "      <td>2019-05-17</td>\n",
       "      <td>NaN</td>\n",
       "      <td>NaN</td>\n",
       "      <td>0.60</td>\n",
       "      <td>NaN</td>\n",
       "      <td>NaN</td>\n",
       "      <td>NaN</td>\n",
       "      <td>NaN</td>\n",
       "    </tr>\n",
       "    <tr>\n",
       "      <th>472</th>\n",
       "      <td>US1WAKG0225</td>\n",
       "      <td>SEATTLE 2.1 ESE, WA US</td>\n",
       "      <td>2019-07-19</td>\n",
       "      <td>NaN</td>\n",
       "      <td>NaN</td>\n",
       "      <td>0.62</td>\n",
       "      <td>NaN</td>\n",
       "      <td>NaN</td>\n",
       "      <td>NaN</td>\n",
       "      <td>NaN</td>\n",
       "    </tr>\n",
       "    <tr>\n",
       "      <th>517</th>\n",
       "      <td>US1WAKG0225</td>\n",
       "      <td>SEATTLE 2.1 ESE, WA US</td>\n",
       "      <td>2019-09-08</td>\n",
       "      <td>NaN</td>\n",
       "      <td>NaN</td>\n",
       "      <td>0.61</td>\n",
       "      <td>NaN</td>\n",
       "      <td>NaN</td>\n",
       "      <td>NaN</td>\n",
       "      <td>NaN</td>\n",
       "    </tr>\n",
       "    <tr>\n",
       "      <th>519</th>\n",
       "      <td>US1WAKG0225</td>\n",
       "      <td>SEATTLE 2.1 ESE, WA US</td>\n",
       "      <td>2019-09-10</td>\n",
       "      <td>NaN</td>\n",
       "      <td>NaN</td>\n",
       "      <td>0.55</td>\n",
       "      <td>NaN</td>\n",
       "      <td>NaN</td>\n",
       "      <td>NaN</td>\n",
       "      <td>NaN</td>\n",
       "    </tr>\n",
       "    <tr>\n",
       "      <th>589</th>\n",
       "      <td>US1WAKG0225</td>\n",
       "      <td>SEATTLE 2.1 ESE, WA US</td>\n",
       "      <td>2019-11-19</td>\n",
       "      <td>NaN</td>\n",
       "      <td>NaN</td>\n",
       "      <td>0.73</td>\n",
       "      <td>NaN</td>\n",
       "      <td>NaN</td>\n",
       "      <td>NaN</td>\n",
       "      <td>NaN</td>\n",
       "    </tr>\n",
       "    <tr>\n",
       "      <th>658</th>\n",
       "      <td>US1WAKG0225</td>\n",
       "      <td>SEATTLE 2.1 ESE, WA US</td>\n",
       "      <td>2020-02-05</td>\n",
       "      <td>NaN</td>\n",
       "      <td>NaN</td>\n",
       "      <td>0.69</td>\n",
       "      <td>0.0</td>\n",
       "      <td>NaN</td>\n",
       "      <td>NaN</td>\n",
       "      <td>NaN</td>\n",
       "    </tr>\n",
       "    <tr>\n",
       "      <th>660</th>\n",
       "      <td>US1WAKG0225</td>\n",
       "      <td>SEATTLE 2.1 ESE, WA US</td>\n",
       "      <td>2020-02-07</td>\n",
       "      <td>NaN</td>\n",
       "      <td>NaN</td>\n",
       "      <td>0.58</td>\n",
       "      <td>NaN</td>\n",
       "      <td>NaN</td>\n",
       "      <td>NaN</td>\n",
       "      <td>NaN</td>\n",
       "    </tr>\n",
       "    <tr>\n",
       "      <th>678</th>\n",
       "      <td>US1WAKG0225</td>\n",
       "      <td>SEATTLE 2.1 ESE, WA US</td>\n",
       "      <td>2020-03-06</td>\n",
       "      <td>NaN</td>\n",
       "      <td>NaN</td>\n",
       "      <td>0.71</td>\n",
       "      <td>NaN</td>\n",
       "      <td>NaN</td>\n",
       "      <td>NaN</td>\n",
       "      <td>NaN</td>\n",
       "    </tr>\n",
       "    <tr>\n",
       "      <th>701</th>\n",
       "      <td>US1WAKG0225</td>\n",
       "      <td>SEATTLE 2.1 ESE, WA US</td>\n",
       "      <td>2020-03-29</td>\n",
       "      <td>NaN</td>\n",
       "      <td>NaN</td>\n",
       "      <td>0.64</td>\n",
       "      <td>NaN</td>\n",
       "      <td>NaN</td>\n",
       "      <td>NaN</td>\n",
       "      <td>NaN</td>\n",
       "    </tr>\n",
       "    <tr>\n",
       "      <th>750</th>\n",
       "      <td>US1WAKG0225</td>\n",
       "      <td>SEATTLE 2.1 ESE, WA US</td>\n",
       "      <td>2020-05-17</td>\n",
       "      <td>NaN</td>\n",
       "      <td>NaN</td>\n",
       "      <td>0.66</td>\n",
       "      <td>NaN</td>\n",
       "      <td>NaN</td>\n",
       "      <td>NaN</td>\n",
       "      <td>NaN</td>\n",
       "    </tr>\n",
       "    <tr>\n",
       "      <th>792</th>\n",
       "      <td>US1WAKG0225</td>\n",
       "      <td>SEATTLE 2.1 ESE, WA US</td>\n",
       "      <td>2020-06-28</td>\n",
       "      <td>NaN</td>\n",
       "      <td>NaN</td>\n",
       "      <td>0.54</td>\n",
       "      <td>NaN</td>\n",
       "      <td>NaN</td>\n",
       "      <td>NaN</td>\n",
       "      <td>NaN</td>\n",
       "    </tr>\n",
       "    <tr>\n",
       "      <th>889</th>\n",
       "      <td>US1WAKG0225</td>\n",
       "      <td>SEATTLE 2.1 ESE, WA US</td>\n",
       "      <td>2020-10-12</td>\n",
       "      <td>NaN</td>\n",
       "      <td>NaN</td>\n",
       "      <td>0.58</td>\n",
       "      <td>NaN</td>\n",
       "      <td>NaN</td>\n",
       "      <td>NaN</td>\n",
       "      <td>NaN</td>\n",
       "    </tr>\n",
       "    <tr>\n",
       "      <th>890</th>\n",
       "      <td>US1WAKG0225</td>\n",
       "      <td>SEATTLE 2.1 ESE, WA US</td>\n",
       "      <td>2020-10-13</td>\n",
       "      <td>NaN</td>\n",
       "      <td>NaN</td>\n",
       "      <td>0.61</td>\n",
       "      <td>NaN</td>\n",
       "      <td>NaN</td>\n",
       "      <td>NaN</td>\n",
       "      <td>NaN</td>\n",
       "    </tr>\n",
       "    <tr>\n",
       "      <th>925</th>\n",
       "      <td>US1WAKG0225</td>\n",
       "      <td>SEATTLE 2.1 ESE, WA US</td>\n",
       "      <td>2020-11-17</td>\n",
       "      <td>NaN</td>\n",
       "      <td>NaN</td>\n",
       "      <td>0.64</td>\n",
       "      <td>NaN</td>\n",
       "      <td>NaN</td>\n",
       "      <td>NaN</td>\n",
       "      <td>NaN</td>\n",
       "    </tr>\n",
       "    <tr>\n",
       "      <th>926</th>\n",
       "      <td>US1WAKG0225</td>\n",
       "      <td>SEATTLE 2.1 ESE, WA US</td>\n",
       "      <td>2020-11-18</td>\n",
       "      <td>NaN</td>\n",
       "      <td>NaN</td>\n",
       "      <td>0.55</td>\n",
       "      <td>NaN</td>\n",
       "      <td>NaN</td>\n",
       "      <td>NaN</td>\n",
       "      <td>NaN</td>\n",
       "    </tr>\n",
       "    <tr>\n",
       "      <th>947</th>\n",
       "      <td>US1WAKG0225</td>\n",
       "      <td>SEATTLE 2.1 ESE, WA US</td>\n",
       "      <td>2020-12-09</td>\n",
       "      <td>NaN</td>\n",
       "      <td>NaN</td>\n",
       "      <td>0.58</td>\n",
       "      <td>NaN</td>\n",
       "      <td>NaN</td>\n",
       "      <td>NaN</td>\n",
       "      <td>NaN</td>\n",
       "    </tr>\n",
       "    <tr>\n",
       "      <th>955</th>\n",
       "      <td>US1WAKG0225</td>\n",
       "      <td>SEATTLE 2.1 ESE, WA US</td>\n",
       "      <td>2020-12-17</td>\n",
       "      <td>NaN</td>\n",
       "      <td>NaN</td>\n",
       "      <td>0.52</td>\n",
       "      <td>NaN</td>\n",
       "      <td>NaN</td>\n",
       "      <td>NaN</td>\n",
       "      <td>NaN</td>\n",
       "    </tr>\n",
       "    <tr>\n",
       "      <th>959</th>\n",
       "      <td>US1WAKG0225</td>\n",
       "      <td>SEATTLE 2.1 ESE, WA US</td>\n",
       "      <td>2020-12-21</td>\n",
       "      <td>NaN</td>\n",
       "      <td>NaN</td>\n",
       "      <td>0.64</td>\n",
       "      <td>NaN</td>\n",
       "      <td>NaN</td>\n",
       "      <td>NaN</td>\n",
       "      <td>NaN</td>\n",
       "    </tr>\n",
       "    <tr>\n",
       "      <th>969</th>\n",
       "      <td>US1WAKG0225</td>\n",
       "      <td>SEATTLE 2.1 ESE, WA US</td>\n",
       "      <td>2020-12-31</td>\n",
       "      <td>NaN</td>\n",
       "      <td>NaN</td>\n",
       "      <td>0.50</td>\n",
       "      <td>NaN</td>\n",
       "      <td>NaN</td>\n",
       "      <td>NaN</td>\n",
       "      <td>NaN</td>\n",
       "    </tr>\n",
       "    <tr>\n",
       "      <th>973</th>\n",
       "      <td>US1WAKG0225</td>\n",
       "      <td>SEATTLE 2.1 ESE, WA US</td>\n",
       "      <td>2021-01-04</td>\n",
       "      <td>NaN</td>\n",
       "      <td>NaN</td>\n",
       "      <td>0.65</td>\n",
       "      <td>NaN</td>\n",
       "      <td>NaN</td>\n",
       "      <td>NaN</td>\n",
       "      <td>NaN</td>\n",
       "    </tr>\n",
       "    <tr>\n",
       "      <th>1002</th>\n",
       "      <td>US1WAKG0225</td>\n",
       "      <td>SEATTLE 2.1 ESE, WA US</td>\n",
       "      <td>2021-02-02</td>\n",
       "      <td>NaN</td>\n",
       "      <td>NaN</td>\n",
       "      <td>0.72</td>\n",
       "      <td>NaN</td>\n",
       "      <td>NaN</td>\n",
       "      <td>NaN</td>\n",
       "      <td>NaN</td>\n",
       "    </tr>\n",
       "    <tr>\n",
       "      <th>1015</th>\n",
       "      <td>US1WAKG0225</td>\n",
       "      <td>SEATTLE 2.1 ESE, WA US</td>\n",
       "      <td>2021-02-15</td>\n",
       "      <td>NaN</td>\n",
       "      <td>NaN</td>\n",
       "      <td>0.60</td>\n",
       "      <td>1.0</td>\n",
       "      <td>8.0</td>\n",
       "      <td>1.8</td>\n",
       "      <td>NaN</td>\n",
       "    </tr>\n",
       "    <tr>\n",
       "      <th>1069</th>\n",
       "      <td>US1WAKG0225</td>\n",
       "      <td>SEATTLE 2.1 ESE, WA US</td>\n",
       "      <td>2021-04-25</td>\n",
       "      <td>NaN</td>\n",
       "      <td>NaN</td>\n",
       "      <td>0.50</td>\n",
       "      <td>NaN</td>\n",
       "      <td>NaN</td>\n",
       "      <td>NaN</td>\n",
       "      <td>NaN</td>\n",
       "    </tr>\n",
       "    <tr>\n",
       "      <th>1112</th>\n",
       "      <td>US1WAKG0225</td>\n",
       "      <td>SEATTLE 2.1 ESE, WA US</td>\n",
       "      <td>2021-06-07</td>\n",
       "      <td>NaN</td>\n",
       "      <td>NaN</td>\n",
       "      <td>0.73</td>\n",
       "      <td>NaN</td>\n",
       "      <td>NaN</td>\n",
       "      <td>NaN</td>\n",
       "      <td>NaN</td>\n",
       "    </tr>\n",
       "    <tr>\n",
       "      <th>1119</th>\n",
       "      <td>US1WAKG0225</td>\n",
       "      <td>SEATTLE 2.1 ESE, WA US</td>\n",
       "      <td>2021-06-14</td>\n",
       "      <td>NaN</td>\n",
       "      <td>NaN</td>\n",
       "      <td>0.60</td>\n",
       "      <td>NaN</td>\n",
       "      <td>NaN</td>\n",
       "      <td>NaN</td>\n",
       "      <td>NaN</td>\n",
       "    </tr>\n",
       "    <tr>\n",
       "      <th>1206</th>\n",
       "      <td>US1WAKG0225</td>\n",
       "      <td>SEATTLE 2.1 ESE, WA US</td>\n",
       "      <td>2021-09-27</td>\n",
       "      <td>NaN</td>\n",
       "      <td>NaN</td>\n",
       "      <td>0.71</td>\n",
       "      <td>NaN</td>\n",
       "      <td>NaN</td>\n",
       "      <td>NaN</td>\n",
       "      <td>NaN</td>\n",
       "    </tr>\n",
       "    <tr>\n",
       "      <th>1231</th>\n",
       "      <td>US1WAKG0225</td>\n",
       "      <td>SEATTLE 2.1 ESE, WA US</td>\n",
       "      <td>2021-10-22</td>\n",
       "      <td>NaN</td>\n",
       "      <td>NaN</td>\n",
       "      <td>0.64</td>\n",
       "      <td>NaN</td>\n",
       "      <td>NaN</td>\n",
       "      <td>NaN</td>\n",
       "      <td>NaN</td>\n",
       "    </tr>\n",
       "    <tr>\n",
       "      <th>1244</th>\n",
       "      <td>US1WAKG0225</td>\n",
       "      <td>SEATTLE 2.1 ESE, WA US</td>\n",
       "      <td>2021-11-04</td>\n",
       "      <td>NaN</td>\n",
       "      <td>NaN</td>\n",
       "      <td>0.61</td>\n",
       "      <td>NaN</td>\n",
       "      <td>NaN</td>\n",
       "      <td>NaN</td>\n",
       "      <td>NaN</td>\n",
       "    </tr>\n",
       "    <tr>\n",
       "      <th>1245</th>\n",
       "      <td>US1WAKG0225</td>\n",
       "      <td>SEATTLE 2.1 ESE, WA US</td>\n",
       "      <td>2021-11-05</td>\n",
       "      <td>NaN</td>\n",
       "      <td>NaN</td>\n",
       "      <td>0.57</td>\n",
       "      <td>NaN</td>\n",
       "      <td>NaN</td>\n",
       "      <td>NaN</td>\n",
       "      <td>NaN</td>\n",
       "    </tr>\n",
       "    <tr>\n",
       "      <th>1247</th>\n",
       "      <td>US1WAKG0225</td>\n",
       "      <td>SEATTLE 2.1 ESE, WA US</td>\n",
       "      <td>2021-11-07</td>\n",
       "      <td>NaN</td>\n",
       "      <td>NaN</td>\n",
       "      <td>0.64</td>\n",
       "      <td>NaN</td>\n",
       "      <td>NaN</td>\n",
       "      <td>NaN</td>\n",
       "      <td>NaN</td>\n",
       "    </tr>\n",
       "    <tr>\n",
       "      <th>1254</th>\n",
       "      <td>US1WAKG0225</td>\n",
       "      <td>SEATTLE 2.1 ESE, WA US</td>\n",
       "      <td>2021-11-14</td>\n",
       "      <td>NaN</td>\n",
       "      <td>NaN</td>\n",
       "      <td>0.59</td>\n",
       "      <td>NaN</td>\n",
       "      <td>NaN</td>\n",
       "      <td>NaN</td>\n",
       "      <td>NaN</td>\n",
       "    </tr>\n",
       "    <tr>\n",
       "      <th>1255</th>\n",
       "      <td>US1WAKG0225</td>\n",
       "      <td>SEATTLE 2.1 ESE, WA US</td>\n",
       "      <td>2021-11-15</td>\n",
       "      <td>NaN</td>\n",
       "      <td>NaN</td>\n",
       "      <td>0.59</td>\n",
       "      <td>NaN</td>\n",
       "      <td>NaN</td>\n",
       "      <td>NaN</td>\n",
       "      <td>NaN</td>\n",
       "    </tr>\n",
       "    <tr>\n",
       "      <th>1259</th>\n",
       "      <td>US1WAKG0225</td>\n",
       "      <td>SEATTLE 2.1 ESE, WA US</td>\n",
       "      <td>2021-11-19</td>\n",
       "      <td>NaN</td>\n",
       "      <td>NaN</td>\n",
       "      <td>0.52</td>\n",
       "      <td>NaN</td>\n",
       "      <td>NaN</td>\n",
       "      <td>NaN</td>\n",
       "      <td>NaN</td>\n",
       "    </tr>\n",
       "    <tr>\n",
       "      <th>1263</th>\n",
       "      <td>US1WAKG0225</td>\n",
       "      <td>SEATTLE 2.1 ESE, WA US</td>\n",
       "      <td>2021-11-23</td>\n",
       "      <td>NaN</td>\n",
       "      <td>NaN</td>\n",
       "      <td>0.53</td>\n",
       "      <td>NaN</td>\n",
       "      <td>NaN</td>\n",
       "      <td>NaN</td>\n",
       "      <td>NaN</td>\n",
       "    </tr>\n",
       "    <tr>\n",
       "      <th>1266</th>\n",
       "      <td>US1WAKG0225</td>\n",
       "      <td>SEATTLE 2.1 ESE, WA US</td>\n",
       "      <td>2021-11-26</td>\n",
       "      <td>NaN</td>\n",
       "      <td>NaN</td>\n",
       "      <td>0.55</td>\n",
       "      <td>NaN</td>\n",
       "      <td>NaN</td>\n",
       "      <td>NaN</td>\n",
       "      <td>NaN</td>\n",
       "    </tr>\n",
       "    <tr>\n",
       "      <th>1288</th>\n",
       "      <td>US1WAKG0225</td>\n",
       "      <td>SEATTLE 2.1 ESE, WA US</td>\n",
       "      <td>2021-12-18</td>\n",
       "      <td>NaN</td>\n",
       "      <td>NaN</td>\n",
       "      <td>0.54</td>\n",
       "      <td>NaN</td>\n",
       "      <td>NaN</td>\n",
       "      <td>NaN</td>\n",
       "      <td>NaN</td>\n",
       "    </tr>\n",
       "    <tr>\n",
       "      <th>1293</th>\n",
       "      <td>US1WAKG0225</td>\n",
       "      <td>SEATTLE 2.1 ESE, WA US</td>\n",
       "      <td>2021-12-23</td>\n",
       "      <td>NaN</td>\n",
       "      <td>NaN</td>\n",
       "      <td>0.56</td>\n",
       "      <td>NaN</td>\n",
       "      <td>NaN</td>\n",
       "      <td>NaN</td>\n",
       "      <td>NaN</td>\n",
       "    </tr>\n",
       "    <tr>\n",
       "      <th>1309</th>\n",
       "      <td>US1WAKG0225</td>\n",
       "      <td>SEATTLE 2.1 ESE, WA US</td>\n",
       "      <td>2022-01-08</td>\n",
       "      <td>NaN</td>\n",
       "      <td>NaN</td>\n",
       "      <td>0.62</td>\n",
       "      <td>NaN</td>\n",
       "      <td>NaN</td>\n",
       "      <td>NaN</td>\n",
       "      <td>NaN</td>\n",
       "    </tr>\n",
       "    <tr>\n",
       "      <th>1312</th>\n",
       "      <td>US1WAKG0225</td>\n",
       "      <td>SEATTLE 2.1 ESE, WA US</td>\n",
       "      <td>2022-01-11</td>\n",
       "      <td>NaN</td>\n",
       "      <td>NaN</td>\n",
       "      <td>0.70</td>\n",
       "      <td>NaN</td>\n",
       "      <td>NaN</td>\n",
       "      <td>NaN</td>\n",
       "      <td>NaN</td>\n",
       "    </tr>\n",
       "    <tr>\n",
       "      <th>1313</th>\n",
       "      <td>US1WAKG0225</td>\n",
       "      <td>SEATTLE 2.1 ESE, WA US</td>\n",
       "      <td>2022-01-12</td>\n",
       "      <td>NaN</td>\n",
       "      <td>NaN</td>\n",
       "      <td>0.52</td>\n",
       "      <td>NaN</td>\n",
       "      <td>NaN</td>\n",
       "      <td>NaN</td>\n",
       "      <td>NaN</td>\n",
       "    </tr>\n",
       "    <tr>\n",
       "      <th>1359</th>\n",
       "      <td>US1WAKG0225</td>\n",
       "      <td>SEATTLE 2.1 ESE, WA US</td>\n",
       "      <td>2022-02-27</td>\n",
       "      <td>NaN</td>\n",
       "      <td>NaN</td>\n",
       "      <td>0.61</td>\n",
       "      <td>NaN</td>\n",
       "      <td>NaN</td>\n",
       "      <td>NaN</td>\n",
       "      <td>NaN</td>\n",
       "    </tr>\n",
       "    <tr>\n",
       "      <th>1375</th>\n",
       "      <td>US1WAKG0225</td>\n",
       "      <td>SEATTLE 2.1 ESE, WA US</td>\n",
       "      <td>2022-03-15</td>\n",
       "      <td>NaN</td>\n",
       "      <td>NaN</td>\n",
       "      <td>0.52</td>\n",
       "      <td>NaN</td>\n",
       "      <td>NaN</td>\n",
       "      <td>NaN</td>\n",
       "      <td>NaN</td>\n",
       "    </tr>\n",
       "    <tr>\n",
       "      <th>1419</th>\n",
       "      <td>US1WAKG0225</td>\n",
       "      <td>SEATTLE 2.1 ESE, WA US</td>\n",
       "      <td>2022-05-07</td>\n",
       "      <td>NaN</td>\n",
       "      <td>NaN</td>\n",
       "      <td>0.55</td>\n",
       "      <td>NaN</td>\n",
       "      <td>NaN</td>\n",
       "      <td>NaN</td>\n",
       "      <td>NaN</td>\n",
       "    </tr>\n",
       "    <tr>\n",
       "      <th>1428</th>\n",
       "      <td>US1WAKG0225</td>\n",
       "      <td>SEATTLE 2.1 ESE, WA US</td>\n",
       "      <td>2022-05-16</td>\n",
       "      <td>NaN</td>\n",
       "      <td>NaN</td>\n",
       "      <td>0.66</td>\n",
       "      <td>NaN</td>\n",
       "      <td>NaN</td>\n",
       "      <td>NaN</td>\n",
       "      <td>NaN</td>\n",
       "    </tr>\n",
       "    <tr>\n",
       "      <th>1448</th>\n",
       "      <td>US1WAKG0225</td>\n",
       "      <td>SEATTLE 2.1 ESE, WA US</td>\n",
       "      <td>2022-06-05</td>\n",
       "      <td>NaN</td>\n",
       "      <td>NaN</td>\n",
       "      <td>0.61</td>\n",
       "      <td>NaN</td>\n",
       "      <td>NaN</td>\n",
       "      <td>NaN</td>\n",
       "      <td>NaN</td>\n",
       "    </tr>\n",
       "    <tr>\n",
       "      <th>1593</th>\n",
       "      <td>US1WAKG0225</td>\n",
       "      <td>SEATTLE 2.1 ESE, WA US</td>\n",
       "      <td>2022-10-28</td>\n",
       "      <td>NaN</td>\n",
       "      <td>NaN</td>\n",
       "      <td>0.58</td>\n",
       "      <td>NaN</td>\n",
       "      <td>NaN</td>\n",
       "      <td>NaN</td>\n",
       "      <td>NaN</td>\n",
       "    </tr>\n",
       "    <tr>\n",
       "      <th>1622</th>\n",
       "      <td>US1WAKG0225</td>\n",
       "      <td>SEATTLE 2.1 ESE, WA US</td>\n",
       "      <td>2022-11-26</td>\n",
       "      <td>NaN</td>\n",
       "      <td>NaN</td>\n",
       "      <td>0.70</td>\n",
       "      <td>NaN</td>\n",
       "      <td>NaN</td>\n",
       "      <td>NaN</td>\n",
       "      <td>NaN</td>\n",
       "    </tr>\n",
       "    <tr>\n",
       "      <th>1629</th>\n",
       "      <td>US1WAKG0225</td>\n",
       "      <td>SEATTLE 2.1 ESE, WA US</td>\n",
       "      <td>2022-12-03</td>\n",
       "      <td>NaN</td>\n",
       "      <td>NaN</td>\n",
       "      <td>0.72</td>\n",
       "      <td>2.0</td>\n",
       "      <td>1.5</td>\n",
       "      <td>NaN</td>\n",
       "      <td>NaN</td>\n",
       "    </tr>\n",
       "    <tr>\n",
       "      <th>1650</th>\n",
       "      <td>US1WAKG0225</td>\n",
       "      <td>SEATTLE 2.1 ESE, WA US</td>\n",
       "      <td>2022-12-24</td>\n",
       "      <td>NaN</td>\n",
       "      <td>NaN</td>\n",
       "      <td>0.52</td>\n",
       "      <td>0.0</td>\n",
       "      <td>0.0</td>\n",
       "      <td>NaN</td>\n",
       "      <td>NaN</td>\n",
       "    </tr>\n",
       "    <tr>\n",
       "      <th>1656</th>\n",
       "      <td>US1WAKG0225</td>\n",
       "      <td>SEATTLE 2.1 ESE, WA US</td>\n",
       "      <td>2022-12-30</td>\n",
       "      <td>NaN</td>\n",
       "      <td>NaN</td>\n",
       "      <td>0.62</td>\n",
       "      <td>NaN</td>\n",
       "      <td>NaN</td>\n",
       "      <td>NaN</td>\n",
       "      <td>NaN</td>\n",
       "    </tr>\n",
       "  </tbody>\n",
       "</table>\n",
       "</div>"
      ],
      "text/plain": [
       "          STATION                    NAME       DATE  DAPR  MDPR  PRCP  SNOW  \\\n",
       "5     US1WAKG0225  SEATTLE 2.1 ESE, WA US 2018-01-06   NaN   NaN  0.57   NaN   \n",
       "20    US1WAKG0225  SEATTLE 2.1 ESE, WA US 2018-03-24   NaN   NaN  0.63   NaN   \n",
       "35    US1WAKG0225  SEATTLE 2.1 ESE, WA US 2018-04-08   NaN   NaN  0.55   NaN   \n",
       "41    US1WAKG0225  SEATTLE 2.1 ESE, WA US 2018-04-14   NaN   NaN  0.68   NaN   \n",
       "271   US1WAKG0225  SEATTLE 2.1 ESE, WA US 2018-12-10   NaN   NaN  0.56   NaN   \n",
       "296   US1WAKG0225  SEATTLE 2.1 ESE, WA US 2019-01-04   NaN   NaN  0.55   NaN   \n",
       "313   US1WAKG0225  SEATTLE 2.1 ESE, WA US 2019-01-23   NaN   NaN  0.70   NaN   \n",
       "331   US1WAKG0225  SEATTLE 2.1 ESE, WA US 2019-02-11   NaN   NaN  0.70   4.0   \n",
       "419   US1WAKG0225  SEATTLE 2.1 ESE, WA US 2019-05-17   NaN   NaN  0.60   NaN   \n",
       "472   US1WAKG0225  SEATTLE 2.1 ESE, WA US 2019-07-19   NaN   NaN  0.62   NaN   \n",
       "517   US1WAKG0225  SEATTLE 2.1 ESE, WA US 2019-09-08   NaN   NaN  0.61   NaN   \n",
       "519   US1WAKG0225  SEATTLE 2.1 ESE, WA US 2019-09-10   NaN   NaN  0.55   NaN   \n",
       "589   US1WAKG0225  SEATTLE 2.1 ESE, WA US 2019-11-19   NaN   NaN  0.73   NaN   \n",
       "658   US1WAKG0225  SEATTLE 2.1 ESE, WA US 2020-02-05   NaN   NaN  0.69   0.0   \n",
       "660   US1WAKG0225  SEATTLE 2.1 ESE, WA US 2020-02-07   NaN   NaN  0.58   NaN   \n",
       "678   US1WAKG0225  SEATTLE 2.1 ESE, WA US 2020-03-06   NaN   NaN  0.71   NaN   \n",
       "701   US1WAKG0225  SEATTLE 2.1 ESE, WA US 2020-03-29   NaN   NaN  0.64   NaN   \n",
       "750   US1WAKG0225  SEATTLE 2.1 ESE, WA US 2020-05-17   NaN   NaN  0.66   NaN   \n",
       "792   US1WAKG0225  SEATTLE 2.1 ESE, WA US 2020-06-28   NaN   NaN  0.54   NaN   \n",
       "889   US1WAKG0225  SEATTLE 2.1 ESE, WA US 2020-10-12   NaN   NaN  0.58   NaN   \n",
       "890   US1WAKG0225  SEATTLE 2.1 ESE, WA US 2020-10-13   NaN   NaN  0.61   NaN   \n",
       "925   US1WAKG0225  SEATTLE 2.1 ESE, WA US 2020-11-17   NaN   NaN  0.64   NaN   \n",
       "926   US1WAKG0225  SEATTLE 2.1 ESE, WA US 2020-11-18   NaN   NaN  0.55   NaN   \n",
       "947   US1WAKG0225  SEATTLE 2.1 ESE, WA US 2020-12-09   NaN   NaN  0.58   NaN   \n",
       "955   US1WAKG0225  SEATTLE 2.1 ESE, WA US 2020-12-17   NaN   NaN  0.52   NaN   \n",
       "959   US1WAKG0225  SEATTLE 2.1 ESE, WA US 2020-12-21   NaN   NaN  0.64   NaN   \n",
       "969   US1WAKG0225  SEATTLE 2.1 ESE, WA US 2020-12-31   NaN   NaN  0.50   NaN   \n",
       "973   US1WAKG0225  SEATTLE 2.1 ESE, WA US 2021-01-04   NaN   NaN  0.65   NaN   \n",
       "1002  US1WAKG0225  SEATTLE 2.1 ESE, WA US 2021-02-02   NaN   NaN  0.72   NaN   \n",
       "1015  US1WAKG0225  SEATTLE 2.1 ESE, WA US 2021-02-15   NaN   NaN  0.60   1.0   \n",
       "1069  US1WAKG0225  SEATTLE 2.1 ESE, WA US 2021-04-25   NaN   NaN  0.50   NaN   \n",
       "1112  US1WAKG0225  SEATTLE 2.1 ESE, WA US 2021-06-07   NaN   NaN  0.73   NaN   \n",
       "1119  US1WAKG0225  SEATTLE 2.1 ESE, WA US 2021-06-14   NaN   NaN  0.60   NaN   \n",
       "1206  US1WAKG0225  SEATTLE 2.1 ESE, WA US 2021-09-27   NaN   NaN  0.71   NaN   \n",
       "1231  US1WAKG0225  SEATTLE 2.1 ESE, WA US 2021-10-22   NaN   NaN  0.64   NaN   \n",
       "1244  US1WAKG0225  SEATTLE 2.1 ESE, WA US 2021-11-04   NaN   NaN  0.61   NaN   \n",
       "1245  US1WAKG0225  SEATTLE 2.1 ESE, WA US 2021-11-05   NaN   NaN  0.57   NaN   \n",
       "1247  US1WAKG0225  SEATTLE 2.1 ESE, WA US 2021-11-07   NaN   NaN  0.64   NaN   \n",
       "1254  US1WAKG0225  SEATTLE 2.1 ESE, WA US 2021-11-14   NaN   NaN  0.59   NaN   \n",
       "1255  US1WAKG0225  SEATTLE 2.1 ESE, WA US 2021-11-15   NaN   NaN  0.59   NaN   \n",
       "1259  US1WAKG0225  SEATTLE 2.1 ESE, WA US 2021-11-19   NaN   NaN  0.52   NaN   \n",
       "1263  US1WAKG0225  SEATTLE 2.1 ESE, WA US 2021-11-23   NaN   NaN  0.53   NaN   \n",
       "1266  US1WAKG0225  SEATTLE 2.1 ESE, WA US 2021-11-26   NaN   NaN  0.55   NaN   \n",
       "1288  US1WAKG0225  SEATTLE 2.1 ESE, WA US 2021-12-18   NaN   NaN  0.54   NaN   \n",
       "1293  US1WAKG0225  SEATTLE 2.1 ESE, WA US 2021-12-23   NaN   NaN  0.56   NaN   \n",
       "1309  US1WAKG0225  SEATTLE 2.1 ESE, WA US 2022-01-08   NaN   NaN  0.62   NaN   \n",
       "1312  US1WAKG0225  SEATTLE 2.1 ESE, WA US 2022-01-11   NaN   NaN  0.70   NaN   \n",
       "1313  US1WAKG0225  SEATTLE 2.1 ESE, WA US 2022-01-12   NaN   NaN  0.52   NaN   \n",
       "1359  US1WAKG0225  SEATTLE 2.1 ESE, WA US 2022-02-27   NaN   NaN  0.61   NaN   \n",
       "1375  US1WAKG0225  SEATTLE 2.1 ESE, WA US 2022-03-15   NaN   NaN  0.52   NaN   \n",
       "1419  US1WAKG0225  SEATTLE 2.1 ESE, WA US 2022-05-07   NaN   NaN  0.55   NaN   \n",
       "1428  US1WAKG0225  SEATTLE 2.1 ESE, WA US 2022-05-16   NaN   NaN  0.66   NaN   \n",
       "1448  US1WAKG0225  SEATTLE 2.1 ESE, WA US 2022-06-05   NaN   NaN  0.61   NaN   \n",
       "1593  US1WAKG0225  SEATTLE 2.1 ESE, WA US 2022-10-28   NaN   NaN  0.58   NaN   \n",
       "1622  US1WAKG0225  SEATTLE 2.1 ESE, WA US 2022-11-26   NaN   NaN  0.70   NaN   \n",
       "1629  US1WAKG0225  SEATTLE 2.1 ESE, WA US 2022-12-03   NaN   NaN  0.72   2.0   \n",
       "1650  US1WAKG0225  SEATTLE 2.1 ESE, WA US 2022-12-24   NaN   NaN  0.52   0.0   \n",
       "1656  US1WAKG0225  SEATTLE 2.1 ESE, WA US 2022-12-30   NaN   NaN  0.62   NaN   \n",
       "\n",
       "      SNWD  WESD  WESF  \n",
       "5      NaN   NaN   NaN  \n",
       "20     NaN   NaN   NaN  \n",
       "35     NaN   NaN   NaN  \n",
       "41     NaN   NaN   NaN  \n",
       "271    NaN   NaN   NaN  \n",
       "296    NaN   NaN   NaN  \n",
       "313    NaN   NaN   NaN  \n",
       "331    NaN   NaN   NaN  \n",
       "419    NaN   NaN   NaN  \n",
       "472    NaN   NaN   NaN  \n",
       "517    NaN   NaN   NaN  \n",
       "519    NaN   NaN   NaN  \n",
       "589    NaN   NaN   NaN  \n",
       "658    NaN   NaN   NaN  \n",
       "660    NaN   NaN   NaN  \n",
       "678    NaN   NaN   NaN  \n",
       "701    NaN   NaN   NaN  \n",
       "750    NaN   NaN   NaN  \n",
       "792    NaN   NaN   NaN  \n",
       "889    NaN   NaN   NaN  \n",
       "890    NaN   NaN   NaN  \n",
       "925    NaN   NaN   NaN  \n",
       "926    NaN   NaN   NaN  \n",
       "947    NaN   NaN   NaN  \n",
       "955    NaN   NaN   NaN  \n",
       "959    NaN   NaN   NaN  \n",
       "969    NaN   NaN   NaN  \n",
       "973    NaN   NaN   NaN  \n",
       "1002   NaN   NaN   NaN  \n",
       "1015   8.0   1.8   NaN  \n",
       "1069   NaN   NaN   NaN  \n",
       "1112   NaN   NaN   NaN  \n",
       "1119   NaN   NaN   NaN  \n",
       "1206   NaN   NaN   NaN  \n",
       "1231   NaN   NaN   NaN  \n",
       "1244   NaN   NaN   NaN  \n",
       "1245   NaN   NaN   NaN  \n",
       "1247   NaN   NaN   NaN  \n",
       "1254   NaN   NaN   NaN  \n",
       "1255   NaN   NaN   NaN  \n",
       "1259   NaN   NaN   NaN  \n",
       "1263   NaN   NaN   NaN  \n",
       "1266   NaN   NaN   NaN  \n",
       "1288   NaN   NaN   NaN  \n",
       "1293   NaN   NaN   NaN  \n",
       "1309   NaN   NaN   NaN  \n",
       "1312   NaN   NaN   NaN  \n",
       "1313   NaN   NaN   NaN  \n",
       "1359   NaN   NaN   NaN  \n",
       "1375   NaN   NaN   NaN  \n",
       "1419   NaN   NaN   NaN  \n",
       "1428   NaN   NaN   NaN  \n",
       "1448   NaN   NaN   NaN  \n",
       "1593   NaN   NaN   NaN  \n",
       "1622   NaN   NaN   NaN  \n",
       "1629   1.5   NaN   NaN  \n",
       "1650   0.0   NaN   NaN  \n",
       "1656   NaN   NaN   NaN  "
      ]
     },
     "execution_count": 60,
     "metadata": {},
     "output_type": "execute_result"
    }
   ],
   "source": [
    "df_seattle[df_seattle['PRCP'].between(0.5, 0.75)]"
   ]
  },
  {
   "cell_type": "markdown",
   "id": "51d65447",
   "metadata": {},
   "source": [
    "-> Here, greater than equal to 0.5 creates a boolean series to check if precipiation is greater than equal to 0.5, and precp less than or equal to 0.75 the and operator here combines the both conditions"
   ]
  },
  {
   "cell_type": "code",
   "execution_count": 61,
   "id": "7e7d14b9",
   "metadata": {},
   "outputs": [
    {
     "data": {
      "text/html": [
       "<div>\n",
       "<style scoped>\n",
       "    .dataframe tbody tr th:only-of-type {\n",
       "        vertical-align: middle;\n",
       "    }\n",
       "\n",
       "    .dataframe tbody tr th {\n",
       "        vertical-align: top;\n",
       "    }\n",
       "\n",
       "    .dataframe thead th {\n",
       "        text-align: right;\n",
       "    }\n",
       "</style>\n",
       "<table border=\"1\" class=\"dataframe\">\n",
       "  <thead>\n",
       "    <tr style=\"text-align: right;\">\n",
       "      <th></th>\n",
       "      <th>STATION</th>\n",
       "      <th>NAME</th>\n",
       "      <th>DATE</th>\n",
       "      <th>DAPR</th>\n",
       "      <th>MDPR</th>\n",
       "      <th>PRCP</th>\n",
       "      <th>SNOW</th>\n",
       "      <th>SNWD</th>\n",
       "      <th>WESD</th>\n",
       "      <th>WESF</th>\n",
       "    </tr>\n",
       "  </thead>\n",
       "  <tbody>\n",
       "    <tr>\n",
       "      <th>5</th>\n",
       "      <td>US1WAKG0225</td>\n",
       "      <td>SEATTLE 2.1 ESE, WA US</td>\n",
       "      <td>2018-01-06</td>\n",
       "      <td>NaN</td>\n",
       "      <td>NaN</td>\n",
       "      <td>0.57</td>\n",
       "      <td>NaN</td>\n",
       "      <td>NaN</td>\n",
       "      <td>NaN</td>\n",
       "      <td>NaN</td>\n",
       "    </tr>\n",
       "    <tr>\n",
       "      <th>20</th>\n",
       "      <td>US1WAKG0225</td>\n",
       "      <td>SEATTLE 2.1 ESE, WA US</td>\n",
       "      <td>2018-03-24</td>\n",
       "      <td>NaN</td>\n",
       "      <td>NaN</td>\n",
       "      <td>0.63</td>\n",
       "      <td>NaN</td>\n",
       "      <td>NaN</td>\n",
       "      <td>NaN</td>\n",
       "      <td>NaN</td>\n",
       "    </tr>\n",
       "    <tr>\n",
       "      <th>35</th>\n",
       "      <td>US1WAKG0225</td>\n",
       "      <td>SEATTLE 2.1 ESE, WA US</td>\n",
       "      <td>2018-04-08</td>\n",
       "      <td>NaN</td>\n",
       "      <td>NaN</td>\n",
       "      <td>0.55</td>\n",
       "      <td>NaN</td>\n",
       "      <td>NaN</td>\n",
       "      <td>NaN</td>\n",
       "      <td>NaN</td>\n",
       "    </tr>\n",
       "    <tr>\n",
       "      <th>41</th>\n",
       "      <td>US1WAKG0225</td>\n",
       "      <td>SEATTLE 2.1 ESE, WA US</td>\n",
       "      <td>2018-04-14</td>\n",
       "      <td>NaN</td>\n",
       "      <td>NaN</td>\n",
       "      <td>0.68</td>\n",
       "      <td>NaN</td>\n",
       "      <td>NaN</td>\n",
       "      <td>NaN</td>\n",
       "      <td>NaN</td>\n",
       "    </tr>\n",
       "    <tr>\n",
       "      <th>271</th>\n",
       "      <td>US1WAKG0225</td>\n",
       "      <td>SEATTLE 2.1 ESE, WA US</td>\n",
       "      <td>2018-12-10</td>\n",
       "      <td>NaN</td>\n",
       "      <td>NaN</td>\n",
       "      <td>0.56</td>\n",
       "      <td>NaN</td>\n",
       "      <td>NaN</td>\n",
       "      <td>NaN</td>\n",
       "      <td>NaN</td>\n",
       "    </tr>\n",
       "    <tr>\n",
       "      <th>296</th>\n",
       "      <td>US1WAKG0225</td>\n",
       "      <td>SEATTLE 2.1 ESE, WA US</td>\n",
       "      <td>2019-01-04</td>\n",
       "      <td>NaN</td>\n",
       "      <td>NaN</td>\n",
       "      <td>0.55</td>\n",
       "      <td>NaN</td>\n",
       "      <td>NaN</td>\n",
       "      <td>NaN</td>\n",
       "      <td>NaN</td>\n",
       "    </tr>\n",
       "    <tr>\n",
       "      <th>313</th>\n",
       "      <td>US1WAKG0225</td>\n",
       "      <td>SEATTLE 2.1 ESE, WA US</td>\n",
       "      <td>2019-01-23</td>\n",
       "      <td>NaN</td>\n",
       "      <td>NaN</td>\n",
       "      <td>0.70</td>\n",
       "      <td>NaN</td>\n",
       "      <td>NaN</td>\n",
       "      <td>NaN</td>\n",
       "      <td>NaN</td>\n",
       "    </tr>\n",
       "    <tr>\n",
       "      <th>331</th>\n",
       "      <td>US1WAKG0225</td>\n",
       "      <td>SEATTLE 2.1 ESE, WA US</td>\n",
       "      <td>2019-02-11</td>\n",
       "      <td>NaN</td>\n",
       "      <td>NaN</td>\n",
       "      <td>0.70</td>\n",
       "      <td>4.0</td>\n",
       "      <td>NaN</td>\n",
       "      <td>NaN</td>\n",
       "      <td>NaN</td>\n",
       "    </tr>\n",
       "    <tr>\n",
       "      <th>419</th>\n",
       "      <td>US1WAKG0225</td>\n",
       "      <td>SEATTLE 2.1 ESE, WA US</td>\n",
       "      <td>2019-05-17</td>\n",
       "      <td>NaN</td>\n",
       "      <td>NaN</td>\n",
       "      <td>0.60</td>\n",
       "      <td>NaN</td>\n",
       "      <td>NaN</td>\n",
       "      <td>NaN</td>\n",
       "      <td>NaN</td>\n",
       "    </tr>\n",
       "    <tr>\n",
       "      <th>472</th>\n",
       "      <td>US1WAKG0225</td>\n",
       "      <td>SEATTLE 2.1 ESE, WA US</td>\n",
       "      <td>2019-07-19</td>\n",
       "      <td>NaN</td>\n",
       "      <td>NaN</td>\n",
       "      <td>0.62</td>\n",
       "      <td>NaN</td>\n",
       "      <td>NaN</td>\n",
       "      <td>NaN</td>\n",
       "      <td>NaN</td>\n",
       "    </tr>\n",
       "    <tr>\n",
       "      <th>517</th>\n",
       "      <td>US1WAKG0225</td>\n",
       "      <td>SEATTLE 2.1 ESE, WA US</td>\n",
       "      <td>2019-09-08</td>\n",
       "      <td>NaN</td>\n",
       "      <td>NaN</td>\n",
       "      <td>0.61</td>\n",
       "      <td>NaN</td>\n",
       "      <td>NaN</td>\n",
       "      <td>NaN</td>\n",
       "      <td>NaN</td>\n",
       "    </tr>\n",
       "    <tr>\n",
       "      <th>519</th>\n",
       "      <td>US1WAKG0225</td>\n",
       "      <td>SEATTLE 2.1 ESE, WA US</td>\n",
       "      <td>2019-09-10</td>\n",
       "      <td>NaN</td>\n",
       "      <td>NaN</td>\n",
       "      <td>0.55</td>\n",
       "      <td>NaN</td>\n",
       "      <td>NaN</td>\n",
       "      <td>NaN</td>\n",
       "      <td>NaN</td>\n",
       "    </tr>\n",
       "    <tr>\n",
       "      <th>589</th>\n",
       "      <td>US1WAKG0225</td>\n",
       "      <td>SEATTLE 2.1 ESE, WA US</td>\n",
       "      <td>2019-11-19</td>\n",
       "      <td>NaN</td>\n",
       "      <td>NaN</td>\n",
       "      <td>0.73</td>\n",
       "      <td>NaN</td>\n",
       "      <td>NaN</td>\n",
       "      <td>NaN</td>\n",
       "      <td>NaN</td>\n",
       "    </tr>\n",
       "    <tr>\n",
       "      <th>658</th>\n",
       "      <td>US1WAKG0225</td>\n",
       "      <td>SEATTLE 2.1 ESE, WA US</td>\n",
       "      <td>2020-02-05</td>\n",
       "      <td>NaN</td>\n",
       "      <td>NaN</td>\n",
       "      <td>0.69</td>\n",
       "      <td>0.0</td>\n",
       "      <td>NaN</td>\n",
       "      <td>NaN</td>\n",
       "      <td>NaN</td>\n",
       "    </tr>\n",
       "    <tr>\n",
       "      <th>660</th>\n",
       "      <td>US1WAKG0225</td>\n",
       "      <td>SEATTLE 2.1 ESE, WA US</td>\n",
       "      <td>2020-02-07</td>\n",
       "      <td>NaN</td>\n",
       "      <td>NaN</td>\n",
       "      <td>0.58</td>\n",
       "      <td>NaN</td>\n",
       "      <td>NaN</td>\n",
       "      <td>NaN</td>\n",
       "      <td>NaN</td>\n",
       "    </tr>\n",
       "    <tr>\n",
       "      <th>678</th>\n",
       "      <td>US1WAKG0225</td>\n",
       "      <td>SEATTLE 2.1 ESE, WA US</td>\n",
       "      <td>2020-03-06</td>\n",
       "      <td>NaN</td>\n",
       "      <td>NaN</td>\n",
       "      <td>0.71</td>\n",
       "      <td>NaN</td>\n",
       "      <td>NaN</td>\n",
       "      <td>NaN</td>\n",
       "      <td>NaN</td>\n",
       "    </tr>\n",
       "    <tr>\n",
       "      <th>701</th>\n",
       "      <td>US1WAKG0225</td>\n",
       "      <td>SEATTLE 2.1 ESE, WA US</td>\n",
       "      <td>2020-03-29</td>\n",
       "      <td>NaN</td>\n",
       "      <td>NaN</td>\n",
       "      <td>0.64</td>\n",
       "      <td>NaN</td>\n",
       "      <td>NaN</td>\n",
       "      <td>NaN</td>\n",
       "      <td>NaN</td>\n",
       "    </tr>\n",
       "    <tr>\n",
       "      <th>750</th>\n",
       "      <td>US1WAKG0225</td>\n",
       "      <td>SEATTLE 2.1 ESE, WA US</td>\n",
       "      <td>2020-05-17</td>\n",
       "      <td>NaN</td>\n",
       "      <td>NaN</td>\n",
       "      <td>0.66</td>\n",
       "      <td>NaN</td>\n",
       "      <td>NaN</td>\n",
       "      <td>NaN</td>\n",
       "      <td>NaN</td>\n",
       "    </tr>\n",
       "    <tr>\n",
       "      <th>792</th>\n",
       "      <td>US1WAKG0225</td>\n",
       "      <td>SEATTLE 2.1 ESE, WA US</td>\n",
       "      <td>2020-06-28</td>\n",
       "      <td>NaN</td>\n",
       "      <td>NaN</td>\n",
       "      <td>0.54</td>\n",
       "      <td>NaN</td>\n",
       "      <td>NaN</td>\n",
       "      <td>NaN</td>\n",
       "      <td>NaN</td>\n",
       "    </tr>\n",
       "    <tr>\n",
       "      <th>889</th>\n",
       "      <td>US1WAKG0225</td>\n",
       "      <td>SEATTLE 2.1 ESE, WA US</td>\n",
       "      <td>2020-10-12</td>\n",
       "      <td>NaN</td>\n",
       "      <td>NaN</td>\n",
       "      <td>0.58</td>\n",
       "      <td>NaN</td>\n",
       "      <td>NaN</td>\n",
       "      <td>NaN</td>\n",
       "      <td>NaN</td>\n",
       "    </tr>\n",
       "    <tr>\n",
       "      <th>890</th>\n",
       "      <td>US1WAKG0225</td>\n",
       "      <td>SEATTLE 2.1 ESE, WA US</td>\n",
       "      <td>2020-10-13</td>\n",
       "      <td>NaN</td>\n",
       "      <td>NaN</td>\n",
       "      <td>0.61</td>\n",
       "      <td>NaN</td>\n",
       "      <td>NaN</td>\n",
       "      <td>NaN</td>\n",
       "      <td>NaN</td>\n",
       "    </tr>\n",
       "    <tr>\n",
       "      <th>925</th>\n",
       "      <td>US1WAKG0225</td>\n",
       "      <td>SEATTLE 2.1 ESE, WA US</td>\n",
       "      <td>2020-11-17</td>\n",
       "      <td>NaN</td>\n",
       "      <td>NaN</td>\n",
       "      <td>0.64</td>\n",
       "      <td>NaN</td>\n",
       "      <td>NaN</td>\n",
       "      <td>NaN</td>\n",
       "      <td>NaN</td>\n",
       "    </tr>\n",
       "    <tr>\n",
       "      <th>926</th>\n",
       "      <td>US1WAKG0225</td>\n",
       "      <td>SEATTLE 2.1 ESE, WA US</td>\n",
       "      <td>2020-11-18</td>\n",
       "      <td>NaN</td>\n",
       "      <td>NaN</td>\n",
       "      <td>0.55</td>\n",
       "      <td>NaN</td>\n",
       "      <td>NaN</td>\n",
       "      <td>NaN</td>\n",
       "      <td>NaN</td>\n",
       "    </tr>\n",
       "    <tr>\n",
       "      <th>947</th>\n",
       "      <td>US1WAKG0225</td>\n",
       "      <td>SEATTLE 2.1 ESE, WA US</td>\n",
       "      <td>2020-12-09</td>\n",
       "      <td>NaN</td>\n",
       "      <td>NaN</td>\n",
       "      <td>0.58</td>\n",
       "      <td>NaN</td>\n",
       "      <td>NaN</td>\n",
       "      <td>NaN</td>\n",
       "      <td>NaN</td>\n",
       "    </tr>\n",
       "    <tr>\n",
       "      <th>955</th>\n",
       "      <td>US1WAKG0225</td>\n",
       "      <td>SEATTLE 2.1 ESE, WA US</td>\n",
       "      <td>2020-12-17</td>\n",
       "      <td>NaN</td>\n",
       "      <td>NaN</td>\n",
       "      <td>0.52</td>\n",
       "      <td>NaN</td>\n",
       "      <td>NaN</td>\n",
       "      <td>NaN</td>\n",
       "      <td>NaN</td>\n",
       "    </tr>\n",
       "    <tr>\n",
       "      <th>959</th>\n",
       "      <td>US1WAKG0225</td>\n",
       "      <td>SEATTLE 2.1 ESE, WA US</td>\n",
       "      <td>2020-12-21</td>\n",
       "      <td>NaN</td>\n",
       "      <td>NaN</td>\n",
       "      <td>0.64</td>\n",
       "      <td>NaN</td>\n",
       "      <td>NaN</td>\n",
       "      <td>NaN</td>\n",
       "      <td>NaN</td>\n",
       "    </tr>\n",
       "    <tr>\n",
       "      <th>969</th>\n",
       "      <td>US1WAKG0225</td>\n",
       "      <td>SEATTLE 2.1 ESE, WA US</td>\n",
       "      <td>2020-12-31</td>\n",
       "      <td>NaN</td>\n",
       "      <td>NaN</td>\n",
       "      <td>0.50</td>\n",
       "      <td>NaN</td>\n",
       "      <td>NaN</td>\n",
       "      <td>NaN</td>\n",
       "      <td>NaN</td>\n",
       "    </tr>\n",
       "    <tr>\n",
       "      <th>973</th>\n",
       "      <td>US1WAKG0225</td>\n",
       "      <td>SEATTLE 2.1 ESE, WA US</td>\n",
       "      <td>2021-01-04</td>\n",
       "      <td>NaN</td>\n",
       "      <td>NaN</td>\n",
       "      <td>0.65</td>\n",
       "      <td>NaN</td>\n",
       "      <td>NaN</td>\n",
       "      <td>NaN</td>\n",
       "      <td>NaN</td>\n",
       "    </tr>\n",
       "    <tr>\n",
       "      <th>1002</th>\n",
       "      <td>US1WAKG0225</td>\n",
       "      <td>SEATTLE 2.1 ESE, WA US</td>\n",
       "      <td>2021-02-02</td>\n",
       "      <td>NaN</td>\n",
       "      <td>NaN</td>\n",
       "      <td>0.72</td>\n",
       "      <td>NaN</td>\n",
       "      <td>NaN</td>\n",
       "      <td>NaN</td>\n",
       "      <td>NaN</td>\n",
       "    </tr>\n",
       "    <tr>\n",
       "      <th>1015</th>\n",
       "      <td>US1WAKG0225</td>\n",
       "      <td>SEATTLE 2.1 ESE, WA US</td>\n",
       "      <td>2021-02-15</td>\n",
       "      <td>NaN</td>\n",
       "      <td>NaN</td>\n",
       "      <td>0.60</td>\n",
       "      <td>1.0</td>\n",
       "      <td>8.0</td>\n",
       "      <td>1.8</td>\n",
       "      <td>NaN</td>\n",
       "    </tr>\n",
       "    <tr>\n",
       "      <th>1069</th>\n",
       "      <td>US1WAKG0225</td>\n",
       "      <td>SEATTLE 2.1 ESE, WA US</td>\n",
       "      <td>2021-04-25</td>\n",
       "      <td>NaN</td>\n",
       "      <td>NaN</td>\n",
       "      <td>0.50</td>\n",
       "      <td>NaN</td>\n",
       "      <td>NaN</td>\n",
       "      <td>NaN</td>\n",
       "      <td>NaN</td>\n",
       "    </tr>\n",
       "    <tr>\n",
       "      <th>1112</th>\n",
       "      <td>US1WAKG0225</td>\n",
       "      <td>SEATTLE 2.1 ESE, WA US</td>\n",
       "      <td>2021-06-07</td>\n",
       "      <td>NaN</td>\n",
       "      <td>NaN</td>\n",
       "      <td>0.73</td>\n",
       "      <td>NaN</td>\n",
       "      <td>NaN</td>\n",
       "      <td>NaN</td>\n",
       "      <td>NaN</td>\n",
       "    </tr>\n",
       "    <tr>\n",
       "      <th>1119</th>\n",
       "      <td>US1WAKG0225</td>\n",
       "      <td>SEATTLE 2.1 ESE, WA US</td>\n",
       "      <td>2021-06-14</td>\n",
       "      <td>NaN</td>\n",
       "      <td>NaN</td>\n",
       "      <td>0.60</td>\n",
       "      <td>NaN</td>\n",
       "      <td>NaN</td>\n",
       "      <td>NaN</td>\n",
       "      <td>NaN</td>\n",
       "    </tr>\n",
       "    <tr>\n",
       "      <th>1206</th>\n",
       "      <td>US1WAKG0225</td>\n",
       "      <td>SEATTLE 2.1 ESE, WA US</td>\n",
       "      <td>2021-09-27</td>\n",
       "      <td>NaN</td>\n",
       "      <td>NaN</td>\n",
       "      <td>0.71</td>\n",
       "      <td>NaN</td>\n",
       "      <td>NaN</td>\n",
       "      <td>NaN</td>\n",
       "      <td>NaN</td>\n",
       "    </tr>\n",
       "    <tr>\n",
       "      <th>1231</th>\n",
       "      <td>US1WAKG0225</td>\n",
       "      <td>SEATTLE 2.1 ESE, WA US</td>\n",
       "      <td>2021-10-22</td>\n",
       "      <td>NaN</td>\n",
       "      <td>NaN</td>\n",
       "      <td>0.64</td>\n",
       "      <td>NaN</td>\n",
       "      <td>NaN</td>\n",
       "      <td>NaN</td>\n",
       "      <td>NaN</td>\n",
       "    </tr>\n",
       "    <tr>\n",
       "      <th>1244</th>\n",
       "      <td>US1WAKG0225</td>\n",
       "      <td>SEATTLE 2.1 ESE, WA US</td>\n",
       "      <td>2021-11-04</td>\n",
       "      <td>NaN</td>\n",
       "      <td>NaN</td>\n",
       "      <td>0.61</td>\n",
       "      <td>NaN</td>\n",
       "      <td>NaN</td>\n",
       "      <td>NaN</td>\n",
       "      <td>NaN</td>\n",
       "    </tr>\n",
       "    <tr>\n",
       "      <th>1245</th>\n",
       "      <td>US1WAKG0225</td>\n",
       "      <td>SEATTLE 2.1 ESE, WA US</td>\n",
       "      <td>2021-11-05</td>\n",
       "      <td>NaN</td>\n",
       "      <td>NaN</td>\n",
       "      <td>0.57</td>\n",
       "      <td>NaN</td>\n",
       "      <td>NaN</td>\n",
       "      <td>NaN</td>\n",
       "      <td>NaN</td>\n",
       "    </tr>\n",
       "    <tr>\n",
       "      <th>1247</th>\n",
       "      <td>US1WAKG0225</td>\n",
       "      <td>SEATTLE 2.1 ESE, WA US</td>\n",
       "      <td>2021-11-07</td>\n",
       "      <td>NaN</td>\n",
       "      <td>NaN</td>\n",
       "      <td>0.64</td>\n",
       "      <td>NaN</td>\n",
       "      <td>NaN</td>\n",
       "      <td>NaN</td>\n",
       "      <td>NaN</td>\n",
       "    </tr>\n",
       "    <tr>\n",
       "      <th>1254</th>\n",
       "      <td>US1WAKG0225</td>\n",
       "      <td>SEATTLE 2.1 ESE, WA US</td>\n",
       "      <td>2021-11-14</td>\n",
       "      <td>NaN</td>\n",
       "      <td>NaN</td>\n",
       "      <td>0.59</td>\n",
       "      <td>NaN</td>\n",
       "      <td>NaN</td>\n",
       "      <td>NaN</td>\n",
       "      <td>NaN</td>\n",
       "    </tr>\n",
       "    <tr>\n",
       "      <th>1255</th>\n",
       "      <td>US1WAKG0225</td>\n",
       "      <td>SEATTLE 2.1 ESE, WA US</td>\n",
       "      <td>2021-11-15</td>\n",
       "      <td>NaN</td>\n",
       "      <td>NaN</td>\n",
       "      <td>0.59</td>\n",
       "      <td>NaN</td>\n",
       "      <td>NaN</td>\n",
       "      <td>NaN</td>\n",
       "      <td>NaN</td>\n",
       "    </tr>\n",
       "    <tr>\n",
       "      <th>1259</th>\n",
       "      <td>US1WAKG0225</td>\n",
       "      <td>SEATTLE 2.1 ESE, WA US</td>\n",
       "      <td>2021-11-19</td>\n",
       "      <td>NaN</td>\n",
       "      <td>NaN</td>\n",
       "      <td>0.52</td>\n",
       "      <td>NaN</td>\n",
       "      <td>NaN</td>\n",
       "      <td>NaN</td>\n",
       "      <td>NaN</td>\n",
       "    </tr>\n",
       "    <tr>\n",
       "      <th>1263</th>\n",
       "      <td>US1WAKG0225</td>\n",
       "      <td>SEATTLE 2.1 ESE, WA US</td>\n",
       "      <td>2021-11-23</td>\n",
       "      <td>NaN</td>\n",
       "      <td>NaN</td>\n",
       "      <td>0.53</td>\n",
       "      <td>NaN</td>\n",
       "      <td>NaN</td>\n",
       "      <td>NaN</td>\n",
       "      <td>NaN</td>\n",
       "    </tr>\n",
       "    <tr>\n",
       "      <th>1266</th>\n",
       "      <td>US1WAKG0225</td>\n",
       "      <td>SEATTLE 2.1 ESE, WA US</td>\n",
       "      <td>2021-11-26</td>\n",
       "      <td>NaN</td>\n",
       "      <td>NaN</td>\n",
       "      <td>0.55</td>\n",
       "      <td>NaN</td>\n",
       "      <td>NaN</td>\n",
       "      <td>NaN</td>\n",
       "      <td>NaN</td>\n",
       "    </tr>\n",
       "    <tr>\n",
       "      <th>1288</th>\n",
       "      <td>US1WAKG0225</td>\n",
       "      <td>SEATTLE 2.1 ESE, WA US</td>\n",
       "      <td>2021-12-18</td>\n",
       "      <td>NaN</td>\n",
       "      <td>NaN</td>\n",
       "      <td>0.54</td>\n",
       "      <td>NaN</td>\n",
       "      <td>NaN</td>\n",
       "      <td>NaN</td>\n",
       "      <td>NaN</td>\n",
       "    </tr>\n",
       "    <tr>\n",
       "      <th>1293</th>\n",
       "      <td>US1WAKG0225</td>\n",
       "      <td>SEATTLE 2.1 ESE, WA US</td>\n",
       "      <td>2021-12-23</td>\n",
       "      <td>NaN</td>\n",
       "      <td>NaN</td>\n",
       "      <td>0.56</td>\n",
       "      <td>NaN</td>\n",
       "      <td>NaN</td>\n",
       "      <td>NaN</td>\n",
       "      <td>NaN</td>\n",
       "    </tr>\n",
       "    <tr>\n",
       "      <th>1309</th>\n",
       "      <td>US1WAKG0225</td>\n",
       "      <td>SEATTLE 2.1 ESE, WA US</td>\n",
       "      <td>2022-01-08</td>\n",
       "      <td>NaN</td>\n",
       "      <td>NaN</td>\n",
       "      <td>0.62</td>\n",
       "      <td>NaN</td>\n",
       "      <td>NaN</td>\n",
       "      <td>NaN</td>\n",
       "      <td>NaN</td>\n",
       "    </tr>\n",
       "    <tr>\n",
       "      <th>1312</th>\n",
       "      <td>US1WAKG0225</td>\n",
       "      <td>SEATTLE 2.1 ESE, WA US</td>\n",
       "      <td>2022-01-11</td>\n",
       "      <td>NaN</td>\n",
       "      <td>NaN</td>\n",
       "      <td>0.70</td>\n",
       "      <td>NaN</td>\n",
       "      <td>NaN</td>\n",
       "      <td>NaN</td>\n",
       "      <td>NaN</td>\n",
       "    </tr>\n",
       "    <tr>\n",
       "      <th>1313</th>\n",
       "      <td>US1WAKG0225</td>\n",
       "      <td>SEATTLE 2.1 ESE, WA US</td>\n",
       "      <td>2022-01-12</td>\n",
       "      <td>NaN</td>\n",
       "      <td>NaN</td>\n",
       "      <td>0.52</td>\n",
       "      <td>NaN</td>\n",
       "      <td>NaN</td>\n",
       "      <td>NaN</td>\n",
       "      <td>NaN</td>\n",
       "    </tr>\n",
       "    <tr>\n",
       "      <th>1359</th>\n",
       "      <td>US1WAKG0225</td>\n",
       "      <td>SEATTLE 2.1 ESE, WA US</td>\n",
       "      <td>2022-02-27</td>\n",
       "      <td>NaN</td>\n",
       "      <td>NaN</td>\n",
       "      <td>0.61</td>\n",
       "      <td>NaN</td>\n",
       "      <td>NaN</td>\n",
       "      <td>NaN</td>\n",
       "      <td>NaN</td>\n",
       "    </tr>\n",
       "    <tr>\n",
       "      <th>1375</th>\n",
       "      <td>US1WAKG0225</td>\n",
       "      <td>SEATTLE 2.1 ESE, WA US</td>\n",
       "      <td>2022-03-15</td>\n",
       "      <td>NaN</td>\n",
       "      <td>NaN</td>\n",
       "      <td>0.52</td>\n",
       "      <td>NaN</td>\n",
       "      <td>NaN</td>\n",
       "      <td>NaN</td>\n",
       "      <td>NaN</td>\n",
       "    </tr>\n",
       "    <tr>\n",
       "      <th>1419</th>\n",
       "      <td>US1WAKG0225</td>\n",
       "      <td>SEATTLE 2.1 ESE, WA US</td>\n",
       "      <td>2022-05-07</td>\n",
       "      <td>NaN</td>\n",
       "      <td>NaN</td>\n",
       "      <td>0.55</td>\n",
       "      <td>NaN</td>\n",
       "      <td>NaN</td>\n",
       "      <td>NaN</td>\n",
       "      <td>NaN</td>\n",
       "    </tr>\n",
       "    <tr>\n",
       "      <th>1428</th>\n",
       "      <td>US1WAKG0225</td>\n",
       "      <td>SEATTLE 2.1 ESE, WA US</td>\n",
       "      <td>2022-05-16</td>\n",
       "      <td>NaN</td>\n",
       "      <td>NaN</td>\n",
       "      <td>0.66</td>\n",
       "      <td>NaN</td>\n",
       "      <td>NaN</td>\n",
       "      <td>NaN</td>\n",
       "      <td>NaN</td>\n",
       "    </tr>\n",
       "    <tr>\n",
       "      <th>1448</th>\n",
       "      <td>US1WAKG0225</td>\n",
       "      <td>SEATTLE 2.1 ESE, WA US</td>\n",
       "      <td>2022-06-05</td>\n",
       "      <td>NaN</td>\n",
       "      <td>NaN</td>\n",
       "      <td>0.61</td>\n",
       "      <td>NaN</td>\n",
       "      <td>NaN</td>\n",
       "      <td>NaN</td>\n",
       "      <td>NaN</td>\n",
       "    </tr>\n",
       "    <tr>\n",
       "      <th>1593</th>\n",
       "      <td>US1WAKG0225</td>\n",
       "      <td>SEATTLE 2.1 ESE, WA US</td>\n",
       "      <td>2022-10-28</td>\n",
       "      <td>NaN</td>\n",
       "      <td>NaN</td>\n",
       "      <td>0.58</td>\n",
       "      <td>NaN</td>\n",
       "      <td>NaN</td>\n",
       "      <td>NaN</td>\n",
       "      <td>NaN</td>\n",
       "    </tr>\n",
       "    <tr>\n",
       "      <th>1622</th>\n",
       "      <td>US1WAKG0225</td>\n",
       "      <td>SEATTLE 2.1 ESE, WA US</td>\n",
       "      <td>2022-11-26</td>\n",
       "      <td>NaN</td>\n",
       "      <td>NaN</td>\n",
       "      <td>0.70</td>\n",
       "      <td>NaN</td>\n",
       "      <td>NaN</td>\n",
       "      <td>NaN</td>\n",
       "      <td>NaN</td>\n",
       "    </tr>\n",
       "    <tr>\n",
       "      <th>1629</th>\n",
       "      <td>US1WAKG0225</td>\n",
       "      <td>SEATTLE 2.1 ESE, WA US</td>\n",
       "      <td>2022-12-03</td>\n",
       "      <td>NaN</td>\n",
       "      <td>NaN</td>\n",
       "      <td>0.72</td>\n",
       "      <td>2.0</td>\n",
       "      <td>1.5</td>\n",
       "      <td>NaN</td>\n",
       "      <td>NaN</td>\n",
       "    </tr>\n",
       "    <tr>\n",
       "      <th>1650</th>\n",
       "      <td>US1WAKG0225</td>\n",
       "      <td>SEATTLE 2.1 ESE, WA US</td>\n",
       "      <td>2022-12-24</td>\n",
       "      <td>NaN</td>\n",
       "      <td>NaN</td>\n",
       "      <td>0.52</td>\n",
       "      <td>0.0</td>\n",
       "      <td>0.0</td>\n",
       "      <td>NaN</td>\n",
       "      <td>NaN</td>\n",
       "    </tr>\n",
       "    <tr>\n",
       "      <th>1656</th>\n",
       "      <td>US1WAKG0225</td>\n",
       "      <td>SEATTLE 2.1 ESE, WA US</td>\n",
       "      <td>2022-12-30</td>\n",
       "      <td>NaN</td>\n",
       "      <td>NaN</td>\n",
       "      <td>0.62</td>\n",
       "      <td>NaN</td>\n",
       "      <td>NaN</td>\n",
       "      <td>NaN</td>\n",
       "      <td>NaN</td>\n",
       "    </tr>\n",
       "  </tbody>\n",
       "</table>\n",
       "</div>"
      ],
      "text/plain": [
       "          STATION                    NAME       DATE  DAPR  MDPR  PRCP  SNOW  \\\n",
       "5     US1WAKG0225  SEATTLE 2.1 ESE, WA US 2018-01-06   NaN   NaN  0.57   NaN   \n",
       "20    US1WAKG0225  SEATTLE 2.1 ESE, WA US 2018-03-24   NaN   NaN  0.63   NaN   \n",
       "35    US1WAKG0225  SEATTLE 2.1 ESE, WA US 2018-04-08   NaN   NaN  0.55   NaN   \n",
       "41    US1WAKG0225  SEATTLE 2.1 ESE, WA US 2018-04-14   NaN   NaN  0.68   NaN   \n",
       "271   US1WAKG0225  SEATTLE 2.1 ESE, WA US 2018-12-10   NaN   NaN  0.56   NaN   \n",
       "296   US1WAKG0225  SEATTLE 2.1 ESE, WA US 2019-01-04   NaN   NaN  0.55   NaN   \n",
       "313   US1WAKG0225  SEATTLE 2.1 ESE, WA US 2019-01-23   NaN   NaN  0.70   NaN   \n",
       "331   US1WAKG0225  SEATTLE 2.1 ESE, WA US 2019-02-11   NaN   NaN  0.70   4.0   \n",
       "419   US1WAKG0225  SEATTLE 2.1 ESE, WA US 2019-05-17   NaN   NaN  0.60   NaN   \n",
       "472   US1WAKG0225  SEATTLE 2.1 ESE, WA US 2019-07-19   NaN   NaN  0.62   NaN   \n",
       "517   US1WAKG0225  SEATTLE 2.1 ESE, WA US 2019-09-08   NaN   NaN  0.61   NaN   \n",
       "519   US1WAKG0225  SEATTLE 2.1 ESE, WA US 2019-09-10   NaN   NaN  0.55   NaN   \n",
       "589   US1WAKG0225  SEATTLE 2.1 ESE, WA US 2019-11-19   NaN   NaN  0.73   NaN   \n",
       "658   US1WAKG0225  SEATTLE 2.1 ESE, WA US 2020-02-05   NaN   NaN  0.69   0.0   \n",
       "660   US1WAKG0225  SEATTLE 2.1 ESE, WA US 2020-02-07   NaN   NaN  0.58   NaN   \n",
       "678   US1WAKG0225  SEATTLE 2.1 ESE, WA US 2020-03-06   NaN   NaN  0.71   NaN   \n",
       "701   US1WAKG0225  SEATTLE 2.1 ESE, WA US 2020-03-29   NaN   NaN  0.64   NaN   \n",
       "750   US1WAKG0225  SEATTLE 2.1 ESE, WA US 2020-05-17   NaN   NaN  0.66   NaN   \n",
       "792   US1WAKG0225  SEATTLE 2.1 ESE, WA US 2020-06-28   NaN   NaN  0.54   NaN   \n",
       "889   US1WAKG0225  SEATTLE 2.1 ESE, WA US 2020-10-12   NaN   NaN  0.58   NaN   \n",
       "890   US1WAKG0225  SEATTLE 2.1 ESE, WA US 2020-10-13   NaN   NaN  0.61   NaN   \n",
       "925   US1WAKG0225  SEATTLE 2.1 ESE, WA US 2020-11-17   NaN   NaN  0.64   NaN   \n",
       "926   US1WAKG0225  SEATTLE 2.1 ESE, WA US 2020-11-18   NaN   NaN  0.55   NaN   \n",
       "947   US1WAKG0225  SEATTLE 2.1 ESE, WA US 2020-12-09   NaN   NaN  0.58   NaN   \n",
       "955   US1WAKG0225  SEATTLE 2.1 ESE, WA US 2020-12-17   NaN   NaN  0.52   NaN   \n",
       "959   US1WAKG0225  SEATTLE 2.1 ESE, WA US 2020-12-21   NaN   NaN  0.64   NaN   \n",
       "969   US1WAKG0225  SEATTLE 2.1 ESE, WA US 2020-12-31   NaN   NaN  0.50   NaN   \n",
       "973   US1WAKG0225  SEATTLE 2.1 ESE, WA US 2021-01-04   NaN   NaN  0.65   NaN   \n",
       "1002  US1WAKG0225  SEATTLE 2.1 ESE, WA US 2021-02-02   NaN   NaN  0.72   NaN   \n",
       "1015  US1WAKG0225  SEATTLE 2.1 ESE, WA US 2021-02-15   NaN   NaN  0.60   1.0   \n",
       "1069  US1WAKG0225  SEATTLE 2.1 ESE, WA US 2021-04-25   NaN   NaN  0.50   NaN   \n",
       "1112  US1WAKG0225  SEATTLE 2.1 ESE, WA US 2021-06-07   NaN   NaN  0.73   NaN   \n",
       "1119  US1WAKG0225  SEATTLE 2.1 ESE, WA US 2021-06-14   NaN   NaN  0.60   NaN   \n",
       "1206  US1WAKG0225  SEATTLE 2.1 ESE, WA US 2021-09-27   NaN   NaN  0.71   NaN   \n",
       "1231  US1WAKG0225  SEATTLE 2.1 ESE, WA US 2021-10-22   NaN   NaN  0.64   NaN   \n",
       "1244  US1WAKG0225  SEATTLE 2.1 ESE, WA US 2021-11-04   NaN   NaN  0.61   NaN   \n",
       "1245  US1WAKG0225  SEATTLE 2.1 ESE, WA US 2021-11-05   NaN   NaN  0.57   NaN   \n",
       "1247  US1WAKG0225  SEATTLE 2.1 ESE, WA US 2021-11-07   NaN   NaN  0.64   NaN   \n",
       "1254  US1WAKG0225  SEATTLE 2.1 ESE, WA US 2021-11-14   NaN   NaN  0.59   NaN   \n",
       "1255  US1WAKG0225  SEATTLE 2.1 ESE, WA US 2021-11-15   NaN   NaN  0.59   NaN   \n",
       "1259  US1WAKG0225  SEATTLE 2.1 ESE, WA US 2021-11-19   NaN   NaN  0.52   NaN   \n",
       "1263  US1WAKG0225  SEATTLE 2.1 ESE, WA US 2021-11-23   NaN   NaN  0.53   NaN   \n",
       "1266  US1WAKG0225  SEATTLE 2.1 ESE, WA US 2021-11-26   NaN   NaN  0.55   NaN   \n",
       "1288  US1WAKG0225  SEATTLE 2.1 ESE, WA US 2021-12-18   NaN   NaN  0.54   NaN   \n",
       "1293  US1WAKG0225  SEATTLE 2.1 ESE, WA US 2021-12-23   NaN   NaN  0.56   NaN   \n",
       "1309  US1WAKG0225  SEATTLE 2.1 ESE, WA US 2022-01-08   NaN   NaN  0.62   NaN   \n",
       "1312  US1WAKG0225  SEATTLE 2.1 ESE, WA US 2022-01-11   NaN   NaN  0.70   NaN   \n",
       "1313  US1WAKG0225  SEATTLE 2.1 ESE, WA US 2022-01-12   NaN   NaN  0.52   NaN   \n",
       "1359  US1WAKG0225  SEATTLE 2.1 ESE, WA US 2022-02-27   NaN   NaN  0.61   NaN   \n",
       "1375  US1WAKG0225  SEATTLE 2.1 ESE, WA US 2022-03-15   NaN   NaN  0.52   NaN   \n",
       "1419  US1WAKG0225  SEATTLE 2.1 ESE, WA US 2022-05-07   NaN   NaN  0.55   NaN   \n",
       "1428  US1WAKG0225  SEATTLE 2.1 ESE, WA US 2022-05-16   NaN   NaN  0.66   NaN   \n",
       "1448  US1WAKG0225  SEATTLE 2.1 ESE, WA US 2022-06-05   NaN   NaN  0.61   NaN   \n",
       "1593  US1WAKG0225  SEATTLE 2.1 ESE, WA US 2022-10-28   NaN   NaN  0.58   NaN   \n",
       "1622  US1WAKG0225  SEATTLE 2.1 ESE, WA US 2022-11-26   NaN   NaN  0.70   NaN   \n",
       "1629  US1WAKG0225  SEATTLE 2.1 ESE, WA US 2022-12-03   NaN   NaN  0.72   2.0   \n",
       "1650  US1WAKG0225  SEATTLE 2.1 ESE, WA US 2022-12-24   NaN   NaN  0.52   0.0   \n",
       "1656  US1WAKG0225  SEATTLE 2.1 ESE, WA US 2022-12-30   NaN   NaN  0.62   NaN   \n",
       "\n",
       "      SNWD  WESD  WESF  \n",
       "5      NaN   NaN   NaN  \n",
       "20     NaN   NaN   NaN  \n",
       "35     NaN   NaN   NaN  \n",
       "41     NaN   NaN   NaN  \n",
       "271    NaN   NaN   NaN  \n",
       "296    NaN   NaN   NaN  \n",
       "313    NaN   NaN   NaN  \n",
       "331    NaN   NaN   NaN  \n",
       "419    NaN   NaN   NaN  \n",
       "472    NaN   NaN   NaN  \n",
       "517    NaN   NaN   NaN  \n",
       "519    NaN   NaN   NaN  \n",
       "589    NaN   NaN   NaN  \n",
       "658    NaN   NaN   NaN  \n",
       "660    NaN   NaN   NaN  \n",
       "678    NaN   NaN   NaN  \n",
       "701    NaN   NaN   NaN  \n",
       "750    NaN   NaN   NaN  \n",
       "792    NaN   NaN   NaN  \n",
       "889    NaN   NaN   NaN  \n",
       "890    NaN   NaN   NaN  \n",
       "925    NaN   NaN   NaN  \n",
       "926    NaN   NaN   NaN  \n",
       "947    NaN   NaN   NaN  \n",
       "955    NaN   NaN   NaN  \n",
       "959    NaN   NaN   NaN  \n",
       "969    NaN   NaN   NaN  \n",
       "973    NaN   NaN   NaN  \n",
       "1002   NaN   NaN   NaN  \n",
       "1015   8.0   1.8   NaN  \n",
       "1069   NaN   NaN   NaN  \n",
       "1112   NaN   NaN   NaN  \n",
       "1119   NaN   NaN   NaN  \n",
       "1206   NaN   NaN   NaN  \n",
       "1231   NaN   NaN   NaN  \n",
       "1244   NaN   NaN   NaN  \n",
       "1245   NaN   NaN   NaN  \n",
       "1247   NaN   NaN   NaN  \n",
       "1254   NaN   NaN   NaN  \n",
       "1255   NaN   NaN   NaN  \n",
       "1259   NaN   NaN   NaN  \n",
       "1263   NaN   NaN   NaN  \n",
       "1266   NaN   NaN   NaN  \n",
       "1288   NaN   NaN   NaN  \n",
       "1293   NaN   NaN   NaN  \n",
       "1309   NaN   NaN   NaN  \n",
       "1312   NaN   NaN   NaN  \n",
       "1313   NaN   NaN   NaN  \n",
       "1359   NaN   NaN   NaN  \n",
       "1375   NaN   NaN   NaN  \n",
       "1419   NaN   NaN   NaN  \n",
       "1428   NaN   NaN   NaN  \n",
       "1448   NaN   NaN   NaN  \n",
       "1593   NaN   NaN   NaN  \n",
       "1622   NaN   NaN   NaN  \n",
       "1629   1.5   NaN   NaN  \n",
       "1650   0.0   NaN   NaN  \n",
       "1656   NaN   NaN   NaN  "
      ]
     },
     "execution_count": 61,
     "metadata": {},
     "output_type": "execute_result"
    }
   ],
   "source": [
    "df_seattle[(df_seattle['PRCP'] >= 0.5) & (df_seattle['PRCP'] <= 0.75)]"
   ]
  },
  {
   "cell_type": "code",
   "execution_count": 62,
   "id": "1b025c5a",
   "metadata": {},
   "outputs": [
    {
     "data": {
      "text/html": [
       "<div>\n",
       "<style scoped>\n",
       "    .dataframe tbody tr th:only-of-type {\n",
       "        vertical-align: middle;\n",
       "    }\n",
       "\n",
       "    .dataframe tbody tr th {\n",
       "        vertical-align: top;\n",
       "    }\n",
       "\n",
       "    .dataframe thead th {\n",
       "        text-align: right;\n",
       "    }\n",
       "</style>\n",
       "<table border=\"1\" class=\"dataframe\">\n",
       "  <thead>\n",
       "    <tr style=\"text-align: right;\">\n",
       "      <th></th>\n",
       "      <th>STATION</th>\n",
       "      <th>NAME</th>\n",
       "      <th>DATE</th>\n",
       "      <th>DAPR</th>\n",
       "      <th>MDPR</th>\n",
       "      <th>PRCP</th>\n",
       "      <th>SNOW</th>\n",
       "      <th>SNWD</th>\n",
       "    </tr>\n",
       "  </thead>\n",
       "  <tbody>\n",
       "    <tr>\n",
       "      <th>0</th>\n",
       "      <td>US1FLHB0027</td>\n",
       "      <td>LUTZ 1.3 SSE, FL US</td>\n",
       "      <td>2018-01-01</td>\n",
       "      <td>NaN</td>\n",
       "      <td>NaN</td>\n",
       "      <td>0.00</td>\n",
       "      <td>0.0</td>\n",
       "      <td>NaN</td>\n",
       "    </tr>\n",
       "    <tr>\n",
       "      <th>1</th>\n",
       "      <td>US1FLHB0027</td>\n",
       "      <td>LUTZ 1.3 SSE, FL US</td>\n",
       "      <td>2018-01-02</td>\n",
       "      <td>NaN</td>\n",
       "      <td>NaN</td>\n",
       "      <td>0.02</td>\n",
       "      <td>NaN</td>\n",
       "      <td>NaN</td>\n",
       "    </tr>\n",
       "    <tr>\n",
       "      <th>2</th>\n",
       "      <td>US1FLHB0027</td>\n",
       "      <td>LUTZ 1.3 SSE, FL US</td>\n",
       "      <td>2018-01-03</td>\n",
       "      <td>NaN</td>\n",
       "      <td>NaN</td>\n",
       "      <td>0.40</td>\n",
       "      <td>NaN</td>\n",
       "      <td>NaN</td>\n",
       "    </tr>\n",
       "    <tr>\n",
       "      <th>3</th>\n",
       "      <td>US1FLHB0027</td>\n",
       "      <td>LUTZ 1.3 SSE, FL US</td>\n",
       "      <td>2018-01-04</td>\n",
       "      <td>NaN</td>\n",
       "      <td>NaN</td>\n",
       "      <td>0.33</td>\n",
       "      <td>NaN</td>\n",
       "      <td>NaN</td>\n",
       "    </tr>\n",
       "    <tr>\n",
       "      <th>4</th>\n",
       "      <td>US1FLHB0027</td>\n",
       "      <td>LUTZ 1.3 SSE, FL US</td>\n",
       "      <td>2018-01-05</td>\n",
       "      <td>NaN</td>\n",
       "      <td>NaN</td>\n",
       "      <td>0.00</td>\n",
       "      <td>0.0</td>\n",
       "      <td>NaN</td>\n",
       "    </tr>\n",
       "  </tbody>\n",
       "</table>\n",
       "</div>"
      ],
      "text/plain": [
       "       STATION                 NAME       DATE  DAPR  MDPR  PRCP  SNOW  SNWD\n",
       "0  US1FLHB0027  LUTZ 1.3 SSE, FL US 2018-01-01   NaN   NaN  0.00   0.0   NaN\n",
       "1  US1FLHB0027  LUTZ 1.3 SSE, FL US 2018-01-02   NaN   NaN  0.02   NaN   NaN\n",
       "2  US1FLHB0027  LUTZ 1.3 SSE, FL US 2018-01-03   NaN   NaN  0.40   NaN   NaN\n",
       "3  US1FLHB0027  LUTZ 1.3 SSE, FL US 2018-01-04   NaN   NaN  0.33   NaN   NaN\n",
       "4  US1FLHB0027  LUTZ 1.3 SSE, FL US 2018-01-05   NaN   NaN  0.00   0.0   NaN"
      ]
     },
     "execution_count": 62,
     "metadata": {},
     "output_type": "execute_result"
    }
   ],
   "source": [
    "df_tampa.head()"
   ]
  },
  {
   "cell_type": "markdown",
   "id": "09a8e8c9",
   "metadata": {},
   "source": [
    "-> To filter the Tampa dataset for dates starting from January 1 2018, i created a boolean condition on the DATE column."
   ]
  },
  {
   "cell_type": "code",
   "execution_count": 63,
   "id": "4ca7ca7b",
   "metadata": {},
   "outputs": [
    {
     "data": {
      "text/plain": [
       "0        True\n",
       "1        True\n",
       "2        True\n",
       "3        True\n",
       "4        True\n",
       "         ... \n",
       "59077    True\n",
       "59078    True\n",
       "59079    True\n",
       "59080    True\n",
       "59081    True\n",
       "Name: DATE, Length: 59082, dtype: bool"
      ]
     },
     "execution_count": 63,
     "metadata": {},
     "output_type": "execute_result"
    }
   ],
   "source": [
    "df_tampa['DATE'] >= '2018-01-01'"
   ]
  },
  {
   "cell_type": "markdown",
   "id": "fd8d11f1",
   "metadata": {},
   "source": [
    "It is used to filter the data by date with a period that is greater than equal to jan 1 2028"
   ]
  },
  {
   "cell_type": "code",
   "execution_count": 64,
   "id": "33d1d37e",
   "metadata": {},
   "outputs": [],
   "source": [
    "df_tampa = df_tampa.loc[df_tampa['DATE'] >= '2018-01-01']"
   ]
  },
  {
   "cell_type": "code",
   "execution_count": 65,
   "id": "d926edb0",
   "metadata": {
    "scrolled": true
   },
   "outputs": [
    {
     "data": {
      "text/html": [
       "<div>\n",
       "<style scoped>\n",
       "    .dataframe tbody tr th:only-of-type {\n",
       "        vertical-align: middle;\n",
       "    }\n",
       "\n",
       "    .dataframe tbody tr th {\n",
       "        vertical-align: top;\n",
       "    }\n",
       "\n",
       "    .dataframe thead th {\n",
       "        text-align: right;\n",
       "    }\n",
       "</style>\n",
       "<table border=\"1\" class=\"dataframe\">\n",
       "  <thead>\n",
       "    <tr style=\"text-align: right;\">\n",
       "      <th></th>\n",
       "      <th>STATION</th>\n",
       "      <th>NAME</th>\n",
       "      <th>DATE</th>\n",
       "      <th>DAPR</th>\n",
       "      <th>MDPR</th>\n",
       "      <th>PRCP</th>\n",
       "      <th>SNOW</th>\n",
       "      <th>SNWD</th>\n",
       "    </tr>\n",
       "  </thead>\n",
       "  <tbody>\n",
       "    <tr>\n",
       "      <th>0</th>\n",
       "      <td>US1FLHB0027</td>\n",
       "      <td>LUTZ 1.3 SSE, FL US</td>\n",
       "      <td>2018-01-01</td>\n",
       "      <td>NaN</td>\n",
       "      <td>NaN</td>\n",
       "      <td>0.00</td>\n",
       "      <td>0.0</td>\n",
       "      <td>NaN</td>\n",
       "    </tr>\n",
       "    <tr>\n",
       "      <th>1</th>\n",
       "      <td>US1FLHB0027</td>\n",
       "      <td>LUTZ 1.3 SSE, FL US</td>\n",
       "      <td>2018-01-02</td>\n",
       "      <td>NaN</td>\n",
       "      <td>NaN</td>\n",
       "      <td>0.02</td>\n",
       "      <td>NaN</td>\n",
       "      <td>NaN</td>\n",
       "    </tr>\n",
       "    <tr>\n",
       "      <th>2</th>\n",
       "      <td>US1FLHB0027</td>\n",
       "      <td>LUTZ 1.3 SSE, FL US</td>\n",
       "      <td>2018-01-03</td>\n",
       "      <td>NaN</td>\n",
       "      <td>NaN</td>\n",
       "      <td>0.40</td>\n",
       "      <td>NaN</td>\n",
       "      <td>NaN</td>\n",
       "    </tr>\n",
       "    <tr>\n",
       "      <th>3</th>\n",
       "      <td>US1FLHB0027</td>\n",
       "      <td>LUTZ 1.3 SSE, FL US</td>\n",
       "      <td>2018-01-04</td>\n",
       "      <td>NaN</td>\n",
       "      <td>NaN</td>\n",
       "      <td>0.33</td>\n",
       "      <td>NaN</td>\n",
       "      <td>NaN</td>\n",
       "    </tr>\n",
       "    <tr>\n",
       "      <th>4</th>\n",
       "      <td>US1FLHB0027</td>\n",
       "      <td>LUTZ 1.3 SSE, FL US</td>\n",
       "      <td>2018-01-05</td>\n",
       "      <td>NaN</td>\n",
       "      <td>NaN</td>\n",
       "      <td>0.00</td>\n",
       "      <td>0.0</td>\n",
       "      <td>NaN</td>\n",
       "    </tr>\n",
       "  </tbody>\n",
       "</table>\n",
       "</div>"
      ],
      "text/plain": [
       "       STATION                 NAME       DATE  DAPR  MDPR  PRCP  SNOW  SNWD\n",
       "0  US1FLHB0027  LUTZ 1.3 SSE, FL US 2018-01-01   NaN   NaN  0.00   0.0   NaN\n",
       "1  US1FLHB0027  LUTZ 1.3 SSE, FL US 2018-01-02   NaN   NaN  0.02   NaN   NaN\n",
       "2  US1FLHB0027  LUTZ 1.3 SSE, FL US 2018-01-03   NaN   NaN  0.40   NaN   NaN\n",
       "3  US1FLHB0027  LUTZ 1.3 SSE, FL US 2018-01-04   NaN   NaN  0.33   NaN   NaN\n",
       "4  US1FLHB0027  LUTZ 1.3 SSE, FL US 2018-01-05   NaN   NaN  0.00   0.0   NaN"
      ]
     },
     "execution_count": 65,
     "metadata": {},
     "output_type": "execute_result"
    }
   ],
   "source": [
    "df_tampa.head()"
   ]
  },
  {
   "cell_type": "markdown",
   "id": "9899a98c",
   "metadata": {},
   "source": [
    "-> To analyse data for only one weather station in Tampa, we can filter the dataset using a condition on the NAME column."
   ]
  },
  {
   "cell_type": "code",
   "execution_count": 66,
   "id": "a4737784",
   "metadata": {},
   "outputs": [
    {
     "data": {
      "text/plain": [
       "0         True\n",
       "1         True\n",
       "2         True\n",
       "3         True\n",
       "4         True\n",
       "         ...  \n",
       "59077    False\n",
       "59078    False\n",
       "59079    False\n",
       "59080    False\n",
       "59081    False\n",
       "Name: NAME, Length: 59082, dtype: bool"
      ]
     },
     "execution_count": 66,
     "metadata": {},
     "output_type": "execute_result"
    }
   ],
   "source": [
    "df_tampa['NAME'] == 'LUTZ 1.3 SSE, FL US'"
   ]
  },
  {
   "cell_type": "markdown",
   "id": "9812a262",
   "metadata": {},
   "source": [
    "The df_tampa is filtered and all other stations data are removed. This is useful to analyze data for one particular station"
   ]
  },
  {
   "cell_type": "code",
   "execution_count": 67,
   "id": "cc0e567a",
   "metadata": {},
   "outputs": [],
   "source": [
    "df_tampa = df_tampa.loc[df_tampa['NAME'] == 'LUTZ 1.3 SSE, FL US']"
   ]
  },
  {
   "cell_type": "markdown",
   "id": "e387e21c",
   "metadata": {},
   "source": [
    "This creates a boolean series where each row is True if the NAME matches 'LUTZ 1.3 SSE, FL US' and False otherwise."
   ]
  },
  {
   "cell_type": "markdown",
   "id": "7a4139c8",
   "metadata": {},
   "source": [
    "-> In this step we are checking for the unique station in tampa dataset."
   ]
  },
  {
   "cell_type": "code",
   "execution_count": 68,
   "id": "ab4683b0",
   "metadata": {},
   "outputs": [
    {
     "data": {
      "text/plain": [
       "array(['US1FLHB0027'], dtype=object)"
      ]
     },
     "execution_count": 68,
     "metadata": {},
     "output_type": "execute_result"
    }
   ],
   "source": [
    "df_tampa['STATION'].unique()"
   ]
  },
  {
   "cell_type": "markdown",
   "id": "748d5d53",
   "metadata": {},
   "source": [
    "One unique station that is ['US1FLHB0027'] this is present in tampa STATION column."
   ]
  },
  {
   "cell_type": "code",
   "execution_count": 69,
   "id": "76abf86a",
   "metadata": {},
   "outputs": [
    {
     "name": "stdout",
     "output_type": "stream",
     "text": [
      "<class 'pandas.core.frame.DataFrame'>\n",
      "Int64Index: 1741 entries, 0 to 1740\n",
      "Data columns (total 8 columns):\n",
      " #   Column   Non-Null Count  Dtype         \n",
      "---  ------   --------------  -----         \n",
      " 0   STATION  1741 non-null   object        \n",
      " 1   NAME     1741 non-null   object        \n",
      " 2   DATE     1741 non-null   datetime64[ns]\n",
      " 3   DAPR     15 non-null     float64       \n",
      " 4   MDPR     15 non-null     float64       \n",
      " 5   PRCP     1725 non-null   float64       \n",
      " 6   SNOW     1068 non-null   float64       \n",
      " 7   SNWD     0 non-null      float64       \n",
      "dtypes: datetime64[ns](1), float64(5), object(2)\n",
      "memory usage: 122.4+ KB\n"
     ]
    }
   ],
   "source": [
    "df_tampa.info()"
   ]
  },
  {
   "cell_type": "code",
   "execution_count": 70,
   "id": "d1b29390",
   "metadata": {},
   "outputs": [
    {
     "data": {
      "text/html": [
       "<div>\n",
       "<style scoped>\n",
       "    .dataframe tbody tr th:only-of-type {\n",
       "        vertical-align: middle;\n",
       "    }\n",
       "\n",
       "    .dataframe tbody tr th {\n",
       "        vertical-align: top;\n",
       "    }\n",
       "\n",
       "    .dataframe thead th {\n",
       "        text-align: right;\n",
       "    }\n",
       "</style>\n",
       "<table border=\"1\" class=\"dataframe\">\n",
       "  <thead>\n",
       "    <tr style=\"text-align: right;\">\n",
       "      <th></th>\n",
       "      <th>STATION</th>\n",
       "      <th>NAME</th>\n",
       "      <th>DATE</th>\n",
       "      <th>DAPR</th>\n",
       "      <th>MDPR</th>\n",
       "      <th>PRCP</th>\n",
       "      <th>SNOW</th>\n",
       "      <th>SNWD</th>\n",
       "      <th>WESD</th>\n",
       "      <th>WESF</th>\n",
       "    </tr>\n",
       "  </thead>\n",
       "  <tbody>\n",
       "    <tr>\n",
       "      <th>0</th>\n",
       "      <td>US1WAKG0225</td>\n",
       "      <td>SEATTLE 2.1 ESE, WA US</td>\n",
       "      <td>2018-01-01</td>\n",
       "      <td>NaN</td>\n",
       "      <td>NaN</td>\n",
       "      <td>0.0</td>\n",
       "      <td>NaN</td>\n",
       "      <td>NaN</td>\n",
       "      <td>NaN</td>\n",
       "      <td>NaN</td>\n",
       "    </tr>\n",
       "    <tr>\n",
       "      <th>1</th>\n",
       "      <td>US1WAKG0225</td>\n",
       "      <td>SEATTLE 2.1 ESE, WA US</td>\n",
       "      <td>2018-01-02</td>\n",
       "      <td>NaN</td>\n",
       "      <td>NaN</td>\n",
       "      <td>0.0</td>\n",
       "      <td>NaN</td>\n",
       "      <td>NaN</td>\n",
       "      <td>NaN</td>\n",
       "      <td>NaN</td>\n",
       "    </tr>\n",
       "  </tbody>\n",
       "</table>\n",
       "</div>"
      ],
      "text/plain": [
       "       STATION                    NAME       DATE  DAPR  MDPR  PRCP  SNOW  \\\n",
       "0  US1WAKG0225  SEATTLE 2.1 ESE, WA US 2018-01-01   NaN   NaN   0.0   NaN   \n",
       "1  US1WAKG0225  SEATTLE 2.1 ESE, WA US 2018-01-02   NaN   NaN   0.0   NaN   \n",
       "\n",
       "   SNWD  WESD  WESF  \n",
       "0   NaN   NaN   NaN  \n",
       "1   NaN   NaN   NaN  "
      ]
     },
     "execution_count": 70,
     "metadata": {},
     "output_type": "execute_result"
    }
   ],
   "source": [
    "df_seattle.head(2)"
   ]
  },
  {
   "cell_type": "code",
   "execution_count": 71,
   "id": "74276bd7",
   "metadata": {},
   "outputs": [
    {
     "data": {
      "text/html": [
       "<div>\n",
       "<style scoped>\n",
       "    .dataframe tbody tr th:only-of-type {\n",
       "        vertical-align: middle;\n",
       "    }\n",
       "\n",
       "    .dataframe tbody tr th {\n",
       "        vertical-align: top;\n",
       "    }\n",
       "\n",
       "    .dataframe thead th {\n",
       "        text-align: right;\n",
       "    }\n",
       "</style>\n",
       "<table border=\"1\" class=\"dataframe\">\n",
       "  <thead>\n",
       "    <tr style=\"text-align: right;\">\n",
       "      <th></th>\n",
       "      <th>STATION</th>\n",
       "      <th>NAME</th>\n",
       "      <th>DATE</th>\n",
       "      <th>DAPR</th>\n",
       "      <th>MDPR</th>\n",
       "      <th>PRCP</th>\n",
       "      <th>SNOW</th>\n",
       "      <th>SNWD</th>\n",
       "    </tr>\n",
       "  </thead>\n",
       "  <tbody>\n",
       "    <tr>\n",
       "      <th>0</th>\n",
       "      <td>US1FLHB0027</td>\n",
       "      <td>LUTZ 1.3 SSE, FL US</td>\n",
       "      <td>2018-01-01</td>\n",
       "      <td>NaN</td>\n",
       "      <td>NaN</td>\n",
       "      <td>0.00</td>\n",
       "      <td>0.0</td>\n",
       "      <td>NaN</td>\n",
       "    </tr>\n",
       "    <tr>\n",
       "      <th>1</th>\n",
       "      <td>US1FLHB0027</td>\n",
       "      <td>LUTZ 1.3 SSE, FL US</td>\n",
       "      <td>2018-01-02</td>\n",
       "      <td>NaN</td>\n",
       "      <td>NaN</td>\n",
       "      <td>0.02</td>\n",
       "      <td>NaN</td>\n",
       "      <td>NaN</td>\n",
       "    </tr>\n",
       "  </tbody>\n",
       "</table>\n",
       "</div>"
      ],
      "text/plain": [
       "       STATION                 NAME       DATE  DAPR  MDPR  PRCP  SNOW  SNWD\n",
       "0  US1FLHB0027  LUTZ 1.3 SSE, FL US 2018-01-01   NaN   NaN  0.00   0.0   NaN\n",
       "1  US1FLHB0027  LUTZ 1.3 SSE, FL US 2018-01-02   NaN   NaN  0.02   NaN   NaN"
      ]
     },
     "execution_count": 71,
     "metadata": {},
     "output_type": "execute_result"
    }
   ],
   "source": [
    "df_tampa.head(2)"
   ]
  },
  {
   "cell_type": "markdown",
   "id": "3587f646",
   "metadata": {},
   "source": [
    "-> This merges the DATE and PRCP columns from both datasets. Using an outer join ensures that all dates from both Seattle and Tampa are included, and suffizes differentiate the precipitation values for each city."
   ]
  },
  {
   "cell_type": "code",
   "execution_count": 72,
   "id": "9b977500",
   "metadata": {},
   "outputs": [],
   "source": [
    "df = df_tampa[['DATE', 'PRCP']].merge(df_seattle[['DATE', 'PRCP']], on='DATE', how='outer', suffixes=('_tampa', '_seattle'))"
   ]
  },
  {
   "cell_type": "markdown",
   "id": "d79ff266",
   "metadata": {},
   "source": [
    "-> The shape attribute returns a tuple showing the rows and columns of the dataframe. "
   ]
  },
  {
   "cell_type": "code",
   "execution_count": 73,
   "id": "528ccf55",
   "metadata": {},
   "outputs": [
    {
     "data": {
      "text/plain": [
       "(1812, 3)"
      ]
     },
     "execution_count": 73,
     "metadata": {},
     "output_type": "execute_result"
    }
   ],
   "source": [
    "df.shape"
   ]
  },
  {
   "cell_type": "markdown",
   "id": "a19caee0",
   "metadata": {},
   "source": [
    "The first value is the number of rows, and the second value is the number of columns. This helps us quickly understand the size of the merged dataset. Which is 1812,3."
   ]
  },
  {
   "cell_type": "code",
   "execution_count": 74,
   "id": "d81ca8db",
   "metadata": {},
   "outputs": [
    {
     "data": {
      "text/html": [
       "<div>\n",
       "<style scoped>\n",
       "    .dataframe tbody tr th:only-of-type {\n",
       "        vertical-align: middle;\n",
       "    }\n",
       "\n",
       "    .dataframe tbody tr th {\n",
       "        vertical-align: top;\n",
       "    }\n",
       "\n",
       "    .dataframe thead th {\n",
       "        text-align: right;\n",
       "    }\n",
       "</style>\n",
       "<table border=\"1\" class=\"dataframe\">\n",
       "  <thead>\n",
       "    <tr style=\"text-align: right;\">\n",
       "      <th></th>\n",
       "      <th>DATE</th>\n",
       "      <th>PRCP_tampa</th>\n",
       "      <th>PRCP_seattle</th>\n",
       "    </tr>\n",
       "  </thead>\n",
       "  <tbody>\n",
       "    <tr>\n",
       "      <th>0</th>\n",
       "      <td>2018-01-01</td>\n",
       "      <td>0.00</td>\n",
       "      <td>0.00</td>\n",
       "    </tr>\n",
       "    <tr>\n",
       "      <th>1</th>\n",
       "      <td>2018-01-02</td>\n",
       "      <td>0.02</td>\n",
       "      <td>0.00</td>\n",
       "    </tr>\n",
       "    <tr>\n",
       "      <th>2</th>\n",
       "      <td>2018-01-03</td>\n",
       "      <td>0.40</td>\n",
       "      <td>0.00</td>\n",
       "    </tr>\n",
       "    <tr>\n",
       "      <th>3</th>\n",
       "      <td>2018-01-04</td>\n",
       "      <td>0.33</td>\n",
       "      <td>0.00</td>\n",
       "    </tr>\n",
       "    <tr>\n",
       "      <th>4</th>\n",
       "      <td>2018-01-05</td>\n",
       "      <td>0.00</td>\n",
       "      <td>0.25</td>\n",
       "    </tr>\n",
       "    <tr>\n",
       "      <th>...</th>\n",
       "      <td>...</td>\n",
       "      <td>...</td>\n",
       "      <td>...</td>\n",
       "    </tr>\n",
       "    <tr>\n",
       "      <th>1807</th>\n",
       "      <td>2022-07-21</td>\n",
       "      <td>NaN</td>\n",
       "      <td>0.00</td>\n",
       "    </tr>\n",
       "    <tr>\n",
       "      <th>1808</th>\n",
       "      <td>2022-07-29</td>\n",
       "      <td>NaN</td>\n",
       "      <td>0.00</td>\n",
       "    </tr>\n",
       "    <tr>\n",
       "      <th>1809</th>\n",
       "      <td>2022-08-23</td>\n",
       "      <td>NaN</td>\n",
       "      <td>0.00</td>\n",
       "    </tr>\n",
       "    <tr>\n",
       "      <th>1810</th>\n",
       "      <td>2022-11-27</td>\n",
       "      <td>NaN</td>\n",
       "      <td>0.26</td>\n",
       "    </tr>\n",
       "    <tr>\n",
       "      <th>1811</th>\n",
       "      <td>2022-12-21</td>\n",
       "      <td>NaN</td>\n",
       "      <td>0.31</td>\n",
       "    </tr>\n",
       "  </tbody>\n",
       "</table>\n",
       "<p>1812 rows × 3 columns</p>\n",
       "</div>"
      ],
      "text/plain": [
       "           DATE  PRCP_tampa  PRCP_seattle\n",
       "0    2018-01-01        0.00          0.00\n",
       "1    2018-01-02        0.02          0.00\n",
       "2    2018-01-03        0.40          0.00\n",
       "3    2018-01-04        0.33          0.00\n",
       "4    2018-01-05        0.00          0.25\n",
       "...         ...         ...           ...\n",
       "1807 2022-07-21         NaN          0.00\n",
       "1808 2022-07-29         NaN          0.00\n",
       "1809 2022-08-23         NaN          0.00\n",
       "1810 2022-11-27         NaN          0.26\n",
       "1811 2022-12-21         NaN          0.31\n",
       "\n",
       "[1812 rows x 3 columns]"
      ]
     },
     "execution_count": 74,
     "metadata": {},
     "output_type": "execute_result"
    }
   ],
   "source": [
    "df"
   ]
  },
  {
   "cell_type": "markdown",
   "id": "f71599d4",
   "metadata": {},
   "source": [
    "-> The melt() function is used to transform the dataframe from a wide format to a long format."
   ]
  },
  {
   "cell_type": "code",
   "execution_count": 75,
   "id": "932e619f",
   "metadata": {},
   "outputs": [],
   "source": [
    "df = pd.melt(df, id_vars='DATE', var_name='city', value_name='precipitation')"
   ]
  },
  {
   "cell_type": "markdown",
   "id": "4aa5bba0",
   "metadata": {},
   "source": [
    "Here, DATE is kept as the identifier column, while the other columns city and precipitation holding original column names and values."
   ]
  },
  {
   "cell_type": "code",
   "execution_count": 76,
   "id": "28774dfb",
   "metadata": {},
   "outputs": [
    {
     "data": {
      "text/html": [
       "<div>\n",
       "<style scoped>\n",
       "    .dataframe tbody tr th:only-of-type {\n",
       "        vertical-align: middle;\n",
       "    }\n",
       "\n",
       "    .dataframe tbody tr th {\n",
       "        vertical-align: top;\n",
       "    }\n",
       "\n",
       "    .dataframe thead th {\n",
       "        text-align: right;\n",
       "    }\n",
       "</style>\n",
       "<table border=\"1\" class=\"dataframe\">\n",
       "  <thead>\n",
       "    <tr style=\"text-align: right;\">\n",
       "      <th></th>\n",
       "      <th>DATE</th>\n",
       "      <th>city</th>\n",
       "      <th>precipitation</th>\n",
       "    </tr>\n",
       "  </thead>\n",
       "  <tbody>\n",
       "    <tr>\n",
       "      <th>0</th>\n",
       "      <td>2018-01-01</td>\n",
       "      <td>PRCP_tampa</td>\n",
       "      <td>0.00</td>\n",
       "    </tr>\n",
       "    <tr>\n",
       "      <th>1</th>\n",
       "      <td>2018-01-02</td>\n",
       "      <td>PRCP_tampa</td>\n",
       "      <td>0.02</td>\n",
       "    </tr>\n",
       "    <tr>\n",
       "      <th>2</th>\n",
       "      <td>2018-01-03</td>\n",
       "      <td>PRCP_tampa</td>\n",
       "      <td>0.40</td>\n",
       "    </tr>\n",
       "    <tr>\n",
       "      <th>3</th>\n",
       "      <td>2018-01-04</td>\n",
       "      <td>PRCP_tampa</td>\n",
       "      <td>0.33</td>\n",
       "    </tr>\n",
       "    <tr>\n",
       "      <th>4</th>\n",
       "      <td>2018-01-05</td>\n",
       "      <td>PRCP_tampa</td>\n",
       "      <td>0.00</td>\n",
       "    </tr>\n",
       "  </tbody>\n",
       "</table>\n",
       "</div>"
      ],
      "text/plain": [
       "        DATE        city  precipitation\n",
       "0 2018-01-01  PRCP_tampa           0.00\n",
       "1 2018-01-02  PRCP_tampa           0.02\n",
       "2 2018-01-03  PRCP_tampa           0.40\n",
       "3 2018-01-04  PRCP_tampa           0.33\n",
       "4 2018-01-05  PRCP_tampa           0.00"
      ]
     },
     "execution_count": 76,
     "metadata": {},
     "output_type": "execute_result"
    }
   ],
   "source": [
    "df.head()"
   ]
  },
  {
   "cell_type": "markdown",
   "id": "cd8e3ff1",
   "metadata": {},
   "source": [
    "Here i am checking the merged dataset, the starting observations contains the tampa dataset details."
   ]
  },
  {
   "cell_type": "code",
   "execution_count": 77,
   "id": "57deed18",
   "metadata": {
    "scrolled": true
   },
   "outputs": [
    {
     "data": {
      "text/html": [
       "<div>\n",
       "<style scoped>\n",
       "    .dataframe tbody tr th:only-of-type {\n",
       "        vertical-align: middle;\n",
       "    }\n",
       "\n",
       "    .dataframe tbody tr th {\n",
       "        vertical-align: top;\n",
       "    }\n",
       "\n",
       "    .dataframe thead th {\n",
       "        text-align: right;\n",
       "    }\n",
       "</style>\n",
       "<table border=\"1\" class=\"dataframe\">\n",
       "  <thead>\n",
       "    <tr style=\"text-align: right;\">\n",
       "      <th></th>\n",
       "      <th>DATE</th>\n",
       "      <th>city</th>\n",
       "      <th>precipitation</th>\n",
       "    </tr>\n",
       "  </thead>\n",
       "  <tbody>\n",
       "    <tr>\n",
       "      <th>3619</th>\n",
       "      <td>2022-07-21</td>\n",
       "      <td>PRCP_seattle</td>\n",
       "      <td>0.00</td>\n",
       "    </tr>\n",
       "    <tr>\n",
       "      <th>3620</th>\n",
       "      <td>2022-07-29</td>\n",
       "      <td>PRCP_seattle</td>\n",
       "      <td>0.00</td>\n",
       "    </tr>\n",
       "    <tr>\n",
       "      <th>3621</th>\n",
       "      <td>2022-08-23</td>\n",
       "      <td>PRCP_seattle</td>\n",
       "      <td>0.00</td>\n",
       "    </tr>\n",
       "    <tr>\n",
       "      <th>3622</th>\n",
       "      <td>2022-11-27</td>\n",
       "      <td>PRCP_seattle</td>\n",
       "      <td>0.26</td>\n",
       "    </tr>\n",
       "    <tr>\n",
       "      <th>3623</th>\n",
       "      <td>2022-12-21</td>\n",
       "      <td>PRCP_seattle</td>\n",
       "      <td>0.31</td>\n",
       "    </tr>\n",
       "  </tbody>\n",
       "</table>\n",
       "</div>"
      ],
      "text/plain": [
       "           DATE          city  precipitation\n",
       "3619 2022-07-21  PRCP_seattle           0.00\n",
       "3620 2022-07-29  PRCP_seattle           0.00\n",
       "3621 2022-08-23  PRCP_seattle           0.00\n",
       "3622 2022-11-27  PRCP_seattle           0.26\n",
       "3623 2022-12-21  PRCP_seattle           0.31"
      ]
     },
     "execution_count": 77,
     "metadata": {},
     "output_type": "execute_result"
    }
   ],
   "source": [
    "df.tail()"
   ]
  },
  {
   "cell_type": "markdown",
   "id": "1c7d4b34",
   "metadata": {},
   "source": [
    "The last observations contains the seattle dataset details."
   ]
  },
  {
   "cell_type": "markdown",
   "id": "0b621045",
   "metadata": {},
   "source": [
    "-> We can rename the names of the columns using the rename function here we are renaming the cities for tampa and seattle."
   ]
  },
  {
   "cell_type": "code",
   "execution_count": 78,
   "id": "2c2ef166",
   "metadata": {},
   "outputs": [],
   "source": [
    "df.loc[df['city'] == 'PRCP_x', 'city'] = 'SEA'\n",
    "df.loc[df['city'] == 'PRCP_y', 'city'] = 'TMP'"
   ]
  },
  {
   "cell_type": "markdown",
   "id": "40961d35",
   "metadata": {},
   "source": [
    "All entries that were 'PRCP_x' are changed to 'SEA' for Seattle, and all entries that were 'PRCP_y' are changed to 'TMP' for Tampa. This makes the dataset easier to understand during plots and analysis."
   ]
  },
  {
   "cell_type": "markdown",
   "id": "01177ff7",
   "metadata": {},
   "source": [
    "-> To make the city names easier to work with, we can convert all entries in the city column to lowercase. This avoids mismatches when plotting the data."
   ]
  },
  {
   "cell_type": "code",
   "execution_count": 79,
   "id": "86030b8d",
   "metadata": {},
   "outputs": [],
   "source": [
    "df['city'] = df['city'].str.lower()"
   ]
  },
  {
   "cell_type": "markdown",
   "id": "01ac7593",
   "metadata": {},
   "source": [
    "This line makes the .str.lower() method to the city column, converting all city names to lowercase"
   ]
  },
  {
   "cell_type": "code",
   "execution_count": 80,
   "id": "72017861",
   "metadata": {},
   "outputs": [
    {
     "data": {
      "text/html": [
       "<div>\n",
       "<style scoped>\n",
       "    .dataframe tbody tr th:only-of-type {\n",
       "        vertical-align: middle;\n",
       "    }\n",
       "\n",
       "    .dataframe tbody tr th {\n",
       "        vertical-align: top;\n",
       "    }\n",
       "\n",
       "    .dataframe thead th {\n",
       "        text-align: right;\n",
       "    }\n",
       "</style>\n",
       "<table border=\"1\" class=\"dataframe\">\n",
       "  <thead>\n",
       "    <tr style=\"text-align: right;\">\n",
       "      <th></th>\n",
       "      <th>DATE</th>\n",
       "      <th>city</th>\n",
       "      <th>precipitation</th>\n",
       "    </tr>\n",
       "  </thead>\n",
       "  <tbody>\n",
       "    <tr>\n",
       "      <th>0</th>\n",
       "      <td>2018-01-01</td>\n",
       "      <td>prcp_tampa</td>\n",
       "      <td>0.00</td>\n",
       "    </tr>\n",
       "    <tr>\n",
       "      <th>1</th>\n",
       "      <td>2018-01-02</td>\n",
       "      <td>prcp_tampa</td>\n",
       "      <td>0.02</td>\n",
       "    </tr>\n",
       "    <tr>\n",
       "      <th>2</th>\n",
       "      <td>2018-01-03</td>\n",
       "      <td>prcp_tampa</td>\n",
       "      <td>0.40</td>\n",
       "    </tr>\n",
       "    <tr>\n",
       "      <th>3</th>\n",
       "      <td>2018-01-04</td>\n",
       "      <td>prcp_tampa</td>\n",
       "      <td>0.33</td>\n",
       "    </tr>\n",
       "    <tr>\n",
       "      <th>4</th>\n",
       "      <td>2018-01-05</td>\n",
       "      <td>prcp_tampa</td>\n",
       "      <td>0.00</td>\n",
       "    </tr>\n",
       "  </tbody>\n",
       "</table>\n",
       "</div>"
      ],
      "text/plain": [
       "        DATE        city  precipitation\n",
       "0 2018-01-01  prcp_tampa           0.00\n",
       "1 2018-01-02  prcp_tampa           0.02\n",
       "2 2018-01-03  prcp_tampa           0.40\n",
       "3 2018-01-04  prcp_tampa           0.33\n",
       "4 2018-01-05  prcp_tampa           0.00"
      ]
     },
     "execution_count": 80,
     "metadata": {},
     "output_type": "execute_result"
    }
   ],
   "source": [
    "df.head()"
   ]
  },
  {
   "cell_type": "code",
   "execution_count": 81,
   "id": "5ae1773a",
   "metadata": {},
   "outputs": [
    {
     "data": {
      "text/html": [
       "<div>\n",
       "<style scoped>\n",
       "    .dataframe tbody tr th:only-of-type {\n",
       "        vertical-align: middle;\n",
       "    }\n",
       "\n",
       "    .dataframe tbody tr th {\n",
       "        vertical-align: top;\n",
       "    }\n",
       "\n",
       "    .dataframe thead th {\n",
       "        text-align: right;\n",
       "    }\n",
       "</style>\n",
       "<table border=\"1\" class=\"dataframe\">\n",
       "  <thead>\n",
       "    <tr style=\"text-align: right;\">\n",
       "      <th></th>\n",
       "      <th>DATE</th>\n",
       "      <th>city</th>\n",
       "      <th>precipitation</th>\n",
       "    </tr>\n",
       "  </thead>\n",
       "  <tbody>\n",
       "    <tr>\n",
       "      <th>3619</th>\n",
       "      <td>2022-07-21</td>\n",
       "      <td>prcp_seattle</td>\n",
       "      <td>0.00</td>\n",
       "    </tr>\n",
       "    <tr>\n",
       "      <th>3620</th>\n",
       "      <td>2022-07-29</td>\n",
       "      <td>prcp_seattle</td>\n",
       "      <td>0.00</td>\n",
       "    </tr>\n",
       "    <tr>\n",
       "      <th>3621</th>\n",
       "      <td>2022-08-23</td>\n",
       "      <td>prcp_seattle</td>\n",
       "      <td>0.00</td>\n",
       "    </tr>\n",
       "    <tr>\n",
       "      <th>3622</th>\n",
       "      <td>2022-11-27</td>\n",
       "      <td>prcp_seattle</td>\n",
       "      <td>0.26</td>\n",
       "    </tr>\n",
       "    <tr>\n",
       "      <th>3623</th>\n",
       "      <td>2022-12-21</td>\n",
       "      <td>prcp_seattle</td>\n",
       "      <td>0.31</td>\n",
       "    </tr>\n",
       "  </tbody>\n",
       "</table>\n",
       "</div>"
      ],
      "text/plain": [
       "           DATE          city  precipitation\n",
       "3619 2022-07-21  prcp_seattle           0.00\n",
       "3620 2022-07-29  prcp_seattle           0.00\n",
       "3621 2022-08-23  prcp_seattle           0.00\n",
       "3622 2022-11-27  prcp_seattle           0.26\n",
       "3623 2022-12-21  prcp_seattle           0.31"
      ]
     },
     "execution_count": 81,
     "metadata": {},
     "output_type": "execute_result"
    }
   ],
   "source": [
    "df.tail()"
   ]
  },
  {
   "cell_type": "markdown",
   "id": "9c8d0204",
   "metadata": {},
   "source": [
    "-> We can use rename to turn the uppercase to lowercase also using the same rename with curly braces"
   ]
  },
  {
   "cell_type": "code",
   "execution_count": 82,
   "id": "37d4c7fa",
   "metadata": {},
   "outputs": [],
   "source": [
    "df = df.rename(columns={'DATE': 'date'})"
   ]
  },
  {
   "cell_type": "markdown",
   "id": "14e7c9d6",
   "metadata": {},
   "source": [
    "This line renames the DATE column to date to avoid errors caused by case sensitivity."
   ]
  },
  {
   "cell_type": "code",
   "execution_count": 83,
   "id": "decb4f07",
   "metadata": {},
   "outputs": [
    {
     "data": {
      "text/html": [
       "<div>\n",
       "<style scoped>\n",
       "    .dataframe tbody tr th:only-of-type {\n",
       "        vertical-align: middle;\n",
       "    }\n",
       "\n",
       "    .dataframe tbody tr th {\n",
       "        vertical-align: top;\n",
       "    }\n",
       "\n",
       "    .dataframe thead th {\n",
       "        text-align: right;\n",
       "    }\n",
       "</style>\n",
       "<table border=\"1\" class=\"dataframe\">\n",
       "  <thead>\n",
       "    <tr style=\"text-align: right;\">\n",
       "      <th></th>\n",
       "      <th>date</th>\n",
       "      <th>city</th>\n",
       "      <th>precipitation</th>\n",
       "    </tr>\n",
       "  </thead>\n",
       "  <tbody>\n",
       "    <tr>\n",
       "      <th>0</th>\n",
       "      <td>2018-01-01</td>\n",
       "      <td>prcp_tampa</td>\n",
       "      <td>0.00</td>\n",
       "    </tr>\n",
       "    <tr>\n",
       "      <th>1</th>\n",
       "      <td>2018-01-02</td>\n",
       "      <td>prcp_tampa</td>\n",
       "      <td>0.02</td>\n",
       "    </tr>\n",
       "    <tr>\n",
       "      <th>2</th>\n",
       "      <td>2018-01-03</td>\n",
       "      <td>prcp_tampa</td>\n",
       "      <td>0.40</td>\n",
       "    </tr>\n",
       "    <tr>\n",
       "      <th>3</th>\n",
       "      <td>2018-01-04</td>\n",
       "      <td>prcp_tampa</td>\n",
       "      <td>0.33</td>\n",
       "    </tr>\n",
       "    <tr>\n",
       "      <th>4</th>\n",
       "      <td>2018-01-05</td>\n",
       "      <td>prcp_tampa</td>\n",
       "      <td>0.00</td>\n",
       "    </tr>\n",
       "  </tbody>\n",
       "</table>\n",
       "</div>"
      ],
      "text/plain": [
       "        date        city  precipitation\n",
       "0 2018-01-01  prcp_tampa           0.00\n",
       "1 2018-01-02  prcp_tampa           0.02\n",
       "2 2018-01-03  prcp_tampa           0.40\n",
       "3 2018-01-04  prcp_tampa           0.33\n",
       "4 2018-01-05  prcp_tampa           0.00"
      ]
     },
     "execution_count": 83,
     "metadata": {},
     "output_type": "execute_result"
    }
   ],
   "source": [
    "df.head()"
   ]
  },
  {
   "cell_type": "markdown",
   "id": "b5acf4ea",
   "metadata": {},
   "source": [
    "It is important to determine the non-null values so we use the notna to check the non-null values in each column of our dataset"
   ]
  },
  {
   "cell_type": "code",
   "execution_count": 84,
   "id": "38f2460a",
   "metadata": {},
   "outputs": [
    {
     "name": "stdout",
     "output_type": "stream",
     "text": [
      "<class 'pandas.core.frame.DataFrame'>\n",
      "RangeIndex: 3624 entries, 0 to 3623\n",
      "Data columns (total 3 columns):\n",
      " #   Column         Non-Null Count  Dtype         \n",
      "---  ------         --------------  -----         \n",
      " 0   date           3624 non-null   datetime64[ns]\n",
      " 1   city           3624 non-null   object        \n",
      " 2   precipitation  3361 non-null   float64       \n",
      "dtypes: datetime64[ns](1), float64(1), object(1)\n",
      "memory usage: 85.1+ KB\n"
     ]
    }
   ],
   "source": [
    "df.info()"
   ]
  },
  {
   "cell_type": "markdown",
   "id": "45b14d52",
   "metadata": {},
   "source": [
    "-> Before performing analysis, its important to check how many non missing values exist in each column."
   ]
  },
  {
   "cell_type": "code",
   "execution_count": 85,
   "id": "d6cdeb5d",
   "metadata": {},
   "outputs": [
    {
     "data": {
      "text/plain": [
       "date             3624\n",
       "city             3624\n",
       "precipitation    3361\n",
       "dtype: int64"
      ]
     },
     "execution_count": 85,
     "metadata": {},
     "output_type": "execute_result"
    }
   ],
   "source": [
    "df.notna().sum()"
   ]
  },
  {
   "cell_type": "markdown",
   "id": "6c49f200",
   "metadata": {},
   "source": [
    "This line gives the count of non-NA, non-missing values in each column of the dataframe."
   ]
  },
  {
   "cell_type": "markdown",
   "id": "3fb520fb",
   "metadata": {},
   "source": [
    "-> To identify any missing data in our dataset, I checked which values are non null values."
   ]
  },
  {
   "cell_type": "code",
   "execution_count": 86,
   "id": "48ec7d43",
   "metadata": {
    "scrolled": true
   },
   "outputs": [
    {
     "data": {
      "text/plain": [
       "date               0\n",
       "city               0\n",
       "precipitation    263\n",
       "dtype: int64"
      ]
     },
     "execution_count": 86,
     "metadata": {},
     "output_type": "execute_result"
    }
   ],
   "source": [
    "df.isna().sum()"
   ]
  },
  {
   "cell_type": "markdown",
   "id": "51a1e83c",
   "metadata": {},
   "source": [
    "This line gives the count of missing values in each column of the dataframe."
   ]
  },
  {
   "cell_type": "markdown",
   "id": "f579a3e8",
   "metadata": {},
   "source": [
    "-> It is used to specifically check particular city columns that has non null values"
   ]
  },
  {
   "cell_type": "code",
   "execution_count": 87,
   "id": "047f706c",
   "metadata": {},
   "outputs": [
    {
     "data": {
      "text/plain": [
       "0"
      ]
     },
     "execution_count": 87,
     "metadata": {},
     "output_type": "execute_result"
    }
   ],
   "source": [
    "df.loc[df['city'] == 'SEA', 'precipitation'].isna().sum()"
   ]
  },
  {
   "cell_type": "code",
   "execution_count": 88,
   "id": "99b852d4",
   "metadata": {},
   "outputs": [
    {
     "data": {
      "text/plain": [
       "0"
      ]
     },
     "execution_count": 88,
     "metadata": {},
     "output_type": "execute_result"
    }
   ],
   "source": [
    "df.loc[df['city'] == 'TMP', 'precipitation'].isna().sum()"
   ]
  },
  {
   "cell_type": "markdown",
   "id": "dde39915",
   "metadata": {},
   "source": [
    "Which is giving 0 in this case for both cities."
   ]
  },
  {
   "cell_type": "markdown",
   "id": "194f78a6",
   "metadata": {},
   "source": [
    "-> It’s useful to know the day number within each year for every date."
   ]
  },
  {
   "cell_type": "code",
   "execution_count": 89,
   "id": "c6490533",
   "metadata": {},
   "outputs": [],
   "source": [
    "df['day_of_year'] = pd.DatetimeIndex(df['date']).day_of_year"
   ]
  },
  {
   "cell_type": "markdown",
   "id": "468ae1f3",
   "metadata": {},
   "source": [
    "This line creates a new column day_of_year that represents the day number for each date in the date column."
   ]
  },
  {
   "cell_type": "code",
   "execution_count": 90,
   "id": "d229fbfd",
   "metadata": {},
   "outputs": [
    {
     "data": {
      "text/html": [
       "<div>\n",
       "<style scoped>\n",
       "    .dataframe tbody tr th:only-of-type {\n",
       "        vertical-align: middle;\n",
       "    }\n",
       "\n",
       "    .dataframe tbody tr th {\n",
       "        vertical-align: top;\n",
       "    }\n",
       "\n",
       "    .dataframe thead th {\n",
       "        text-align: right;\n",
       "    }\n",
       "</style>\n",
       "<table border=\"1\" class=\"dataframe\">\n",
       "  <thead>\n",
       "    <tr style=\"text-align: right;\">\n",
       "      <th></th>\n",
       "      <th>date</th>\n",
       "      <th>city</th>\n",
       "      <th>precipitation</th>\n",
       "      <th>day_of_year</th>\n",
       "    </tr>\n",
       "  </thead>\n",
       "  <tbody>\n",
       "    <tr>\n",
       "      <th>0</th>\n",
       "      <td>2018-01-01</td>\n",
       "      <td>prcp_tampa</td>\n",
       "      <td>0.00</td>\n",
       "      <td>1</td>\n",
       "    </tr>\n",
       "    <tr>\n",
       "      <th>1</th>\n",
       "      <td>2018-01-02</td>\n",
       "      <td>prcp_tampa</td>\n",
       "      <td>0.02</td>\n",
       "      <td>2</td>\n",
       "    </tr>\n",
       "    <tr>\n",
       "      <th>2</th>\n",
       "      <td>2018-01-03</td>\n",
       "      <td>prcp_tampa</td>\n",
       "      <td>0.40</td>\n",
       "      <td>3</td>\n",
       "    </tr>\n",
       "    <tr>\n",
       "      <th>3</th>\n",
       "      <td>2018-01-04</td>\n",
       "      <td>prcp_tampa</td>\n",
       "      <td>0.33</td>\n",
       "      <td>4</td>\n",
       "    </tr>\n",
       "    <tr>\n",
       "      <th>4</th>\n",
       "      <td>2018-01-05</td>\n",
       "      <td>prcp_tampa</td>\n",
       "      <td>0.00</td>\n",
       "      <td>5</td>\n",
       "    </tr>\n",
       "    <tr>\n",
       "      <th>5</th>\n",
       "      <td>2018-01-06</td>\n",
       "      <td>prcp_tampa</td>\n",
       "      <td>0.00</td>\n",
       "      <td>6</td>\n",
       "    </tr>\n",
       "    <tr>\n",
       "      <th>6</th>\n",
       "      <td>2018-01-07</td>\n",
       "      <td>prcp_tampa</td>\n",
       "      <td>0.00</td>\n",
       "      <td>7</td>\n",
       "    </tr>\n",
       "    <tr>\n",
       "      <th>7</th>\n",
       "      <td>2018-01-08</td>\n",
       "      <td>prcp_tampa</td>\n",
       "      <td>0.00</td>\n",
       "      <td>8</td>\n",
       "    </tr>\n",
       "    <tr>\n",
       "      <th>8</th>\n",
       "      <td>2018-01-12</td>\n",
       "      <td>prcp_tampa</td>\n",
       "      <td>NaN</td>\n",
       "      <td>12</td>\n",
       "    </tr>\n",
       "    <tr>\n",
       "      <th>9</th>\n",
       "      <td>2018-01-13</td>\n",
       "      <td>prcp_tampa</td>\n",
       "      <td>0.05</td>\n",
       "      <td>13</td>\n",
       "    </tr>\n",
       "  </tbody>\n",
       "</table>\n",
       "</div>"
      ],
      "text/plain": [
       "        date        city  precipitation  day_of_year\n",
       "0 2018-01-01  prcp_tampa           0.00            1\n",
       "1 2018-01-02  prcp_tampa           0.02            2\n",
       "2 2018-01-03  prcp_tampa           0.40            3\n",
       "3 2018-01-04  prcp_tampa           0.33            4\n",
       "4 2018-01-05  prcp_tampa           0.00            5\n",
       "5 2018-01-06  prcp_tampa           0.00            6\n",
       "6 2018-01-07  prcp_tampa           0.00            7\n",
       "7 2018-01-08  prcp_tampa           0.00            8\n",
       "8 2018-01-12  prcp_tampa            NaN           12\n",
       "9 2018-01-13  prcp_tampa           0.05           13"
      ]
     },
     "execution_count": 90,
     "metadata": {},
     "output_type": "execute_result"
    }
   ],
   "source": [
    "df.head(10)"
   ]
  },
  {
   "cell_type": "markdown",
   "id": "ae1f1070",
   "metadata": {},
   "source": [
    "-> It does the mean precipitation for each day from all the years, shows the average perecipitation for seattle throughout the year"
   ]
  },
  {
   "cell_type": "code",
   "execution_count": 91,
   "id": "c8eecedf",
   "metadata": {},
   "outputs": [],
   "source": [
    "mean_day_precipitation = df.loc[\n",
    "    df['city'] == 'prcp_seattle',  \n",
    "    ['precipitation', 'day_of_year']\n",
    "].groupby('day_of_year').mean().reset_index()"
   ]
  },
  {
   "cell_type": "markdown",
   "id": "3360f207",
   "metadata": {},
   "source": [
    "The dataframe shows the average precipitation for each day of the year in Seattle."
   ]
  },
  {
   "cell_type": "markdown",
   "id": "a02ba72b",
   "metadata": {},
   "source": [
    "-> Here we are setting up the figure size to make the plot wider and easier to read. Using plt.figure ensures that the graph details are clearly visible."
   ]
  },
  {
   "cell_type": "code",
   "execution_count": 92,
   "id": "7bd721af",
   "metadata": {},
   "outputs": [
    {
     "data": {
      "text/plain": [
       "<AxesSubplot:xlabel='day_of_year', ylabel='precipitation'>"
      ]
     },
     "execution_count": 92,
     "metadata": {},
     "output_type": "execute_result"
    },
    {
     "data": {
      "image/png": "[encoded data removed]",
      "text/plain": [
       "<Figure size 432x288 with 1 Axes>"
      ]
     },
     "metadata": {},
     "output_type": "display_data"
    }
   ],
   "source": [
    "sns.lineplot(data=mean_day_precipitation, x='day_of_year', y='precipitation')"
   ]
  },
  {
   "cell_type": "markdown",
   "id": "4026de3b",
   "metadata": {},
   "source": [
    "The grpah shows the the day_of_year and precipitation in x,y label, showing the lines are very tall indicating the precipitation both in the starting and ending day_of_the_year."
   ]
  },
  {
   "cell_type": "markdown",
   "id": "28bc4367",
   "metadata": {},
   "source": [
    "-> By using reset_index(), we convert day_of_year from an index back into a regular column."
   ]
  },
  {
   "cell_type": "code",
   "execution_count": 93,
   "id": "7ff9695a",
   "metadata": {},
   "outputs": [
    {
     "name": "stdout",
     "output_type": "stream",
     "text": [
      "   index  day_of_year  precipitation\n",
      "0      0            1       0.052000\n",
      "1      1            2       0.150000\n",
      "2      2            3       0.836000\n",
      "3      3            4       0.370000\n",
      "4      4            5       0.246667\n"
     ]
    }
   ],
   "source": [
    "mean_day_precipitation = mean_day_precipitation.reset_index()\n",
    "print(mean_day_precipitation.head())"
   ]
  },
  {
   "cell_type": "markdown",
   "id": "51a0c25b",
   "metadata": {},
   "source": [
    "Now we can see the index, day_of_year and precipitation columns with the mean values for precipitation column."
   ]
  },
  {
   "cell_type": "code",
   "execution_count": 94,
   "id": "1074857a",
   "metadata": {},
   "outputs": [
    {
     "name": "stdout",
     "output_type": "stream",
     "text": [
      "['prcp_tampa' 'prcp_seattle']\n"
     ]
    }
   ],
   "source": [
    "print(df['city'].unique())\n"
   ]
  },
  {
   "cell_type": "markdown",
   "id": "1b245fee",
   "metadata": {},
   "source": [
    "-> This plots the line plot chart of seattles average daily precipitation throughout the year, labels to set the names of x and y axis and the tick_params used to customize the appearance of ticks on the access."
   ]
  },
  {
   "cell_type": "code",
   "execution_count": 95,
   "id": "f57e07df",
   "metadata": {
    "scrolled": true
   },
   "outputs": [
    {
     "data": {
      "image/png": "[encoded data removed]",
      "text/plain": [
       "<Figure size 1440x360 with 1 Axes>"
      ]
     },
     "metadata": {},
     "output_type": "display_data"
    }
   ],
   "source": [
    "plt.figure(figsize=(20, 5))\n",
    "plt.plot(mean_day_precipitation['day_of_year'], mean_day_precipitation['precipitation'])\n",
    "plt.xlabel('Day of the year', fontsize=18)\n",
    "plt.ylabel('Mean precipitation (inches)', fontsize=18)\n",
    "plt.tick_params(labelsize=15)\n",
    "plt.show()"
   ]
  },
  {
   "cell_type": "markdown",
   "id": "c38bb328",
   "metadata": {},
   "source": [
    "This gives the rows indices that have the nan values in precipitation."
   ]
  },
  {
   "cell_type": "code",
   "execution_count": 96,
   "id": "533484ad",
   "metadata": {},
   "outputs": [],
   "source": [
    "indices = np.where(df['precipitation'].isna() == True)[0]"
   ]
  },
  {
   "cell_type": "code",
   "execution_count": 97,
   "id": "f8bc4b60",
   "metadata": {
    "scrolled": true
   },
   "outputs": [
    {
     "data": {
      "text/plain": [
       "array([   8,  122,  185,  348,  483,  632,  737,  974,  975, 1027, 1091,\n",
       "       1477, 1535, 1613, 1649, 1731, 1741, 1742, 1743, 1744, 1745, 1746,\n",
       "       1747, 1748, 1749, 1750, 1751, 1752, 1753, 1754, 1755, 1756, 1757,\n",
       "       1758, 1759, 1760, 1761, 1762, 1763, 1764, 1765, 1766, 1767, 1768,\n",
       "       1769, 1770, 1771, 1772, 1773, 1774, 1775, 1776, 1777, 1778, 1779,\n",
       "       1780, 1781, 1782, 1783, 1784, 1785, 1786, 1787, 1788, 1789, 1790,\n",
       "       1791, 1792, 1793, 1794, 1795, 1796, 1797, 1798, 1799, 1800, 1801,\n",
       "       1802, 1803, 1804, 1805, 1806, 1807, 1808, 1809, 1810, 1811, 1820,\n",
       "       1821, 1822, 1823, 1824, 1825, 1826, 1827, 1828, 1829, 1830, 1831,\n",
       "       1832, 1833, 1834, 1835, 1836, 1837, 1838, 1839, 1840, 1841, 1842,\n",
       "       1843, 1844, 1845, 1846, 1847, 1848, 1849, 1850, 1851, 1852, 1853,\n",
       "       1854, 1855, 1856, 1857, 1858, 1859, 1860, 1861, 1862, 1863, 1864,\n",
       "       1865, 1866, 1867, 1868, 1869, 1870, 1871, 1872, 1873, 1874, 1875,\n",
       "       1876, 1877, 1878, 2056, 2097, 2098, 2099, 2100, 2101, 2102, 2103,\n",
       "       2104, 2105, 2106, 2174, 2175, 2204, 2205, 2206, 2207, 2208, 2209,\n",
       "       2244, 2245, 2306, 2307, 2312, 2313, 2314, 2315, 2316, 2317, 2318,\n",
       "       2319, 2320, 2321, 2361, 2362, 2363, 2364, 2365, 2366, 2367, 2460,\n",
       "       2461, 2462, 2463, 2464, 2465, 2466, 2467, 2501, 2502, 2503, 2544,\n",
       "       2545, 2546, 2547, 2548, 2549, 2550, 2551, 2552, 2755, 2756, 2757,\n",
       "       2758, 2759, 2760, 2761, 2762, 2763, 2764, 2907, 2908, 2910, 2911,\n",
       "       2912, 2924, 2925, 2928, 2929, 2930, 2932, 2933, 2934, 2935, 2936,\n",
       "       2937, 3054, 3055, 3056, 3068, 3069, 3070, 3071, 3072, 3073, 3074,\n",
       "       3075, 3076, 3077, 3078, 3079, 3080, 3081, 3082, 3083, 3084, 3283,\n",
       "       3284, 3285, 3286, 3287, 3288, 3571, 3600, 3604, 3605, 3608],\n",
       "      dtype=int64)"
      ]
     },
     "execution_count": 97,
     "metadata": {},
     "output_type": "execute_result"
    }
   ],
   "source": [
    "indices"
   ]
  },
  {
   "cell_type": "markdown",
   "id": "05d394e0",
   "metadata": {},
   "source": [
    "## HANDLING MISSING VALUES\n",
    "\n",
    "->This fills the missing values in the precipitation column by replacing them with the mean precipitation for the specific day of the year."
   ]
  },
  {
   "cell_type": "code",
   "execution_count": 98,
   "id": "c99a9b3b",
   "metadata": {},
   "outputs": [],
   "source": [
    "df['precipitation'] = df['precipitation'].fillna(\n",
    "    df['day_of_year'].map(mean_day_precipitation['precipitation'])\n",
    ")"
   ]
  },
  {
   "cell_type": "markdown",
   "id": "a1404607",
   "metadata": {},
   "source": [
    "This ensures that our dataset has no missing values while keeping the data intact."
   ]
  },
  {
   "cell_type": "markdown",
   "id": "bc2608e6",
   "metadata": {},
   "source": [
    "-> In this step, we iterate over the indices of missing precipitation values in the dataset."
   ]
  },
  {
   "cell_type": "code",
   "execution_count": 99,
   "id": "c1ce8253",
   "metadata": {},
   "outputs": [],
   "source": [
    "for index in indices:\n",
    "    day = df.loc[index, 'day_of_year']\n",
    "    if day in mean_day_precipitation.index:\n",
    "        df.loc[index, 'precipitation'] = mean_day_precipitation.loc[day, 'precipitation']"
   ]
  },
  {
   "cell_type": "markdown",
   "id": "2b085538",
   "metadata": {},
   "source": [
    "This ensures that all missing precipitation values are appropriately filled."
   ]
  },
  {
   "cell_type": "code",
   "execution_count": 100,
   "id": "a39b2ee4",
   "metadata": {},
   "outputs": [
    {
     "data": {
      "text/plain": [
       "date             0\n",
       "city             0\n",
       "precipitation    0\n",
       "day_of_year      0\n",
       "dtype: int64"
      ]
     },
     "execution_count": 100,
     "metadata": {},
     "output_type": "execute_result"
    }
   ],
   "source": [
    "df.isna().sum()"
   ]
  },
  {
   "cell_type": "markdown",
   "id": "6616ab02",
   "metadata": {},
   "source": [
    "-> Here this block calculates the average precipitation for each day of the year and fills the missing precipitation values with days average"
   ]
  },
  {
   "cell_type": "code",
   "execution_count": 101,
   "id": "237480ba",
   "metadata": {},
   "outputs": [],
   "source": [
    "mean_day_precipitation = df.groupby(\"day_of_year\")[\"precipitation\"].mean()\n",
    "df[\"precipitation\"] = df[\"precipitation\"].fillna(\n",
    "    df[\"day_of_year\"].map(mean_day_precipitation)\n",
    ")\n"
   ]
  },
  {
   "cell_type": "code",
   "execution_count": 102,
   "id": "35599857",
   "metadata": {},
   "outputs": [
    {
     "data": {
      "text/plain": [
       "date             0\n",
       "city             0\n",
       "precipitation    0\n",
       "day_of_year      0\n",
       "dtype: int64"
      ]
     },
     "execution_count": 102,
     "metadata": {},
     "output_type": "execute_result"
    }
   ],
   "source": [
    "df.isna().sum()"
   ]
  },
  {
   "cell_type": "code",
   "execution_count": 103,
   "id": "e3b12738",
   "metadata": {},
   "outputs": [],
   "source": [
    "df.to_csv('clean_seattle_tampa_weather.csv', encoding='utf-8-sig', index=False)"
   ]
  },
  {
   "cell_type": "markdown",
   "id": "55fa4940",
   "metadata": {},
   "source": [
    "# VISUALIZATIONS\n",
    "\n",
    "-> This code plots a line graph of daily precipitation for both cities, using hue='city' to color-code the lines by city, figsize to set the plot size, xlabel/ylabel to label axes, and tick_params to adjust axis label size the new values are the filled precipitation values after replacing missing data."
   ]
  },
  {
   "cell_type": "code",
   "execution_count": 104,
   "id": "0d221dc8",
   "metadata": {},
   "outputs": [
    {
     "data": {
      "image/png": "[encoded data removed]",
      "text/plain": [
       "<Figure size 1440x360 with 1 Axes>"
      ]
     },
     "metadata": {},
     "output_type": "display_data"
    }
   ],
   "source": [
    "plt.figure(figsize=(20, 5))\n",
    "\n",
    "sns.lineplot(data=df, x='date', y='precipitation', hue='city')\n",
    "\n",
    "plt.xlabel('Date', fontsize=15)\n",
    "plt.ylabel('Daily precipitation (inches)', fontsize=15)\n",
    "\n",
    "plt.tick_params(labelsize=15)\n",
    "\n",
    "plt.show()"
   ]
  },
  {
   "cell_type": "code",
   "execution_count": 105,
   "id": "d2e46f46",
   "metadata": {},
   "outputs": [
    {
     "data": {
      "text/html": [
       "<div>\n",
       "<style scoped>\n",
       "    .dataframe tbody tr th:only-of-type {\n",
       "        vertical-align: middle;\n",
       "    }\n",
       "\n",
       "    .dataframe tbody tr th {\n",
       "        vertical-align: top;\n",
       "    }\n",
       "\n",
       "    .dataframe thead tr th {\n",
       "        text-align: left;\n",
       "    }\n",
       "\n",
       "    .dataframe thead tr:last-of-type th {\n",
       "        text-align: right;\n",
       "    }\n",
       "</style>\n",
       "<table border=\"1\" class=\"dataframe\">\n",
       "  <thead>\n",
       "    <tr>\n",
       "      <th></th>\n",
       "      <th colspan=\"8\" halign=\"left\">precipitation</th>\n",
       "    </tr>\n",
       "    <tr>\n",
       "      <th></th>\n",
       "      <th>count</th>\n",
       "      <th>mean</th>\n",
       "      <th>std</th>\n",
       "      <th>min</th>\n",
       "      <th>25%</th>\n",
       "      <th>50%</th>\n",
       "      <th>75%</th>\n",
       "      <th>max</th>\n",
       "    </tr>\n",
       "    <tr>\n",
       "      <th>city</th>\n",
       "      <th></th>\n",
       "      <th></th>\n",
       "      <th></th>\n",
       "      <th></th>\n",
       "      <th></th>\n",
       "      <th></th>\n",
       "      <th></th>\n",
       "      <th></th>\n",
       "    </tr>\n",
       "  </thead>\n",
       "  <tbody>\n",
       "    <tr>\n",
       "      <th>prcp_seattle</th>\n",
       "      <td>1812.0</td>\n",
       "      <td>0.112718</td>\n",
       "      <td>0.24011</td>\n",
       "      <td>0.0</td>\n",
       "      <td>0.0</td>\n",
       "      <td>0.01</td>\n",
       "      <td>0.12</td>\n",
       "      <td>2.60</td>\n",
       "    </tr>\n",
       "    <tr>\n",
       "      <th>prcp_tampa</th>\n",
       "      <td>1812.0</td>\n",
       "      <td>0.171607</td>\n",
       "      <td>0.48589</td>\n",
       "      <td>0.0</td>\n",
       "      <td>0.0</td>\n",
       "      <td>0.00</td>\n",
       "      <td>0.07</td>\n",
       "      <td>6.23</td>\n",
       "    </tr>\n",
       "  </tbody>\n",
       "</table>\n",
       "</div>"
      ],
      "text/plain": [
       "             precipitation                                               \n",
       "                     count      mean      std  min  25%   50%   75%   max\n",
       "city                                                                     \n",
       "prcp_seattle        1812.0  0.112718  0.24011  0.0  0.0  0.01  0.12  2.60\n",
       "prcp_tampa          1812.0  0.171607  0.48589  0.0  0.0  0.00  0.07  6.23"
      ]
     },
     "execution_count": 105,
     "metadata": {},
     "output_type": "execute_result"
    }
   ],
   "source": [
    "df[['city','precipitation']].groupby('city').describe()"
   ]
  },
  {
   "cell_type": "code",
   "execution_count": 106,
   "id": "b0e79891",
   "metadata": {},
   "outputs": [
    {
     "data": {
      "text/html": [
       "<div>\n",
       "<style scoped>\n",
       "    .dataframe tbody tr th:only-of-type {\n",
       "        vertical-align: middle;\n",
       "    }\n",
       "\n",
       "    .dataframe tbody tr th {\n",
       "        vertical-align: top;\n",
       "    }\n",
       "\n",
       "    .dataframe thead th {\n",
       "        text-align: right;\n",
       "    }\n",
       "</style>\n",
       "<table border=\"1\" class=\"dataframe\">\n",
       "  <thead>\n",
       "    <tr style=\"text-align: right;\">\n",
       "      <th></th>\n",
       "      <th>precipitation</th>\n",
       "    </tr>\n",
       "    <tr>\n",
       "      <th>city</th>\n",
       "      <th></th>\n",
       "    </tr>\n",
       "  </thead>\n",
       "  <tbody>\n",
       "    <tr>\n",
       "      <th>prcp_seattle</th>\n",
       "      <td>0.112718</td>\n",
       "    </tr>\n",
       "    <tr>\n",
       "      <th>prcp_tampa</th>\n",
       "      <td>0.171607</td>\n",
       "    </tr>\n",
       "  </tbody>\n",
       "</table>\n",
       "</div>"
      ],
      "text/plain": [
       "              precipitation\n",
       "city                       \n",
       "prcp_seattle       0.112718\n",
       "prcp_tampa         0.171607"
      ]
     },
     "execution_count": 106,
     "metadata": {},
     "output_type": "execute_result"
    }
   ],
   "source": [
    "df[['city','precipitation']].groupby('city').mean()"
   ]
  },
  {
   "cell_type": "markdown",
   "id": "41ae09a7",
   "metadata": {},
   "source": [
    "Here this box creates a bar plot showing the average daily precipitation for each city where x='city' places cities on the x-axis, y='precipitation' shows their corresponding precipitation values, ylabel/xlabel label the axes, and tick_params adjusts the size of the axis labels."
   ]
  },
  {
   "cell_type": "code",
   "execution_count": 107,
   "id": "02f572b4",
   "metadata": {},
   "outputs": [
    {
     "data": {
      "image/png": "[encoded data removed]",
      "text/plain": [
       "<Figure size 432x288 with 1 Axes>"
      ]
     },
     "metadata": {},
     "output_type": "display_data"
    }
   ],
   "source": [
    "sns.barplot(data=df, x='city', y='precipitation')\n",
    "\n",
    "plt.ylabel('precipitation(inches)', fontsize=15)\n",
    "plt.xlabel('city',fontsize=15)\n",
    "plt.ylabel('MeanDaily precipitation (inches)', fontsize=15)\n",
    "\n",
    "plt.tick_params(labelsize=15)\n",
    "\n",
    "plt.show()"
   ]
  },
  {
   "cell_type": "markdown",
   "id": "7915fdde",
   "metadata": {},
   "source": [
    "The below line of code tells us what we are actually doing and how we have to use the barplot"
   ]
  },
  {
   "cell_type": "code",
   "execution_count": 108,
   "id": "209d2c8a",
   "metadata": {},
   "outputs": [],
   "source": [
    "sns.barplot?"
   ]
  },
  {
   "cell_type": "code",
   "execution_count": 109,
   "id": "49d9bec2",
   "metadata": {},
   "outputs": [],
   "source": [
    "df['month']=pd.DatetimeIndex(df['date']).month"
   ]
  },
  {
   "cell_type": "code",
   "execution_count": 110,
   "id": "111154a6",
   "metadata": {},
   "outputs": [
    {
     "data": {
      "text/html": [
       "<div>\n",
       "<style scoped>\n",
       "    .dataframe tbody tr th:only-of-type {\n",
       "        vertical-align: middle;\n",
       "    }\n",
       "\n",
       "    .dataframe tbody tr th {\n",
       "        vertical-align: top;\n",
       "    }\n",
       "\n",
       "    .dataframe thead th {\n",
       "        text-align: right;\n",
       "    }\n",
       "</style>\n",
       "<table border=\"1\" class=\"dataframe\">\n",
       "  <thead>\n",
       "    <tr style=\"text-align: right;\">\n",
       "      <th></th>\n",
       "      <th>date</th>\n",
       "      <th>city</th>\n",
       "      <th>precipitation</th>\n",
       "      <th>day_of_year</th>\n",
       "      <th>month</th>\n",
       "    </tr>\n",
       "  </thead>\n",
       "  <tbody>\n",
       "    <tr>\n",
       "      <th>0</th>\n",
       "      <td>2018-01-01</td>\n",
       "      <td>prcp_tampa</td>\n",
       "      <td>0.00</td>\n",
       "      <td>1</td>\n",
       "      <td>1</td>\n",
       "    </tr>\n",
       "    <tr>\n",
       "      <th>1</th>\n",
       "      <td>2018-01-02</td>\n",
       "      <td>prcp_tampa</td>\n",
       "      <td>0.02</td>\n",
       "      <td>2</td>\n",
       "      <td>1</td>\n",
       "    </tr>\n",
       "    <tr>\n",
       "      <th>2</th>\n",
       "      <td>2018-01-03</td>\n",
       "      <td>prcp_tampa</td>\n",
       "      <td>0.40</td>\n",
       "      <td>3</td>\n",
       "      <td>1</td>\n",
       "    </tr>\n",
       "    <tr>\n",
       "      <th>3</th>\n",
       "      <td>2018-01-04</td>\n",
       "      <td>prcp_tampa</td>\n",
       "      <td>0.33</td>\n",
       "      <td>4</td>\n",
       "      <td>1</td>\n",
       "    </tr>\n",
       "    <tr>\n",
       "      <th>4</th>\n",
       "      <td>2018-01-05</td>\n",
       "      <td>prcp_tampa</td>\n",
       "      <td>0.00</td>\n",
       "      <td>5</td>\n",
       "      <td>1</td>\n",
       "    </tr>\n",
       "  </tbody>\n",
       "</table>\n",
       "</div>"
      ],
      "text/plain": [
       "        date        city  precipitation  day_of_year  month\n",
       "0 2018-01-01  prcp_tampa           0.00            1      1\n",
       "1 2018-01-02  prcp_tampa           0.02            2      1\n",
       "2 2018-01-03  prcp_tampa           0.40            3      1\n",
       "3 2018-01-04  prcp_tampa           0.33            4      1\n",
       "4 2018-01-05  prcp_tampa           0.00            5      1"
      ]
     },
     "execution_count": 110,
     "metadata": {},
     "output_type": "execute_result"
    }
   ],
   "source": [
    "df.head()"
   ]
  },
  {
   "cell_type": "code",
   "execution_count": 111,
   "id": "cae58683",
   "metadata": {},
   "outputs": [
    {
     "data": {
      "text/plain": [
       "array([ 1,  2,  3,  4,  5,  6,  7,  8,  9, 10, 11, 12], dtype=int64)"
      ]
     },
     "execution_count": 111,
     "metadata": {},
     "output_type": "execute_result"
    }
   ],
   "source": [
    "df['month'].unique()"
   ]
  },
  {
   "cell_type": "markdown",
   "id": "d0012f20",
   "metadata": {},
   "source": [
    "This code creates a boxplot showing the distribution of daily precipitation for each month, separated by city. and the plt.xticks replaces month numbers with their names to read and understand easily."
   ]
  },
  {
   "cell_type": "code",
   "execution_count": 112,
   "id": "304f025c",
   "metadata": {},
   "outputs": [
    {
     "data": {
      "image/png": "[encoded data removed]",
      "text/plain": [
       "<Figure size 1440x288 with 1 Axes>"
      ]
     },
     "metadata": {},
     "output_type": "display_data"
    }
   ],
   "source": [
    "plt.figure(figsize=(20, 4))\n",
    "\n",
    "sns.boxplot(data=df, x='month', y='precipitation', hue='city')\n",
    "\n",
    "plt.xlabel('month', fontsize=15)\n",
    "plt.ylabel('precipitation (inches)', fontsize=15)\n",
    "\n",
    "plt.tick_params(labelsize=15)\n",
    "\n",
    "\n",
    "import calendar\n",
    "month_names=list(calendar.month_name[1:])\n",
    "plt.xticks(ticks=range(12),labels=month_names)\n",
    "plt.show()"
   ]
  },
  {
   "cell_type": "markdown",
   "id": "51538b96",
   "metadata": {},
   "source": [
    "It creates a horizontal boxplot showing the distribution of daily precipitation for each month, separated by city."
   ]
  },
  {
   "cell_type": "code",
   "execution_count": 113,
   "id": "275bad63",
   "metadata": {},
   "outputs": [
    {
     "data": {
      "image/png": "[encoded data removed]",
      "text/plain": [
       "<Figure size 1080x576 with 1 Axes>"
      ]
     },
     "metadata": {},
     "output_type": "display_data"
    }
   ],
   "source": [
    "plt.figure(figsize=(15, 8))\n",
    "\n",
    "sns.boxplot(data=df, x='precipitation', y='month', hue='city', orient='h')\n",
    "\n",
    "plt.ylabel('precipitation (inches)', fontsize=15)\n",
    "plt.xlabel('month', fontsize=15)\n",
    "\n",
    "plt.tick_params(labelsize=15)\n",
    "plt.yticks(ticks=range(12),labels=month_names)\n",
    "plt.show()"
   ]
  },
  {
   "cell_type": "markdown",
   "id": "40b70c12",
   "metadata": {},
   "source": [
    "This block plots a monthly boxplot of daily precipitation for each city, showing the spread and outliers of precipitation values"
   ]
  },
  {
   "cell_type": "code",
   "execution_count": 114,
   "id": "3d3344bb",
   "metadata": {},
   "outputs": [
    {
     "data": {
      "image/png": "[encoded data removed]",
      "text/plain": [
       "<Figure size 1440x288 with 1 Axes>"
      ]
     },
     "metadata": {},
     "output_type": "display_data"
    }
   ],
   "source": [
    "plt.figure(figsize=(20, 4))\n",
    "\n",
    "sns.boxplot(data=df, x='month', y='precipitation', hue='city')\n",
    "\n",
    "plt.xlabel('month', fontsize=15)\n",
    "plt.ylabel('precipitation (inches)', fontsize=15)\n",
    "\n",
    "plt.tick_params(labelsize=15)\n",
    "plt.yticks(ticks=range(12),labels=month_names)\n",
    "plt.ylim(0,0.4)\n",
    "plt.show()"
   ]
  },
  {
   "cell_type": "markdown",
   "id": "cf0b5207",
   "metadata": {},
   "source": [
    "This block creates a monthly boxplot of daily precipitation for each city, showing the distribution and outliers of precipitation values per month"
   ]
  },
  {
   "cell_type": "code",
   "execution_count": 115,
   "id": "d317a061",
   "metadata": {},
   "outputs": [
    {
     "data": {
      "image/png": "[encoded data removed]",
      "text/plain": [
       "<Figure size 1440x288 with 1 Axes>"
      ]
     },
     "metadata": {},
     "output_type": "display_data"
    }
   ],
   "source": [
    "plt.figure(figsize=(20, 4))\n",
    "\n",
    "sns.boxplot(data=df, x='month', y='precipitation', hue='city')\n",
    "\n",
    "plt.xlabel('month', fontsize=15)\n",
    "plt.ylabel('precipitation (inches)', fontsize=15)\n",
    "\n",
    "plt.tick_params(labelsize=15)\n",
    "plt.yticks(ticks=range(12),labels=month_names)\n",
    "\n",
    "plt.show()"
   ]
  },
  {
   "cell_type": "markdown",
   "id": "428151f8",
   "metadata": {},
   "source": [
    "This lets us compute the precipitation based on cities by each month"
   ]
  },
  {
   "cell_type": "code",
   "execution_count": 116,
   "id": "45812016",
   "metadata": {},
   "outputs": [
    {
     "data": {
      "text/html": [
       "<div>\n",
       "<style scoped>\n",
       "    .dataframe tbody tr th:only-of-type {\n",
       "        vertical-align: middle;\n",
       "    }\n",
       "\n",
       "    .dataframe tbody tr th {\n",
       "        vertical-align: top;\n",
       "    }\n",
       "\n",
       "    .dataframe thead th {\n",
       "        text-align: right;\n",
       "    }\n",
       "</style>\n",
       "<table border=\"1\" class=\"dataframe\">\n",
       "  <thead>\n",
       "    <tr style=\"text-align: right;\">\n",
       "      <th></th>\n",
       "      <th></th>\n",
       "      <th>precipitation</th>\n",
       "    </tr>\n",
       "    <tr>\n",
       "      <th>city</th>\n",
       "      <th>month</th>\n",
       "      <th></th>\n",
       "    </tr>\n",
       "  </thead>\n",
       "  <tbody>\n",
       "    <tr>\n",
       "      <th rowspan=\"12\" valign=\"top\">prcp_seattle</th>\n",
       "      <th>1</th>\n",
       "      <td>0.224428</td>\n",
       "    </tr>\n",
       "    <tr>\n",
       "      <th>2</th>\n",
       "      <td>0.182751</td>\n",
       "    </tr>\n",
       "    <tr>\n",
       "      <th>3</th>\n",
       "      <td>0.089375</td>\n",
       "    </tr>\n",
       "    <tr>\n",
       "      <th>4</th>\n",
       "      <td>0.099456</td>\n",
       "    </tr>\n",
       "    <tr>\n",
       "      <th>5</th>\n",
       "      <td>0.069161</td>\n",
       "    </tr>\n",
       "    <tr>\n",
       "      <th>6</th>\n",
       "      <td>0.063637</td>\n",
       "    </tr>\n",
       "    <tr>\n",
       "      <th>7</th>\n",
       "      <td>0.013952</td>\n",
       "    </tr>\n",
       "    <tr>\n",
       "      <th>8</th>\n",
       "      <td>0.020698</td>\n",
       "    </tr>\n",
       "    <tr>\n",
       "      <th>9</th>\n",
       "      <td>0.056294</td>\n",
       "    </tr>\n",
       "    <tr>\n",
       "      <th>10</th>\n",
       "      <td>0.118452</td>\n",
       "    </tr>\n",
       "    <tr>\n",
       "      <th>11</th>\n",
       "      <td>0.200143</td>\n",
       "    </tr>\n",
       "    <tr>\n",
       "      <th>12</th>\n",
       "      <td>0.224903</td>\n",
       "    </tr>\n",
       "    <tr>\n",
       "      <th rowspan=\"12\" valign=\"top\">prcp_tampa</th>\n",
       "      <th>1</th>\n",
       "      <td>0.082978</td>\n",
       "    </tr>\n",
       "    <tr>\n",
       "      <th>2</th>\n",
       "      <td>0.073572</td>\n",
       "    </tr>\n",
       "    <tr>\n",
       "      <th>3</th>\n",
       "      <td>0.040829</td>\n",
       "    </tr>\n",
       "    <tr>\n",
       "      <th>4</th>\n",
       "      <td>0.168510</td>\n",
       "    </tr>\n",
       "    <tr>\n",
       "      <th>5</th>\n",
       "      <td>0.112710</td>\n",
       "    </tr>\n",
       "    <tr>\n",
       "      <th>6</th>\n",
       "      <td>0.287953</td>\n",
       "    </tr>\n",
       "    <tr>\n",
       "      <th>7</th>\n",
       "      <td>0.302116</td>\n",
       "    </tr>\n",
       "    <tr>\n",
       "      <th>8</th>\n",
       "      <td>0.381677</td>\n",
       "    </tr>\n",
       "    <tr>\n",
       "      <th>9</th>\n",
       "      <td>0.236933</td>\n",
       "    </tr>\n",
       "    <tr>\n",
       "      <th>10</th>\n",
       "      <td>0.094142</td>\n",
       "    </tr>\n",
       "    <tr>\n",
       "      <th>11</th>\n",
       "      <td>0.126800</td>\n",
       "    </tr>\n",
       "    <tr>\n",
       "      <th>12</th>\n",
       "      <td>0.137948</td>\n",
       "    </tr>\n",
       "  </tbody>\n",
       "</table>\n",
       "</div>"
      ],
      "text/plain": [
       "                    precipitation\n",
       "city         month               \n",
       "prcp_seattle 1           0.224428\n",
       "             2           0.182751\n",
       "             3           0.089375\n",
       "             4           0.099456\n",
       "             5           0.069161\n",
       "             6           0.063637\n",
       "             7           0.013952\n",
       "             8           0.020698\n",
       "             9           0.056294\n",
       "             10          0.118452\n",
       "             11          0.200143\n",
       "             12          0.224903\n",
       "prcp_tampa   1           0.082978\n",
       "             2           0.073572\n",
       "             3           0.040829\n",
       "             4           0.168510\n",
       "             5           0.112710\n",
       "             6           0.287953\n",
       "             7           0.302116\n",
       "             8           0.381677\n",
       "             9           0.236933\n",
       "             10          0.094142\n",
       "             11          0.126800\n",
       "             12          0.137948"
      ]
     },
     "execution_count": 116,
     "metadata": {},
     "output_type": "execute_result"
    }
   ],
   "source": [
    "df[['month', 'precipitation','city']].groupby(['city','month']).mean()"
   ]
  },
  {
   "cell_type": "code",
   "execution_count": 117,
   "id": "0da31656",
   "metadata": {},
   "outputs": [],
   "source": [
    "df['any_precipitation']=df['precipitation']>0"
   ]
  },
  {
   "cell_type": "code",
   "execution_count": 118,
   "id": "102b2547",
   "metadata": {},
   "outputs": [
    {
     "data": {
      "text/html": [
       "<div>\n",
       "<style scoped>\n",
       "    .dataframe tbody tr th:only-of-type {\n",
       "        vertical-align: middle;\n",
       "    }\n",
       "\n",
       "    .dataframe tbody tr th {\n",
       "        vertical-align: top;\n",
       "    }\n",
       "\n",
       "    .dataframe thead th {\n",
       "        text-align: right;\n",
       "    }\n",
       "</style>\n",
       "<table border=\"1\" class=\"dataframe\">\n",
       "  <thead>\n",
       "    <tr style=\"text-align: right;\">\n",
       "      <th></th>\n",
       "      <th>date</th>\n",
       "      <th>city</th>\n",
       "      <th>precipitation</th>\n",
       "      <th>day_of_year</th>\n",
       "      <th>month</th>\n",
       "      <th>any_precipitation</th>\n",
       "    </tr>\n",
       "  </thead>\n",
       "  <tbody>\n",
       "    <tr>\n",
       "      <th>0</th>\n",
       "      <td>2018-01-01</td>\n",
       "      <td>prcp_tampa</td>\n",
       "      <td>0.00</td>\n",
       "      <td>1</td>\n",
       "      <td>1</td>\n",
       "      <td>False</td>\n",
       "    </tr>\n",
       "    <tr>\n",
       "      <th>1</th>\n",
       "      <td>2018-01-02</td>\n",
       "      <td>prcp_tampa</td>\n",
       "      <td>0.02</td>\n",
       "      <td>2</td>\n",
       "      <td>1</td>\n",
       "      <td>True</td>\n",
       "    </tr>\n",
       "    <tr>\n",
       "      <th>2</th>\n",
       "      <td>2018-01-03</td>\n",
       "      <td>prcp_tampa</td>\n",
       "      <td>0.40</td>\n",
       "      <td>3</td>\n",
       "      <td>1</td>\n",
       "      <td>True</td>\n",
       "    </tr>\n",
       "    <tr>\n",
       "      <th>3</th>\n",
       "      <td>2018-01-04</td>\n",
       "      <td>prcp_tampa</td>\n",
       "      <td>0.33</td>\n",
       "      <td>4</td>\n",
       "      <td>1</td>\n",
       "      <td>True</td>\n",
       "    </tr>\n",
       "    <tr>\n",
       "      <th>4</th>\n",
       "      <td>2018-01-05</td>\n",
       "      <td>prcp_tampa</td>\n",
       "      <td>0.00</td>\n",
       "      <td>5</td>\n",
       "      <td>1</td>\n",
       "      <td>False</td>\n",
       "    </tr>\n",
       "  </tbody>\n",
       "</table>\n",
       "</div>"
      ],
      "text/plain": [
       "        date        city  precipitation  day_of_year  month  any_precipitation\n",
       "0 2018-01-01  prcp_tampa           0.00            1      1              False\n",
       "1 2018-01-02  prcp_tampa           0.02            2      1               True\n",
       "2 2018-01-03  prcp_tampa           0.40            3      1               True\n",
       "3 2018-01-04  prcp_tampa           0.33            4      1               True\n",
       "4 2018-01-05  prcp_tampa           0.00            5      1              False"
      ]
     },
     "execution_count": 118,
     "metadata": {},
     "output_type": "execute_result"
    }
   ],
   "source": [
    "df.head()"
   ]
  },
  {
   "cell_type": "markdown",
   "id": "ffe637d4",
   "metadata": {},
   "source": [
    "-> In this step It visualizes the average precipitation per city as bars, ci=none to remove the intervals."
   ]
  },
  {
   "cell_type": "code",
   "execution_count": 119,
   "id": "19d19b3d",
   "metadata": {},
   "outputs": [
    {
     "data": {
      "image/png": "[encoded data removed]",
      "text/plain": [
       "<Figure size 432x288 with 1 Axes>"
      ]
     },
     "metadata": {},
     "output_type": "display_data"
    }
   ],
   "source": [
    "sns.barplot(data=df, x='city', y='precipitation', ci=None)\n",
    "\n",
    "plt.xlabel('City', fontsize=15)\n",
    "plt.ylabel('Proportion days with precipitation', fontsize=15)\n",
    "\n",
    "plt.tick_params(labelsize=15)\n",
    "plt.show()"
   ]
  },
  {
   "cell_type": "markdown",
   "id": "6d5532ba",
   "metadata": {},
   "source": [
    "We can see the proportion of days with precipitation is more in tampa than in seattle."
   ]
  },
  {
   "cell_type": "markdown",
   "id": "cfb4d16b",
   "metadata": {},
   "source": [
    "-> Using sns.histplot allows us to see how precipitation varies across months and between Seattle and Tampa."
   ]
  },
  {
   "cell_type": "code",
   "execution_count": 120,
   "id": "0d329cac",
   "metadata": {},
   "outputs": [
    {
     "data": {
      "image/png": "[encoded data removed]",
      "text/plain": [
       "<Figure size 1440x432 with 1 Axes>"
      ]
     },
     "metadata": {},
     "output_type": "display_data"
    }
   ],
   "source": [
    "plt.figure(figsize=(20, 6))\n",
    "\n",
    "sns.histplot(data=df, x='month', y='precipitation', hue='city')\n",
    "\n",
    "plt.xlabel(None)\n",
    "plt.ylabel('Proportion days with precipitation', fontsize=13)\n",
    "plt.xticks(ticks=range(12), labels=month_names)\n",
    "plt.tick_params(labelsize=15)\n",
    "\n",
    "plt.show()"
   ]
  },
  {
   "cell_type": "markdown",
   "id": "3f4c1777",
   "metadata": {},
   "source": [
    "Gives the histogram for the precipitation for each city tampa and seattle in january."
   ]
  },
  {
   "cell_type": "markdown",
   "id": "947bb17b",
   "metadata": {},
   "source": [
    "-> In this Step, we are visualizing the distribution of precipitation for January."
   ]
  },
  {
   "cell_type": "code",
   "execution_count": 121,
   "id": "d3872479",
   "metadata": {},
   "outputs": [
    {
     "data": {
      "image/png": "[encoded data removed]",
      "text/plain": [
       "<Figure size 360x288 with 1 Axes>"
      ]
     },
     "metadata": {},
     "output_type": "display_data"
    }
   ],
   "source": [
    "plt.figure(figsize=(5, 4))\n",
    "\n",
    "sns.histplot(data=df.loc[df['month']==1], x='precipitation', hue='city')\n",
    "\n",
    "plt.xlabel('precipitation (inches)', fontsize=15)\n",
    "plt.ylabel('Number of days', fontsize=15)\n",
    "plt.title('Precipitation in January', fontsize=15)\n",
    "\n",
    "plt.tick_params(labelsize=15)\n",
    "\n",
    "\n",
    "plt.show()"
   ]
  },
  {
   "cell_type": "markdown",
   "id": "75f529c9",
   "metadata": {},
   "source": [
    "We can see that the number of days of precipitation is more for tampa in the month of january."
   ]
  },
  {
   "cell_type": "markdown",
   "id": "128ab073",
   "metadata": {},
   "source": [
    "-> Here we are importing the stats module from scipy to use its statistical functions later in our analysis."
   ]
  },
  {
   "cell_type": "code",
   "execution_count": 122,
   "id": "85326397",
   "metadata": {},
   "outputs": [
    {
     "name": "stdout",
     "output_type": "stream",
     "text": [
      "Index(['date', 'city', 'precipitation', 'day_of_year', 'month',\n",
      "       'any_precipitation'],\n",
      "      dtype='object')\n",
      "0    1\n",
      "1    1\n",
      "2    1\n",
      "3    1\n",
      "4    1\n",
      "Name: month, dtype: int64\n"
     ]
    }
   ],
   "source": [
    "from scipy import stats\n",
    "print(df.columns)          \n",
    "print(df['month'].head()) "
   ]
  },
  {
   "cell_type": "markdown",
   "id": "6a92e8ad",
   "metadata": {},
   "source": [
    "we print the first few values of the month column to ensure the data is correctly formatted."
   ]
  },
  {
   "cell_type": "code",
   "execution_count": 123,
   "id": "4f2c4994",
   "metadata": {},
   "outputs": [
    {
     "data": {
      "text/plain": [
       "array(['prcp_tampa', 'prcp_seattle'], dtype=object)"
      ]
     },
     "execution_count": 123,
     "metadata": {},
     "output_type": "execute_result"
    }
   ],
   "source": [
    "df['city'].unique()"
   ]
  },
  {
   "cell_type": "markdown",
   "id": "f399a2c9",
   "metadata": {},
   "source": [
    "the code is comparing precipitation between Seattle and Tampa month by month, performs a t-test, marks months where the difference is significant, and prints the results."
   ]
  },
  {
   "cell_type": "code",
   "execution_count": 124,
   "id": "c40a89d5",
   "metadata": {},
   "outputs": [
    {
     "name": "stdout",
     "output_type": "stream",
     "text": [
      "Month 1:\n",
      " t-statistic = 3.6726124318645956\n",
      " p-value t test = 0.00028468627907222516\n",
      "____________________\n",
      "Month 2:\n",
      " t-statistic = 3.324889689867347\n",
      " p-value t test = 0.00101335132611553\n",
      "____________________\n",
      "Month 3:\n",
      " t-statistic = 2.4656404063886064\n",
      " p-value t test = 0.01423414577707921\n",
      "____________________\n",
      "Month 4:\n",
      " t-statistic = -1.7725309851635738\n",
      " p-value t test = 0.07775874125645206\n",
      "____________________\n",
      "Month 5:\n",
      " t-statistic = -1.580370209246397\n",
      " p-value t test = 0.11535064113815237\n",
      "____________________\n",
      "Month 6:\n",
      " t-statistic = -4.278597074561483\n",
      " p-value t test = 3.1761958063657227e-05\n",
      "____________________\n",
      "Month 7:\n",
      " t-statistic = -6.095668320728654\n",
      " p-value t test = 8.126165011186489e-09\n",
      "____________________\n",
      "Month 8:\n",
      " t-statistic = -5.410216590119211\n",
      " p-value t test = 2.3314322495385344e-07\n",
      "____________________\n",
      "Month 9:\n",
      " t-statistic = -4.702552223277228\n",
      " p-value t test = 5.195636279147068e-06\n",
      "____________________\n",
      "Month 10:\n",
      " t-statistic = 0.7639169015412558\n",
      " p-value t test = 0.44551271381486757\n",
      "____________________\n",
      "Month 11:\n",
      " t-statistic = 1.4120191634283146\n",
      " p-value t test = 0.15939617122273006\n",
      "____________________\n",
      "Month 12:\n",
      " t-statistic = 1.8785606815159845\n",
      " p-value t test = 0.06126668865487097\n",
      "____________________\n"
     ]
    }
   ],
   "source": [
    "significance_level = 0.05\n",
    "significantly_different = np.zeros(12)\n",
    "\n",
    "for month in range(1, 13):\n",
    "    sea_data = df.loc[(df['city'] == 'prcp_seattle') & (df['month'] == month), 'precipitation']\n",
    "    tmp_data = df.loc[(df['city'] == 'prcp_tampa') & (df['month'] == month), 'precipitation']\n",
    "    \n",
    "    if len(sea_data) > 0 and len(tmp_data) > 0:\n",
    "        t_statistic, p_value = stats.ttest_ind(sea_data, tmp_data, equal_var=False)\n",
    "    else:\n",
    "        t_statistic, p_value = np.nan, np.nan\n",
    "    \n",
    "    if p_value < significance_level:\n",
    "        significantly_different[month-1] = 1\n",
    "    \n",
    "    print(f\"Month {month}:\")\n",
    "    print(f\" t-statistic = {t_statistic}\")\n",
    "    print(f\" p-value t test = {p_value}\")\n",
    "    print(\"_\" * 20)"
   ]
  },
  {
   "cell_type": "markdown",
   "id": "f6931111",
   "metadata": {},
   "source": [
    "-> This plot compares the precipitation of different cities month by month with transparent bars so overlapping colors are visible."
   ]
  },
  {
   "cell_type": "code",
   "execution_count": 125,
   "id": "1e4d2e6d",
   "metadata": {},
   "outputs": [
    {
     "data": {
      "image/png": "[encoded data removed]",
      "text/plain": [
       "<Figure size 1440x288 with 1 Axes>"
      ]
     },
     "metadata": {},
     "output_type": "display_data"
    }
   ],
   "source": [
    "plt.figure(figsize=(20, 4))\n",
    "sns.barplot(data=df, x='month', y='precipitation', hue='city', alpha=0.75)\n",
    "\n",
    "\n",
    "plt.xlabel('Month',fontsize=15)\n",
    "plt.ylabel('Precipitation (inches)',fontsize=15)\n",
    "plt.title('Mean monthly precipitation', fontsize=15)\n",
    "\n",
    "plt.tick_params(labelsize=15)\n",
    "plt.xticks(ticks=range(12),labels=month_names)\n",
    "\n",
    "for month in range(12):\n",
    "    if significantly_different[month]==1:\n",
    "        plt.text(month, 0.3, '*', ha='center', fontsize=25)\n",
    "\n",
    "plt.show()"
   ]
  },
  {
   "cell_type": "markdown",
   "id": "be30493f",
   "metadata": {},
   "source": [
    "Here this plot indicates the mean of monthly precipitation which is higher in august for tampa with respect to the precipitation."
   ]
  },
  {
   "cell_type": "markdown",
   "id": "cbc1f2c3",
   "metadata": {},
   "source": [
    "-> This block is performing a two-proportion z-test for each month to check if the proportion of days with precipitation is significantly different between the two cities. It creates a contingency table of days with/without precipitation, calculates the z-statistic and p-value, and records whether the difference is statistically significant."
   ]
  },
  {
   "cell_type": "code",
   "execution_count": 126,
   "id": "442f13f5",
   "metadata": {},
   "outputs": [
    {
     "name": "stdout",
     "output_type": "stream",
     "text": [
      "Month 1:\n",
      " z-statistic = 9.35\n",
      " p-value = 0.000\n",
      "____________________\n",
      "Month 2:\n",
      " z-statistic = 9.73\n",
      " p-value = 0.000\n",
      "____________________\n",
      "Month 3:\n",
      " z-statistic = 5.51\n",
      " p-value = 0.000\n",
      "____________________\n",
      "Month 4:\n",
      " z-statistic = 5.96\n",
      " p-value = 0.000\n",
      "____________________\n",
      "Month 5:\n",
      " z-statistic = 3.16\n",
      " p-value = 0.002\n",
      "____________________\n",
      "Month 6:\n",
      " z-statistic = -1.39\n",
      " p-value = 0.166\n",
      "____________________\n",
      "Month 7:\n",
      " z-statistic = -6.88\n",
      " p-value = 0.000\n",
      "____________________\n",
      "Month 8:\n",
      " z-statistic = -5.80\n",
      " p-value = 0.000\n",
      "____________________\n",
      "Month 9:\n",
      " z-statistic = -2.78\n",
      " p-value = 0.005\n",
      "____________________\n",
      "Month 10:\n",
      " z-statistic = 4.98\n",
      " p-value = 0.000\n",
      "____________________\n",
      "Month 11:\n",
      " z-statistic = 8.08\n",
      " p-value = 0.000\n",
      "____________________\n",
      "Month 12:\n",
      " z-statistic = 10.14\n",
      " p-value = 0.000\n",
      "____________________\n"
     ]
    }
   ],
   "source": [
    "from statsmodels.stats.proportion import proportions_ztest\n",
    "significance_level = 0.05\n",
    "significantly_different_proportion = np.zeros(12)\n",
    "\n",
    "for month in range(1, 13):\n",
    "    contingency_table = pd.crosstab(\n",
    "        df.loc[df['month'] == month, 'city'],\n",
    "        df.loc[df['month'] == month, 'any_precipitation']  \n",
    "    )\n",
    "    \n",
    "    days_with_precipitation = contingency_table[True]\n",
    "    total_counts = contingency_table.sum(axis=1)\n",
    "    \n",
    "    zstat, p_value = proportions_ztest(count=days_with_precipitation, nobs=total_counts, alternative='two-sided')\n",
    "    \n",
    "    if p_value < significance_level:\n",
    "        significantly_different_proportion[month-1] = 1\n",
    "    \n",
    "    print(f\"Month {month}:\")\n",
    "    print(f\" z-statistic = {zstat:.2f}\") \n",
    "    print(f\" p-value = {p_value:.3f}\") \n",
    "    print(\"_\" * 20)"
   ]
  },
  {
   "cell_type": "markdown",
   "id": "075af688",
   "metadata": {},
   "source": [
    "This table summarizes the number of rainy days vs non rainy days as per the cities seattle and tampa."
   ]
  },
  {
   "cell_type": "markdown",
   "id": "9dac8fec",
   "metadata": {},
   "source": [
    "-> Here we are creating a contingency table for January to summarize the relationship between the city and whether there was any precipitation"
   ]
  },
  {
   "cell_type": "code",
   "execution_count": 127,
   "id": "42ab2bf0",
   "metadata": {},
   "outputs": [
    {
     "data": {
      "text/html": [
       "<div>\n",
       "<style scoped>\n",
       "    .dataframe tbody tr th:only-of-type {\n",
       "        vertical-align: middle;\n",
       "    }\n",
       "\n",
       "    .dataframe tbody tr th {\n",
       "        vertical-align: top;\n",
       "    }\n",
       "\n",
       "    .dataframe thead th {\n",
       "        text-align: right;\n",
       "    }\n",
       "</style>\n",
       "<table border=\"1\" class=\"dataframe\">\n",
       "  <thead>\n",
       "    <tr style=\"text-align: right;\">\n",
       "      <th>any_precipitation</th>\n",
       "      <th>False</th>\n",
       "      <th>True</th>\n",
       "    </tr>\n",
       "    <tr>\n",
       "      <th>city</th>\n",
       "      <th></th>\n",
       "      <th></th>\n",
       "    </tr>\n",
       "  </thead>\n",
       "  <tbody>\n",
       "    <tr>\n",
       "      <th>prcp_seattle</th>\n",
       "      <td>36</td>\n",
       "      <td>114</td>\n",
       "    </tr>\n",
       "    <tr>\n",
       "      <th>prcp_tampa</th>\n",
       "      <td>117</td>\n",
       "      <td>33</td>\n",
       "    </tr>\n",
       "  </tbody>\n",
       "</table>\n",
       "</div>"
      ],
      "text/plain": [
       "any_precipitation  False  True\n",
       "city                          \n",
       "prcp_seattle          36   114\n",
       "prcp_tampa           117    33"
      ]
     },
     "execution_count": 127,
     "metadata": {},
     "output_type": "execute_result"
    }
   ],
   "source": [
    "contingency_table = pd.crosstab(\n",
    "    df.loc[df['month']==1, 'city'],\n",
    "    df.loc[df['month']==1, 'any_precipitation']  \n",
    ")\n",
    "contingency_table\n"
   ]
  },
  {
   "cell_type": "markdown",
   "id": "053f1d10",
   "metadata": {},
   "source": [
    "The resulting contingency_table clearly shows the number of days with and without precipitation for each city in January."
   ]
  },
  {
   "cell_type": "markdown",
   "id": "f1e9f0df",
   "metadata": {},
   "source": [
    "This is giving the visualization of montly rain proportions per city and the statistically siginificant differences from the ztest and then giving the barplot"
   ]
  },
  {
   "cell_type": "code",
   "execution_count": 129,
   "id": "e9d03584",
   "metadata": {},
   "outputs": [
    {
     "data": {
      "image/png": "[encoded data removed]",
      "text/plain": [
       "<Figure size 1440x288 with 1 Axes>"
      ]
     },
     "metadata": {},
     "output_type": "display_data"
    }
   ],
   "source": [
    "plt.figure(figsize=(20, 4))\n",
    "sns.barplot(data=df, x='month', y='any_precipitation', hue='city', alpha=0.75)\n",
    "\n",
    "\n",
    "plt.xlabel(None)\n",
    "plt.ylabel('Proportion days with Precipitation',fontsize=15)\n",
    "plt.title('Monthly proportion of days with precipitation', fontsize=15)\n",
    "plt.xticks(ticks=range(12),labels=month_names)\n",
    "\n",
    "plt.tick_params(labelsize=15)\n",
    "\n",
    "for month in range(12):\n",
    "    if significantly_different_proportion[month]==1:\n",
    "        plt.text(month, 0.825, '*', ha='center', fontsize=25)\n",
    "\n",
    "plt.show()"
   ]
  },
  {
   "cell_type": "markdown",
   "id": "30785101",
   "metadata": {},
   "source": [
    "In this graph we can see that it rains more in seattle compared to the tampa."
   ]
  }
 ],
 "metadata": {
  "kernelspec": {
   "display_name": "Python 3 (ipykernel)",
   "language": "python",
   "name": "python3"
  },
  "language_info": {
   "codemirror_mode": {
    "name": "ipython",
    "version": 3
   },
   "file_extension": ".py",
   "mimetype": "text/x-python",
   "name": "python",
   "nbconvert_exporter": "python",
   "pygments_lexer": "ipython3",
   "version": "3.9.7"
  }
 },
 "nbformat": 4,
 "nbformat_minor": 5
}
